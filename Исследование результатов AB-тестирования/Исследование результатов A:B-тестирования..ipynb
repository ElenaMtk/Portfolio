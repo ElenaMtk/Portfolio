{
 "cells": [
  {
   "cell_type": "markdown",
   "metadata": {},
   "source": [
    "# Исследование результатов A/B-тестирования."
   ]
  },
  {
   "cell_type": "markdown",
   "metadata": {},
   "source": [
    "В ходе текущего исследования мы выполним анализ результатов А/В-тестирования изменений, связанных с внедрением улучшенной рекомендательной системы. Исследование результатов будет проводится на основе данных о техническом задании, календаря маркетинговых событий за 2020год, данных о действиях пользователей и участниках теста.\n",
    "\n",
    "Цели исследования:\n",
    "- оценка корректности проведения теста,\n",
    "- анализ результатов теста.\n",
    "\n",
    "Для того, что бы получить наиболее корректные результаты исследования, перед анализом теста нам потребуется проверить данные на соответствие техническому заданию.\n",
    "\n",
    "Таким образом, исследование пройдет в несколько этапов:\n",
    "1. Обзор и предобработка данных.\n",
    "2. Проверка соответствия данных требованиям технического задания.\n",
    "3. Исследовательский анализ данных.\n",
    "4. Оценка результатов А/В теста."
   ]
  },
  {
   "cell_type": "markdown",
   "metadata": {},
   "source": [
    "## Оглавление. <a class=\"anchor\" id=\"start\"></a>"
   ]
  },
  {
   "cell_type": "markdown",
   "metadata": {},
   "source": [
    "* [1. Обзор и предобработка данных](#1)\n",
    "    * [1.1 Датасет \"ab_project_marketing_events\"](#1.1)\n",
    "    * [1.2 Датасет \"final_ab_new_users\"](#1.2)\n",
    "    * [1.3 Датасет \"final_ab_events\"](#1.3)\n",
    "    * [1.4 Датасет \"final_ab_participants](#1.4)\n",
    "    * [1.5 Вывод](#1.5)\n",
    "* [2. Проверка данных на соответствие требованиям технического задания](#2)\n",
    "    * [2.1 Формирование тестовых групп](#2.1)\n",
    "    * [2.2 Аудитория теста](#2.2)\n",
    "    * [2.3 Время проведения теста](#2.3)\n",
    "    * [2.4 События, совершенные пользователями в рамках теста.](#2.4)\n",
    "    * [2.5 Вывод](#2.5)\n",
    "* [3. Исследовательский анализ_данных](#3)\n",
    "    * [3.1 Установка заданного лайфтайма пользователей](#3.1)\n",
    "    * [3.2 Распределение событий на пользователя](#3.2)\n",
    "    * [3.3 Распределение событий по дням.](#3.3)\n",
    "    * [3.4 Вывод](#3.4)\n",
    "* [4. Исследование конверсии по шагам..](#4)\n",
    "    * [5.1 Построение событийной воронки.](#4.1)\n",
    "    * [5.2 Проверка статистической значимости.](#4.2)\n",
    "    * [5.3 Вывод.](#4.3)\n",
    "* [5. Итоги исследования.](#5)"
   ]
  },
  {
   "cell_type": "markdown",
   "metadata": {},
   "source": [
    "## 1. Обзор и предобработка данных. <a class=\"anchor\" id=\"1\"></a>"
   ]
  },
  {
   "cell_type": "code",
   "execution_count": 1,
   "metadata": {},
   "outputs": [],
   "source": [
    "#установим пакет kaleido для отображения графиков plotly в формате png (для корректного воспроизведения на gitHub)"
   ]
  },
  {
   "cell_type": "code",
   "execution_count": 2,
   "metadata": {},
   "outputs": [
    {
     "name": "stdout",
     "output_type": "stream",
     "text": [
      "Requirement already satisfied: kaleido in /Users/lena/opt/anaconda3/lib/python3.9/site-packages (0.2.1)\n",
      "Note: you may need to restart the kernel to use updated packages.\n"
     ]
    }
   ],
   "source": [
    "pip install -U kaleido"
   ]
  },
  {
   "cell_type": "code",
   "execution_count": 3,
   "metadata": {},
   "outputs": [],
   "source": [
    "#импортируем необходимые библиотеки\n",
    "import pandas as pd\n",
    "import datetime as dt\n",
    "import plotly.express as px\n",
    "import plotly.graph_objects as go\n",
    "from plotly.subplots import make_subplots\n",
    "from scipy import stats as st\n",
    "import math as mth\n",
    "import numpy as np\n",
    "from datetime import datetime, timedelta\n",
    "from datetime import date\n",
    "from matplotlib import pyplot as plt"
   ]
  },
  {
   "cell_type": "code",
   "execution_count": 4,
   "metadata": {},
   "outputs": [],
   "source": [
    "#считаем данные и сохраним в переменные\n",
    "ab_project_marketing_events = pd.read_csv('https://code.s3.yandex.net/datasets/ab_project_marketing_events.csv')\n",
    "final_ab_new_users = pd.read_csv('https://code.s3.yandex.net/datasets/final_ab_new_users.csv')\n",
    "final_ab_events = pd.read_csv('https://code.s3.yandex.net/datasets/final_ab_events.csv')\n",
    "final_ab_participants = pd.read_csv('https://code.s3.yandex.net/datasets/final_ab_participants.csv')"
   ]
  },
  {
   "cell_type": "markdown",
   "metadata": {},
   "source": [
    "В связи с тем, что в нашем распоряжении несколько датасетов, мы проведем проверку и предобработку данных для каждого отдельно.\n",
    "\n",
    "Для этого, создадим функцию, которая выведет основную информацию о датасете."
   ]
  },
  {
   "cell_type": "code",
   "execution_count": 5,
   "metadata": {},
   "outputs": [],
   "source": [
    "def get_info(df_name):\n",
    "    \n",
    "    \"\"\"\n",
    "    Функция принимает на вход название датасета\n",
    "    и выводит первые пять строк, информацию о датасете и кол-во явных дубликатов\n",
    "    \n",
    "    \"\"\"\n",
    "    \n",
    "    display(df_name.head())\n",
    "    print('------------------------------')\n",
    "    print('')\n",
    "    print(df_name.info())\n",
    "    print('')\n",
    "    print('------------------------------')\n",
    "    print('')\n",
    "    print('Кол-во явных дубликатов в датасете:', df_name.duplicated().sum())"
   ]
  },
  {
   "cell_type": "markdown",
   "metadata": {},
   "source": [
    "### 1.1 Датасет \"ab_project_marketing_events\". <a class=\"anchor\" id=\"1.1\"></a>"
   ]
  },
  {
   "cell_type": "code",
   "execution_count": 6,
   "metadata": {},
   "outputs": [
    {
     "data": {
      "text/html": [
       "<div>\n",
       "<style scoped>\n",
       "    .dataframe tbody tr th:only-of-type {\n",
       "        vertical-align: middle;\n",
       "    }\n",
       "\n",
       "    .dataframe tbody tr th {\n",
       "        vertical-align: top;\n",
       "    }\n",
       "\n",
       "    .dataframe thead th {\n",
       "        text-align: right;\n",
       "    }\n",
       "</style>\n",
       "<table border=\"1\" class=\"dataframe\">\n",
       "  <thead>\n",
       "    <tr style=\"text-align: right;\">\n",
       "      <th></th>\n",
       "      <th>name</th>\n",
       "      <th>regions</th>\n",
       "      <th>start_dt</th>\n",
       "      <th>finish_dt</th>\n",
       "    </tr>\n",
       "  </thead>\n",
       "  <tbody>\n",
       "    <tr>\n",
       "      <th>0</th>\n",
       "      <td>Christmas&amp;New Year Promo</td>\n",
       "      <td>EU, N.America</td>\n",
       "      <td>2020-12-25</td>\n",
       "      <td>2021-01-03</td>\n",
       "    </tr>\n",
       "    <tr>\n",
       "      <th>1</th>\n",
       "      <td>St. Valentine's Day Giveaway</td>\n",
       "      <td>EU, CIS, APAC, N.America</td>\n",
       "      <td>2020-02-14</td>\n",
       "      <td>2020-02-16</td>\n",
       "    </tr>\n",
       "    <tr>\n",
       "      <th>2</th>\n",
       "      <td>St. Patric's Day Promo</td>\n",
       "      <td>EU, N.America</td>\n",
       "      <td>2020-03-17</td>\n",
       "      <td>2020-03-19</td>\n",
       "    </tr>\n",
       "    <tr>\n",
       "      <th>3</th>\n",
       "      <td>Easter Promo</td>\n",
       "      <td>EU, CIS, APAC, N.America</td>\n",
       "      <td>2020-04-12</td>\n",
       "      <td>2020-04-19</td>\n",
       "    </tr>\n",
       "    <tr>\n",
       "      <th>4</th>\n",
       "      <td>4th of July Promo</td>\n",
       "      <td>N.America</td>\n",
       "      <td>2020-07-04</td>\n",
       "      <td>2020-07-11</td>\n",
       "    </tr>\n",
       "  </tbody>\n",
       "</table>\n",
       "</div>"
      ],
      "text/plain": [
       "                           name                   regions    start_dt  \\\n",
       "0      Christmas&New Year Promo             EU, N.America  2020-12-25   \n",
       "1  St. Valentine's Day Giveaway  EU, CIS, APAC, N.America  2020-02-14   \n",
       "2        St. Patric's Day Promo             EU, N.America  2020-03-17   \n",
       "3                  Easter Promo  EU, CIS, APAC, N.America  2020-04-12   \n",
       "4             4th of July Promo                 N.America  2020-07-04   \n",
       "\n",
       "    finish_dt  \n",
       "0  2021-01-03  \n",
       "1  2020-02-16  \n",
       "2  2020-03-19  \n",
       "3  2020-04-19  \n",
       "4  2020-07-11  "
      ]
     },
     "metadata": {},
     "output_type": "display_data"
    },
    {
     "name": "stdout",
     "output_type": "stream",
     "text": [
      "------------------------------\n",
      "\n",
      "<class 'pandas.core.frame.DataFrame'>\n",
      "RangeIndex: 14 entries, 0 to 13\n",
      "Data columns (total 4 columns):\n",
      " #   Column     Non-Null Count  Dtype \n",
      "---  ------     --------------  ----- \n",
      " 0   name       14 non-null     object\n",
      " 1   regions    14 non-null     object\n",
      " 2   start_dt   14 non-null     object\n",
      " 3   finish_dt  14 non-null     object\n",
      "dtypes: object(4)\n",
      "memory usage: 576.0+ bytes\n",
      "None\n",
      "\n",
      "------------------------------\n",
      "\n",
      "Кол-во явных дубликатов в датасете: 0\n"
     ]
    }
   ],
   "source": [
    "get_info(ab_project_marketing_events)"
   ]
  },
  {
   "cell_type": "markdown",
   "metadata": {},
   "source": [
    "В таблице представлена информация о маркетинговой активности в различных регионах. таблица состоит из 14 строк и 4х столбцов, дубликатов и пропусков в значениях нет.\n",
    "\n",
    "Тип данных в столбцах с датами некорректен, преобразуем хранящиеся в них данные в тип datetime."
   ]
  },
  {
   "cell_type": "code",
   "execution_count": 7,
   "metadata": {},
   "outputs": [],
   "source": [
    "ab_project_marketing_events['start_dt'] = pd.to_datetime(ab_project_marketing_events['start_dt'])\n",
    "ab_project_marketing_events['finish_dt'] = pd.to_datetime(ab_project_marketing_events['finish_dt'])"
   ]
  },
  {
   "cell_type": "markdown",
   "metadata": {},
   "source": [
    "### 1.2 Датасет \"final_ab_new_users\". <a class=\"anchor\" id=\"1.2\"></a>"
   ]
  },
  {
   "cell_type": "code",
   "execution_count": 8,
   "metadata": {},
   "outputs": [
    {
     "data": {
      "text/html": [
       "<div>\n",
       "<style scoped>\n",
       "    .dataframe tbody tr th:only-of-type {\n",
       "        vertical-align: middle;\n",
       "    }\n",
       "\n",
       "    .dataframe tbody tr th {\n",
       "        vertical-align: top;\n",
       "    }\n",
       "\n",
       "    .dataframe thead th {\n",
       "        text-align: right;\n",
       "    }\n",
       "</style>\n",
       "<table border=\"1\" class=\"dataframe\">\n",
       "  <thead>\n",
       "    <tr style=\"text-align: right;\">\n",
       "      <th></th>\n",
       "      <th>user_id</th>\n",
       "      <th>first_date</th>\n",
       "      <th>region</th>\n",
       "      <th>device</th>\n",
       "    </tr>\n",
       "  </thead>\n",
       "  <tbody>\n",
       "    <tr>\n",
       "      <th>0</th>\n",
       "      <td>D72A72121175D8BE</td>\n",
       "      <td>2020-12-07</td>\n",
       "      <td>EU</td>\n",
       "      <td>PC</td>\n",
       "    </tr>\n",
       "    <tr>\n",
       "      <th>1</th>\n",
       "      <td>F1C668619DFE6E65</td>\n",
       "      <td>2020-12-07</td>\n",
       "      <td>N.America</td>\n",
       "      <td>Android</td>\n",
       "    </tr>\n",
       "    <tr>\n",
       "      <th>2</th>\n",
       "      <td>2E1BF1D4C37EA01F</td>\n",
       "      <td>2020-12-07</td>\n",
       "      <td>EU</td>\n",
       "      <td>PC</td>\n",
       "    </tr>\n",
       "    <tr>\n",
       "      <th>3</th>\n",
       "      <td>50734A22C0C63768</td>\n",
       "      <td>2020-12-07</td>\n",
       "      <td>EU</td>\n",
       "      <td>iPhone</td>\n",
       "    </tr>\n",
       "    <tr>\n",
       "      <th>4</th>\n",
       "      <td>E1BDDCE0DAFA2679</td>\n",
       "      <td>2020-12-07</td>\n",
       "      <td>N.America</td>\n",
       "      <td>iPhone</td>\n",
       "    </tr>\n",
       "  </tbody>\n",
       "</table>\n",
       "</div>"
      ],
      "text/plain": [
       "            user_id  first_date     region   device\n",
       "0  D72A72121175D8BE  2020-12-07         EU       PC\n",
       "1  F1C668619DFE6E65  2020-12-07  N.America  Android\n",
       "2  2E1BF1D4C37EA01F  2020-12-07         EU       PC\n",
       "3  50734A22C0C63768  2020-12-07         EU   iPhone\n",
       "4  E1BDDCE0DAFA2679  2020-12-07  N.America   iPhone"
      ]
     },
     "metadata": {},
     "output_type": "display_data"
    },
    {
     "name": "stdout",
     "output_type": "stream",
     "text": [
      "------------------------------\n",
      "\n",
      "<class 'pandas.core.frame.DataFrame'>\n",
      "RangeIndex: 61733 entries, 0 to 61732\n",
      "Data columns (total 4 columns):\n",
      " #   Column      Non-Null Count  Dtype \n",
      "---  ------      --------------  ----- \n",
      " 0   user_id     61733 non-null  object\n",
      " 1   first_date  61733 non-null  object\n",
      " 2   region      61733 non-null  object\n",
      " 3   device      61733 non-null  object\n",
      "dtypes: object(4)\n",
      "memory usage: 1.9+ MB\n",
      "None\n",
      "\n",
      "------------------------------\n",
      "\n",
      "Кол-во явных дубликатов в датасете: 0\n"
     ]
    }
   ],
   "source": [
    "get_info(final_ab_new_users)"
   ]
  },
  {
   "cell_type": "markdown",
   "metadata": {},
   "source": [
    "В таблице \"final_ab_new_users\" содержится информация о пользователях, зарегистрировавшиеся с 7 по 21 декабря 2020 года. Пропуски и явные дубликаты отсутствуют. \n",
    "\n",
    "Однако, в таблице есть строковые значения - информация по региону и девайсу. А так же дата хранится в неверном формате.\n",
    "\n",
    "Проверим, нет ли в этих столбцах неявных дубликатов и исправим тип даты в столбце с датой."
   ]
  },
  {
   "cell_type": "code",
   "execution_count": 9,
   "metadata": {},
   "outputs": [
    {
     "name": "stdout",
     "output_type": "stream",
     "text": [
      "['EU' 'N.America' 'APAC' 'CIS']\n",
      "\n",
      "['PC' 'Android' 'iPhone' 'Mac']\n"
     ]
    }
   ],
   "source": [
    "#преобразуем дату в нужный формат\n",
    "final_ab_new_users['first_date'] = pd.to_datetime(final_ab_new_users['first_date'])\n",
    "\n",
    "#выведем уникальные значения столбцов \"region\" и \"device\"\n",
    "print(final_ab_new_users['region'].unique())\n",
    "print('')\n",
    "print(final_ab_new_users['device'].unique())"
   ]
  },
  {
   "cell_type": "markdown",
   "metadata": {},
   "source": [
    "Неявные дубликаты так же отсутствуют."
   ]
  },
  {
   "cell_type": "markdown",
   "metadata": {},
   "source": [
    "### 1.3 Датасет \"final_ab_events\". <a class=\"anchor\" id=\"1.3\"></a>"
   ]
  },
  {
   "cell_type": "code",
   "execution_count": 10,
   "metadata": {
    "scrolled": false
   },
   "outputs": [
    {
     "data": {
      "text/html": [
       "<div>\n",
       "<style scoped>\n",
       "    .dataframe tbody tr th:only-of-type {\n",
       "        vertical-align: middle;\n",
       "    }\n",
       "\n",
       "    .dataframe tbody tr th {\n",
       "        vertical-align: top;\n",
       "    }\n",
       "\n",
       "    .dataframe thead th {\n",
       "        text-align: right;\n",
       "    }\n",
       "</style>\n",
       "<table border=\"1\" class=\"dataframe\">\n",
       "  <thead>\n",
       "    <tr style=\"text-align: right;\">\n",
       "      <th></th>\n",
       "      <th>user_id</th>\n",
       "      <th>event_dt</th>\n",
       "      <th>event_name</th>\n",
       "      <th>details</th>\n",
       "    </tr>\n",
       "  </thead>\n",
       "  <tbody>\n",
       "    <tr>\n",
       "      <th>0</th>\n",
       "      <td>E1BDDCE0DAFA2679</td>\n",
       "      <td>2020-12-07 20:22:03</td>\n",
       "      <td>purchase</td>\n",
       "      <td>99.99</td>\n",
       "    </tr>\n",
       "    <tr>\n",
       "      <th>1</th>\n",
       "      <td>7B6452F081F49504</td>\n",
       "      <td>2020-12-07 09:22:53</td>\n",
       "      <td>purchase</td>\n",
       "      <td>9.99</td>\n",
       "    </tr>\n",
       "    <tr>\n",
       "      <th>2</th>\n",
       "      <td>9CD9F34546DF254C</td>\n",
       "      <td>2020-12-07 12:59:29</td>\n",
       "      <td>purchase</td>\n",
       "      <td>4.99</td>\n",
       "    </tr>\n",
       "    <tr>\n",
       "      <th>3</th>\n",
       "      <td>96F27A054B191457</td>\n",
       "      <td>2020-12-07 04:02:40</td>\n",
       "      <td>purchase</td>\n",
       "      <td>4.99</td>\n",
       "    </tr>\n",
       "    <tr>\n",
       "      <th>4</th>\n",
       "      <td>1FD7660FDF94CA1F</td>\n",
       "      <td>2020-12-07 10:15:09</td>\n",
       "      <td>purchase</td>\n",
       "      <td>4.99</td>\n",
       "    </tr>\n",
       "  </tbody>\n",
       "</table>\n",
       "</div>"
      ],
      "text/plain": [
       "            user_id             event_dt event_name  details\n",
       "0  E1BDDCE0DAFA2679  2020-12-07 20:22:03   purchase    99.99\n",
       "1  7B6452F081F49504  2020-12-07 09:22:53   purchase     9.99\n",
       "2  9CD9F34546DF254C  2020-12-07 12:59:29   purchase     4.99\n",
       "3  96F27A054B191457  2020-12-07 04:02:40   purchase     4.99\n",
       "4  1FD7660FDF94CA1F  2020-12-07 10:15:09   purchase     4.99"
      ]
     },
     "metadata": {},
     "output_type": "display_data"
    },
    {
     "name": "stdout",
     "output_type": "stream",
     "text": [
      "------------------------------\n",
      "\n",
      "<class 'pandas.core.frame.DataFrame'>\n",
      "RangeIndex: 440317 entries, 0 to 440316\n",
      "Data columns (total 4 columns):\n",
      " #   Column      Non-Null Count   Dtype  \n",
      "---  ------      --------------   -----  \n",
      " 0   user_id     440317 non-null  object \n",
      " 1   event_dt    440317 non-null  object \n",
      " 2   event_name  440317 non-null  object \n",
      " 3   details     62740 non-null   float64\n",
      "dtypes: float64(1), object(3)\n",
      "memory usage: 13.4+ MB\n",
      "None\n",
      "\n",
      "------------------------------\n",
      "\n",
      "Кол-во явных дубликатов в датасете: 0\n"
     ]
    }
   ],
   "source": [
    "get_info(final_ab_events)"
   ]
  },
  {
   "cell_type": "markdown",
   "metadata": {},
   "source": [
    "В датасете \"final_ab_events\" содержится информация о действиях новых пользователей.\n",
    "\n",
    "Тип данных, хранящихся в столбце с датами, так же как и в предыдущих таблицах, некорректный. Изменим его на тип datetime.\n",
    "\n",
    "Явных дубликатов а таблице нет, но присутствуют строковые значения - названия событий. Проверим, нет ли среди них ошибочных."
   ]
  },
  {
   "cell_type": "code",
   "execution_count": 11,
   "metadata": {},
   "outputs": [
    {
     "data": {
      "text/plain": [
       "array(['purchase', 'product_cart', 'product_page', 'login'], dtype=object)"
      ]
     },
     "execution_count": 11,
     "metadata": {},
     "output_type": "execute_result"
    }
   ],
   "source": [
    "#преобразуем дату в нужный формат\n",
    "final_ab_events['event_dt'] = pd.to_datetime(final_ab_events['event_dt'])\n",
    "\n",
    "final_ab_events['event_name'].unique()"
   ]
  },
  {
   "cell_type": "markdown",
   "metadata": {},
   "source": [
    "Неявные дубликаты так же отсутствуют. Однако, в столбце 'details', где хранятся дополнительные сведения о событии, отсутствует большое кол-во значений. Возможно, не для всех событий указывают какие-либо дополнительные сведения.\n",
    "\n",
    "Проверим это предположение, определим для каких событий в датасете указана дополнительная информация."
   ]
  },
  {
   "cell_type": "code",
   "execution_count": 12,
   "metadata": {},
   "outputs": [
    {
     "data": {
      "text/plain": [
       "array(['purchase'], dtype=object)"
      ]
     },
     "execution_count": 12,
     "metadata": {},
     "output_type": "execute_result"
    }
   ],
   "source": [
    "#выведем все уникальные значения столбца 'event_name', для которых имеются данные в details\n",
    "final_ab_events[final_ab_events['details'].notna()]['event_name'].unique()"
   ]
  },
  {
   "cell_type": "markdown",
   "metadata": {},
   "source": [
    "Дополнительная информация указана только для оплаты на сайте. Значит, для других событий не предполагается никаких дополнительных сведений.\n",
    "\n",
    "Теперь проверим, для всех ли событий по оплате имеется дополнительная информация о стоимости покупки."
   ]
  },
  {
   "cell_type": "code",
   "execution_count": 13,
   "metadata": {},
   "outputs": [
    {
     "data": {
      "text/plain": [
       "0"
      ]
     },
     "execution_count": 13,
     "metadata": {},
     "output_type": "execute_result"
    }
   ],
   "source": [
    "final_ab_events.query('event_name == \"purchase\"')['details'].isna().sum()"
   ]
  },
  {
   "cell_type": "markdown",
   "metadata": {},
   "source": [
    "Отлично, для всех покупок указана их стоимость, данные полные."
   ]
  },
  {
   "cell_type": "markdown",
   "metadata": {},
   "source": [
    "### 1.4 Датасет \"final_ab_participants\". <a class=\"anchor\" id=\"1.4\"></a>"
   ]
  },
  {
   "cell_type": "code",
   "execution_count": 14,
   "metadata": {},
   "outputs": [
    {
     "data": {
      "text/html": [
       "<div>\n",
       "<style scoped>\n",
       "    .dataframe tbody tr th:only-of-type {\n",
       "        vertical-align: middle;\n",
       "    }\n",
       "\n",
       "    .dataframe tbody tr th {\n",
       "        vertical-align: top;\n",
       "    }\n",
       "\n",
       "    .dataframe thead th {\n",
       "        text-align: right;\n",
       "    }\n",
       "</style>\n",
       "<table border=\"1\" class=\"dataframe\">\n",
       "  <thead>\n",
       "    <tr style=\"text-align: right;\">\n",
       "      <th></th>\n",
       "      <th>user_id</th>\n",
       "      <th>group</th>\n",
       "      <th>ab_test</th>\n",
       "    </tr>\n",
       "  </thead>\n",
       "  <tbody>\n",
       "    <tr>\n",
       "      <th>0</th>\n",
       "      <td>D1ABA3E2887B6A73</td>\n",
       "      <td>A</td>\n",
       "      <td>recommender_system_test</td>\n",
       "    </tr>\n",
       "    <tr>\n",
       "      <th>1</th>\n",
       "      <td>A7A3664BD6242119</td>\n",
       "      <td>A</td>\n",
       "      <td>recommender_system_test</td>\n",
       "    </tr>\n",
       "    <tr>\n",
       "      <th>2</th>\n",
       "      <td>DABC14FDDFADD29E</td>\n",
       "      <td>A</td>\n",
       "      <td>recommender_system_test</td>\n",
       "    </tr>\n",
       "    <tr>\n",
       "      <th>3</th>\n",
       "      <td>04988C5DF189632E</td>\n",
       "      <td>A</td>\n",
       "      <td>recommender_system_test</td>\n",
       "    </tr>\n",
       "    <tr>\n",
       "      <th>4</th>\n",
       "      <td>482F14783456D21B</td>\n",
       "      <td>B</td>\n",
       "      <td>recommender_system_test</td>\n",
       "    </tr>\n",
       "  </tbody>\n",
       "</table>\n",
       "</div>"
      ],
      "text/plain": [
       "            user_id group                  ab_test\n",
       "0  D1ABA3E2887B6A73     A  recommender_system_test\n",
       "1  A7A3664BD6242119     A  recommender_system_test\n",
       "2  DABC14FDDFADD29E     A  recommender_system_test\n",
       "3  04988C5DF189632E     A  recommender_system_test\n",
       "4  482F14783456D21B     B  recommender_system_test"
      ]
     },
     "metadata": {},
     "output_type": "display_data"
    },
    {
     "name": "stdout",
     "output_type": "stream",
     "text": [
      "------------------------------\n",
      "\n",
      "<class 'pandas.core.frame.DataFrame'>\n",
      "RangeIndex: 18268 entries, 0 to 18267\n",
      "Data columns (total 3 columns):\n",
      " #   Column   Non-Null Count  Dtype \n",
      "---  ------   --------------  ----- \n",
      " 0   user_id  18268 non-null  object\n",
      " 1   group    18268 non-null  object\n",
      " 2   ab_test  18268 non-null  object\n",
      "dtypes: object(3)\n",
      "memory usage: 428.3+ KB\n",
      "None\n",
      "\n",
      "------------------------------\n",
      "\n",
      "Кол-во явных дубликатов в датасете: 0\n"
     ]
    }
   ],
   "source": [
    "get_info(final_ab_participants)"
   ]
  },
  {
   "cell_type": "markdown",
   "metadata": {},
   "source": [
    "В таблице \"final_ab_participants\" хранится и нформация об участниках теста. Пропусков и явных дубликатов нет.\n",
    "\n",
    "Проверим значения в столбцах \"group\" и \"ab_test\" на предмет ошибочных значений."
   ]
  },
  {
   "cell_type": "code",
   "execution_count": 15,
   "metadata": {},
   "outputs": [
    {
     "name": "stdout",
     "output_type": "stream",
     "text": [
      "['A' 'B']\n",
      "['recommender_system_test' 'interface_eu_test']\n"
     ]
    }
   ],
   "source": [
    "print(final_ab_participants['group'].unique())\n",
    "print(final_ab_participants['ab_test'].unique())"
   ]
  },
  {
   "cell_type": "markdown",
   "metadata": {},
   "source": [
    "Неявные дубликаты так же отсутствуют.\n",
    "\n",
    "Данные подготовлены, можно приступать к проверке технического задания."
   ]
  },
  {
   "cell_type": "markdown",
   "metadata": {},
   "source": [
    "### 1.5 Вывод. <a class=\"anchor\" id=\"1.5\"></a>"
   ]
  },
  {
   "cell_type": "markdown",
   "metadata": {},
   "source": [
    "В ходе предобработки данных мы: \n",
    "- проверили данные наличие пропусков значений;\n",
    "- убедились, что отсутствующие значения - не ошибка;\n",
    "- проверили данные на наличие явных дубликатов и ошибочных значений;\n",
    "- преобразовали даты в тип datetime."
   ]
  },
  {
   "cell_type": "markdown",
   "metadata": {},
   "source": [
    "## 2. Проверка  данных на соответствие требованиям технического задания. <a class=\"anchor\" id=\"2\"></a>"
   ]
  },
  {
   "cell_type": "markdown",
   "metadata": {},
   "source": [
    "### 2.1 Формирование тестовых групп. <a class=\"anchor\" id=\"2.1\"></a>"
   ]
  },
  {
   "cell_type": "markdown",
   "metadata": {},
   "source": [
    "Согласну техничекому заданию у нас есть следующее описание тестовых групп:\n",
    "- название теста: recommender_system_test,\n",
    "- группы: А — контрольная, B — новая платёжная воронка,\n",
    "- ожидаемое количество участников теста: 6000."
   ]
  },
  {
   "cell_type": "markdown",
   "metadata": {},
   "source": [
    "Изучим датасет \"final_ab_participants\" и проверим кол-во участников теста на соотвтествие ТЗ.\n",
    "\n",
    "Так же, посмотрим, как распределяется кол-во участников тестирования по группам, и, т.к. в таблице присутствует информация о двух А/В-тестах, убедимся, что нет пересечений пользователей с конкурирующим А/В-тестом."
   ]
  },
  {
   "cell_type": "code",
   "execution_count": 16,
   "metadata": {},
   "outputs": [
    {
     "name": "stdout",
     "output_type": "stream",
     "text": [
      "Общее кол-во участников теста: 6701\n"
     ]
    },
    {
     "data": {
      "text/html": [
       "<div>\n",
       "<style scoped>\n",
       "    .dataframe tbody tr th:only-of-type {\n",
       "        vertical-align: middle;\n",
       "    }\n",
       "\n",
       "    .dataframe tbody tr th {\n",
       "        vertical-align: top;\n",
       "    }\n",
       "\n",
       "    .dataframe thead th {\n",
       "        text-align: right;\n",
       "    }\n",
       "</style>\n",
       "<table border=\"1\" class=\"dataframe\">\n",
       "  <thead>\n",
       "    <tr style=\"text-align: right;\">\n",
       "      <th></th>\n",
       "      <th>group</th>\n",
       "      <th>user_id</th>\n",
       "    </tr>\n",
       "  </thead>\n",
       "  <tbody>\n",
       "    <tr>\n",
       "      <th>0</th>\n",
       "      <td>A</td>\n",
       "      <td>3824</td>\n",
       "    </tr>\n",
       "    <tr>\n",
       "      <th>1</th>\n",
       "      <td>B</td>\n",
       "      <td>2877</td>\n",
       "    </tr>\n",
       "  </tbody>\n",
       "</table>\n",
       "</div>"
      ],
      "text/plain": [
       "  group  user_id\n",
       "0     A     3824\n",
       "1     B     2877"
      ]
     },
     "execution_count": 16,
     "metadata": {},
     "output_type": "execute_result"
    }
   ],
   "source": [
    "#отфильтруем данные по нашему тесту и сохраним в отдельную переменную\n",
    "recommender_system_test = final_ab_participants.query('ab_test == \"recommender_system_test\"')\n",
    "\n",
    "#посчитаем кол-во участников теста и кол-во участников по группам\n",
    "users_per_group = (recommender_system_test\n",
    "                   .groupby('group', as_index=False)\n",
    "                   .agg({'user_id':'nunique'}))\n",
    "\n",
    "print('Общее кол-во участников теста:', len(recommender_system_test))\n",
    "users_per_group"
   ]
  },
  {
   "cell_type": "markdown",
   "metadata": {},
   "source": [
    "Общее кол-во участников соответствует ТЗ. Однако, распределение пользователей по группам несовсем равномерное: в контрольной группе на 1000 человек больше, чем в тестовой. \n",
    "\n",
    "Проведем дальнейшую проверку на соответствие техническому заданию и равномерность распределения пользователей по группам в разрезе важных критериев. Если рапределение по критериям будет равномерным, то разница в кол-ве человек в группах не должна исказить результаты тестирования."
   ]
  },
  {
   "cell_type": "markdown",
   "metadata": {},
   "source": [
    "Теперь проверим, есть ли пересечение участников со вторым А/В тестом."
   ]
  },
  {
   "cell_type": "code",
   "execution_count": 17,
   "metadata": {},
   "outputs": [
    {
     "name": "stdout",
     "output_type": "stream",
     "text": [
      "Кол-во пользователей, попавших в оба теста: 1602\n"
     ]
    }
   ],
   "source": [
    "#сгруппируем таблицу по id пользователя и посчитаем кол-во тестов в которых он примает участие\n",
    "double_users = (final_ab_participants\n",
    "                .groupby('user_id', as_index=False)\n",
    "                .agg({'ab_test':'count'})\n",
    "                .query('ab_test > 1')['user_id']\n",
    "                .unique())\n",
    "\n",
    "\n",
    "print('Кол-во пользователей, попавших в оба теста:', len(double_users))\n"
   ]
  },
  {
   "cell_type": "markdown",
   "metadata": {},
   "source": [
    "Более 1,5 тысяч пользователей попали в оба теста. Нам необходимо убедится, что их участие в конкурирующем тесте не окажет влияния на поведение и не исказит резльтаты нашего теста.\n",
    "\n",
    "Для этого:\n",
    "- проверим, к какой группе в конкурирующем тесте они относятся. Участники контрольной группы А (которые не видели изменений при втором тесте) не могут исказить результаты нашего тестирования;\n",
    "- для участников группы В из второго теста проверим распределение по группам нашего теста. Если они распределны равномерно, то они не исказят результаты исследования, их можно будет оставить. Если же распределение будет неравномерным, то этих пользователей придется удалить."
   ]
  },
  {
   "cell_type": "code",
   "execution_count": 18,
   "metadata": {},
   "outputs": [
    {
     "name": "stdout",
     "output_type": "stream",
     "text": [
      "Кол-во пользователей в группе А второго теста 819\n",
      "Кол-во пользователей в группе В второго теста 783\n"
     ]
    }
   ],
   "source": [
    "#отфильтруем пользователей, которые попали в оба теста \n",
    "#и посчитаем кол-во в каждой из групп второго теста\n",
    "double_users_A =(final_ab_participants\n",
    "                 .query('user_id in @double_users & ab_test == \"interface_eu_test\" & group == \"A\"')['user_id']\n",
    "                 .unique())\n",
    "\n",
    "double_users_B =(final_ab_participants\n",
    "                 .query('user_id in @double_users & ab_test == \"interface_eu_test\" & group == \"B\"')['user_id']\n",
    "                 .unique())\n",
    "\n",
    "print('Кол-во пользователей в группе А второго теста', len(double_users_A))\n",
    "print('Кол-во пользователей в группе В второго теста', len(double_users_B))"
   ]
  },
  {
   "cell_type": "markdown",
   "metadata": {},
   "source": [
    "819 пользователей из группы А не представляют угрозы нашему тесту, остальных (783 человека) необходимо проверить. Для краткости описания назовем их \"проблемными\".\n",
    "\n",
    "Для этого:\n",
    "- посчитаем кол-во проблемных пользователей в каждой из групп нашего теста,\n",
    "- посчитаем долю проблемных от общего кол-ва пользователей в каждой из наших групп,\n",
    "- сравним доли."
   ]
  },
  {
   "cell_type": "code",
   "execution_count": 19,
   "metadata": {},
   "outputs": [
    {
     "data": {
      "text/html": [
       "<div>\n",
       "<style scoped>\n",
       "    .dataframe tbody tr th:only-of-type {\n",
       "        vertical-align: middle;\n",
       "    }\n",
       "\n",
       "    .dataframe tbody tr th {\n",
       "        vertical-align: top;\n",
       "    }\n",
       "\n",
       "    .dataframe thead th {\n",
       "        text-align: right;\n",
       "    }\n",
       "</style>\n",
       "<table border=\"1\" class=\"dataframe\">\n",
       "  <thead>\n",
       "    <tr style=\"text-align: right;\">\n",
       "      <th></th>\n",
       "      <th>group</th>\n",
       "      <th>problems_amt</th>\n",
       "    </tr>\n",
       "  </thead>\n",
       "  <tbody>\n",
       "    <tr>\n",
       "      <th>0</th>\n",
       "      <td>A</td>\n",
       "      <td>439</td>\n",
       "    </tr>\n",
       "    <tr>\n",
       "      <th>1</th>\n",
       "      <td>B</td>\n",
       "      <td>344</td>\n",
       "    </tr>\n",
       "  </tbody>\n",
       "</table>\n",
       "</div>"
      ],
      "text/plain": [
       "  group  problems_amt\n",
       "0     A           439\n",
       "1     B           344"
      ]
     },
     "execution_count": 19,
     "metadata": {},
     "output_type": "execute_result"
    }
   ],
   "source": [
    "#отфильтруем таблицу нашего теста по проблемным пользователям,\n",
    "# сгруппируем по группе и посчитаем кол-во в каждой\n",
    "doubles_per_group = (recommender_system_test\n",
    "                     .query('user_id in @double_users_B')\n",
    "                     .groupby('group', as_index=False)\n",
    "                     .agg({'user_id':'nunique'})\n",
    "                     .rename(columns={'user_id':'problems_amt'}))\n",
    "doubles_per_group"
   ]
  },
  {
   "cell_type": "code",
   "execution_count": 20,
   "metadata": {},
   "outputs": [],
   "source": [
    "#зададим функцию для определения равномерности распределенияя пользователей \n",
    "#в группа А и В по разным критериям\n",
    "\n",
    "def check_proportion(success_1, success_2):\n",
    "    \n",
    "    \"\"\"\n",
    "    Функция принимает кол-во пользователей по проверяемому критерию в каждой из групп,\n",
    "    считает долю этих пользователей от общего числа участников в группах\n",
    "    и проверяет, является различие в долях статистически значимым\n",
    "    \"\"\"\n",
    "    \n",
    "    successes = np.array([success_1, success_2])\n",
    "\n",
    "    trials = np.array([users_per_group.query('group==\"A\"')['user_id'], \n",
    "                   users_per_group.query('group==\"B\"')['user_id']])\n",
    "\n",
    "    # пропорция успехов в первой группе:\n",
    "    p1 = successes[0]/trials[0]\n",
    "\n",
    "    # пропорция успехов во второй группе:\n",
    "    p2 = successes[1]/trials[1]\n",
    "\n",
    "    # пропорция успехов в комбинированном датасете:\n",
    "    p_combined = (successes[0] + successes[1]) / (trials[0] + trials[1])\n",
    "\n",
    "    # разница пропорций в датасетах\n",
    "    difference = p1 - p2 \n",
    "\n",
    "    # считаем статистику в ст.отклонениях стандартного нормального распределения\n",
    "    z_value = difference / mth.sqrt(p_combined * (1 - p_combined) * (1/trials[0] + 1/trials[1]))\n",
    "\n",
    "    # задаем стандартное нормальное распределение (среднее 0, ст.отклонение 1)\n",
    "    distr = st.norm(0, 1)  \n",
    "\n",
    "    p_value = (1 - distr.cdf(abs(z_value))) * 2\n",
    "\n",
    "    print('Доля в первой группе равна:', p1*100)\n",
    "    print('Доля во второй группе равна:', p2*100)\n",
    "\n",
    "    print('p-значение: ', p_value)\n",
    "\n",
    "    if p_value < alpha:\n",
    "        print('Отвергаем нулевую гипотезу: между долями есть значимая разница')\n",
    "    else:\n",
    "        print('Не получилось отвергнуть нулевую гипотезу, нет оснований считать доли разными') \n",
    "    \n"
   ]
  },
  {
   "cell_type": "code",
   "execution_count": 21,
   "metadata": {},
   "outputs": [
    {
     "name": "stdout",
     "output_type": "stream",
     "text": [
      "Доля в первой группе равна: [11.48012552]\n",
      "Доля во второй группе равна: [11.95689955]\n",
      "p-значение:  [0.54759252]\n",
      "Не получилось отвергнуть нулевую гипотезу, нет оснований считать доли разными\n"
     ]
    }
   ],
   "source": [
    "#зададим критический уровень статистической значимости\n",
    "alpha = .05\n",
    "\n",
    "#применим функцию и посчитаем доли проблемных пользователей в каждой группе\n",
    "check_proportion(doubles_per_group.query('group==\"A\"')['problems_amt'], \n",
    "                 doubles_per_group.query('group==\"B\"')['problems_amt'])"
   ]
  },
  {
   "cell_type": "markdown",
   "metadata": {},
   "source": [
    "Статистически значимых различий не выявлено. Значит, пользователи из группы В второго теста равномерно распределены по группам нашего теста и не окажут влияния на результаты теста. Оставляем их в данных для дальнейшего анализа."
   ]
  },
  {
   "cell_type": "markdown",
   "metadata": {},
   "source": [
    "### 2.2 Аудитория теста. <a class=\"anchor\" id=\"2.2\"></a>"
   ]
  },
  {
   "cell_type": "markdown",
   "metadata": {},
   "source": [
    "Согласно техническому заданию аудитория теста дожна удовлетворять следующим условиям:\n",
    "1. Участники теста должны быть зарегистрированы на сайте в период с 7 по 21 декабря 2020 года.\n",
    "2. 15% пользователей из EU должны стать участниками теста."
   ]
  },
  {
   "cell_type": "markdown",
   "metadata": {},
   "source": [
    "Для проверки данных на соответствие с ТЗ, используем датасет \"final_ab_new_users\". \n",
    "\n",
    "Отфильтруем его по пользователям, которые являются участниками нашего теста, сохраним их в новую переменную и убедимся, что все пользователи были зарегистрированы в указанный по ТЗ период.."
   ]
  },
  {
   "cell_type": "code",
   "execution_count": 22,
   "metadata": {},
   "outputs": [
    {
     "name": "stdout",
     "output_type": "stream",
     "text": [
      "Самая ранняя дата регистрации пользователей: 2020-12-07 00:00:00\n",
      "Самая поздняя дата регистрации пользователей: 2020-12-21 00:00:00\n"
     ]
    }
   ],
   "source": [
    "#отфильтруем данные по id пользователей, которые указаны в датасете участников теста\n",
    "partiticipants = recommender_system_test[\"user_id\"].unique()\n",
    "recommender_new_users = final_ab_new_users.query('user_id in @partiticipants')\n",
    "\n",
    "#определим минимальную и максимальную даты регистрации пользователей\n",
    "print('Самая ранняя дата регистрации пользователей:', recommender_new_users['first_date'].min())\n",
    "print('Самая поздняя дата регистрации пользователей:', recommender_new_users['first_date'].max())\n"
   ]
  },
  {
   "cell_type": "markdown",
   "metadata": {},
   "source": [
    "Данные корректны, все пользователи были зарегистрированны в период, определенный техническим заданием.\n",
    "\n",
    "Проверим, пользователи из каких регионов участвуют в тесте."
   ]
  },
  {
   "cell_type": "code",
   "execution_count": 23,
   "metadata": {},
   "outputs": [
    {
     "data": {
      "text/plain": [
       "array(['EU', 'APAC', 'CIS', 'N.America'], dtype=object)"
      ]
     },
     "execution_count": 23,
     "metadata": {},
     "output_type": "execute_result"
    }
   ],
   "source": [
    "recommender_new_users['region'].unique()"
   ]
  },
  {
   "cell_type": "markdown",
   "metadata": {},
   "source": [
    "Согласно ТЗ тест должен быть проведен только среди пользователей из Европы. Однако, среди зарегистрированных участников так же присутствуют пользователи из других стран.\n",
    "\n",
    "Посчитаем, сколько таких пользователей зарегистрированно в тесте."
   ]
  },
  {
   "cell_type": "code",
   "execution_count": 24,
   "metadata": {},
   "outputs": [
    {
     "name": "stdout",
     "output_type": "stream",
     "text": [
      "Кол-во пользователей из других регионов: 350\n",
      "Доля пользователей из других регионов от общего числа участниклв теста: 5\n"
     ]
    }
   ],
   "source": [
    "print('Кол-во пользователей из других регионов:', len(recommender_new_users.query('region != \"EU\"')['user_id']))\n",
    "print('Доля пользователей из других регионов от общего числа участниклв теста:',\n",
    "     round(len(recommender_new_users.query('region != \"EU\"')['user_id']) / len(recommender_new_users['user_id'])*100))"
   ]
  },
  {
   "cell_type": "markdown",
   "metadata": {},
   "source": [
    "350 пользователей из других стран попали в участники теста, что составляет 5% от общего кол-ва участников. Так как по ТЗ тестирование предполагалось прооводить среди пользователей из Европы, исключим их из исследования. Кроме того, в каждом регионе своя маркетинговая активность, которая может исказить результаты теста. "
   ]
  },
  {
   "cell_type": "code",
   "execution_count": 25,
   "metadata": {},
   "outputs": [],
   "source": [
    "#удалим из таблиц пользователей всех участников не из европы\n",
    "recommender_new_users = recommender_new_users.query('region == \"EU\"')\n",
    "eu_users = recommender_new_users[\"user_id\"].unique()\n",
    "\n",
    "recommender_system_test = recommender_system_test.query('user_id in @eu_users')\n"
   ]
  },
  {
   "cell_type": "markdown",
   "metadata": {},
   "source": [
    "Теперь посмотрим, набралось ли в качестве участников 15% зарегистрировавшихся пользователей из Европы.\n",
    "\n",
    "Убедимся, что все пользователи из Европы регистрировались до 21.12.2020."
   ]
  },
  {
   "cell_type": "code",
   "execution_count": 26,
   "metadata": {},
   "outputs": [
    {
     "name": "stdout",
     "output_type": "stream",
     "text": [
      "Самая ранняя дата регистрации пользователей: 2020-12-07 00:00:00\n",
      "Самая поздняя дата регистрации пользователей: 2020-12-23 00:00:00\n"
     ]
    }
   ],
   "source": [
    "final_ab_new_users.query('region == \"EU\"')\n",
    "\n",
    "print('Самая ранняя дата регистрации пользователей:', \n",
    "      final_ab_new_users.query('region == \"EU\"')['first_date'].min())\n",
    "print('Самая поздняя дата регистрации пользователей:', \n",
    "      final_ab_new_users.query('region == \"EU\"')['first_date'].max())\n"
   ]
  },
  {
   "cell_type": "markdown",
   "metadata": {},
   "source": [
    "В таблице присутствуют пользователи из Европы, зарегистрировавшиеся после 21го декабря. Учтем это при расчете процентной доли участников."
   ]
  },
  {
   "cell_type": "code",
   "execution_count": 27,
   "metadata": {},
   "outputs": [],
   "source": [
    "#установим максимальную дату регистрации\n",
    "max_date = date(2020, 12, 21)"
   ]
  },
  {
   "cell_type": "code",
   "execution_count": 28,
   "metadata": {},
   "outputs": [
    {
     "name": "stdout",
     "output_type": "stream",
     "text": [
      "Доля участников от общего кол-ва европейских пользователей: 15\n"
     ]
    }
   ],
   "source": [
    "print('Доля участников от общего кол-ва европейских пользователей:', \n",
    "     round(len(recommender_new_users) / \\\n",
    "           len(final_ab_new_users.query('region == \"EU\" and first_date <= @max_date')) *100))"
   ]
  },
  {
   "cell_type": "markdown",
   "metadata": {},
   "source": [
    "15% пользователей из Европы приняли участие в тесте. Объем данных удовлетворяет техническому заданию."
   ]
  },
  {
   "cell_type": "markdown",
   "metadata": {},
   "source": [
    "### 2.3 Время проведения теста. <a class=\"anchor\" id=\"2.3\"></a>"
   ]
  },
  {
   "cell_type": "markdown",
   "metadata": {},
   "source": [
    "Согласно техническому заданию А/В тест проводился в период с 07.12.2020 по 04.01.2021. \n",
    "\n",
    "Что бы избежать искажение результатов, необходимо проверить, пересекается ли время проведения теста с какими-либо маркетинговыми акциями и мероприятиями. Любые маркетинговые мероприятия могут стать причиной изменения поведения пользователей, что может быть неверно интерпретировано в пользу преимуществ новой рекомендательной системы, на самом деле не являясь таковым.\n",
    "\n",
    "Ознакомимся с информацией о маркеинговых акциях."
   ]
  },
  {
   "cell_type": "code",
   "execution_count": 29,
   "metadata": {},
   "outputs": [
    {
     "data": {
      "text/html": [
       "<div>\n",
       "<style scoped>\n",
       "    .dataframe tbody tr th:only-of-type {\n",
       "        vertical-align: middle;\n",
       "    }\n",
       "\n",
       "    .dataframe tbody tr th {\n",
       "        vertical-align: top;\n",
       "    }\n",
       "\n",
       "    .dataframe thead th {\n",
       "        text-align: right;\n",
       "    }\n",
       "</style>\n",
       "<table border=\"1\" class=\"dataframe\">\n",
       "  <thead>\n",
       "    <tr style=\"text-align: right;\">\n",
       "      <th></th>\n",
       "      <th>name</th>\n",
       "      <th>regions</th>\n",
       "      <th>start_dt</th>\n",
       "      <th>finish_dt</th>\n",
       "    </tr>\n",
       "  </thead>\n",
       "  <tbody>\n",
       "    <tr>\n",
       "      <th>0</th>\n",
       "      <td>Christmas&amp;New Year Promo</td>\n",
       "      <td>EU, N.America</td>\n",
       "      <td>2020-12-25</td>\n",
       "      <td>2021-01-03</td>\n",
       "    </tr>\n",
       "    <tr>\n",
       "      <th>1</th>\n",
       "      <td>St. Valentine's Day Giveaway</td>\n",
       "      <td>EU, CIS, APAC, N.America</td>\n",
       "      <td>2020-02-14</td>\n",
       "      <td>2020-02-16</td>\n",
       "    </tr>\n",
       "    <tr>\n",
       "      <th>2</th>\n",
       "      <td>St. Patric's Day Promo</td>\n",
       "      <td>EU, N.America</td>\n",
       "      <td>2020-03-17</td>\n",
       "      <td>2020-03-19</td>\n",
       "    </tr>\n",
       "    <tr>\n",
       "      <th>3</th>\n",
       "      <td>Easter Promo</td>\n",
       "      <td>EU, CIS, APAC, N.America</td>\n",
       "      <td>2020-04-12</td>\n",
       "      <td>2020-04-19</td>\n",
       "    </tr>\n",
       "    <tr>\n",
       "      <th>4</th>\n",
       "      <td>4th of July Promo</td>\n",
       "      <td>N.America</td>\n",
       "      <td>2020-07-04</td>\n",
       "      <td>2020-07-11</td>\n",
       "    </tr>\n",
       "    <tr>\n",
       "      <th>5</th>\n",
       "      <td>Black Friday Ads Campaign</td>\n",
       "      <td>EU, CIS, APAC, N.America</td>\n",
       "      <td>2020-11-26</td>\n",
       "      <td>2020-12-01</td>\n",
       "    </tr>\n",
       "    <tr>\n",
       "      <th>6</th>\n",
       "      <td>Chinese New Year Promo</td>\n",
       "      <td>APAC</td>\n",
       "      <td>2020-01-25</td>\n",
       "      <td>2020-02-07</td>\n",
       "    </tr>\n",
       "    <tr>\n",
       "      <th>7</th>\n",
       "      <td>Labor day (May 1st) Ads Campaign</td>\n",
       "      <td>EU, CIS, APAC</td>\n",
       "      <td>2020-05-01</td>\n",
       "      <td>2020-05-03</td>\n",
       "    </tr>\n",
       "    <tr>\n",
       "      <th>8</th>\n",
       "      <td>International Women's Day Promo</td>\n",
       "      <td>EU, CIS, APAC</td>\n",
       "      <td>2020-03-08</td>\n",
       "      <td>2020-03-10</td>\n",
       "    </tr>\n",
       "    <tr>\n",
       "      <th>9</th>\n",
       "      <td>Victory Day CIS (May 9th) Event</td>\n",
       "      <td>CIS</td>\n",
       "      <td>2020-05-09</td>\n",
       "      <td>2020-05-11</td>\n",
       "    </tr>\n",
       "    <tr>\n",
       "      <th>10</th>\n",
       "      <td>CIS New Year Gift Lottery</td>\n",
       "      <td>CIS</td>\n",
       "      <td>2020-12-30</td>\n",
       "      <td>2021-01-07</td>\n",
       "    </tr>\n",
       "    <tr>\n",
       "      <th>11</th>\n",
       "      <td>Dragon Boat Festival Giveaway</td>\n",
       "      <td>APAC</td>\n",
       "      <td>2020-06-25</td>\n",
       "      <td>2020-07-01</td>\n",
       "    </tr>\n",
       "    <tr>\n",
       "      <th>12</th>\n",
       "      <td>Single's Day Gift Promo</td>\n",
       "      <td>APAC</td>\n",
       "      <td>2020-11-11</td>\n",
       "      <td>2020-11-12</td>\n",
       "    </tr>\n",
       "    <tr>\n",
       "      <th>13</th>\n",
       "      <td>Chinese Moon Festival</td>\n",
       "      <td>APAC</td>\n",
       "      <td>2020-10-01</td>\n",
       "      <td>2020-10-07</td>\n",
       "    </tr>\n",
       "  </tbody>\n",
       "</table>\n",
       "</div>"
      ],
      "text/plain": [
       "                                name                   regions   start_dt  \\\n",
       "0           Christmas&New Year Promo             EU, N.America 2020-12-25   \n",
       "1       St. Valentine's Day Giveaway  EU, CIS, APAC, N.America 2020-02-14   \n",
       "2             St. Patric's Day Promo             EU, N.America 2020-03-17   \n",
       "3                       Easter Promo  EU, CIS, APAC, N.America 2020-04-12   \n",
       "4                  4th of July Promo                 N.America 2020-07-04   \n",
       "5          Black Friday Ads Campaign  EU, CIS, APAC, N.America 2020-11-26   \n",
       "6             Chinese New Year Promo                      APAC 2020-01-25   \n",
       "7   Labor day (May 1st) Ads Campaign             EU, CIS, APAC 2020-05-01   \n",
       "8    International Women's Day Promo             EU, CIS, APAC 2020-03-08   \n",
       "9    Victory Day CIS (May 9th) Event                       CIS 2020-05-09   \n",
       "10         CIS New Year Gift Lottery                       CIS 2020-12-30   \n",
       "11     Dragon Boat Festival Giveaway                      APAC 2020-06-25   \n",
       "12           Single's Day Gift Promo                      APAC 2020-11-11   \n",
       "13             Chinese Moon Festival                      APAC 2020-10-01   \n",
       "\n",
       "    finish_dt  \n",
       "0  2021-01-03  \n",
       "1  2020-02-16  \n",
       "2  2020-03-19  \n",
       "3  2020-04-19  \n",
       "4  2020-07-11  \n",
       "5  2020-12-01  \n",
       "6  2020-02-07  \n",
       "7  2020-05-03  \n",
       "8  2020-03-10  \n",
       "9  2020-05-11  \n",
       "10 2021-01-07  \n",
       "11 2020-07-01  \n",
       "12 2020-11-12  \n",
       "13 2020-10-07  "
      ]
     },
     "execution_count": 29,
     "metadata": {},
     "output_type": "execute_result"
    }
   ],
   "source": [
    "ab_project_marketing_events"
   ]
  },
  {
   "cell_type": "markdown",
   "metadata": {},
   "source": [
    "В разных регионах маркетнговые акции проходят в разные периоды. Проверим, пересекаются даты нашего теста с какими- либо акциями."
   ]
  },
  {
   "cell_type": "code",
   "execution_count": 30,
   "metadata": {},
   "outputs": [],
   "source": [
    "#зададим даты начала и окончания теста\n",
    "test_start_date = date(2020, 12, 7)\n",
    "test_finish_date = date(2021, 1, 4)\n"
   ]
  },
  {
   "cell_type": "code",
   "execution_count": 31,
   "metadata": {},
   "outputs": [],
   "source": [
    "#зададим функцию для определения пересекающихся данных\n",
    "def check_dates(row):\n",
    "    \n",
    "    \"\"\"\n",
    "    функция принимает на вход кажздый солбец датафрема \n",
    "    и сравнивает даты акций и теста:\n",
    "    если дата начала или окончания маркетинговой акции лежит между \n",
    "    датами начала и окончания теста, то функция выведет значение True\n",
    "    \n",
    "    \"\"\"\n",
    "    \n",
    "    start_dt_adds = row['start_dt']\n",
    "    finish_dt_adds = row['finish_dt']\n",
    "    \n",
    "    if test_start_date < start_dt_adds < test_finish_date:\n",
    "        return True\n",
    "    \n",
    "    if test_start_date < finish_dt_adds < test_finish_date:\n",
    "        return True\n",
    "    \n",
    "    else:\n",
    "        return False"
   ]
  },
  {
   "cell_type": "code",
   "execution_count": 32,
   "metadata": {},
   "outputs": [
    {
     "name": "stderr",
     "output_type": "stream",
     "text": [
      "/var/folders/jg/_twx4_tn15z6p3pytfwd61k40000gp/T/ipykernel_46926/188301237.py:15: FutureWarning: Comparison of Timestamp with datetime.date is deprecated in order to match the standard library behavior. In a future version these will be considered non-comparable. Use 'ts == pd.Timestamp(date)' or 'ts.date() == date' instead.\n",
      "  if test_start_date < start_dt_adds < test_finish_date:\n",
      "/var/folders/jg/_twx4_tn15z6p3pytfwd61k40000gp/T/ipykernel_46926/188301237.py:18: FutureWarning: Comparison of Timestamp with datetime.date is deprecated in order to match the standard library behavior. In a future version these will be considered non-comparable. Use 'ts == pd.Timestamp(date)' or 'ts.date() == date' instead.\n",
      "  if test_start_date < finish_dt_adds < test_finish_date:\n"
     ]
    },
    {
     "data": {
      "text/html": [
       "<div>\n",
       "<style scoped>\n",
       "    .dataframe tbody tr th:only-of-type {\n",
       "        vertical-align: middle;\n",
       "    }\n",
       "\n",
       "    .dataframe tbody tr th {\n",
       "        vertical-align: top;\n",
       "    }\n",
       "\n",
       "    .dataframe thead th {\n",
       "        text-align: right;\n",
       "    }\n",
       "</style>\n",
       "<table border=\"1\" class=\"dataframe\">\n",
       "  <thead>\n",
       "    <tr style=\"text-align: right;\">\n",
       "      <th></th>\n",
       "      <th>name</th>\n",
       "      <th>regions</th>\n",
       "      <th>start_dt</th>\n",
       "      <th>finish_dt</th>\n",
       "      <th>is_crossed</th>\n",
       "    </tr>\n",
       "  </thead>\n",
       "  <tbody>\n",
       "    <tr>\n",
       "      <th>0</th>\n",
       "      <td>Christmas&amp;New Year Promo</td>\n",
       "      <td>EU, N.America</td>\n",
       "      <td>2020-12-25</td>\n",
       "      <td>2021-01-03</td>\n",
       "      <td>True</td>\n",
       "    </tr>\n",
       "    <tr>\n",
       "      <th>10</th>\n",
       "      <td>CIS New Year Gift Lottery</td>\n",
       "      <td>CIS</td>\n",
       "      <td>2020-12-30</td>\n",
       "      <td>2021-01-07</td>\n",
       "      <td>True</td>\n",
       "    </tr>\n",
       "  </tbody>\n",
       "</table>\n",
       "</div>"
      ],
      "text/plain": [
       "                         name        regions   start_dt  finish_dt  is_crossed\n",
       "0    Christmas&New Year Promo  EU, N.America 2020-12-25 2021-01-03        True\n",
       "10  CIS New Year Gift Lottery            CIS 2020-12-30 2021-01-07        True"
      ]
     },
     "execution_count": 32,
     "metadata": {},
     "output_type": "execute_result"
    }
   ],
   "source": [
    "#применим функцию и создадим столбец с указанием инфо о том, пересекаются ли даты с тестом \n",
    "ab_project_marketing_events['is_crossed'] = ab_project_marketing_events.apply(check_dates, axis=1)\n",
    "\n",
    "#выведем акции, которые пересекаются с нашим тестом\n",
    "ab_project_marketing_events.query('is_crossed == True')"
   ]
  },
  {
   "cell_type": "markdown",
   "metadata": {},
   "source": [
    "Два маркетинговых мероприятия пересекаются с датами нашего теста.\n",
    "\n",
    "Акция \"CIS New Year Gift Lottery\" проводится в странах СНГ, поэтому не окажет влияния на наш тест.\n",
    "\n",
    "А вот акция \"Christmas&New Year Promo\" начинается 25.12.2020 и заканчивается 03.01.2021. То есть длится в течении второй половины нашего А/Б-тестирования.\n",
    "\n",
    "<span style=\"color:brown\">По-хорошему, проводить А/Б - тест накануне Нового года, самого масштабного праздника в году во всем мире, не имеет смысла. Чем ближе дата Нового года, тем сильнее возрастает активность пользователей вне зависимости от изменений на сайте. Это может привести к неправильной интерпритации результатов, когда повышение конверсии будет расценено как результат новой рекомендательной системы, что может быть ошибочным.</span>\n",
    "\n",
    "Однако, тест уже проведен, поэтому необходимо проанализировать, как наступление акции повлияло на активность пользователей и принять решение о том, оставлять события за период акции или же исключать из исследования."
   ]
  },
  {
   "cell_type": "markdown",
   "metadata": {},
   "source": [
    "При проведении исследовательского анализа данных далее, посмотрим на распределение событий во времени и влияние акции на него."
   ]
  },
  {
   "cell_type": "markdown",
   "metadata": {},
   "source": [
    "### 2.4 События, совершенные пользователями в рамках теста. <a class=\"anchor\" id=\"2.4\"></a>"
   ]
  },
  {
   "cell_type": "markdown",
   "metadata": {},
   "source": [
    "Согласно ТЗ дата окончания А/Б-теста - 04.01.2021 года. Посмотрим, данные о скольких событиях и за какой период у нас имеются по факту."
   ]
  },
  {
   "cell_type": "code",
   "execution_count": 33,
   "metadata": {
    "scrolled": true
   },
   "outputs": [
    {
     "name": "stdout",
     "output_type": "stream",
     "text": [
      "Дата самого раннего события 2020-12-07 00:00:33\n",
      "Дата самого позднего события 2020-12-30 23:36:33\n"
     ]
    }
   ],
   "source": [
    "print('Дата самого раннего события', final_ab_events['event_dt'].min())\n",
    "print('Дата самого позднего события', final_ab_events['event_dt'].max())"
   ]
  },
  {
   "cell_type": "markdown",
   "metadata": {},
   "source": [
    "У нас имеются события за временной период с 07.12.2020 по 30.12.2021. То есть период совершения событий не соответствует ТЗ, не хватает информации еще о 5ти днях проведения теста.\n",
    "\n",
    "В связи с тем, что по результатам теста предполагается изучение поведение пользователей в течении 14 дней с момента регистрации, а у нас отсутствуют данные за 5 последних дней теста, нам потребуется дополнительно исследовать пользователей, которые не успели \"прожить\" установленный \"срок жизни\" и, возможно, исключить некоторых из них из исследования."
   ]
  },
  {
   "cell_type": "markdown",
   "metadata": {},
   "source": [
    "### 2.5 Вывод. <a class=\"anchor\" id=\"2.5\"></a>"
   ]
  },
  {
   "cell_type": "markdown",
   "metadata": {},
   "source": [
    "В ходе проверки данных на соответствие техническомй заданию при запуске А/Б тестирования было определено, что:\n",
    "\n",
    "1. Изначально в тесте было зарегистрировано 6701 пользователь.\n",
    "\n",
    "\n",
    "2. Распределение пользователей проведено неравномерно, группа А почти на 1000 человек больше группы В. При этом, более 1.5тыс пользователей одновременно принимают участие в двух А/Б-тестах.\n",
    "\n",
    "\n",
    "3. Среди участников теста присутствовали 350 пользователей не из стран Европы, что не соответсвует ТЗ. Эти пользователи были исключены ищз исследования.\n",
    "\n",
    "\n",
    "4. Для анализа результатов предоставлены неполные данные - отсутствует информация об активности пользователей за период с 31.12 по 04.01."
   ]
  },
  {
   "cell_type": "markdown",
   "metadata": {},
   "source": [
    "## 3. Исследовательский анализ данных. <a class=\"anchor\" id=\"3\"></a>"
   ]
  },
  {
   "cell_type": "markdown",
   "metadata": {},
   "source": [
    "Для дальнейшего анализа сведем все имеющиеся данные о тесте в единую таблицу, в клоторую войдут:\n",
    "- id пользователей,\n",
    "- группа А/В-теста,\n",
    "- дата регистрации пользователя,\n",
    "- устройство, с которого происходила регистрация,\n",
    "- события, совершенные пользователями,\n",
    "- даты событий,\n",
    "- доп.сведения о событиях.\n"
   ]
  },
  {
   "cell_type": "code",
   "execution_count": 34,
   "metadata": {},
   "outputs": [
    {
     "data": {
      "text/html": [
       "<div>\n",
       "<style scoped>\n",
       "    .dataframe tbody tr th:only-of-type {\n",
       "        vertical-align: middle;\n",
       "    }\n",
       "\n",
       "    .dataframe tbody tr th {\n",
       "        vertical-align: top;\n",
       "    }\n",
       "\n",
       "    .dataframe thead th {\n",
       "        text-align: right;\n",
       "    }\n",
       "</style>\n",
       "<table border=\"1\" class=\"dataframe\">\n",
       "  <thead>\n",
       "    <tr style=\"text-align: right;\">\n",
       "      <th></th>\n",
       "      <th>user_id</th>\n",
       "      <th>event_dt</th>\n",
       "      <th>event_name</th>\n",
       "      <th>details</th>\n",
       "    </tr>\n",
       "  </thead>\n",
       "  <tbody>\n",
       "    <tr>\n",
       "      <th>0</th>\n",
       "      <td>E1BDDCE0DAFA2679</td>\n",
       "      <td>2020-12-07 20:22:03</td>\n",
       "      <td>purchase</td>\n",
       "      <td>99.99</td>\n",
       "    </tr>\n",
       "    <tr>\n",
       "      <th>1</th>\n",
       "      <td>7B6452F081F49504</td>\n",
       "      <td>2020-12-07 09:22:53</td>\n",
       "      <td>purchase</td>\n",
       "      <td>9.99</td>\n",
       "    </tr>\n",
       "    <tr>\n",
       "      <th>2</th>\n",
       "      <td>9CD9F34546DF254C</td>\n",
       "      <td>2020-12-07 12:59:29</td>\n",
       "      <td>purchase</td>\n",
       "      <td>4.99</td>\n",
       "    </tr>\n",
       "    <tr>\n",
       "      <th>3</th>\n",
       "      <td>96F27A054B191457</td>\n",
       "      <td>2020-12-07 04:02:40</td>\n",
       "      <td>purchase</td>\n",
       "      <td>4.99</td>\n",
       "    </tr>\n",
       "    <tr>\n",
       "      <th>4</th>\n",
       "      <td>1FD7660FDF94CA1F</td>\n",
       "      <td>2020-12-07 10:15:09</td>\n",
       "      <td>purchase</td>\n",
       "      <td>4.99</td>\n",
       "    </tr>\n",
       "  </tbody>\n",
       "</table>\n",
       "</div>"
      ],
      "text/plain": [
       "            user_id            event_dt event_name  details\n",
       "0  E1BDDCE0DAFA2679 2020-12-07 20:22:03   purchase    99.99\n",
       "1  7B6452F081F49504 2020-12-07 09:22:53   purchase     9.99\n",
       "2  9CD9F34546DF254C 2020-12-07 12:59:29   purchase     4.99\n",
       "3  96F27A054B191457 2020-12-07 04:02:40   purchase     4.99\n",
       "4  1FD7660FDF94CA1F 2020-12-07 10:15:09   purchase     4.99"
      ]
     },
     "execution_count": 34,
     "metadata": {},
     "output_type": "execute_result"
    }
   ],
   "source": [
    "final_ab_events.head()"
   ]
  },
  {
   "cell_type": "code",
   "execution_count": 35,
   "metadata": {},
   "outputs": [
    {
     "data": {
      "text/html": [
       "<div>\n",
       "<style scoped>\n",
       "    .dataframe tbody tr th:only-of-type {\n",
       "        vertical-align: middle;\n",
       "    }\n",
       "\n",
       "    .dataframe tbody tr th {\n",
       "        vertical-align: top;\n",
       "    }\n",
       "\n",
       "    .dataframe thead th {\n",
       "        text-align: right;\n",
       "    }\n",
       "</style>\n",
       "<table border=\"1\" class=\"dataframe\">\n",
       "  <thead>\n",
       "    <tr style=\"text-align: right;\">\n",
       "      <th></th>\n",
       "      <th>user_id</th>\n",
       "      <th>group</th>\n",
       "      <th>reg_date</th>\n",
       "      <th>device</th>\n",
       "      <th>event_dt</th>\n",
       "      <th>event_name</th>\n",
       "      <th>details</th>\n",
       "    </tr>\n",
       "  </thead>\n",
       "  <tbody>\n",
       "    <tr>\n",
       "      <th>0</th>\n",
       "      <td>D1ABA3E2887B6A73</td>\n",
       "      <td>A</td>\n",
       "      <td>2020-12-07</td>\n",
       "      <td>PC</td>\n",
       "      <td>2020-12-07 14:43:27</td>\n",
       "      <td>purchase</td>\n",
       "      <td>99.99</td>\n",
       "    </tr>\n",
       "    <tr>\n",
       "      <th>1</th>\n",
       "      <td>D1ABA3E2887B6A73</td>\n",
       "      <td>A</td>\n",
       "      <td>2020-12-07</td>\n",
       "      <td>PC</td>\n",
       "      <td>2020-12-25 00:04:56</td>\n",
       "      <td>purchase</td>\n",
       "      <td>4.99</td>\n",
       "    </tr>\n",
       "    <tr>\n",
       "      <th>2</th>\n",
       "      <td>D1ABA3E2887B6A73</td>\n",
       "      <td>A</td>\n",
       "      <td>2020-12-07</td>\n",
       "      <td>PC</td>\n",
       "      <td>2020-12-07 14:43:29</td>\n",
       "      <td>product_cart</td>\n",
       "      <td>NaN</td>\n",
       "    </tr>\n",
       "    <tr>\n",
       "      <th>3</th>\n",
       "      <td>D1ABA3E2887B6A73</td>\n",
       "      <td>A</td>\n",
       "      <td>2020-12-07</td>\n",
       "      <td>PC</td>\n",
       "      <td>2020-12-25 00:04:57</td>\n",
       "      <td>product_cart</td>\n",
       "      <td>NaN</td>\n",
       "    </tr>\n",
       "    <tr>\n",
       "      <th>4</th>\n",
       "      <td>D1ABA3E2887B6A73</td>\n",
       "      <td>A</td>\n",
       "      <td>2020-12-07</td>\n",
       "      <td>PC</td>\n",
       "      <td>2020-12-07 14:43:27</td>\n",
       "      <td>product_page</td>\n",
       "      <td>NaN</td>\n",
       "    </tr>\n",
       "  </tbody>\n",
       "</table>\n",
       "</div>"
      ],
      "text/plain": [
       "            user_id group   reg_date device            event_dt    event_name  \\\n",
       "0  D1ABA3E2887B6A73     A 2020-12-07     PC 2020-12-07 14:43:27      purchase   \n",
       "1  D1ABA3E2887B6A73     A 2020-12-07     PC 2020-12-25 00:04:56      purchase   \n",
       "2  D1ABA3E2887B6A73     A 2020-12-07     PC 2020-12-07 14:43:29  product_cart   \n",
       "3  D1ABA3E2887B6A73     A 2020-12-07     PC 2020-12-25 00:04:57  product_cart   \n",
       "4  D1ABA3E2887B6A73     A 2020-12-07     PC 2020-12-07 14:43:27  product_page   \n",
       "\n",
       "   details  \n",
       "0    99.99  \n",
       "1     4.99  \n",
       "2      NaN  \n",
       "3      NaN  \n",
       "4      NaN  "
      ]
     },
     "metadata": {},
     "output_type": "display_data"
    },
    {
     "name": "stdout",
     "output_type": "stream",
     "text": [
      "------------------------------\n",
      "\n",
      "<class 'pandas.core.frame.DataFrame'>\n",
      "Int64Index: 26290 entries, 0 to 26289\n",
      "Data columns (total 7 columns):\n",
      " #   Column      Non-Null Count  Dtype         \n",
      "---  ------      --------------  -----         \n",
      " 0   user_id     26290 non-null  object        \n",
      " 1   group       26290 non-null  object        \n",
      " 2   reg_date    26290 non-null  datetime64[ns]\n",
      " 3   device      26290 non-null  object        \n",
      " 4   event_dt    23420 non-null  datetime64[ns]\n",
      " 5   event_name  23420 non-null  object        \n",
      " 6   details     3196 non-null   float64       \n",
      "dtypes: datetime64[ns](2), float64(1), object(4)\n",
      "memory usage: 1.6+ MB\n",
      "None\n",
      "\n",
      "------------------------------\n",
      "\n",
      "Кол-во явных дубликатов в датасете: 0\n"
     ]
    }
   ],
   "source": [
    "#создаем таблицу с объединенной информацией\n",
    "full_info = (recommender_system_test[['user_id', 'group']]   #к данным о id и группе пользователя\n",
    "             .merge(recommender_new_users[['user_id', 'first_date', 'device']], \n",
    "                    on='user_id', \n",
    "                    how='left')   #добавляем информацию о дате и устройстве регистрации\n",
    "             .merge(final_ab_events, \n",
    "                    on='user_id', \n",
    "                    how='left')    #добавляем инфо о событиях\n",
    "             .rename(columns={'first_date':'reg_date'}))\n",
    "\n",
    "get_info(full_info)"
   ]
  },
  {
   "cell_type": "markdown",
   "metadata": {},
   "source": [
    "У нас получилась таблица с записями о 26290 событиях и пользователях, которые стали участниками теста, но не совершили никаких событий на сайте. Об этом говорит наличие пропуском в столбцах \"event_dt\", \"event_dt\"."
   ]
  },
  {
   "cell_type": "markdown",
   "metadata": {},
   "source": [
    "\n",
    "Теперь у нас есть полные данные для проведения исследовательского анализа."
   ]
  },
  {
   "cell_type": "markdown",
   "metadata": {},
   "source": [
    "### 3.1 Установка заданного лайфтайма пользователей. <a class=\"anchor\" id=\"3.1\"></a>"
   ]
  },
  {
   "cell_type": "markdown",
   "metadata": {},
   "source": [
    "Для того, что бы провести корректный анализ в соответствии с ожидаемым эффектом от тестирования, нам необходимо оставить в таблице только те события, которые были совершены пользователями в течении первых 14 дней с момента регистрации."
   ]
  },
  {
   "cell_type": "code",
   "execution_count": 36,
   "metadata": {},
   "outputs": [],
   "source": [
    "#зададим горизонт анализа 13 дней, т.к.день лайфтайм 14 дней, включая день регистрации \n",
    "analisys_horizon = 13"
   ]
  },
  {
   "cell_type": "code",
   "execution_count": 37,
   "metadata": {},
   "outputs": [],
   "source": [
    "#зададим функцию для определения событий, входящих в лайфтаим пользователя\n",
    "def find_events(row):\n",
    "    \n",
    "    \"\"\"\n",
    "    Функция принимает на вход строку датафрейма, задает максимальную дату события \n",
    "    согласно дате регистрации пользоват и сравнивает дату события с максимальной.\n",
    "    \n",
    "    Если событие случилось в установленнный лайфтайм, оно помечается как True.\n",
    "    Если позже - False.\n",
    "    \n",
    "    \"\"\"\n",
    "    \n",
    "    max_date = row['reg_date'] + timedelta(days=analisys_horizon)\n",
    "    \n",
    "    if row['event_dt'] > max_date:\n",
    "        return False\n",
    "    \n",
    "    else:\n",
    "        return True"
   ]
  },
  {
   "cell_type": "code",
   "execution_count": 38,
   "metadata": {},
   "outputs": [],
   "source": [
    "#применим функцию к датафремй, создав столбец \"proper_event\"\n",
    "full_info['proper_event'] = full_info.apply(find_events, axis=1)"
   ]
  },
  {
   "cell_type": "markdown",
   "metadata": {},
   "source": [
    "Посчитаем, сколько событий были совершены после установленного горизонта анализа."
   ]
  },
  {
   "cell_type": "code",
   "execution_count": 39,
   "metadata": {},
   "outputs": [
    {
     "data": {
      "text/plain": [
       "1043"
      ]
     },
     "execution_count": 39,
     "metadata": {},
     "output_type": "execute_result"
    }
   ],
   "source": [
    "len(full_info.query('proper_event == False'))"
   ]
  },
  {
   "cell_type": "markdown",
   "metadata": {},
   "source": [
    "Всего 1043 события выходят за рамке определенного ТЗ лайфтайма. Удалим эти записи из таблицы и проверим, не потеряли ли мы каких-либо пользователей после удаления записей с событиями."
   ]
  },
  {
   "cell_type": "code",
   "execution_count": 40,
   "metadata": {},
   "outputs": [
    {
     "data": {
      "text/plain": [
       "6351"
      ]
     },
     "execution_count": 40,
     "metadata": {},
     "output_type": "execute_result"
    }
   ],
   "source": [
    "#удаляем данные о событиях, входящих за дату горизонта и столбец \"proper_event\" (больше не потребуется)\n",
    "full_info = full_info.query(('proper_event == True'))\n",
    "full_info = full_info.drop(columns='proper_event') \n",
    "\n",
    "#проверяем кол-во пользователей\n",
    "full_info['user_id'].nunique()"
   ]
  },
  {
   "cell_type": "markdown",
   "metadata": {},
   "source": [
    "Ни один пользователь не был потерян.\n",
    "\n",
    "Теперь разберемся с теми пользователями, которые не успели прожить положенный период. Так как у нас есть данные только до 30.12, нам необходимо определить всех пользователей, которые были зарегистрированы на тест позднее, чем 13 дней до этой даты. "
   ]
  },
  {
   "cell_type": "code",
   "execution_count": 41,
   "metadata": {},
   "outputs": [
    {
     "data": {
      "text/plain": [
       "Timestamp('2020-12-17 23:38:29')"
      ]
     },
     "execution_count": 41,
     "metadata": {},
     "output_type": "execute_result"
    }
   ],
   "source": [
    "#определим дату, с которой регистрирующиеся пользователи не успевали прожить 14 дней\n",
    "last_suitable_registration_date = full_info['event_dt'].max() - timedelta(days=analisys_horizon-1)\n",
    "last_suitable_registration_date"
   ]
  },
  {
   "cell_type": "markdown",
   "metadata": {},
   "source": [
    "Для всех пользователей, зарегистрировавшиеся позже 17.12.2020, мы не имеем возможности отследить действия на протяжении 14 дней с момента регистрации. \n",
    "\n",
    "Что бы избежать попадания таких пользователей в категорию \"несовершивших целевое действие\", тем самым изказив реальные показатели конверсии, мы проведем следующие действия:\n",
    "1. Среди неуспевших прожить 14 дней пользователей мы отберем тех, кто уже успел совершить покупку на сайте. Т.е. те, кто уже успел конвертироваться в покупатели, остануться в исследовании.\n",
    "2. Пользователей, неуспевших совершить покупку, мы удалим. Не исключено, что за оставшиеся дни своего лайтайма они успели совершить целевое действие на сайте. Но если мы оставим сейчас их в исследовании, то они добавятся к доле тех, кто не дошел до покупки и могут занизить реальные показатели конверсии."
   ]
  },
  {
   "cell_type": "code",
   "execution_count": 42,
   "metadata": {},
   "outputs": [],
   "source": [
    "#создадим список с зарегистрировавшимися после 17 декабря\n",
    "late_users = (full_info.query('reg_date > @last_suitable_registration_date')['user_id'].unique())"
   ]
  },
  {
   "cell_type": "code",
   "execution_count": 43,
   "metadata": {},
   "outputs": [
    {
     "name": "stdout",
     "output_type": "stream",
     "text": [
      "Кол-во совершивших покупку: 437\n",
      "Кол-во несовершивших покупку: 1488\n"
     ]
    }
   ],
   "source": [
    "#определим поздних пользователей, которые успели конвертироваться в покупатели\n",
    "late_users_converted = (full_info\n",
    "                        .query('event_name ==\"purchase\" & user_id in @late_users')['user_id']\n",
    "                        .unique())\n",
    "\n",
    "#определим поздних пользователей, которые не успели конвертироваться в покупатели\n",
    "late_users_not_converted = (full_info\n",
    "                            .query('user_id in @late_users & user_id not in @late_users_converted')['user_id']\n",
    "                            .unique())\n",
    "\n",
    "#посчитаем и выведем их кол-во\n",
    "print(\"Кол-во совершивших покупку:\", len(late_users_converted))\n",
    "\n",
    "#посчитаем и выведем кол-во тех, кто не дошел до конечного шага\n",
    "print(\"Кол-во несовершивших покупку:\", len(late_users_not_converted))"
   ]
  },
  {
   "cell_type": "markdown",
   "metadata": {},
   "source": [
    "Всего 437 пользователя остается в таблице, а 1488 пользователей мы вынуждены исключить из исследования."
   ]
  },
  {
   "cell_type": "code",
   "execution_count": 44,
   "metadata": {},
   "outputs": [
    {
     "name": "stdout",
     "output_type": "stream",
     "text": [
      "Кол-во пользователей, оставшихся в датасете: 4863\n",
      "Доля оставшихся от первоначального кол-ва участников теста: 76.6\n"
     ]
    },
    {
     "data": {
      "text/plain": [
       "group\n",
       "A    2916\n",
       "B    1947\n",
       "Name: user_id, dtype: int64"
      ]
     },
     "execution_count": 44,
     "metadata": {},
     "output_type": "execute_result"
    }
   ],
   "source": [
    "#оставим в таблице только тех пользователей, которые не входят в список late_users_not_converted\n",
    "full_info = full_info.query('user_id not in @late_users_not_converted')\n",
    "\n",
    "#посчитаем кол-во оставшихся в тесте пользователей.\n",
    "print(\"Кол-во пользователей, оставшихся в датасете:\", full_info['user_id'].nunique())\n",
    "\n",
    "#посчитаем долю оставшихся от первоначального колв-ва участников.\n",
    "print('Доля оставшихся от первоначального кол-ва участников теста:',\n",
    "     round(full_info['user_id'].nunique()/len(recommender_system_test)*100,1))\n",
    "\n",
    "#проверим распределение оставшихся пользователей по группам\n",
    "full_info.groupby('group')['user_id'].nunique()"
   ]
  },
  {
   "cell_type": "markdown",
   "metadata": {},
   "source": [
    "У нас осталось 4863 участника теста, что составляет 76.6% от первоначального кол-ва участников.\n",
    "\n",
    "Из-за отсутсвия заявленных в ТЗ данных нам пришлось урезать данные, при этом кол-во участников теперь не совпадает с ожидаемым кол-вом по техническому заданию.\n",
    "\n",
    "Проверим данные в [онлайн-калькуляторе Optimizely](https://www.optimizely.com/sample-size-calculator/?conversion=20&effect=5&significance=95#/?conversion=50&effect=10&significance=98)."
   ]
  },
  {
   "cell_type": "markdown",
   "metadata": {},
   "source": [
    "### 3.2 Распределение событий на пользователя. <a class=\"anchor\" id=\"3.2\"></a>"
   ]
  },
  {
   "cell_type": "markdown",
   "metadata": {},
   "source": [
    "Теперь посмотрим, как распределяется кол-во событий на пользователя в контрольной и тестовой группах.\n",
    "\n",
    "Для этого сначала посчитаем кол-во событий по каждому пользователю и построим визуализацию с учетом принадлежности к группе."
   ]
  },
  {
   "cell_type": "code",
   "execution_count": 45,
   "metadata": {},
   "outputs": [
    {
     "data": {
      "text/html": [
       "<div>\n",
       "<style scoped>\n",
       "    .dataframe tbody tr th:only-of-type {\n",
       "        vertical-align: middle;\n",
       "    }\n",
       "\n",
       "    .dataframe tbody tr th {\n",
       "        vertical-align: top;\n",
       "    }\n",
       "\n",
       "    .dataframe thead th {\n",
       "        text-align: right;\n",
       "    }\n",
       "</style>\n",
       "<table border=\"1\" class=\"dataframe\">\n",
       "  <thead>\n",
       "    <tr style=\"text-align: right;\">\n",
       "      <th></th>\n",
       "      <th>user_id</th>\n",
       "      <th>group</th>\n",
       "      <th>events_amt</th>\n",
       "    </tr>\n",
       "  </thead>\n",
       "  <tbody>\n",
       "    <tr>\n",
       "      <th>4007</th>\n",
       "      <td>CED71698585A2E46</td>\n",
       "      <td>A</td>\n",
       "      <td>24</td>\n",
       "    </tr>\n",
       "    <tr>\n",
       "      <th>329</th>\n",
       "      <td>1198061F6AF34B7B</td>\n",
       "      <td>B</td>\n",
       "      <td>24</td>\n",
       "    </tr>\n",
       "    <tr>\n",
       "      <th>3583</th>\n",
       "      <td>B8EF6F0325A9979F</td>\n",
       "      <td>A</td>\n",
       "      <td>21</td>\n",
       "    </tr>\n",
       "    <tr>\n",
       "      <th>322</th>\n",
       "      <td>115EBC1CA027854A</td>\n",
       "      <td>B</td>\n",
       "      <td>21</td>\n",
       "    </tr>\n",
       "    <tr>\n",
       "      <th>2612</th>\n",
       "      <td>89545C7F903DBA34</td>\n",
       "      <td>B</td>\n",
       "      <td>21</td>\n",
       "    </tr>\n",
       "    <tr>\n",
       "      <th>...</th>\n",
       "      <td>...</td>\n",
       "      <td>...</td>\n",
       "      <td>...</td>\n",
       "    </tr>\n",
       "    <tr>\n",
       "      <th>1485</th>\n",
       "      <td>4DE79A3E0B7A6BCB</td>\n",
       "      <td>A</td>\n",
       "      <td>0</td>\n",
       "    </tr>\n",
       "    <tr>\n",
       "      <th>1484</th>\n",
       "      <td>4DE67C107ED2A155</td>\n",
       "      <td>B</td>\n",
       "      <td>0</td>\n",
       "    </tr>\n",
       "    <tr>\n",
       "      <th>1482</th>\n",
       "      <td>4DE505AB54D6BEAF</td>\n",
       "      <td>A</td>\n",
       "      <td>0</td>\n",
       "    </tr>\n",
       "    <tr>\n",
       "      <th>3162</th>\n",
       "      <td>A4B65E478C998919</td>\n",
       "      <td>A</td>\n",
       "      <td>0</td>\n",
       "    </tr>\n",
       "    <tr>\n",
       "      <th>0</th>\n",
       "      <td>000ABE35EE11412F</td>\n",
       "      <td>A</td>\n",
       "      <td>0</td>\n",
       "    </tr>\n",
       "  </tbody>\n",
       "</table>\n",
       "<p>4863 rows × 3 columns</p>\n",
       "</div>"
      ],
      "text/plain": [
       "               user_id group  events_amt\n",
       "4007  CED71698585A2E46     A          24\n",
       "329   1198061F6AF34B7B     B          24\n",
       "3583  B8EF6F0325A9979F     A          21\n",
       "322   115EBC1CA027854A     B          21\n",
       "2612  89545C7F903DBA34     B          21\n",
       "...                ...   ...         ...\n",
       "1485  4DE79A3E0B7A6BCB     A           0\n",
       "1484  4DE67C107ED2A155     B           0\n",
       "1482  4DE505AB54D6BEAF     A           0\n",
       "3162  A4B65E478C998919     A           0\n",
       "0     000ABE35EE11412F     A           0\n",
       "\n",
       "[4863 rows x 3 columns]"
      ]
     },
     "execution_count": 45,
     "metadata": {},
     "output_type": "execute_result"
    }
   ],
   "source": [
    "events_per_user= (full_info\n",
    "                  .groupby(['user_id', 'group'], as_index=False)\n",
    "                  .agg({'event_dt':'count'})\n",
    "                  .rename(columns={'event_dt':'events_amt'})\n",
    "                  .sort_values(by='events_amt', ascending=False))\n",
    "events_per_user"
   ]
  },
  {
   "cell_type": "markdown",
   "metadata": {},
   "source": [
    "Согласно полученным данным на пользователя приходтся от 0 до 24 событий за две недели. Посмотрим распределение."
   ]
  },
  {
   "cell_type": "code",
   "execution_count": 46,
   "metadata": {
    "scrolled": false
   },
   "outputs": [
    {
     "data": {
      "image/png": "[encoded data removed]"
     },
     "metadata": {},
     "output_type": "display_data"
    }
   ],
   "source": [
    "#построим гистограмму распределения кол-ва событий на пользователя\n",
    "fig = px.histogram(events_per_user, \n",
    "                   x='events_amt',\n",
    "                   color='group',\n",
    "                   color_discrete_sequence=['#19725c','#ae8e06'],\n",
    "                   barmode='group')\n",
    "\n",
    "fig.update_layout(title='Распределение количества событий на пользователя за 14 дней',\n",
    "                   xaxis_title='кол-во событий на пользователя',\n",
    "                   yaxis_title='кол-во пользователей')\n",
    "\n",
    "fig.show(renderer=\"png\")"
   ]
  },
  {
   "cell_type": "markdown",
   "metadata": {},
   "source": [
    "На гистограмме видно, что бОльшая часть пользователей, вообще, не совершила никаких действий на сайте с момента регистрации.\n",
    "\n",
    "Следующим шагом мы исследуем этот вопрос, а пока построим гистограмму без неактивных пользователей для лучшей наглядности."
   ]
  },
  {
   "cell_type": "code",
   "execution_count": 47,
   "metadata": {
    "scrolled": false
   },
   "outputs": [
    {
     "data": {
      "image/png": "[encoded data removed]"
     },
     "metadata": {},
     "output_type": "display_data"
    }
   ],
   "source": [
    "#построим гистограмму распределения кол-ва событий на активного пользователя\n",
    "fig = px.histogram(events_per_user.query('events_amt != 0'), \n",
    "                   x='events_amt',\n",
    "                   color='group',\n",
    "                   color_discrete_sequence=['#ecd96c','#ae8e06'],\n",
    "                   barmode='group')\n",
    "\n",
    "fig.update_layout(title='Распределение количества событий на активных пользователей за 14 дней',\n",
    "                   xaxis_title='кол-во событий на пользователя',\n",
    "                   yaxis_title='кол-во пользователей')\n",
    "\n",
    "fig.show(renderer=\"png\")"
   ]
  },
  {
   "cell_type": "markdown",
   "metadata": {},
   "source": [
    "Теперь на графике заметно, что в распределении кол-ва событий на пользователя для обеих групп, в целом, нет видимых различий."
   ]
  },
  {
   "cell_type": "markdown",
   "metadata": {},
   "source": [
    "Теперь разберемся с пользователями, которые не совершили на сайте ни одбного действия с момента регистрации.\n",
    "\n",
    "Найдем этих пользователей и посчитаем их долю в каждой группе."
   ]
  },
  {
   "cell_type": "code",
   "execution_count": 48,
   "metadata": {},
   "outputs": [],
   "source": [
    "#заменим значение в столбце на event_name на \"inactive\" для неактивных пользователей\n",
    "full_info['event_name'] = full_info['event_name'].fillna('inactive')\n",
    "\n",
    "#уберем время из столбца с датой события\n",
    "full_info['event_dt'] = full_info['event_dt'].dt.date"
   ]
  },
  {
   "cell_type": "code",
   "execution_count": 49,
   "metadata": {},
   "outputs": [
    {
     "name": "stdout",
     "output_type": "stream",
     "text": [
      "Доля неактивных пользователе в группе А: 35\n",
      "Доля неактивных пользователе в группе А: 64\n"
     ]
    }
   ],
   "source": [
    "print('Доля неактивных пользователе в группе А:',\n",
    "     round(len(full_info.query('event_name == \"inactive\" and group==\"A\"')) / \\\n",
    "           full_info.query('group==\"A\"')['user_id'].nunique()*100))\n",
    "\n",
    "\n",
    "print('Доля неактивных пользователе в группе А:',\n",
    "     round(len(full_info.query('event_name == \"inactive\" and group==\"B\"')) / \\\n",
    "            full_info.query('group==\"B\"')['user_id'].nunique()*100))"
   ]
  },
  {
   "cell_type": "markdown",
   "metadata": {},
   "source": [
    "Доля неактивных пользователей в контрольной группе почти в 2 раза меньше, чем в тестовой группе, распределение неравномерно. \n",
    "\n",
    "Посмотрим, как распределяется количество неактивных пользователей по дню регистрации для каждой группы."
   ]
  },
  {
   "cell_type": "code",
   "execution_count": 50,
   "metadata": {},
   "outputs": [
    {
     "data": {
      "image/png": "[encoded data removed]"
     },
     "metadata": {},
     "output_type": "display_data"
    }
   ],
   "source": [
    "fig = px.histogram(full_info.query('event_name == \"inactive\"'), \n",
    "                   x='reg_date',\n",
    "                   color='group',\n",
    "                   color_discrete_sequence=['#055948','#a9d1b2'],\n",
    "                   barmode='group')\n",
    "\n",
    "fig.update_layout(title='Распределение количества неактивных пользователей на день регистрации',\n",
    "                   xaxis_title='день регистрации',\n",
    "                   yaxis_title='кол-во неактивных пользователей')\n",
    "\n",
    "fig.show(renderer=\"png\")"
   ]
  },
  {
   "cell_type": "markdown",
   "metadata": {},
   "source": [
    "На гистограмме заметна интересная закономерность. \n",
    "\n",
    "Все пользователи, которые не совершили ни одного события на сайте, были зарегистрированы в период:\n",
    "- `с 7-го по 13е декабря включительно` для ***группы А***, \n",
    "- `с 7-го по 17е декабря включительно` для ***группы В***. \n",
    "\n",
    "В такой ситуации крайне маловероятно, что причина - человеческий фактор. Если бы среди пользователей-участников теста были бы те, кто просто не воспользовался услугами сайта, то распределения таких пользователей было бы более хаотичное и охватывало бы весь период времени. Тем не менее, мы наблюдаем, что среди пользоватлей, зарегистрировавшихся 18-21-го декабря, нет ни одного неактивного.\n",
    "\n",
    "В нашем же случае наиболее вероятная причина отсутствия информации о событиях - технические проблемы, которые могли возникнуть либо при выгрузке данных, либо при регистрации пользователей/делении на группы, сбора данных.\n",
    "\n",
    "Учитывая причину отсутствия активности для этих пользователей, мы не можем включить их в исследование. В противном случае они повлияют на коэффициент конверсии в худшую сторону, что скажется на корректности принятого по результатам АБ-теста решения.\n",
    "\n",
    "Исключим их из данных."
   ]
  },
  {
   "cell_type": "code",
   "execution_count": 51,
   "metadata": {},
   "outputs": [],
   "source": [
    "full_info = full_info.query('event_name != \"inactive\"')"
   ]
  },
  {
   "cell_type": "code",
   "execution_count": 52,
   "metadata": {},
   "outputs": [
    {
     "data": {
      "text/html": [
       "<div>\n",
       "<style scoped>\n",
       "    .dataframe tbody tr th:only-of-type {\n",
       "        vertical-align: middle;\n",
       "    }\n",
       "\n",
       "    .dataframe tbody tr th {\n",
       "        vertical-align: top;\n",
       "    }\n",
       "\n",
       "    .dataframe thead th {\n",
       "        text-align: right;\n",
       "    }\n",
       "</style>\n",
       "<table border=\"1\" class=\"dataframe\">\n",
       "  <thead>\n",
       "    <tr style=\"text-align: right;\">\n",
       "      <th></th>\n",
       "      <th>user_id</th>\n",
       "    </tr>\n",
       "    <tr>\n",
       "      <th>group</th>\n",
       "      <th></th>\n",
       "    </tr>\n",
       "  </thead>\n",
       "  <tbody>\n",
       "    <tr>\n",
       "      <th>A</th>\n",
       "      <td>1886</td>\n",
       "    </tr>\n",
       "    <tr>\n",
       "      <th>B</th>\n",
       "      <td>706</td>\n",
       "    </tr>\n",
       "  </tbody>\n",
       "</table>\n",
       "</div>"
      ],
      "text/plain": [
       "       user_id\n",
       "group         \n",
       "A         1886\n",
       "B          706"
      ]
     },
     "execution_count": 52,
     "metadata": {},
     "output_type": "execute_result"
    }
   ],
   "source": [
    "#посчитаем, сколько пользователей у нас осталось\n",
    "full_info.groupby('group').agg({'user_id':'nunique'})"
   ]
  },
  {
   "cell_type": "markdown",
   "metadata": {},
   "source": [
    "В группе В осталось всего 706 пользователей, что является недостаточным кол-вом для корректного проведения теста. Велика вероятность, что полученные результаты не будут максимально достоверными, так как статистическая мощность теста будет знчительно ниже ожидаемой.\n",
    "\n",
    "<span style=\"color:brown\">**!! В связи с тем, что тест уже проведен, наиболее целесообразным представляется запросить у ответственных лиц, при налчии технической возможности, проверить алгоритмы сбора и выгрузки данных, постараться найти проблему и, возможно, достать недостающую информацию о неактивных пользователях. В этом случае можно будет пересмотреть результаты проведенного тестирования, так как при достижении требуемого размера выборки мощность теста возрастает.**</span>"
   ]
  },
  {
   "cell_type": "markdown",
   "metadata": {},
   "source": [
    "### 3.3 Распределение событий по дням. <a class=\"anchor\" id=\"3.3\"></a>"
   ]
  },
  {
   "cell_type": "markdown",
   "metadata": {},
   "source": [
    "Посмотрим, как события распределяются во времени. "
   ]
  },
  {
   "cell_type": "code",
   "execution_count": 53,
   "metadata": {},
   "outputs": [
    {
     "data": {
      "image/png": "[encoded data removed]"
     },
     "metadata": {},
     "output_type": "display_data"
    }
   ],
   "source": [
    "#построим гистограмму распределения событий во времени\n",
    "fig = px.histogram(full_info, \n",
    "                   x=full_info['event_dt'],\n",
    "                   color='group',\n",
    "                   color_discrete_sequence=['#ecd96c','#81ba9c'],\n",
    "                   barmode='overlay')\n",
    "\n",
    "fig.update_layout(title='Распределение количества событий во времени',\n",
    "                   xaxis_title='дата',\n",
    "                   yaxis_title='кол-во событий в день')\n",
    "\n",
    "fig.show(renderer=\"png\")"
   ]
  },
  {
   "cell_type": "markdown",
   "metadata": {},
   "source": [
    "На гистограммае отчетливо видно, что начиная с 22го декабря кол-во событий в группе А начинает стабильно снижаться, для группы В снижение менее равномерное, однако, так же присутствует. Это объясняется тем, что большую часть пользователей, на лайфтам которых приходится этот период, нам пришлось удалить из_за отсутствия данных за 5 дней проведени тестирования.\n",
    "\n",
    "***Для группы А*** так же заметно резкое увеличение кол-ва событий, начиная с 14.12.2020. Как раз именно с 4го декабря для группы А, вероятнее всего, налаживают логику сбора/выгрузки данных. Поэтому \"исчезают\" неактивные пользователи (разбирали на предыдущем шаге), и резко увеличивается кол-во совершаемых за день событий.\n",
    "\n"
   ]
  },
  {
   "cell_type": "markdown",
   "metadata": {},
   "source": [
    "***Для группы В***, вероятнее всего, технические проблемы не были решены до конца. До 17.12 в системы были неполадки с регистрацией активности пользователей, а начиная с 22.12 часть пользователей была исключена из анализа.\n",
    "\n",
    "В связи с чем, распределение кол-ва событий по дням в разных группах нашего тестирования неравномерно.\n",
    "\n",
    "\n",
    "<span style=\"color:brown\">**!! Отсутствие качественной системы сбора данных во время тестирования, так же может привести к некорректным результатам.**</span>"
   ]
  },
  {
   "cell_type": "markdown",
   "metadata": {},
   "source": [
    "Теперь посчитаем среднее кол-во событий на пользователя в день. Особое внимание обратим на даты проведения маркетинговой акции."
   ]
  },
  {
   "cell_type": "code",
   "execution_count": 54,
   "metadata": {
    "scrolled": true
   },
   "outputs": [],
   "source": [
    "#сгруппируем таблицу по дате события, посчитаем кол-во пользователей и событий в этот день\n",
    "avg_events_per_day= (full_info\n",
    "                     .groupby(['event_dt', 'group'], as_index=False)\n",
    "                     .agg({'user_id':'nunique',\n",
    "                           'event_name':'count'})\n",
    "                     .rename(columns={'event_name':'events_amt'})\n",
    "                     .sort_values(by='event_dt'))\n",
    "\n",
    "\n",
    "#добавим солбец со средним кол-вом событий на пользователя в день\n",
    "avg_events_per_day['avg_amount'] = round(avg_events_per_day['events_amt']/avg_events_per_day['user_id'], 1)"
   ]
  },
  {
   "cell_type": "markdown",
   "metadata": {},
   "source": [
    "Построим график с разбивкой по группам."
   ]
  },
  {
   "cell_type": "code",
   "execution_count": 55,
   "metadata": {
    "scrolled": false
   },
   "outputs": [
    {
     "data": {
      "image/png": "[encoded data removed]"
     },
     "metadata": {},
     "output_type": "display_data"
    }
   ],
   "source": [
    "#построим столбчатую диаграмму\n",
    "fig = px.bar(\n",
    "    avg_events_per_day, \n",
    "    x='event_dt', \n",
    "    y='avg_amount' ,\n",
    "    text='avg_amount',\n",
    "    color = 'group',\n",
    "    barmode = 'group',\n",
    "    color_discrete_sequence = ['#ecd96c', '#055948']\n",
    "    )\n",
    "\n",
    "fig.update_layout(\n",
    "                  title='Среднее кол-во событий на пользователя в день',\n",
    "                  xaxis_title='дата',\n",
    "                  yaxis_title='среднее кол-во событий на пользователя' \n",
    "                  )\n",
    "fig.show(renderer=\"png\")"
   ]
  },
  {
   "cell_type": "markdown",
   "metadata": {},
   "source": [
    "- `Для группы В` среднее кол-во событий в день варьируется в пределах 2-2.5, \n",
    "- `Для группы А` этот показатель чуть выше и доходит до 2.8.\n",
    "\n",
    "***Так же можно заметить, что для группы А*** показатель среднего кол-во событий начинает расти с 15 декабря, что может быть связано, как уже было сказано выше, с решением технических сложностей. К 20-му декабря он доходит до 2.6 событий на человека и не падает ниже до окончания изучаемогго периода. При этом, не наблюдается резкий рост кол-ва событий на пользователя после 25.12 (дата начала маркетинговой акции), что говорит об отсутствии заметногот влияния акции на поведение пользователей.\n",
    "\n",
    "***Для группы В*** есть единичные дни, когда среднее кол-во событий на пользователя чуть выше обычного - 2.5 и 2.6. Однако, в целом, для группы В значение этого показателя стабильно 2-2.3 на протяжении всего периода. Влияние маркетинговой акции так же незамечено."
   ]
  },
  {
   "cell_type": "markdown",
   "metadata": {},
   "source": [
    "### 3.4 Вывод. <a class=\"anchor\" id=\"3.4\"></a>"
   ]
  },
  {
   "cell_type": "markdown",
   "metadata": {},
   "source": [
    "В ходе исследовательского анализа было выявлено, что для более, чем 2тыс пользователей отсутствует информация об активности после регистрации на сайте:\n",
    "- `для группы А` эта проблема распространяется на период с 7го по 13е декабря,\n",
    "- `для группы В` - c 7го до 17го декабря. \n",
    "\n",
    "При этом, согласно диаграмме распределения кол-ва событий по дням, ситуация для группы В с 14 декабря стабилизировалась,  о чем говорит резкий скачок активности пользователей, переходящий в бошлее равномерное распределение в течении следующей недели.\n",
    "\n",
    "Для группы В эта проблема, вероятнее всего, не была решено полностью. Активность пользователей в течении всего периода времени более равномерная.\n",
    "\n",
    "Это так же заметно по динамике показатоеля среднего кол-ва событий на пользователя:\n",
    "- `Для группы В` среднее кол-во событий в день варьируется в пределах 2-2.5, есть единичные дни, когда среднее кол-во событий на пользователя чуть выше обычного - 2.5 и 2.6. Однако, в целом, для группы В значение этого показателя стабильно 2-2.3 на протяжении всего периода.\n",
    "- `Для группы А` этот показатель чуть выше и доходит до 2.8. При этом, в начале периода он равен значению 2.1, а с 15 декабря наблюдается рост.\n",
    "\n",
    "Так же можно заметить, что резкий рост кол-ва событий на пользователя после 25.12 (дата начала маркетинговой акции) не наблюдается, что говорит об отсутствии заметногот влияния акции на поведение пользователей.\n",
    "\n",
    "Кроме того, из-за отсутствия данных о событиях, совершенных в перирд с 31.12 по 04.01, нам пришлось исключить из исследования 1488 участника. Это привело к уменьшению размера группы В до кол-ва, несоответствующего минимальному размеру выборки, рассчитанному в калькуляторе А/Б-тестов.\n",
    "\n",
    "\n",
    "<span style=\"color:brown\">**!! Некачественный сбор данных во время тестирования может привести к некорректным результатам его анализа.**</span>\n",
    "\n",
    "<span style=\"color:brown\">**!! В связи с тем, что тест уже проведен, наиболее целесообразным представляется запросить у ответственных лиц, при налчии технической возможности, проверить алгоритмы сбора и выгрузки данных, постараться найти проблему и, возможно, достать недостающую информацию о неактивных пользователях. В этом случае можно будет пересмотреть результаты проведенного тестирования, так как при достижении требуемого размера выборки мощность теста возрастает.**</span>\n"
   ]
  },
  {
   "cell_type": "markdown",
   "metadata": {},
   "source": [
    "## 4. Исследование конверсии по шагам. <a class=\"anchor\" id=\"4\"></a>"
   ]
  },
  {
   "cell_type": "markdown",
   "metadata": {},
   "source": [
    "### 4.1 Построение событийной воронки. <a class=\"anchor\" id=\"4.1\"></a>"
   ]
  },
  {
   "cell_type": "markdown",
   "metadata": {},
   "source": [
    "Теперь приступим к изучению имеющихся данных. Посчитаем кол-во уникальных пользователей для каждого шага и построим воронки для каждой из групп."
   ]
  },
  {
   "cell_type": "code",
   "execution_count": 56,
   "metadata": {},
   "outputs": [
    {
     "data": {
      "text/html": [
       "<div>\n",
       "<style scoped>\n",
       "    .dataframe tbody tr th:only-of-type {\n",
       "        vertical-align: middle;\n",
       "    }\n",
       "\n",
       "    .dataframe tbody tr th {\n",
       "        vertical-align: top;\n",
       "    }\n",
       "\n",
       "    .dataframe thead th {\n",
       "        text-align: right;\n",
       "    }\n",
       "</style>\n",
       "<table border=\"1\" class=\"dataframe\">\n",
       "  <thead>\n",
       "    <tr style=\"text-align: right;\">\n",
       "      <th></th>\n",
       "      <th>event_name</th>\n",
       "      <th>A</th>\n",
       "      <th>B</th>\n",
       "    </tr>\n",
       "  </thead>\n",
       "  <tbody>\n",
       "    <tr>\n",
       "      <th>0</th>\n",
       "      <td>login</td>\n",
       "      <td>1886</td>\n",
       "      <td>705</td>\n",
       "    </tr>\n",
       "    <tr>\n",
       "      <th>2</th>\n",
       "      <td>product_page</td>\n",
       "      <td>1225</td>\n",
       "      <td>407</td>\n",
       "    </tr>\n",
       "    <tr>\n",
       "      <th>3</th>\n",
       "      <td>purchase</td>\n",
       "      <td>833</td>\n",
       "      <td>249</td>\n",
       "    </tr>\n",
       "    <tr>\n",
       "      <th>1</th>\n",
       "      <td>product_cart</td>\n",
       "      <td>569</td>\n",
       "      <td>203</td>\n",
       "    </tr>\n",
       "  </tbody>\n",
       "</table>\n",
       "</div>"
      ],
      "text/plain": [
       "     event_name     A    B\n",
       "0         login  1886  705\n",
       "2  product_page  1225  407\n",
       "3      purchase   833  249\n",
       "1  product_cart   569  203"
      ]
     },
     "execution_count": 56,
     "metadata": {},
     "output_type": "execute_result"
    }
   ],
   "source": [
    "#построим сыодную таблицу по подсчету кол-ва пользователей на каждом шаге по группам\n",
    "events_funnel = (full_info\n",
    "                  .pivot_table(index='event_name', \n",
    "                               columns='group', \n",
    "                               values='user_id', \n",
    "                               aggfunc='nunique')\n",
    "                  .reset_index()\n",
    "                  .sort_values(by='A', ascending=False))\n",
    "\n",
    "events_funnel.columns = ['event_name', 'A', 'B']\n",
    "\n",
    "events_funnel"
   ]
  },
  {
   "cell_type": "markdown",
   "metadata": {},
   "source": [
    "Согласно полученным данным вырисовывается следующая последовательность действий: \n",
    "\n",
    "***login -> product_page -> purchase -> product_cart***\n",
    "\n",
    "Однако, логически, оплата должна быть расположена в самом основании воронки, т.к., по сути, является завершительным действием. В данной ситуауии, вероятно, на сайте присутствует возможность совершить покупку, например, в один клик, минуя корзину. Всвязи с этим, кол-во пользователей, совершивших покупку больше, чем тех, кто попал в корзину.\n",
    "\n",
    "Тем не менее, для построения воронки, мы разместим события в логической последовательности."
   ]
  },
  {
   "cell_type": "code",
   "execution_count": 57,
   "metadata": {},
   "outputs": [
    {
     "data": {
      "text/html": [
       "<div>\n",
       "<style scoped>\n",
       "    .dataframe tbody tr th:only-of-type {\n",
       "        vertical-align: middle;\n",
       "    }\n",
       "\n",
       "    .dataframe tbody tr th {\n",
       "        vertical-align: top;\n",
       "    }\n",
       "\n",
       "    .dataframe thead th {\n",
       "        text-align: right;\n",
       "    }\n",
       "</style>\n",
       "<table border=\"1\" class=\"dataframe\">\n",
       "  <thead>\n",
       "    <tr style=\"text-align: right;\">\n",
       "      <th></th>\n",
       "      <th>event_name</th>\n",
       "      <th>A</th>\n",
       "      <th>B</th>\n",
       "    </tr>\n",
       "  </thead>\n",
       "  <tbody>\n",
       "    <tr>\n",
       "      <th>0</th>\n",
       "      <td>login</td>\n",
       "      <td>1886</td>\n",
       "      <td>705</td>\n",
       "    </tr>\n",
       "    <tr>\n",
       "      <th>2</th>\n",
       "      <td>product_page</td>\n",
       "      <td>1225</td>\n",
       "      <td>407</td>\n",
       "    </tr>\n",
       "    <tr>\n",
       "      <th>1</th>\n",
       "      <td>product_cart</td>\n",
       "      <td>569</td>\n",
       "      <td>203</td>\n",
       "    </tr>\n",
       "    <tr>\n",
       "      <th>3</th>\n",
       "      <td>purchase</td>\n",
       "      <td>833</td>\n",
       "      <td>249</td>\n",
       "    </tr>\n",
       "  </tbody>\n",
       "</table>\n",
       "</div>"
      ],
      "text/plain": [
       "     event_name     A    B\n",
       "0         login  1886  705\n",
       "2  product_page  1225  407\n",
       "1  product_cart   569  203\n",
       "3      purchase   833  249"
      ]
     },
     "execution_count": 57,
     "metadata": {},
     "output_type": "execute_result"
    }
   ],
   "source": [
    "events_funnel = events_funnel.reindex([0,2,1,3])\n",
    "events_funnel"
   ]
  },
  {
   "cell_type": "markdown",
   "metadata": {},
   "source": [
    "Посчитаем конверсию от общего кол-ва пользователей для каждого шага в каждой из групп и построим визуализацию."
   ]
  },
  {
   "cell_type": "code",
   "execution_count": 58,
   "metadata": {
    "scrolled": false
   },
   "outputs": [
    {
     "data": {
      "text/html": [
       "<div>\n",
       "<style scoped>\n",
       "    .dataframe tbody tr th:only-of-type {\n",
       "        vertical-align: middle;\n",
       "    }\n",
       "\n",
       "    .dataframe tbody tr th {\n",
       "        vertical-align: top;\n",
       "    }\n",
       "\n",
       "    .dataframe thead th {\n",
       "        text-align: right;\n",
       "    }\n",
       "</style>\n",
       "<table border=\"1\" class=\"dataframe\">\n",
       "  <thead>\n",
       "    <tr style=\"text-align: right;\">\n",
       "      <th></th>\n",
       "      <th>event_name</th>\n",
       "      <th>A</th>\n",
       "      <th>B</th>\n",
       "      <th>A-convers,%</th>\n",
       "      <th>B-convers,%</th>\n",
       "    </tr>\n",
       "  </thead>\n",
       "  <tbody>\n",
       "    <tr>\n",
       "      <th>0</th>\n",
       "      <td>login</td>\n",
       "      <td>1886</td>\n",
       "      <td>705</td>\n",
       "      <td>100.0</td>\n",
       "      <td>100.0</td>\n",
       "    </tr>\n",
       "    <tr>\n",
       "      <th>2</th>\n",
       "      <td>product_page</td>\n",
       "      <td>1225</td>\n",
       "      <td>407</td>\n",
       "      <td>65.0</td>\n",
       "      <td>58.0</td>\n",
       "    </tr>\n",
       "    <tr>\n",
       "      <th>1</th>\n",
       "      <td>product_cart</td>\n",
       "      <td>569</td>\n",
       "      <td>203</td>\n",
       "      <td>30.0</td>\n",
       "      <td>29.0</td>\n",
       "    </tr>\n",
       "    <tr>\n",
       "      <th>3</th>\n",
       "      <td>purchase</td>\n",
       "      <td>833</td>\n",
       "      <td>249</td>\n",
       "      <td>44.0</td>\n",
       "      <td>35.0</td>\n",
       "    </tr>\n",
       "  </tbody>\n",
       "</table>\n",
       "</div>"
      ],
      "text/plain": [
       "     event_name     A    B  A-convers,%  B-convers,%\n",
       "0         login  1886  705        100.0        100.0\n",
       "2  product_page  1225  407         65.0         58.0\n",
       "1  product_cart   569  203         30.0         29.0\n",
       "3      purchase   833  249         44.0         35.0"
      ]
     },
     "execution_count": 58,
     "metadata": {},
     "output_type": "execute_result"
    }
   ],
   "source": [
    "#посчитаем конверсию в группе А, запишем в столбец\n",
    "events_funnel['A-convers,%'] = round(events_funnel['A'] / (full_info\n",
    "                                                           .query('group==\"A\"')['user_id']\n",
    "                                                           .nunique())*100)\n",
    "\n",
    "#посчитаем конверсию в группе А, запишем в столбец\n",
    "events_funnel['B-convers,%'] = round(events_funnel['B'] / (full_info\n",
    "                                                           .query('group==\"B\"')['user_id']\n",
    "                                                           .nunique())*100)\n",
    "events_funnel"
   ]
  },
  {
   "cell_type": "code",
   "execution_count": 59,
   "metadata": {},
   "outputs": [
    {
     "data": {
      "image/png": "[encoded data removed]"
     },
     "metadata": {},
     "output_type": "display_data"
    }
   ],
   "source": [
    "fig = go.Figure()\n",
    "\n",
    "fig.add_trace(go.Funnel(\n",
    "    name = 'group A',\n",
    "    y = events_funnel['event_name'],\n",
    "    x = events_funnel['A'],\n",
    "    textinfo = \"value+percent initial\"))\n",
    "\n",
    "fig.add_trace(go.Funnel(\n",
    "    name = 'group B',\n",
    "    y = events_funnel['event_name'],\n",
    "    x = events_funnel['B'],\n",
    "    textinfo = \"value+percent initial\"))\n",
    "\n",
    "fig.update_layout(title='Воронка событий по группам',\n",
    "                   yaxis_title='событие')\n",
    "\n",
    "fig.show(renderer=\"png\")"
   ]
  },
  {
   "cell_type": "markdown",
   "metadata": {},
   "source": [
    "Согласно техническому заданию, ожидаемый эффект от изменений в рекомендательной системе заключается в улучшение каждой метрики не менее, чем на 10% в течении первых 14 дней с момента регистрации.\n",
    "\n",
    "На полученной воронке отчетливо видно, что показатели тестовой группы значительно проигрывают показателям контрольной группы. \n",
    "\n",
    "Посчитаем разницу конверсий."
   ]
  },
  {
   "cell_type": "code",
   "execution_count": 60,
   "metadata": {},
   "outputs": [
    {
     "data": {
      "text/html": [
       "<div>\n",
       "<style scoped>\n",
       "    .dataframe tbody tr th:only-of-type {\n",
       "        vertical-align: middle;\n",
       "    }\n",
       "\n",
       "    .dataframe tbody tr th {\n",
       "        vertical-align: top;\n",
       "    }\n",
       "\n",
       "    .dataframe thead th {\n",
       "        text-align: right;\n",
       "    }\n",
       "</style>\n",
       "<table border=\"1\" class=\"dataframe\">\n",
       "  <thead>\n",
       "    <tr style=\"text-align: right;\">\n",
       "      <th></th>\n",
       "      <th>event_name</th>\n",
       "      <th>A</th>\n",
       "      <th>B</th>\n",
       "      <th>A-convers,%</th>\n",
       "      <th>B-convers,%</th>\n",
       "      <th>con_diff,%</th>\n",
       "    </tr>\n",
       "  </thead>\n",
       "  <tbody>\n",
       "    <tr>\n",
       "      <th>0</th>\n",
       "      <td>login</td>\n",
       "      <td>1886</td>\n",
       "      <td>705</td>\n",
       "      <td>100.0</td>\n",
       "      <td>100.0</td>\n",
       "      <td>0.0</td>\n",
       "    </tr>\n",
       "    <tr>\n",
       "      <th>2</th>\n",
       "      <td>product_page</td>\n",
       "      <td>1225</td>\n",
       "      <td>407</td>\n",
       "      <td>65.0</td>\n",
       "      <td>58.0</td>\n",
       "      <td>-10.8</td>\n",
       "    </tr>\n",
       "    <tr>\n",
       "      <th>1</th>\n",
       "      <td>product_cart</td>\n",
       "      <td>569</td>\n",
       "      <td>203</td>\n",
       "      <td>30.0</td>\n",
       "      <td>29.0</td>\n",
       "      <td>-3.3</td>\n",
       "    </tr>\n",
       "    <tr>\n",
       "      <th>3</th>\n",
       "      <td>purchase</td>\n",
       "      <td>833</td>\n",
       "      <td>249</td>\n",
       "      <td>44.0</td>\n",
       "      <td>35.0</td>\n",
       "      <td>-20.5</td>\n",
       "    </tr>\n",
       "  </tbody>\n",
       "</table>\n",
       "</div>"
      ],
      "text/plain": [
       "     event_name     A    B  A-convers,%  B-convers,%  con_diff,%\n",
       "0         login  1886  705        100.0        100.0         0.0\n",
       "2  product_page  1225  407         65.0         58.0       -10.8\n",
       "1  product_cart   569  203         30.0         29.0        -3.3\n",
       "3      purchase   833  249         44.0         35.0       -20.5"
      ]
     },
     "execution_count": 60,
     "metadata": {},
     "output_type": "execute_result"
    }
   ],
   "source": [
    "#посчитаем разницу конверсий на каждом шаге\n",
    "events_funnel['con_diff,%'] = round((events_funnel['B-convers,%']/events_funnel['A-convers,%']-1)*100,1)\n",
    "events_funnel"
   ]
  },
  {
   "cell_type": "markdown",
   "metadata": {},
   "source": [
    "Полученные расчеты показали разницу в конверсиях на шагах:\n",
    "- `\"product_page\"` - 10.8%,\n",
    "- `\"product_cart\"` - 3.3%,\n",
    "- `\"purchase\"` - 20.5%\n",
    "\n",
    "Однако, эта разница не в пользу тестовой группы. Проверим, являются ли изменения статистически значимыми.\n"
   ]
  },
  {
   "cell_type": "markdown",
   "metadata": {},
   "source": [
    "### 4.2 Проверка статистической значимости. <a class=\"anchor\" id=\"\"></a>"
   ]
  },
  {
   "cell_type": "markdown",
   "metadata": {},
   "source": [
    "Для того, что бы получить финальные результаты проверки теста, оценим статистическую значимость различий в конверсиях."
   ]
  },
  {
   "cell_type": "markdown",
   "metadata": {},
   "source": [
    "Таким образом, у нас формируется 3 пары гипотез:\n",
    "1. - Нулевая гипотеза - `\"Доли пользователей, посмотревших страницу товара(product_page), равны\"`. \n",
    "   - Альтернативная гипотеза - `\"Между долями пользователей есть значимая разница\"`.\n",
    "   \n",
    "3. - Нулевая гипотеза - `\"Доли пользователей, попавших в корзину, равны\"`. \n",
    "   - Альтернативная гипотеза - `\"Между долями пользователей есть значимая разница\"`.\n",
    "   \n",
    "4. - Нулевая гипотеза - `\"Доли пользователей, оплативших товар, равны\"`.\n",
    "   - Альтернативная гипотеза - `\"Между долями пользователей есть значимая разница\"`.\n",
    "   \n",
    "Зададим уровень доверения в 95%. Однако, в связи с тем, что на одних данных мы будем проверять 3 гипотезы, применим поправку на множественность гипотез при определении уровня статистической значимости при каждом сравнении. \n",
    "\n",
    "Так как гипотез много, применим метод Шидака. Это сохранит мощность теста, но учтет множественность гипотез."
   ]
  },
  {
   "cell_type": "code",
   "execution_count": 61,
   "metadata": {},
   "outputs": [],
   "source": [
    "#зададим значение alpha\n",
    "alpha = 0.05\n",
    "\n",
    "#считаем альфа с поправкой Шидака на 3 гипотезы\n",
    "shidak_alpha = 1 - (1 - alpha)**(1/3)   "
   ]
  },
  {
   "cell_type": "code",
   "execution_count": 62,
   "metadata": {},
   "outputs": [],
   "source": [
    "#зададим функцию проверки гипотез\n",
    "#передадим ей индекс строки события, номер 1й группы, номер 2й группы, кол-во проверяемых гипотез\n",
    "def check_hypothesis(event):\n",
    "    \n",
    "    #задаем кол-во уникальных пользователей в группах\n",
    "    group_a_total = full_info.query('group==\"A\"')['user_id'].nunique()\n",
    "    group_b_total = full_info.query('group==\"B\"')['user_id'].nunique()\n",
    "    \n",
    "    \n",
    "    successes = np.array([events_funnel.query('event_name==@event')['A'],\n",
    "                         events_funnel.query('event_name==@event')['B']])\n",
    "    trials = np.array([group_a_total, group_b_total])\n",
    "   \n",
    "    \n",
    "#пропорция успехов в первой группе:\n",
    "    p1 = successes[0]/trials[0]\n",
    "\n",
    "#пропорция успехов во второй группе:\n",
    "    p2 = successes[1]/trials[1]\n",
    "\n",
    "#пропорция успехов в комбинированном датасете:\n",
    "    p_combined = (successes[0] + successes[1]) / (trials[0] + trials[1])\n",
    "\n",
    "#разница пропорций в датасетах\n",
    "    difference = p1 - p2 \n",
    "    \n",
    "#считаем статистику в ст.отклонениях стандартного нормального распределения\n",
    "    z_value = difference / mth.sqrt(p_combined * (1 - p_combined) * (1/trials[0] + 1/trials[1]))\n",
    "\n",
    "#задаем стандартное нормальное распределение (среднее 0, ст.отклонение 1)\n",
    "    distr = st.norm(0, 1)\n",
    "    \n",
    "    p_value = (1 - distr.cdf(abs(z_value))) * 2\n",
    "    \n",
    "    \n",
    "#выводим информацию о проверяемых группах и событии    \n",
    "    print(\"Событие:\", event)\n",
    "    print('p-значение: ', p_value)\n",
    "\n",
    "#выводим результат работы функции\n",
    "    if p_value < shidak_alpha:\n",
    "        print('Отвергаем нулевую гипотезу: между долями есть значимая разница')\n",
    "    else:\n",
    "        print(\n",
    "            'Не получилось отвергнуть нулевую гипотезу, нет оснований считать доли разными'\n",
    "        ) \n",
    "    return"
   ]
  },
  {
   "cell_type": "code",
   "execution_count": 63,
   "metadata": {},
   "outputs": [
    {
     "name": "stdout",
     "output_type": "stream",
     "text": [
      "Событие: product_page\n",
      "p-значение:  [0.00060825]\n",
      "Отвергаем нулевую гипотезу: между долями есть значимая разница\n",
      "\n",
      "-------------------------\n",
      "\n",
      "Событие: product_cart\n",
      "p-значение:  [0.48276745]\n",
      "Не получилось отвергнуть нулевую гипотезу, нет оснований считать доли разными\n",
      "\n",
      "-------------------------\n",
      "\n",
      "Событие: purchase\n",
      "p-значение:  [4.31748174e-05]\n",
      "Отвергаем нулевую гипотезу: между долями есть значимая разница\n",
      "\n",
      "-------------------------\n",
      "\n"
     ]
    }
   ],
   "source": [
    "for event in events_funnel['event_name'].unique():\n",
    "    \n",
    "    if event != 'login':\n",
    "        check_hypothesis(event)\n",
    "        print()\n",
    "        print('-------------------------')\n",
    "        print()"
   ]
  },
  {
   "cell_type": "markdown",
   "metadata": {},
   "source": [
    "Проверка подтвердила наличие значимых различий в конверсиях на шаге \"product_page\" и \"purchase\"."
   ]
  },
  {
   "cell_type": "markdown",
   "metadata": {},
   "source": [
    "### 4.3 Вывод. <a class=\"anchor\" id=\"4.3\"></a>"
   ]
  },
  {
   "cell_type": "markdown",
   "metadata": {},
   "source": [
    "В ходе исследования событий на сайте была определена воронка событий:\n",
    "\n",
    "***login -> product_page -> product_cart -> purchase***\n",
    "\n",
    "Подсчет кол-ва уникальных пользователей и конверсии на каждом шаге было выявлено, что на сайте присутствует возможность совершить покупку, минуя корзину.  Например, это может быть опция \"покупка в один клик\". Всвязи с этим, кол-во пользователей, совершивших покупку больше, чем тех, кто попал в корзину.\n",
    "\n",
    "Согласно техническому заданию, ожидаемый эффект от изменений в рекомендательной системе заключается в улучшение каждой метрики не менее, чем на 10% в течении первых 14 дней с момента регистрации.\n",
    "\n",
    "Полученные расчеты показали разницу в конверсиях на шагах для разных групп равную:\n",
    "- `\"product_page\"` - 10.8%,\n",
    "- `\"product_cart\"` - 3.3%,\n",
    "- `\"purchase\"` - 20.5%\n",
    "\n",
    "Проверка стат.гипотез подтвердила подтвердила наличие статистически значимой разницы в конверсиях для шагов \"product_page\" и \"purchase\". Однако, эта разница не в пользу тестовой группы. \n",
    "\n",
    "***Таким образом, гипотеза о том, что новая рекомендательная система позволит улучшить метрики на 10% не подтвердилась. Показатели, наоборот, упали.***\n",
    "\n",
    "<span style=\"color:brown\">**!! Однако, стоит иметь ввиду, что результаты анализа проведенного тестирования, с большой вероятностью, некорректны ввиду недостаточного размера группы В и отсутствия части данных об активности пользователей.**</span>"
   ]
  },
  {
   "cell_type": "markdown",
   "metadata": {},
   "source": [
    "## 5. Итоги исследования. <a class=\"anchor\" id=\"5\"></a>"
   ]
  },
  {
   "cell_type": "markdown",
   "metadata": {},
   "source": [
    "В ходе исследования мы провели:\n",
    "- предобработку данных,\n",
    "- проверку данных на соответствие техническому заданию,\n",
    "- исследовательский анализ данных, \n",
    "- исследование событийной воронки,\n",
    "- проверку статистической гипотезы о равенстве конверсий.\n",
    "\n",
    "Во время проверки данных на соответствие техническомй заданию были выявлены следующие проблемы:\n",
    "\n",
    "1. Распределение пользователей проведено неравномерно, группа А почти на 1000 человек больше группы В. При этом, более 1.5тыс пользователей одновременно принимают участие в двух А/Б-тестах.\n",
    "\n",
    "\n",
    "2. Среди участников теста присутствовали 350 пользователей не из стран Европы, что не соответсвует ТЗ. Эти пользователи были исключены ищз исследования.\n",
    "\n",
    "\n",
    "3. Для анализа результатов предоставлены неполные данные - отсутствует информация об активности пользователей за период с 31.12 по 04.01.\n",
    "\n",
    "В ходе исследовательского анализа было выявлено, что для более, чем 2тыс пользователей отсутствует информация об активности после регистрации на сайте:\n",
    "- `для группы А` эта проблема распространяется на период с 7го по 13е декабря,\n",
    "- `для группы В` - c 7го до 17го декабря. \n",
    "\n",
    "При этом, согласно диаграмме распределения кол-ва событий по дням, ситуация для группы В с 14 декабря стабилизировалась,  о чем говорит резкий скачок активности пользователей, переходящий в бошлее равноерное распределение в течении следующей недели.\n",
    "\n",
    "Для группы В эта проблема, вероятнее всего, не была решено полностью. Активность пользователей в тчениип всего периода времени более равномерная.\n",
    "\n",
    "Кроме того, из-за отсутствия данных о событиях, совершенных в перирд с 31.12 по 04.01, нам пришлось исключить из исследования 1488 участника. Это привело к уменьшению размера группы В до кол-ва, несоответствующего минимальному размеру выборки, рассчитанному в калькуляторе А/Б-тестолв.\n",
    "\n",
    "В ходе исследования событий на сайте была определена воронка событий:\n",
    "\n",
    "***login -> product_page -> product_cart -> purchase***\n",
    "\n",
    "Подсчет кол-ва уникальных пользователей и конверсии на каждом шаге было выявлено, что на сайте присутствует возможность совершить покупку, минуя корзину.  Например, это может быть опция \"покупка в один клик\". Всвязи с этим, кол-во пользователей, совершивших покупку больше, чем тех, кто попал в корзину.\n",
    "\n",
    "Согласно техническому заданию, ожидаемый эффект от изменений в рекомендательной системе заключается в улучшение каждой метрики не менее, чем на 10% в течении первых 14 дней с момента регистрации.\n",
    "\n",
    "Полученные расчеты показали разницу в конверсиях на шагах для разных групп равную:\n",
    "- `\"product_page\"` - 10.8%,\n",
    "- `\"product_cart\"` - 3.3%,\n",
    "- `\"purchase\"` - 20.5%\n",
    "\n",
    "Проверка стат.гипотез подтвердила подтвердила наличие статистически значимой разницы в конверсиях для шагов \"product_page\" и \"purchase\". Однако, эта разница не в пользу тестовой группы. \n",
    "\n",
    "***Таким образом, гипотеза о том, что новая рекомендательная система позволит улучшить метрики на 10% не подтвердилась. Показатели, наоборот, упали.***\n",
    "\n",
    "<span style=\"color:brown\">**!! Однако, стоит иметь ввиду, что результаты анализа проведенного тестирования, с большой вероятностью, некорректны ввиду недостаточного размера группы В и отсутствия части данных об активности пользователей.**</span>\n",
    "\n",
    "<span style=\"color:brown\">**!! В связи с тем, что тест уже проведен, наиболее целесообразным представляется запросить у ответственных лиц, при налчии технической возможности, проверить алгоритмы сбора и выгрузки данных, постараться найти проблему и, возможно, достать недостающую информацию о неактивных пользователях. В этом случае можно будет пересмотреть результаты проведенного тестирования, так как при достижении требуемого размера выборки мощность теста возрастает.**</span>\n"
   ]
  },
  {
   "cell_type": "markdown",
   "metadata": {},
   "source": [
    "[К оглавлению](#start)"
   ]
  }
 ],
 "metadata": {
  "ExecuteTimeLog": [
   {
    "duration": 60,
    "start_time": "2023-03-14T10:27:53.299Z"
   },
   {
    "duration": 491,
    "start_time": "2023-03-14T10:28:42.049Z"
   },
   {
    "duration": 501,
    "start_time": "2023-03-14T10:34:37.048Z"
   },
   {
    "duration": 1228,
    "start_time": "2023-03-14T10:34:37.552Z"
   },
   {
    "duration": 20,
    "start_time": "2023-03-14T10:34:43.537Z"
   },
   {
    "duration": 12,
    "start_time": "2023-03-14T10:42:25.694Z"
   },
   {
    "duration": 14,
    "start_time": "2023-03-14T10:43:26.223Z"
   },
   {
    "duration": 11,
    "start_time": "2023-03-14T10:43:44.520Z"
   },
   {
    "duration": 158,
    "start_time": "2023-03-14T10:47:12.433Z"
   },
   {
    "duration": 392,
    "start_time": "2023-03-14T10:47:19.255Z"
   },
   {
    "duration": 364,
    "start_time": "2023-03-14T10:48:01.848Z"
   },
   {
    "duration": 393,
    "start_time": "2023-03-14T10:48:35.244Z"
   },
   {
    "duration": 417,
    "start_time": "2023-03-14T10:48:54.183Z"
   },
   {
    "duration": 51,
    "start_time": "2023-03-14T10:58:37.907Z"
   },
   {
    "duration": 8,
    "start_time": "2023-03-14T10:58:43.702Z"
   },
   {
    "duration": 5,
    "start_time": "2023-03-14T10:58:47.903Z"
   },
   {
    "duration": 26,
    "start_time": "2023-03-14T10:58:49.935Z"
   },
   {
    "duration": 5,
    "start_time": "2023-03-14T11:06:33.632Z"
   },
   {
    "duration": 13,
    "start_time": "2023-03-14T11:06:43.369Z"
   },
   {
    "duration": 7,
    "start_time": "2023-03-14T11:07:09.840Z"
   },
   {
    "duration": 81,
    "start_time": "2023-03-14T11:07:57.889Z"
   },
   {
    "duration": 4,
    "start_time": "2023-03-14T11:14:51.811Z"
   },
   {
    "duration": 14,
    "start_time": "2023-03-14T11:16:26.955Z"
   },
   {
    "duration": 16,
    "start_time": "2023-03-14T11:17:06.671Z"
   },
   {
    "duration": 10,
    "start_time": "2023-03-14T11:17:43.387Z"
   },
   {
    "duration": 11,
    "start_time": "2023-03-14T11:18:55.767Z"
   },
   {
    "duration": 411,
    "start_time": "2023-03-14T11:23:48.784Z"
   },
   {
    "duration": 13,
    "start_time": "2023-03-14T11:33:17.436Z"
   },
   {
    "duration": 53,
    "start_time": "2023-03-14T11:34:34.997Z"
   },
   {
    "duration": 18,
    "start_time": "2023-03-14T11:35:31.175Z"
   },
   {
    "duration": 14,
    "start_time": "2023-03-14T11:35:49.327Z"
   },
   {
    "duration": 829,
    "start_time": "2023-03-14T11:40:00.343Z"
   },
   {
    "duration": 30,
    "start_time": "2023-03-14T11:40:28.269Z"
   },
   {
    "duration": 110,
    "start_time": "2023-03-14T11:40:49.633Z"
   },
   {
    "duration": 17,
    "start_time": "2023-03-14T11:41:18.950Z"
   },
   {
    "duration": 39,
    "start_time": "2023-03-14T11:41:32.761Z"
   },
   {
    "duration": 11,
    "start_time": "2023-03-14T11:45:02.051Z"
   },
   {
    "duration": 21,
    "start_time": "2023-03-14T11:47:25.530Z"
   },
   {
    "duration": 48,
    "start_time": "2023-03-14T11:47:47.730Z"
   },
   {
    "duration": 34,
    "start_time": "2023-03-14T11:48:35.237Z"
   },
   {
    "duration": 8,
    "start_time": "2023-03-14T11:53:11.313Z"
   },
   {
    "duration": 13,
    "start_time": "2023-03-14T12:05:49.032Z"
   },
   {
    "duration": 8,
    "start_time": "2023-03-14T12:05:57.527Z"
   },
   {
    "duration": 17,
    "start_time": "2023-03-14T12:06:35.092Z"
   },
   {
    "duration": 51,
    "start_time": "2023-03-15T07:51:04.605Z"
   },
   {
    "duration": 18,
    "start_time": "2023-03-15T07:53:25.226Z"
   },
   {
    "duration": 18,
    "start_time": "2023-03-15T08:11:02.248Z"
   },
   {
    "duration": 19,
    "start_time": "2023-03-15T08:11:38.909Z"
   },
   {
    "duration": 47,
    "start_time": "2023-03-15T08:11:55.259Z"
   },
   {
    "duration": 11,
    "start_time": "2023-03-15T08:12:01.419Z"
   },
   {
    "duration": 14,
    "start_time": "2023-03-15T08:12:15.676Z"
   },
   {
    "duration": 47,
    "start_time": "2023-03-15T08:13:14.535Z"
   },
   {
    "duration": 22,
    "start_time": "2023-03-15T08:13:18.068Z"
   },
   {
    "duration": 18,
    "start_time": "2023-03-15T08:13:50.877Z"
   },
   {
    "duration": 21,
    "start_time": "2023-03-15T08:14:16.408Z"
   },
   {
    "duration": 16,
    "start_time": "2023-03-15T08:16:23.736Z"
   },
   {
    "duration": 14,
    "start_time": "2023-03-15T08:17:00.882Z"
   },
   {
    "duration": 51,
    "start_time": "2023-03-15T08:17:55.776Z"
   },
   {
    "duration": 10,
    "start_time": "2023-03-15T08:17:59.321Z"
   },
   {
    "duration": 8,
    "start_time": "2023-03-15T08:18:10.738Z"
   },
   {
    "duration": 9,
    "start_time": "2023-03-15T08:20:02.905Z"
   },
   {
    "duration": 10,
    "start_time": "2023-03-15T08:20:23.270Z"
   },
   {
    "duration": 9,
    "start_time": "2023-03-15T08:23:16.280Z"
   },
   {
    "duration": 8,
    "start_time": "2023-03-15T08:23:32.451Z"
   },
   {
    "duration": 50,
    "start_time": "2023-03-15T08:24:08.954Z"
   },
   {
    "duration": 16,
    "start_time": "2023-03-15T08:24:13.409Z"
   },
   {
    "duration": 23,
    "start_time": "2023-03-15T08:39:12.624Z"
   },
   {
    "duration": 30,
    "start_time": "2023-03-15T08:39:18.458Z"
   },
   {
    "duration": 24,
    "start_time": "2023-03-15T08:39:48.035Z"
   },
   {
    "duration": 29,
    "start_time": "2023-03-15T08:40:22.165Z"
   },
   {
    "duration": 10,
    "start_time": "2023-03-15T08:42:10.320Z"
   },
   {
    "duration": 11,
    "start_time": "2023-03-15T09:03:00.814Z"
   },
   {
    "duration": 743,
    "start_time": "2023-03-15T09:03:34.836Z"
   },
   {
    "duration": 25,
    "start_time": "2023-03-15T09:04:04.825Z"
   },
   {
    "duration": 51,
    "start_time": "2023-03-15T09:05:39.356Z"
   },
   {
    "duration": 782,
    "start_time": "2023-03-15T09:06:08.523Z"
   },
   {
    "duration": 909,
    "start_time": "2023-03-15T09:06:48.526Z"
   },
   {
    "duration": 43,
    "start_time": "2023-03-15T09:07:18.767Z"
   },
   {
    "duration": 25,
    "start_time": "2023-03-15T09:07:24.457Z"
   },
   {
    "duration": 17,
    "start_time": "2023-03-15T09:07:30.343Z"
   },
   {
    "duration": 16,
    "start_time": "2023-03-15T09:11:43.834Z"
   },
   {
    "duration": 991,
    "start_time": "2023-03-15T09:27:23.974Z"
   },
   {
    "duration": 1678,
    "start_time": "2023-03-15T09:27:24.967Z"
   },
   {
    "duration": 5,
    "start_time": "2023-03-15T09:27:26.647Z"
   },
   {
    "duration": 37,
    "start_time": "2023-03-15T09:27:26.654Z"
   },
   {
    "duration": 7,
    "start_time": "2023-03-15T09:27:26.694Z"
   },
   {
    "duration": 58,
    "start_time": "2023-03-15T09:27:26.713Z"
   },
   {
    "duration": 50,
    "start_time": "2023-03-15T09:27:26.774Z"
   },
   {
    "duration": 383,
    "start_time": "2023-03-15T09:27:26.826Z"
   },
   {
    "duration": 144,
    "start_time": "2023-03-15T09:27:27.211Z"
   },
   {
    "duration": 13,
    "start_time": "2023-03-15T09:27:27.356Z"
   },
   {
    "duration": 46,
    "start_time": "2023-03-15T09:27:27.370Z"
   },
   {
    "duration": 24,
    "start_time": "2023-03-15T09:27:27.418Z"
   },
   {
    "duration": 5,
    "start_time": "2023-03-15T09:27:27.444Z"
   },
   {
    "duration": 16,
    "start_time": "2023-03-15T09:27:27.452Z"
   },
   {
    "duration": 62,
    "start_time": "2023-03-15T09:27:27.470Z"
   },
   {
    "duration": 17,
    "start_time": "2023-03-15T09:27:27.534Z"
   },
   {
    "duration": 89,
    "start_time": "2023-03-15T09:27:27.553Z"
   },
   {
    "duration": 945,
    "start_time": "2023-03-15T09:27:40.673Z"
   },
   {
    "duration": 1022,
    "start_time": "2023-03-15T09:27:41.621Z"
   },
   {
    "duration": 4,
    "start_time": "2023-03-15T09:27:42.645Z"
   },
   {
    "duration": 40,
    "start_time": "2023-03-15T09:27:42.651Z"
   },
   {
    "duration": 5,
    "start_time": "2023-03-15T09:27:42.693Z"
   },
   {
    "duration": 59,
    "start_time": "2023-03-15T09:27:42.700Z"
   },
   {
    "duration": 22,
    "start_time": "2023-03-15T09:27:42.762Z"
   },
   {
    "duration": 380,
    "start_time": "2023-03-15T09:27:42.786Z"
   },
   {
    "duration": 144,
    "start_time": "2023-03-15T09:27:43.168Z"
   },
   {
    "duration": 12,
    "start_time": "2023-03-15T09:27:43.315Z"
   },
   {
    "duration": 19,
    "start_time": "2023-03-15T09:27:43.329Z"
   },
   {
    "duration": 23,
    "start_time": "2023-03-15T09:27:43.349Z"
   },
   {
    "duration": 5,
    "start_time": "2023-03-15T09:27:43.374Z"
   },
   {
    "duration": 14,
    "start_time": "2023-03-15T09:27:43.412Z"
   },
   {
    "duration": 24,
    "start_time": "2023-03-15T09:27:43.428Z"
   },
   {
    "duration": 14,
    "start_time": "2023-03-15T09:27:43.454Z"
   },
   {
    "duration": 132,
    "start_time": "2023-03-15T09:27:43.469Z"
   },
   {
    "duration": 10,
    "start_time": "2023-03-15T09:27:57.623Z"
   },
   {
    "duration": 10,
    "start_time": "2023-03-15T09:28:12.972Z"
   },
   {
    "duration": 5,
    "start_time": "2023-03-15T09:28:24.147Z"
   },
   {
    "duration": 3,
    "start_time": "2023-03-15T09:28:42.863Z"
   },
   {
    "duration": 9,
    "start_time": "2023-03-15T09:28:51.944Z"
   },
   {
    "duration": 9,
    "start_time": "2023-03-15T09:28:55.807Z"
   },
   {
    "duration": 16,
    "start_time": "2023-03-15T09:29:28.419Z"
   },
   {
    "duration": 7,
    "start_time": "2023-03-15T09:29:39.723Z"
   },
   {
    "duration": 15,
    "start_time": "2023-03-15T09:30:53.007Z"
   },
   {
    "duration": 13,
    "start_time": "2023-03-15T09:32:11.843Z"
   },
   {
    "duration": 10,
    "start_time": "2023-03-15T09:32:23.135Z"
   },
   {
    "duration": 17,
    "start_time": "2023-03-15T09:32:43.565Z"
   },
   {
    "duration": 16,
    "start_time": "2023-03-15T09:33:16.623Z"
   },
   {
    "duration": 14,
    "start_time": "2023-03-15T09:38:10.720Z"
   },
   {
    "duration": 10,
    "start_time": "2023-03-15T09:39:54.320Z"
   },
   {
    "duration": 8,
    "start_time": "2023-03-15T09:40:25.217Z"
   },
   {
    "duration": 7,
    "start_time": "2023-03-15T09:40:41.316Z"
   },
   {
    "duration": 7,
    "start_time": "2023-03-15T09:40:47.936Z"
   },
   {
    "duration": 6,
    "start_time": "2023-03-15T09:42:06.121Z"
   },
   {
    "duration": 13,
    "start_time": "2023-03-15T09:42:12.203Z"
   },
   {
    "duration": 50,
    "start_time": "2023-03-15T09:42:24.759Z"
   },
   {
    "duration": 12,
    "start_time": "2023-03-15T09:42:27.654Z"
   },
   {
    "duration": 17,
    "start_time": "2023-03-15T09:46:12.721Z"
   },
   {
    "duration": 6,
    "start_time": "2023-03-15T09:47:37.054Z"
   },
   {
    "duration": 12,
    "start_time": "2023-03-15T09:47:44.034Z"
   },
   {
    "duration": 735,
    "start_time": "2023-03-15T09:48:31.875Z"
   },
   {
    "duration": 11,
    "start_time": "2023-03-15T09:49:42.030Z"
   },
   {
    "duration": 15,
    "start_time": "2023-03-15T09:49:53.113Z"
   },
   {
    "duration": 13,
    "start_time": "2023-03-15T09:50:28.225Z"
   },
   {
    "duration": 1094,
    "start_time": "2023-03-15T09:50:34.285Z"
   },
   {
    "duration": 1183,
    "start_time": "2023-03-15T09:50:35.381Z"
   },
   {
    "duration": 3,
    "start_time": "2023-03-15T09:50:36.566Z"
   },
   {
    "duration": 25,
    "start_time": "2023-03-15T09:50:36.572Z"
   },
   {
    "duration": 5,
    "start_time": "2023-03-15T09:50:36.599Z"
   },
   {
    "duration": 61,
    "start_time": "2023-03-15T09:50:36.606Z"
   },
   {
    "duration": 20,
    "start_time": "2023-03-15T09:50:36.669Z"
   },
   {
    "duration": 373,
    "start_time": "2023-03-15T09:50:36.691Z"
   },
   {
    "duration": 134,
    "start_time": "2023-03-15T09:50:37.065Z"
   },
   {
    "duration": 13,
    "start_time": "2023-03-15T09:50:37.211Z"
   },
   {
    "duration": 26,
    "start_time": "2023-03-15T09:50:37.226Z"
   },
   {
    "duration": 23,
    "start_time": "2023-03-15T09:50:37.254Z"
   },
   {
    "duration": 33,
    "start_time": "2023-03-15T09:50:37.279Z"
   },
   {
    "duration": 15,
    "start_time": "2023-03-15T09:50:37.314Z"
   },
   {
    "duration": 26,
    "start_time": "2023-03-15T09:50:37.331Z"
   },
   {
    "duration": 15,
    "start_time": "2023-03-15T09:50:37.359Z"
   },
   {
    "duration": 10,
    "start_time": "2023-03-15T09:50:37.413Z"
   },
   {
    "duration": 10,
    "start_time": "2023-03-15T09:50:37.425Z"
   },
   {
    "duration": 824,
    "start_time": "2023-03-15T09:50:50.928Z"
   },
   {
    "duration": 962,
    "start_time": "2023-03-15T09:51:20.618Z"
   },
   {
    "duration": 1377,
    "start_time": "2023-03-15T09:51:21.582Z"
   },
   {
    "duration": 4,
    "start_time": "2023-03-15T09:51:22.960Z"
   },
   {
    "duration": 34,
    "start_time": "2023-03-15T09:51:22.965Z"
   },
   {
    "duration": 5,
    "start_time": "2023-03-15T09:51:23.001Z"
   },
   {
    "duration": 56,
    "start_time": "2023-03-15T09:51:23.008Z"
   },
   {
    "duration": 22,
    "start_time": "2023-03-15T09:51:23.066Z"
   },
   {
    "duration": 367,
    "start_time": "2023-03-15T09:51:23.090Z"
   },
   {
    "duration": 132,
    "start_time": "2023-03-15T09:51:23.458Z"
   },
   {
    "duration": 25,
    "start_time": "2023-03-15T09:51:23.592Z"
   },
   {
    "duration": 22,
    "start_time": "2023-03-15T09:51:23.619Z"
   },
   {
    "duration": 24,
    "start_time": "2023-03-15T09:51:23.643Z"
   },
   {
    "duration": 6,
    "start_time": "2023-03-15T09:51:23.669Z"
   },
   {
    "duration": 15,
    "start_time": "2023-03-15T09:51:23.712Z"
   },
   {
    "duration": 25,
    "start_time": "2023-03-15T09:51:23.729Z"
   },
   {
    "duration": 14,
    "start_time": "2023-03-15T09:51:23.756Z"
   },
   {
    "duration": 40,
    "start_time": "2023-03-15T09:51:23.772Z"
   },
   {
    "duration": 15,
    "start_time": "2023-03-15T09:51:23.814Z"
   },
   {
    "duration": 895,
    "start_time": "2023-03-15T09:51:48.550Z"
   },
   {
    "duration": 1048,
    "start_time": "2023-03-15T09:52:03.981Z"
   },
   {
    "duration": 999,
    "start_time": "2023-03-15T09:52:05.031Z"
   },
   {
    "duration": 4,
    "start_time": "2023-03-15T09:52:06.031Z"
   },
   {
    "duration": 46,
    "start_time": "2023-03-15T09:52:06.038Z"
   },
   {
    "duration": 5,
    "start_time": "2023-03-15T09:52:06.086Z"
   },
   {
    "duration": 60,
    "start_time": "2023-03-15T09:52:06.093Z"
   },
   {
    "duration": 21,
    "start_time": "2023-03-15T09:52:06.155Z"
   },
   {
    "duration": 374,
    "start_time": "2023-03-15T09:52:06.178Z"
   },
   {
    "duration": 137,
    "start_time": "2023-03-15T09:52:06.554Z"
   },
   {
    "duration": 24,
    "start_time": "2023-03-15T09:52:06.694Z"
   },
   {
    "duration": 25,
    "start_time": "2023-03-15T09:52:06.720Z"
   },
   {
    "duration": 24,
    "start_time": "2023-03-15T09:52:06.747Z"
   },
   {
    "duration": 6,
    "start_time": "2023-03-15T09:52:06.773Z"
   },
   {
    "duration": 16,
    "start_time": "2023-03-15T09:52:06.813Z"
   },
   {
    "duration": 27,
    "start_time": "2023-03-15T09:52:06.831Z"
   },
   {
    "duration": 16,
    "start_time": "2023-03-15T09:52:06.860Z"
   },
   {
    "duration": 44,
    "start_time": "2023-03-15T09:52:06.878Z"
   },
   {
    "duration": 15,
    "start_time": "2023-03-15T09:52:06.924Z"
   },
   {
    "duration": 11,
    "start_time": "2023-03-15T09:53:32.217Z"
   },
   {
    "duration": 13,
    "start_time": "2023-03-15T09:53:35.317Z"
   },
   {
    "duration": 16,
    "start_time": "2023-03-15T09:53:45.186Z"
   },
   {
    "duration": 11,
    "start_time": "2023-03-15T10:03:21.526Z"
   },
   {
    "duration": 438,
    "start_time": "2023-03-15T10:07:07.814Z"
   },
   {
    "duration": 12,
    "start_time": "2023-03-15T10:08:10.422Z"
   },
   {
    "duration": 75,
    "start_time": "2023-03-15T10:11:46.074Z"
   },
   {
    "duration": 24,
    "start_time": "2023-03-15T10:12:09.433Z"
   },
   {
    "duration": 1079,
    "start_time": "2023-03-15T10:12:33.082Z"
   },
   {
    "duration": 1318,
    "start_time": "2023-03-15T10:12:34.164Z"
   },
   {
    "duration": 4,
    "start_time": "2023-03-15T10:12:35.483Z"
   },
   {
    "duration": 41,
    "start_time": "2023-03-15T10:12:35.489Z"
   },
   {
    "duration": 6,
    "start_time": "2023-03-15T10:12:35.532Z"
   },
   {
    "duration": 78,
    "start_time": "2023-03-15T10:12:35.539Z"
   },
   {
    "duration": 20,
    "start_time": "2023-03-15T10:12:35.619Z"
   },
   {
    "duration": 367,
    "start_time": "2023-03-15T10:12:35.640Z"
   },
   {
    "duration": 144,
    "start_time": "2023-03-15T10:12:36.011Z"
   },
   {
    "duration": 12,
    "start_time": "2023-03-15T10:12:36.157Z"
   },
   {
    "duration": 19,
    "start_time": "2023-03-15T10:12:36.171Z"
   },
   {
    "duration": 39,
    "start_time": "2023-03-15T10:12:36.192Z"
   },
   {
    "duration": 11,
    "start_time": "2023-03-15T10:12:36.233Z"
   },
   {
    "duration": 40,
    "start_time": "2023-03-15T10:12:36.247Z"
   },
   {
    "duration": 56,
    "start_time": "2023-03-15T10:12:36.289Z"
   },
   {
    "duration": 23,
    "start_time": "2023-03-15T10:12:36.347Z"
   },
   {
    "duration": 14,
    "start_time": "2023-03-15T10:12:36.372Z"
   },
   {
    "duration": 158,
    "start_time": "2023-03-15T10:12:36.388Z"
   },
   {
    "duration": 1868,
    "start_time": "2023-03-15T10:13:05.051Z"
   },
   {
    "duration": 24,
    "start_time": "2023-03-15T10:13:20.530Z"
   },
   {
    "duration": 19,
    "start_time": "2023-03-15T10:13:31.281Z"
   },
   {
    "duration": 18,
    "start_time": "2023-03-15T10:14:07.641Z"
   },
   {
    "duration": 16,
    "start_time": "2023-03-15T10:14:57.726Z"
   },
   {
    "duration": 22,
    "start_time": "2023-03-15T10:16:50.542Z"
   },
   {
    "duration": 29,
    "start_time": "2023-03-15T10:18:14.664Z"
   },
   {
    "duration": 22,
    "start_time": "2023-03-15T10:18:31.514Z"
   },
   {
    "duration": 17,
    "start_time": "2023-03-15T10:18:49.934Z"
   },
   {
    "duration": 70,
    "start_time": "2023-03-15T10:19:29.572Z"
   },
   {
    "duration": 22,
    "start_time": "2023-03-15T10:19:36.429Z"
   },
   {
    "duration": 49,
    "start_time": "2023-03-15T10:19:50.475Z"
   },
   {
    "duration": 16,
    "start_time": "2023-03-15T10:19:53.888Z"
   },
   {
    "duration": 24,
    "start_time": "2023-03-15T10:20:04.389Z"
   },
   {
    "duration": 13,
    "start_time": "2023-03-15T10:42:41.155Z"
   },
   {
    "duration": 15,
    "start_time": "2023-03-15T10:47:25.279Z"
   },
   {
    "duration": 18,
    "start_time": "2023-03-15T10:50:40.805Z"
   },
   {
    "duration": 20,
    "start_time": "2023-03-15T10:50:53.651Z"
   },
   {
    "duration": 29,
    "start_time": "2023-03-15T10:51:00.037Z"
   },
   {
    "duration": 9,
    "start_time": "2023-03-15T10:57:40.234Z"
   },
   {
    "duration": 6,
    "start_time": "2023-03-15T10:57:44.410Z"
   },
   {
    "duration": 15,
    "start_time": "2023-03-15T10:57:45.005Z"
   },
   {
    "duration": 17,
    "start_time": "2023-03-15T11:00:24.374Z"
   },
   {
    "duration": 25,
    "start_time": "2023-03-15T11:03:00.120Z"
   },
   {
    "duration": 5,
    "start_time": "2023-03-15T11:05:06.774Z"
   },
   {
    "duration": 8,
    "start_time": "2023-03-15T11:06:24.173Z"
   },
   {
    "duration": 11,
    "start_time": "2023-03-15T11:14:30.277Z"
   },
   {
    "duration": 30,
    "start_time": "2023-03-15T11:14:43.318Z"
   },
   {
    "duration": 21,
    "start_time": "2023-03-15T11:14:51.254Z"
   },
   {
    "duration": 7,
    "start_time": "2023-03-15T11:14:58.075Z"
   },
   {
    "duration": 6,
    "start_time": "2023-03-15T11:16:51.927Z"
   },
   {
    "duration": 4,
    "start_time": "2023-03-15T11:24:47.521Z"
   },
   {
    "duration": 7,
    "start_time": "2023-03-15T11:24:58.257Z"
   },
   {
    "duration": 10,
    "start_time": "2023-03-15T11:28:07.674Z"
   },
   {
    "duration": 8,
    "start_time": "2023-03-15T11:28:29.649Z"
   },
   {
    "duration": 11,
    "start_time": "2023-03-15T11:28:42.542Z"
   },
   {
    "duration": 14,
    "start_time": "2023-03-15T11:29:30.721Z"
   },
   {
    "duration": 10,
    "start_time": "2023-03-15T11:32:05.221Z"
   },
   {
    "duration": 6,
    "start_time": "2023-03-15T14:02:51.509Z"
   },
   {
    "duration": 7,
    "start_time": "2023-03-15T14:06:23.021Z"
   },
   {
    "duration": 4,
    "start_time": "2023-03-15T14:06:31.717Z"
   },
   {
    "duration": 1039,
    "start_time": "2023-03-15T14:06:36.747Z"
   },
   {
    "duration": 1268,
    "start_time": "2023-03-15T14:06:37.789Z"
   },
   {
    "duration": 4,
    "start_time": "2023-03-15T14:06:39.059Z"
   },
   {
    "duration": 32,
    "start_time": "2023-03-15T14:06:39.065Z"
   },
   {
    "duration": 5,
    "start_time": "2023-03-15T14:06:39.098Z"
   },
   {
    "duration": 52,
    "start_time": "2023-03-15T14:06:39.105Z"
   },
   {
    "duration": 22,
    "start_time": "2023-03-15T14:06:39.159Z"
   },
   {
    "duration": 412,
    "start_time": "2023-03-15T14:06:39.183Z"
   },
   {
    "duration": 140,
    "start_time": "2023-03-15T14:06:39.598Z"
   },
   {
    "duration": 13,
    "start_time": "2023-03-15T14:06:39.742Z"
   },
   {
    "duration": 22,
    "start_time": "2023-03-15T14:06:39.757Z"
   },
   {
    "duration": 58,
    "start_time": "2023-03-15T14:06:39.781Z"
   },
   {
    "duration": 5,
    "start_time": "2023-03-15T14:06:39.841Z"
   },
   {
    "duration": 23,
    "start_time": "2023-03-15T14:06:39.848Z"
   },
   {
    "duration": 53,
    "start_time": "2023-03-15T14:06:39.873Z"
   },
   {
    "duration": 14,
    "start_time": "2023-03-15T14:06:39.928Z"
   },
   {
    "duration": 14,
    "start_time": "2023-03-15T14:06:39.944Z"
   },
   {
    "duration": 6,
    "start_time": "2023-03-15T14:06:39.960Z"
   },
   {
    "duration": 47,
    "start_time": "2023-03-15T14:06:39.968Z"
   },
   {
    "duration": 137,
    "start_time": "2023-03-15T14:06:40.017Z"
   },
   {
    "duration": 5,
    "start_time": "2023-03-15T14:06:40.156Z"
   },
   {
    "duration": 44,
    "start_time": "2023-03-15T14:06:40.162Z"
   },
   {
    "duration": 31,
    "start_time": "2023-03-15T14:06:40.208Z"
   },
   {
    "duration": 33,
    "start_time": "2023-03-15T14:06:40.241Z"
   },
   {
    "duration": 5,
    "start_time": "2023-03-15T14:06:50.105Z"
   },
   {
    "duration": 994,
    "start_time": "2023-03-15T14:06:55.924Z"
   },
   {
    "duration": 1303,
    "start_time": "2023-03-15T14:06:56.920Z"
   },
   {
    "duration": 4,
    "start_time": "2023-03-15T14:06:58.225Z"
   },
   {
    "duration": 51,
    "start_time": "2023-03-15T14:06:58.231Z"
   },
   {
    "duration": 5,
    "start_time": "2023-03-15T14:06:58.284Z"
   },
   {
    "duration": 96,
    "start_time": "2023-03-15T14:06:58.291Z"
   },
   {
    "duration": 22,
    "start_time": "2023-03-15T14:06:58.389Z"
   },
   {
    "duration": 357,
    "start_time": "2023-03-15T14:06:58.413Z"
   },
   {
    "duration": 142,
    "start_time": "2023-03-15T14:06:58.771Z"
   },
   {
    "duration": 12,
    "start_time": "2023-03-15T14:06:58.915Z"
   },
   {
    "duration": 19,
    "start_time": "2023-03-15T14:06:58.929Z"
   },
   {
    "duration": 21,
    "start_time": "2023-03-15T14:06:58.951Z"
   },
   {
    "duration": 6,
    "start_time": "2023-03-15T14:06:58.974Z"
   },
   {
    "duration": 19,
    "start_time": "2023-03-15T14:06:59.013Z"
   },
   {
    "duration": 24,
    "start_time": "2023-03-15T14:06:59.034Z"
   },
   {
    "duration": 14,
    "start_time": "2023-03-15T14:06:59.059Z"
   },
   {
    "duration": 44,
    "start_time": "2023-03-15T14:06:59.075Z"
   },
   {
    "duration": 13,
    "start_time": "2023-03-15T14:06:59.121Z"
   },
   {
    "duration": 15,
    "start_time": "2023-03-15T14:06:59.136Z"
   },
   {
    "duration": 110,
    "start_time": "2023-03-15T14:06:59.153Z"
   },
   {
    "duration": 6,
    "start_time": "2023-03-15T14:06:59.265Z"
   },
   {
    "duration": 13,
    "start_time": "2023-03-15T14:06:59.272Z"
   },
   {
    "duration": 29,
    "start_time": "2023-03-15T14:06:59.287Z"
   },
   {
    "duration": 6,
    "start_time": "2023-03-15T14:06:59.319Z"
   },
   {
    "duration": 45,
    "start_time": "2023-03-15T14:08:31.652Z"
   },
   {
    "duration": 7,
    "start_time": "2023-03-15T14:08:37.101Z"
   },
   {
    "duration": 10,
    "start_time": "2023-03-15T14:09:41.850Z"
   },
   {
    "duration": 970,
    "start_time": "2023-03-15T14:09:48.650Z"
   },
   {
    "duration": 1088,
    "start_time": "2023-03-15T14:09:49.623Z"
   },
   {
    "duration": 4,
    "start_time": "2023-03-15T14:09:50.713Z"
   },
   {
    "duration": 36,
    "start_time": "2023-03-15T14:09:50.719Z"
   },
   {
    "duration": 5,
    "start_time": "2023-03-15T14:09:50.756Z"
   },
   {
    "duration": 63,
    "start_time": "2023-03-15T14:09:50.763Z"
   },
   {
    "duration": 22,
    "start_time": "2023-03-15T14:09:50.828Z"
   },
   {
    "duration": 385,
    "start_time": "2023-03-15T14:09:50.852Z"
   },
   {
    "duration": 135,
    "start_time": "2023-03-15T14:09:51.239Z"
   },
   {
    "duration": 13,
    "start_time": "2023-03-15T14:09:51.377Z"
   },
   {
    "duration": 22,
    "start_time": "2023-03-15T14:09:51.411Z"
   },
   {
    "duration": 24,
    "start_time": "2023-03-15T14:09:51.435Z"
   },
   {
    "duration": 6,
    "start_time": "2023-03-15T14:09:51.461Z"
   },
   {
    "duration": 50,
    "start_time": "2023-03-15T14:09:51.469Z"
   },
   {
    "duration": 36,
    "start_time": "2023-03-15T14:09:51.521Z"
   },
   {
    "duration": 18,
    "start_time": "2023-03-15T14:09:51.559Z"
   },
   {
    "duration": 33,
    "start_time": "2023-03-15T14:09:51.580Z"
   },
   {
    "duration": 7,
    "start_time": "2023-03-15T14:09:51.615Z"
   },
   {
    "duration": 26,
    "start_time": "2023-03-15T14:09:51.623Z"
   },
   {
    "duration": 115,
    "start_time": "2023-03-15T14:09:51.651Z"
   },
   {
    "duration": 4,
    "start_time": "2023-03-15T14:09:51.768Z"
   },
   {
    "duration": 18,
    "start_time": "2023-03-15T14:09:51.774Z"
   },
   {
    "duration": 18,
    "start_time": "2023-03-15T14:09:51.794Z"
   },
   {
    "duration": 60,
    "start_time": "2023-03-15T14:10:11.815Z"
   },
   {
    "duration": 10,
    "start_time": "2023-03-15T14:10:19.828Z"
   },
   {
    "duration": 989,
    "start_time": "2023-03-15T14:10:39.237Z"
   },
   {
    "duration": 990,
    "start_time": "2023-03-15T14:10:40.228Z"
   },
   {
    "duration": 4,
    "start_time": "2023-03-15T14:10:41.219Z"
   },
   {
    "duration": 26,
    "start_time": "2023-03-15T14:10:41.225Z"
   },
   {
    "duration": 5,
    "start_time": "2023-03-15T14:10:41.253Z"
   },
   {
    "duration": 84,
    "start_time": "2023-03-15T14:10:41.259Z"
   },
   {
    "duration": 19,
    "start_time": "2023-03-15T14:10:41.345Z"
   },
   {
    "duration": 385,
    "start_time": "2023-03-15T14:10:41.366Z"
   },
   {
    "duration": 134,
    "start_time": "2023-03-15T14:10:41.752Z"
   },
   {
    "duration": 27,
    "start_time": "2023-03-15T14:10:41.888Z"
   },
   {
    "duration": 21,
    "start_time": "2023-03-15T14:10:41.917Z"
   },
   {
    "duration": 24,
    "start_time": "2023-03-15T14:10:41.940Z"
   },
   {
    "duration": 5,
    "start_time": "2023-03-15T14:10:41.966Z"
   },
   {
    "duration": 49,
    "start_time": "2023-03-15T14:10:41.974Z"
   },
   {
    "duration": 27,
    "start_time": "2023-03-15T14:10:42.025Z"
   },
   {
    "duration": 17,
    "start_time": "2023-03-15T14:10:42.054Z"
   },
   {
    "duration": 45,
    "start_time": "2023-03-15T14:10:42.074Z"
   },
   {
    "duration": 7,
    "start_time": "2023-03-15T14:10:42.120Z"
   },
   {
    "duration": 18,
    "start_time": "2023-03-15T14:10:42.129Z"
   },
   {
    "duration": 126,
    "start_time": "2023-03-15T14:10:42.148Z"
   },
   {
    "duration": 5,
    "start_time": "2023-03-15T14:10:42.275Z"
   },
   {
    "duration": 16,
    "start_time": "2023-03-15T14:10:42.282Z"
   },
   {
    "duration": 6,
    "start_time": "2023-03-15T14:10:42.312Z"
   },
   {
    "duration": 4,
    "start_time": "2023-03-15T14:18:23.497Z"
   },
   {
    "duration": 14,
    "start_time": "2023-03-15T14:18:30.291Z"
   },
   {
    "duration": 15,
    "start_time": "2023-03-15T14:18:45.547Z"
   },
   {
    "duration": 5,
    "start_time": "2023-03-15T14:18:49.755Z"
   },
   {
    "duration": 15,
    "start_time": "2023-03-15T14:18:57.347Z"
   },
   {
    "duration": 5,
    "start_time": "2023-03-15T14:19:02.649Z"
   },
   {
    "duration": 7,
    "start_time": "2023-03-15T14:21:39.251Z"
   },
   {
    "duration": 12,
    "start_time": "2023-03-15T14:21:53.323Z"
   },
   {
    "duration": 7,
    "start_time": "2023-03-15T14:22:02.999Z"
   },
   {
    "duration": 21,
    "start_time": "2023-03-15T14:22:37.205Z"
   },
   {
    "duration": 6,
    "start_time": "2023-03-15T14:23:27.149Z"
   },
   {
    "duration": 6,
    "start_time": "2023-03-15T14:23:35.434Z"
   },
   {
    "duration": 21,
    "start_time": "2023-03-15T14:25:38.291Z"
   },
   {
    "duration": 29,
    "start_time": "2023-03-15T14:25:51.507Z"
   },
   {
    "duration": 22,
    "start_time": "2023-03-15T14:26:01.897Z"
   },
   {
    "duration": 20,
    "start_time": "2023-03-15T14:26:08.101Z"
   },
   {
    "duration": 21,
    "start_time": "2023-03-15T14:26:10.733Z"
   },
   {
    "duration": 45,
    "start_time": "2023-03-15T14:27:24.514Z"
   },
   {
    "duration": 10,
    "start_time": "2023-03-15T14:27:27.226Z"
   },
   {
    "duration": 32,
    "start_time": "2023-03-15T14:33:18.204Z"
   },
   {
    "duration": 11,
    "start_time": "2023-03-15T14:33:43.404Z"
   },
   {
    "duration": 27,
    "start_time": "2023-03-15T14:37:34.104Z"
   },
   {
    "duration": 23,
    "start_time": "2023-03-15T14:37:42.643Z"
   },
   {
    "duration": 19,
    "start_time": "2023-03-15T14:37:46.091Z"
   },
   {
    "duration": 10,
    "start_time": "2023-03-15T14:47:23.010Z"
   },
   {
    "duration": 9,
    "start_time": "2023-03-15T18:20:11.939Z"
   },
   {
    "duration": 4,
    "start_time": "2023-03-15T18:20:37.876Z"
   },
   {
    "duration": 3,
    "start_time": "2023-03-15T18:20:42.438Z"
   },
   {
    "duration": 9,
    "start_time": "2023-03-15T18:20:48.977Z"
   },
   {
    "duration": 6,
    "start_time": "2023-03-15T18:20:55.110Z"
   },
   {
    "duration": 9,
    "start_time": "2023-03-15T18:23:40.095Z"
   },
   {
    "duration": 8,
    "start_time": "2023-03-15T18:23:49.208Z"
   },
   {
    "duration": 3,
    "start_time": "2023-03-15T18:24:11.468Z"
   },
   {
    "duration": 9,
    "start_time": "2023-03-15T18:32:06.462Z"
   },
   {
    "duration": 959,
    "start_time": "2023-03-15T18:32:18.925Z"
   },
   {
    "duration": 1369,
    "start_time": "2023-03-15T18:32:19.886Z"
   },
   {
    "duration": 4,
    "start_time": "2023-03-15T18:32:21.257Z"
   },
   {
    "duration": 39,
    "start_time": "2023-03-15T18:32:21.262Z"
   },
   {
    "duration": 17,
    "start_time": "2023-03-15T18:32:21.303Z"
   },
   {
    "duration": 67,
    "start_time": "2023-03-15T18:32:21.323Z"
   },
   {
    "duration": 31,
    "start_time": "2023-03-15T18:32:21.392Z"
   },
   {
    "duration": 373,
    "start_time": "2023-03-15T18:32:21.424Z"
   },
   {
    "duration": 162,
    "start_time": "2023-03-15T18:32:21.799Z"
   },
   {
    "duration": 12,
    "start_time": "2023-03-15T18:32:21.963Z"
   },
   {
    "duration": 25,
    "start_time": "2023-03-15T18:32:21.977Z"
   },
   {
    "duration": 38,
    "start_time": "2023-03-15T18:32:22.003Z"
   },
   {
    "duration": 5,
    "start_time": "2023-03-15T18:32:22.043Z"
   },
   {
    "duration": 28,
    "start_time": "2023-03-15T18:32:22.051Z"
   },
   {
    "duration": 47,
    "start_time": "2023-03-15T18:32:22.081Z"
   },
   {
    "duration": 17,
    "start_time": "2023-03-15T18:32:22.130Z"
   },
   {
    "duration": 13,
    "start_time": "2023-03-15T18:32:22.148Z"
   },
   {
    "duration": 6,
    "start_time": "2023-03-15T18:32:22.163Z"
   },
   {
    "duration": 46,
    "start_time": "2023-03-15T18:32:22.170Z"
   },
   {
    "duration": 124,
    "start_time": "2023-03-15T18:32:22.226Z"
   },
   {
    "duration": 6,
    "start_time": "2023-03-15T18:32:22.351Z"
   },
   {
    "duration": 12,
    "start_time": "2023-03-15T18:32:22.358Z"
   },
   {
    "duration": 19,
    "start_time": "2023-03-15T18:32:22.372Z"
   },
   {
    "duration": 34,
    "start_time": "2023-03-15T18:32:22.393Z"
   },
   {
    "duration": 10,
    "start_time": "2023-03-15T18:32:22.428Z"
   },
   {
    "duration": 10,
    "start_time": "2023-03-15T18:32:22.440Z"
   },
   {
    "duration": 4,
    "start_time": "2023-03-15T18:33:21.879Z"
   },
   {
    "duration": 8,
    "start_time": "2023-03-15T18:33:39.610Z"
   },
   {
    "duration": 3,
    "start_time": "2023-03-15T18:33:47.995Z"
   },
   {
    "duration": 12,
    "start_time": "2023-03-15T18:33:59.206Z"
   },
   {
    "duration": 11,
    "start_time": "2023-03-15T18:35:00.912Z"
   },
   {
    "duration": 432,
    "start_time": "2023-03-15T18:35:40.176Z"
   },
   {
    "duration": 3,
    "start_time": "2023-03-15T18:35:44.856Z"
   },
   {
    "duration": 20,
    "start_time": "2023-03-15T18:35:47.510Z"
   },
   {
    "duration": 2,
    "start_time": "2023-03-15T18:36:02.377Z"
   },
   {
    "duration": 4,
    "start_time": "2023-03-15T18:36:10.473Z"
   },
   {
    "duration": 3,
    "start_time": "2023-03-15T18:36:31.475Z"
   },
   {
    "duration": 4,
    "start_time": "2023-03-15T18:36:39.898Z"
   },
   {
    "duration": 4,
    "start_time": "2023-03-15T18:36:53.190Z"
   },
   {
    "duration": 9,
    "start_time": "2023-03-15T18:38:08.494Z"
   },
   {
    "duration": 8,
    "start_time": "2023-03-15T18:38:47.657Z"
   },
   {
    "duration": 4,
    "start_time": "2023-03-15T18:38:52.422Z"
   },
   {
    "duration": 4,
    "start_time": "2023-03-15T18:39:08.048Z"
   },
   {
    "duration": 10,
    "start_time": "2023-03-15T18:39:16.062Z"
   },
   {
    "duration": 10,
    "start_time": "2023-03-15T18:39:22.771Z"
   },
   {
    "duration": 9,
    "start_time": "2023-03-15T18:39:42.773Z"
   },
   {
    "duration": 8,
    "start_time": "2023-03-15T18:40:14.441Z"
   },
   {
    "duration": 14,
    "start_time": "2023-03-15T18:40:32.015Z"
   },
   {
    "duration": 9,
    "start_time": "2023-03-15T18:42:11.171Z"
   },
   {
    "duration": 4,
    "start_time": "2023-03-15T18:42:40.342Z"
   },
   {
    "duration": 4,
    "start_time": "2023-03-15T18:42:56.745Z"
   },
   {
    "duration": 5,
    "start_time": "2023-03-15T18:43:15.533Z"
   },
   {
    "duration": 3,
    "start_time": "2023-03-15T18:43:36.498Z"
   },
   {
    "duration": 3,
    "start_time": "2023-03-15T18:46:28.645Z"
   },
   {
    "duration": 4,
    "start_time": "2023-03-15T18:46:33.458Z"
   },
   {
    "duration": 4,
    "start_time": "2023-03-15T18:51:56.503Z"
   },
   {
    "duration": 15,
    "start_time": "2023-03-15T18:52:58.774Z"
   },
   {
    "duration": 4,
    "start_time": "2023-03-15T18:53:28.064Z"
   },
   {
    "duration": 19,
    "start_time": "2023-03-15T18:53:29.114Z"
   },
   {
    "duration": 4,
    "start_time": "2023-03-15T18:53:33.408Z"
   },
   {
    "duration": 15,
    "start_time": "2023-03-15T18:53:37.845Z"
   },
   {
    "duration": 777,
    "start_time": "2023-03-15T18:56:14.200Z"
   },
   {
    "duration": 13,
    "start_time": "2023-03-15T18:57:18.727Z"
   },
   {
    "duration": 1119,
    "start_time": "2023-03-15T18:57:27.170Z"
   },
   {
    "duration": 997,
    "start_time": "2023-03-15T18:57:28.291Z"
   },
   {
    "duration": 4,
    "start_time": "2023-03-15T18:57:29.289Z"
   },
   {
    "duration": 30,
    "start_time": "2023-03-15T18:57:29.295Z"
   },
   {
    "duration": 6,
    "start_time": "2023-03-15T18:57:29.327Z"
   },
   {
    "duration": 64,
    "start_time": "2023-03-15T18:57:29.334Z"
   },
   {
    "duration": 24,
    "start_time": "2023-03-15T18:57:29.400Z"
   },
   {
    "duration": 379,
    "start_time": "2023-03-15T18:57:29.426Z"
   },
   {
    "duration": 130,
    "start_time": "2023-03-15T18:57:29.820Z"
   },
   {
    "duration": 12,
    "start_time": "2023-03-15T18:57:29.952Z"
   },
   {
    "duration": 22,
    "start_time": "2023-03-15T18:57:29.966Z"
   },
   {
    "duration": 53,
    "start_time": "2023-03-15T18:57:29.990Z"
   },
   {
    "duration": 6,
    "start_time": "2023-03-15T18:57:30.045Z"
   },
   {
    "duration": 29,
    "start_time": "2023-03-15T18:57:30.053Z"
   },
   {
    "duration": 40,
    "start_time": "2023-03-15T18:57:30.084Z"
   },
   {
    "duration": 22,
    "start_time": "2023-03-15T18:57:30.126Z"
   },
   {
    "duration": 17,
    "start_time": "2023-03-15T18:57:30.150Z"
   },
   {
    "duration": 22,
    "start_time": "2023-03-15T18:57:30.168Z"
   },
   {
    "duration": 35,
    "start_time": "2023-03-15T18:57:30.192Z"
   },
   {
    "duration": 175,
    "start_time": "2023-03-15T18:57:30.229Z"
   },
   {
    "duration": 5,
    "start_time": "2023-03-15T18:57:30.405Z"
   },
   {
    "duration": 33,
    "start_time": "2023-03-15T18:57:30.412Z"
   },
   {
    "duration": 58,
    "start_time": "2023-03-15T18:57:30.446Z"
   },
   {
    "duration": 39,
    "start_time": "2023-03-15T18:57:30.506Z"
   },
   {
    "duration": 25,
    "start_time": "2023-03-15T18:57:30.547Z"
   },
   {
    "duration": 32,
    "start_time": "2023-03-15T18:57:30.574Z"
   },
   {
    "duration": 43,
    "start_time": "2023-03-15T18:57:30.608Z"
   },
   {
    "duration": 43,
    "start_time": "2023-03-15T18:57:30.653Z"
   },
   {
    "duration": 1231,
    "start_time": "2023-03-15T18:58:03.498Z"
   },
   {
    "duration": 1294,
    "start_time": "2023-03-15T18:58:04.731Z"
   },
   {
    "duration": 6,
    "start_time": "2023-03-15T18:58:06.027Z"
   },
   {
    "duration": 26,
    "start_time": "2023-03-15T18:58:06.035Z"
   },
   {
    "duration": 5,
    "start_time": "2023-03-15T18:58:06.062Z"
   },
   {
    "duration": 69,
    "start_time": "2023-03-15T18:58:06.069Z"
   },
   {
    "duration": 18,
    "start_time": "2023-03-15T18:58:06.140Z"
   },
   {
    "duration": 378,
    "start_time": "2023-03-15T18:58:06.160Z"
   },
   {
    "duration": 141,
    "start_time": "2023-03-15T18:58:06.540Z"
   },
   {
    "duration": 11,
    "start_time": "2023-03-15T18:58:06.684Z"
   },
   {
    "duration": 40,
    "start_time": "2023-03-15T18:58:06.697Z"
   },
   {
    "duration": 21,
    "start_time": "2023-03-15T18:58:06.739Z"
   },
   {
    "duration": 6,
    "start_time": "2023-03-15T18:58:06.762Z"
   },
   {
    "duration": 16,
    "start_time": "2023-03-15T18:58:06.770Z"
   },
   {
    "duration": 51,
    "start_time": "2023-03-15T18:58:06.788Z"
   },
   {
    "duration": 14,
    "start_time": "2023-03-15T18:58:06.841Z"
   },
   {
    "duration": 13,
    "start_time": "2023-03-15T18:58:06.856Z"
   },
   {
    "duration": 6,
    "start_time": "2023-03-15T18:58:06.870Z"
   },
   {
    "duration": 49,
    "start_time": "2023-03-15T18:58:06.878Z"
   },
   {
    "duration": 131,
    "start_time": "2023-03-15T18:58:06.928Z"
   },
   {
    "duration": 6,
    "start_time": "2023-03-15T18:58:07.060Z"
   },
   {
    "duration": 13,
    "start_time": "2023-03-15T18:58:07.067Z"
   },
   {
    "duration": 46,
    "start_time": "2023-03-15T18:58:07.082Z"
   },
   {
    "duration": 9,
    "start_time": "2023-03-15T18:58:07.130Z"
   },
   {
    "duration": 15,
    "start_time": "2023-03-15T18:58:07.141Z"
   },
   {
    "duration": 8,
    "start_time": "2023-03-15T18:58:07.158Z"
   },
   {
    "duration": 9,
    "start_time": "2023-03-15T18:58:07.168Z"
   },
   {
    "duration": 15,
    "start_time": "2023-03-15T18:58:07.181Z"
   },
   {
    "duration": 14,
    "start_time": "2023-03-15T18:59:00.022Z"
   },
   {
    "duration": 12,
    "start_time": "2023-03-15T19:00:02.197Z"
   },
   {
    "duration": 60,
    "start_time": "2023-03-15T19:37:00.292Z"
   },
   {
    "duration": 6,
    "start_time": "2023-03-15T20:06:30.386Z"
   },
   {
    "duration": 86,
    "start_time": "2023-03-15T20:07:21.591Z"
   },
   {
    "duration": 41,
    "start_time": "2023-03-15T20:07:27.590Z"
   },
   {
    "duration": 7,
    "start_time": "2023-03-15T20:07:47.253Z"
   },
   {
    "duration": 15,
    "start_time": "2023-03-15T20:08:53.708Z"
   },
   {
    "duration": 64,
    "start_time": "2023-03-15T20:14:19.165Z"
   },
   {
    "duration": 132,
    "start_time": "2023-03-15T20:14:23.236Z"
   },
   {
    "duration": 151,
    "start_time": "2023-03-15T20:14:29.416Z"
   },
   {
    "duration": 135,
    "start_time": "2023-03-15T20:14:55.533Z"
   },
   {
    "duration": 130,
    "start_time": "2023-03-15T20:15:07.546Z"
   },
   {
    "duration": 140,
    "start_time": "2023-03-15T20:20:00.788Z"
   },
   {
    "duration": 5,
    "start_time": "2023-03-15T20:25:08.385Z"
   },
   {
    "duration": 7,
    "start_time": "2023-03-15T20:32:17.848Z"
   },
   {
    "duration": 136,
    "start_time": "2023-03-15T20:35:19.833Z"
   },
   {
    "duration": 4,
    "start_time": "2023-03-15T20:44:04.766Z"
   },
   {
    "duration": 150,
    "start_time": "2023-03-15T20:45:10.876Z"
   },
   {
    "duration": 10,
    "start_time": "2023-03-15T21:08:21.413Z"
   },
   {
    "duration": 10,
    "start_time": "2023-03-15T21:09:06.248Z"
   },
   {
    "duration": 3,
    "start_time": "2023-03-15T21:09:10.772Z"
   },
   {
    "duration": 181,
    "start_time": "2023-03-15T21:09:13.249Z"
   },
   {
    "duration": 3,
    "start_time": "2023-03-15T21:10:00.840Z"
   },
   {
    "duration": 4,
    "start_time": "2023-03-15T21:10:07.681Z"
   },
   {
    "duration": 5,
    "start_time": "2023-03-15T21:10:19.248Z"
   },
   {
    "duration": 5,
    "start_time": "2023-03-15T21:10:26.571Z"
   },
   {
    "duration": 4,
    "start_time": "2023-03-15T21:11:35.115Z"
   },
   {
    "duration": 398,
    "start_time": "2023-03-15T21:13:06.404Z"
   },
   {
    "duration": 17,
    "start_time": "2023-03-15T21:13:11.961Z"
   },
   {
    "duration": 9,
    "start_time": "2023-03-15T21:14:28.952Z"
   },
   {
    "duration": 8,
    "start_time": "2023-03-15T21:15:02.874Z"
   },
   {
    "duration": 6,
    "start_time": "2023-03-15T21:18:39.962Z"
   },
   {
    "duration": 1115,
    "start_time": "2023-03-15T21:19:02.125Z"
   },
   {
    "duration": 1204,
    "start_time": "2023-03-15T21:19:03.242Z"
   },
   {
    "duration": 3,
    "start_time": "2023-03-15T21:19:04.448Z"
   },
   {
    "duration": 20,
    "start_time": "2023-03-15T21:19:04.453Z"
   },
   {
    "duration": 4,
    "start_time": "2023-03-15T21:19:04.474Z"
   },
   {
    "duration": 47,
    "start_time": "2023-03-15T21:19:04.480Z"
   },
   {
    "duration": 19,
    "start_time": "2023-03-15T21:19:04.528Z"
   },
   {
    "duration": 330,
    "start_time": "2023-03-15T21:19:04.548Z"
   },
   {
    "duration": 133,
    "start_time": "2023-03-15T21:19:04.880Z"
   },
   {
    "duration": 12,
    "start_time": "2023-03-15T21:19:05.016Z"
   },
   {
    "duration": 19,
    "start_time": "2023-03-15T21:19:05.029Z"
   },
   {
    "duration": 22,
    "start_time": "2023-03-15T21:19:05.049Z"
   },
   {
    "duration": 5,
    "start_time": "2023-03-15T21:19:05.072Z"
   },
   {
    "duration": 59,
    "start_time": "2023-03-15T21:19:05.078Z"
   },
   {
    "duration": 24,
    "start_time": "2023-03-15T21:19:05.139Z"
   },
   {
    "duration": 15,
    "start_time": "2023-03-15T21:19:05.165Z"
   },
   {
    "duration": 32,
    "start_time": "2023-03-15T21:19:05.182Z"
   },
   {
    "duration": 6,
    "start_time": "2023-03-15T21:19:05.215Z"
   },
   {
    "duration": 15,
    "start_time": "2023-03-15T21:19:05.223Z"
   },
   {
    "duration": 139,
    "start_time": "2023-03-15T21:19:05.239Z"
   },
   {
    "duration": 4,
    "start_time": "2023-03-15T21:19:05.380Z"
   },
   {
    "duration": 11,
    "start_time": "2023-03-15T21:19:05.386Z"
   },
   {
    "duration": 20,
    "start_time": "2023-03-15T21:19:05.411Z"
   },
   {
    "duration": 9,
    "start_time": "2023-03-15T21:19:05.433Z"
   },
   {
    "duration": 11,
    "start_time": "2023-03-15T21:19:05.443Z"
   },
   {
    "duration": 4,
    "start_time": "2023-03-15T21:19:05.455Z"
   },
   {
    "duration": 4,
    "start_time": "2023-03-15T21:19:05.461Z"
   },
   {
    "duration": 15,
    "start_time": "2023-03-15T21:19:05.467Z"
   },
   {
    "duration": 6,
    "start_time": "2023-03-15T21:19:05.512Z"
   },
   {
    "duration": 19,
    "start_time": "2023-03-15T21:19:05.520Z"
   },
   {
    "duration": 177,
    "start_time": "2023-03-15T21:19:05.541Z"
   },
   {
    "duration": 2,
    "start_time": "2023-03-15T21:19:05.720Z"
   },
   {
    "duration": 8,
    "start_time": "2023-03-15T21:19:05.724Z"
   },
   {
    "duration": 431,
    "start_time": "2023-03-15T21:19:05.734Z"
   },
   {
    "duration": 8,
    "start_time": "2023-03-15T21:19:06.166Z"
   },
   {
    "duration": 19,
    "start_time": "2023-03-15T21:19:06.175Z"
   },
   {
    "duration": 7,
    "start_time": "2023-03-15T21:19:23.837Z"
   },
   {
    "duration": 11,
    "start_time": "2023-03-15T21:20:42.085Z"
   },
   {
    "duration": 12,
    "start_time": "2023-03-15T21:28:52.500Z"
   },
   {
    "duration": 12,
    "start_time": "2023-03-15T21:32:25.258Z"
   },
   {
    "duration": 29,
    "start_time": "2023-03-15T21:32:31.185Z"
   },
   {
    "duration": 1165,
    "start_time": "2023-03-15T21:32:54.985Z"
   },
   {
    "duration": 1092,
    "start_time": "2023-03-15T21:32:56.152Z"
   },
   {
    "duration": 4,
    "start_time": "2023-03-15T21:32:57.246Z"
   },
   {
    "duration": 21,
    "start_time": "2023-03-15T21:32:57.253Z"
   },
   {
    "duration": 5,
    "start_time": "2023-03-15T21:32:57.276Z"
   },
   {
    "duration": 62,
    "start_time": "2023-03-15T21:32:57.283Z"
   },
   {
    "duration": 21,
    "start_time": "2023-03-15T21:32:57.347Z"
   },
   {
    "duration": 365,
    "start_time": "2023-03-15T21:32:57.370Z"
   },
   {
    "duration": 133,
    "start_time": "2023-03-15T21:32:57.736Z"
   },
   {
    "duration": 12,
    "start_time": "2023-03-15T21:32:57.872Z"
   },
   {
    "duration": 36,
    "start_time": "2023-03-15T21:32:57.885Z"
   },
   {
    "duration": 23,
    "start_time": "2023-03-15T21:32:57.923Z"
   },
   {
    "duration": 5,
    "start_time": "2023-03-15T21:32:57.947Z"
   },
   {
    "duration": 15,
    "start_time": "2023-03-15T21:32:57.954Z"
   },
   {
    "duration": 56,
    "start_time": "2023-03-15T21:32:57.971Z"
   },
   {
    "duration": 13,
    "start_time": "2023-03-15T21:32:58.028Z"
   },
   {
    "duration": 11,
    "start_time": "2023-03-15T21:32:58.043Z"
   },
   {
    "duration": 6,
    "start_time": "2023-03-15T21:32:58.056Z"
   },
   {
    "duration": 34,
    "start_time": "2023-03-15T21:32:58.063Z"
   },
   {
    "duration": 123,
    "start_time": "2023-03-15T21:32:58.098Z"
   },
   {
    "duration": 5,
    "start_time": "2023-03-15T21:32:58.223Z"
   },
   {
    "duration": 10,
    "start_time": "2023-03-15T21:32:58.229Z"
   },
   {
    "duration": 18,
    "start_time": "2023-03-15T21:32:58.241Z"
   },
   {
    "duration": 9,
    "start_time": "2023-03-15T21:32:58.261Z"
   },
   {
    "duration": 42,
    "start_time": "2023-03-15T21:32:58.272Z"
   },
   {
    "duration": 22,
    "start_time": "2023-03-15T21:32:58.316Z"
   },
   {
    "duration": 5,
    "start_time": "2023-03-15T21:32:58.340Z"
   },
   {
    "duration": 15,
    "start_time": "2023-03-15T21:32:58.347Z"
   },
   {
    "duration": 5,
    "start_time": "2023-03-15T21:32:58.364Z"
   },
   {
    "duration": 8,
    "start_time": "2023-03-15T21:32:58.371Z"
   },
   {
    "duration": 185,
    "start_time": "2023-03-15T21:32:58.381Z"
   },
   {
    "duration": 3,
    "start_time": "2023-03-15T21:32:58.567Z"
   },
   {
    "duration": 4,
    "start_time": "2023-03-15T21:32:58.571Z"
   },
   {
    "duration": 423,
    "start_time": "2023-03-15T21:32:58.577Z"
   },
   {
    "duration": 13,
    "start_time": "2023-03-15T21:32:59.002Z"
   },
   {
    "duration": 24,
    "start_time": "2023-03-15T21:32:59.017Z"
   },
   {
    "duration": 43,
    "start_time": "2023-03-15T21:32:59.043Z"
   },
   {
    "duration": 28,
    "start_time": "2023-03-15T21:33:22.634Z"
   },
   {
    "duration": 1129,
    "start_time": "2023-03-15T21:33:31.319Z"
   },
   {
    "duration": 1108,
    "start_time": "2023-03-15T21:33:32.450Z"
   },
   {
    "duration": 4,
    "start_time": "2023-03-15T21:33:33.560Z"
   },
   {
    "duration": 21,
    "start_time": "2023-03-15T21:33:33.566Z"
   },
   {
    "duration": 5,
    "start_time": "2023-03-15T21:33:33.589Z"
   },
   {
    "duration": 52,
    "start_time": "2023-03-15T21:33:33.596Z"
   },
   {
    "duration": 19,
    "start_time": "2023-03-15T21:33:33.649Z"
   },
   {
    "duration": 362,
    "start_time": "2023-03-15T21:33:33.670Z"
   },
   {
    "duration": 151,
    "start_time": "2023-03-15T21:33:34.034Z"
   },
   {
    "duration": 24,
    "start_time": "2023-03-15T21:33:34.188Z"
   },
   {
    "duration": 19,
    "start_time": "2023-03-15T21:33:34.214Z"
   },
   {
    "duration": 23,
    "start_time": "2023-03-15T21:33:34.235Z"
   },
   {
    "duration": 5,
    "start_time": "2023-03-15T21:33:34.259Z"
   },
   {
    "duration": 47,
    "start_time": "2023-03-15T21:33:34.266Z"
   },
   {
    "duration": 23,
    "start_time": "2023-03-15T21:33:34.315Z"
   },
   {
    "duration": 13,
    "start_time": "2023-03-15T21:33:34.340Z"
   },
   {
    "duration": 14,
    "start_time": "2023-03-15T21:33:34.355Z"
   },
   {
    "duration": 6,
    "start_time": "2023-03-15T21:33:34.370Z"
   },
   {
    "duration": 40,
    "start_time": "2023-03-15T21:33:34.378Z"
   },
   {
    "duration": 115,
    "start_time": "2023-03-15T21:33:34.420Z"
   },
   {
    "duration": 4,
    "start_time": "2023-03-15T21:33:34.537Z"
   },
   {
    "duration": 9,
    "start_time": "2023-03-15T21:33:34.543Z"
   },
   {
    "duration": 22,
    "start_time": "2023-03-15T21:33:34.554Z"
   },
   {
    "duration": 9,
    "start_time": "2023-03-15T21:33:34.577Z"
   },
   {
    "duration": 10,
    "start_time": "2023-03-15T21:33:34.611Z"
   },
   {
    "duration": 4,
    "start_time": "2023-03-15T21:33:34.623Z"
   },
   {
    "duration": 5,
    "start_time": "2023-03-15T21:33:34.628Z"
   },
   {
    "duration": 14,
    "start_time": "2023-03-15T21:33:34.635Z"
   },
   {
    "duration": 6,
    "start_time": "2023-03-15T21:33:34.650Z"
   },
   {
    "duration": 9,
    "start_time": "2023-03-15T21:33:34.657Z"
   },
   {
    "duration": 201,
    "start_time": "2023-03-15T21:33:34.667Z"
   },
   {
    "duration": 3,
    "start_time": "2023-03-15T21:33:34.870Z"
   },
   {
    "duration": 14,
    "start_time": "2023-03-15T21:33:34.874Z"
   },
   {
    "duration": 431,
    "start_time": "2023-03-15T21:33:34.889Z"
   },
   {
    "duration": 8,
    "start_time": "2023-03-15T21:33:35.322Z"
   },
   {
    "duration": 16,
    "start_time": "2023-03-15T21:33:35.331Z"
   },
   {
    "duration": 50,
    "start_time": "2023-03-15T21:33:35.349Z"
   },
   {
    "duration": 4,
    "start_time": "2023-03-15T21:34:28.784Z"
   },
   {
    "duration": 5,
    "start_time": "2023-03-15T21:34:35.724Z"
   },
   {
    "duration": 5,
    "start_time": "2023-03-15T21:35:02.840Z"
   },
   {
    "duration": 5,
    "start_time": "2023-03-15T21:35:41.018Z"
   },
   {
    "duration": 20,
    "start_time": "2023-03-15T21:44:31.492Z"
   },
   {
    "duration": 8,
    "start_time": "2023-03-15T21:44:57.655Z"
   },
   {
    "duration": 33,
    "start_time": "2023-03-15T21:46:12.639Z"
   },
   {
    "duration": 6,
    "start_time": "2023-03-15T21:46:23.187Z"
   },
   {
    "duration": 8,
    "start_time": "2023-03-15T21:46:31.891Z"
   },
   {
    "duration": 21,
    "start_time": "2023-03-15T21:47:13.028Z"
   },
   {
    "duration": 9,
    "start_time": "2023-03-15T21:47:28.006Z"
   },
   {
    "duration": 10,
    "start_time": "2023-03-15T21:59:31.256Z"
   },
   {
    "duration": 47,
    "start_time": "2023-03-15T22:00:33.299Z"
   },
   {
    "duration": 14,
    "start_time": "2023-03-15T22:01:06.240Z"
   },
   {
    "duration": 76,
    "start_time": "2023-03-15T22:01:50.210Z"
   },
   {
    "duration": 19,
    "start_time": "2023-03-15T22:01:56.614Z"
   },
   {
    "duration": 20,
    "start_time": "2023-03-15T22:02:20.999Z"
   },
   {
    "duration": 51,
    "start_time": "2023-03-15T22:02:59.281Z"
   },
   {
    "duration": 20,
    "start_time": "2023-03-15T22:03:08.828Z"
   },
   {
    "duration": 1279,
    "start_time": "2023-03-16T08:26:13.034Z"
   },
   {
    "duration": 1098,
    "start_time": "2023-03-16T08:26:14.315Z"
   },
   {
    "duration": 5,
    "start_time": "2023-03-16T08:26:15.415Z"
   },
   {
    "duration": 32,
    "start_time": "2023-03-16T08:26:15.422Z"
   },
   {
    "duration": 5,
    "start_time": "2023-03-16T08:26:15.457Z"
   },
   {
    "duration": 78,
    "start_time": "2023-03-16T08:26:15.463Z"
   },
   {
    "duration": 24,
    "start_time": "2023-03-16T08:26:15.543Z"
   },
   {
    "duration": 399,
    "start_time": "2023-03-16T08:26:15.569Z"
   },
   {
    "duration": 143,
    "start_time": "2023-03-16T08:26:15.970Z"
   },
   {
    "duration": 12,
    "start_time": "2023-03-16T08:26:16.115Z"
   },
   {
    "duration": 19,
    "start_time": "2023-03-16T08:26:16.129Z"
   },
   {
    "duration": 22,
    "start_time": "2023-03-16T08:26:16.150Z"
   },
   {
    "duration": 6,
    "start_time": "2023-03-16T08:26:16.174Z"
   },
   {
    "duration": 16,
    "start_time": "2023-03-16T08:26:16.214Z"
   },
   {
    "duration": 27,
    "start_time": "2023-03-16T08:26:16.232Z"
   },
   {
    "duration": 15,
    "start_time": "2023-03-16T08:26:16.261Z"
   },
   {
    "duration": 48,
    "start_time": "2023-03-16T08:26:16.277Z"
   },
   {
    "duration": 7,
    "start_time": "2023-03-16T08:26:16.326Z"
   },
   {
    "duration": 18,
    "start_time": "2023-03-16T08:26:16.335Z"
   },
   {
    "duration": 158,
    "start_time": "2023-03-16T08:26:16.355Z"
   },
   {
    "duration": 5,
    "start_time": "2023-03-16T08:26:16.515Z"
   },
   {
    "duration": 16,
    "start_time": "2023-03-16T08:26:16.521Z"
   },
   {
    "duration": 20,
    "start_time": "2023-03-16T08:26:16.539Z"
   },
   {
    "duration": 9,
    "start_time": "2023-03-16T08:26:16.561Z"
   },
   {
    "duration": 42,
    "start_time": "2023-03-16T08:26:16.572Z"
   },
   {
    "duration": 18,
    "start_time": "2023-03-16T08:26:16.615Z"
   },
   {
    "duration": 18,
    "start_time": "2023-03-16T08:26:16.635Z"
   },
   {
    "duration": 22,
    "start_time": "2023-03-16T08:26:16.654Z"
   },
   {
    "duration": 8,
    "start_time": "2023-03-16T08:26:16.678Z"
   },
   {
    "duration": 44,
    "start_time": "2023-03-16T08:26:16.687Z"
   },
   {
    "duration": 190,
    "start_time": "2023-03-16T08:26:16.733Z"
   },
   {
    "duration": 3,
    "start_time": "2023-03-16T08:26:16.925Z"
   },
   {
    "duration": 29,
    "start_time": "2023-03-16T08:26:16.930Z"
   },
   {
    "duration": 461,
    "start_time": "2023-03-16T08:26:16.961Z"
   },
   {
    "duration": 9,
    "start_time": "2023-03-16T08:26:17.423Z"
   },
   {
    "duration": 20,
    "start_time": "2023-03-16T08:26:17.434Z"
   },
   {
    "duration": 7,
    "start_time": "2023-03-16T08:26:17.456Z"
   },
   {
    "duration": 9,
    "start_time": "2023-03-16T08:26:17.465Z"
   },
   {
    "duration": 53,
    "start_time": "2023-03-16T08:26:17.477Z"
   },
   {
    "duration": 15,
    "start_time": "2023-03-16T08:29:21.640Z"
   },
   {
    "duration": 44,
    "start_time": "2023-03-16T08:31:07.261Z"
   },
   {
    "duration": 16,
    "start_time": "2023-03-16T08:31:11.353Z"
   },
   {
    "duration": 51,
    "start_time": "2023-03-16T08:33:48.285Z"
   },
   {
    "duration": 21,
    "start_time": "2023-03-16T08:34:06.222Z"
   },
   {
    "duration": 7,
    "start_time": "2023-03-16T08:34:15.713Z"
   },
   {
    "duration": 15,
    "start_time": "2023-03-16T08:34:19.635Z"
   },
   {
    "duration": 14,
    "start_time": "2023-03-16T08:35:07.290Z"
   },
   {
    "duration": 8,
    "start_time": "2023-03-16T08:35:27.597Z"
   },
   {
    "duration": 13,
    "start_time": "2023-03-16T08:36:06.133Z"
   },
   {
    "duration": 13,
    "start_time": "2023-03-16T08:37:14.238Z"
   },
   {
    "duration": 10,
    "start_time": "2023-03-16T08:37:30.313Z"
   },
   {
    "duration": 8,
    "start_time": "2023-03-16T08:39:19.981Z"
   },
   {
    "duration": 11,
    "start_time": "2023-03-16T08:39:20.689Z"
   },
   {
    "duration": 14,
    "start_time": "2023-03-16T08:40:54.783Z"
   },
   {
    "duration": 15,
    "start_time": "2023-03-16T08:41:18.975Z"
   },
   {
    "duration": 1266,
    "start_time": "2023-03-16T08:41:27.380Z"
   },
   {
    "duration": 1060,
    "start_time": "2023-03-16T08:41:28.648Z"
   },
   {
    "duration": 4,
    "start_time": "2023-03-16T08:41:29.710Z"
   },
   {
    "duration": 25,
    "start_time": "2023-03-16T08:41:29.716Z"
   },
   {
    "duration": 6,
    "start_time": "2023-03-16T08:41:29.744Z"
   },
   {
    "duration": 88,
    "start_time": "2023-03-16T08:41:29.751Z"
   },
   {
    "duration": 23,
    "start_time": "2023-03-16T08:41:29.841Z"
   },
   {
    "duration": 390,
    "start_time": "2023-03-16T08:41:29.866Z"
   },
   {
    "duration": 122,
    "start_time": "2023-03-16T08:41:30.258Z"
   },
   {
    "duration": 13,
    "start_time": "2023-03-16T08:41:30.382Z"
   },
   {
    "duration": 20,
    "start_time": "2023-03-16T08:41:30.412Z"
   },
   {
    "duration": 46,
    "start_time": "2023-03-16T08:41:30.433Z"
   },
   {
    "duration": 25,
    "start_time": "2023-03-16T08:41:30.480Z"
   },
   {
    "duration": 31,
    "start_time": "2023-03-16T08:41:30.509Z"
   },
   {
    "duration": 64,
    "start_time": "2023-03-16T08:41:30.542Z"
   },
   {
    "duration": 20,
    "start_time": "2023-03-16T08:41:30.608Z"
   },
   {
    "duration": 44,
    "start_time": "2023-03-16T08:41:30.630Z"
   },
   {
    "duration": 43,
    "start_time": "2023-03-16T08:41:30.676Z"
   },
   {
    "duration": 68,
    "start_time": "2023-03-16T08:41:30.721Z"
   },
   {
    "duration": 157,
    "start_time": "2023-03-16T08:41:30.791Z"
   },
   {
    "duration": 5,
    "start_time": "2023-03-16T08:41:30.950Z"
   },
   {
    "duration": 43,
    "start_time": "2023-03-16T08:41:30.956Z"
   },
   {
    "duration": 57,
    "start_time": "2023-03-16T08:41:31.000Z"
   },
   {
    "duration": 30,
    "start_time": "2023-03-16T08:41:31.059Z"
   },
   {
    "duration": 28,
    "start_time": "2023-03-16T08:41:31.091Z"
   },
   {
    "duration": 22,
    "start_time": "2023-03-16T08:41:31.121Z"
   },
   {
    "duration": 32,
    "start_time": "2023-03-16T08:41:31.145Z"
   },
   {
    "duration": 47,
    "start_time": "2023-03-16T08:41:31.179Z"
   },
   {
    "duration": 45,
    "start_time": "2023-03-16T08:41:31.228Z"
   },
   {
    "duration": 30,
    "start_time": "2023-03-16T08:41:31.275Z"
   },
   {
    "duration": 236,
    "start_time": "2023-03-16T08:41:31.307Z"
   },
   {
    "duration": 3,
    "start_time": "2023-03-16T08:41:31.544Z"
   },
   {
    "duration": 57,
    "start_time": "2023-03-16T08:41:31.549Z"
   },
   {
    "duration": 474,
    "start_time": "2023-03-16T08:41:31.608Z"
   },
   {
    "duration": 7,
    "start_time": "2023-03-16T08:41:32.084Z"
   },
   {
    "duration": 46,
    "start_time": "2023-03-16T08:41:32.093Z"
   },
   {
    "duration": 31,
    "start_time": "2023-03-16T08:41:32.140Z"
   },
   {
    "duration": 28,
    "start_time": "2023-03-16T08:41:32.173Z"
   },
   {
    "duration": 25,
    "start_time": "2023-03-16T08:41:32.203Z"
   },
   {
    "duration": 17,
    "start_time": "2023-03-16T08:41:32.230Z"
   },
   {
    "duration": 11,
    "start_time": "2023-03-16T08:42:56.898Z"
   },
   {
    "duration": 10,
    "start_time": "2023-03-16T08:44:04.017Z"
   },
   {
    "duration": 14,
    "start_time": "2023-03-16T08:44:25.127Z"
   },
   {
    "duration": 6,
    "start_time": "2023-03-16T08:45:09.893Z"
   },
   {
    "duration": 6,
    "start_time": "2023-03-16T08:45:37.348Z"
   },
   {
    "duration": 29,
    "start_time": "2023-03-16T08:46:03.374Z"
   },
   {
    "duration": 8,
    "start_time": "2023-03-16T09:03:15.641Z"
   },
   {
    "duration": 14,
    "start_time": "2023-03-16T09:03:25.489Z"
   },
   {
    "duration": 1240,
    "start_time": "2023-03-16T09:04:01.213Z"
   },
   {
    "duration": 1155,
    "start_time": "2023-03-16T09:04:02.455Z"
   },
   {
    "duration": 5,
    "start_time": "2023-03-16T09:04:03.612Z"
   },
   {
    "duration": 24,
    "start_time": "2023-03-16T09:04:03.618Z"
   },
   {
    "duration": 6,
    "start_time": "2023-03-16T09:04:03.644Z"
   },
   {
    "duration": 80,
    "start_time": "2023-03-16T09:04:03.651Z"
   },
   {
    "duration": 22,
    "start_time": "2023-03-16T09:04:03.733Z"
   },
   {
    "duration": 394,
    "start_time": "2023-03-16T09:04:03.757Z"
   },
   {
    "duration": 170,
    "start_time": "2023-03-16T09:04:04.153Z"
   },
   {
    "duration": 20,
    "start_time": "2023-03-16T09:04:04.327Z"
   },
   {
    "duration": 29,
    "start_time": "2023-03-16T09:04:04.349Z"
   },
   {
    "duration": 43,
    "start_time": "2023-03-16T09:04:04.380Z"
   },
   {
    "duration": 6,
    "start_time": "2023-03-16T09:04:04.425Z"
   },
   {
    "duration": 16,
    "start_time": "2023-03-16T09:04:04.433Z"
   },
   {
    "duration": 24,
    "start_time": "2023-03-16T09:04:04.450Z"
   },
   {
    "duration": 47,
    "start_time": "2023-03-16T09:04:04.476Z"
   },
   {
    "duration": 17,
    "start_time": "2023-03-16T09:04:04.525Z"
   },
   {
    "duration": 6,
    "start_time": "2023-03-16T09:04:04.544Z"
   },
   {
    "duration": 21,
    "start_time": "2023-03-16T09:04:04.551Z"
   },
   {
    "duration": 134,
    "start_time": "2023-03-16T09:04:04.574Z"
   },
   {
    "duration": 5,
    "start_time": "2023-03-16T09:04:04.710Z"
   },
   {
    "duration": 12,
    "start_time": "2023-03-16T09:04:04.717Z"
   },
   {
    "duration": 20,
    "start_time": "2023-03-16T09:04:04.731Z"
   },
   {
    "duration": 11,
    "start_time": "2023-03-16T09:04:04.752Z"
   },
   {
    "duration": 30,
    "start_time": "2023-03-16T09:04:04.765Z"
   },
   {
    "duration": 17,
    "start_time": "2023-03-16T09:04:04.796Z"
   },
   {
    "duration": 13,
    "start_time": "2023-03-16T09:04:04.816Z"
   },
   {
    "duration": 14,
    "start_time": "2023-03-16T09:04:04.833Z"
   },
   {
    "duration": 7,
    "start_time": "2023-03-16T09:04:04.849Z"
   },
   {
    "duration": 10,
    "start_time": "2023-03-16T09:04:04.858Z"
   },
   {
    "duration": 208,
    "start_time": "2023-03-16T09:04:04.870Z"
   },
   {
    "duration": 3,
    "start_time": "2023-03-16T09:04:05.080Z"
   },
   {
    "duration": 9,
    "start_time": "2023-03-16T09:04:05.085Z"
   },
   {
    "duration": 507,
    "start_time": "2023-03-16T09:04:05.095Z"
   },
   {
    "duration": 13,
    "start_time": "2023-03-16T09:04:05.604Z"
   },
   {
    "duration": 12,
    "start_time": "2023-03-16T09:04:05.619Z"
   },
   {
    "duration": 5,
    "start_time": "2023-03-16T09:04:05.633Z"
   },
   {
    "duration": 24,
    "start_time": "2023-03-16T09:04:05.640Z"
   },
   {
    "duration": 45,
    "start_time": "2023-03-16T09:04:05.666Z"
   },
   {
    "duration": 0,
    "start_time": "2023-03-16T09:04:05.713Z"
   },
   {
    "duration": 0,
    "start_time": "2023-03-16T09:04:05.714Z"
   },
   {
    "duration": 17,
    "start_time": "2023-03-16T09:04:20.204Z"
   },
   {
    "duration": 12,
    "start_time": "2023-03-16T09:04:22.601Z"
   },
   {
    "duration": 19,
    "start_time": "2023-03-16T09:04:25.348Z"
   },
   {
    "duration": 50,
    "start_time": "2023-03-16T09:04:36.589Z"
   },
   {
    "duration": 20,
    "start_time": "2023-03-16T09:08:01.510Z"
   },
   {
    "duration": 8,
    "start_time": "2023-03-16T09:08:28.809Z"
   },
   {
    "duration": 8,
    "start_time": "2023-03-16T09:09:17.705Z"
   },
   {
    "duration": 8,
    "start_time": "2023-03-16T09:09:36.001Z"
   },
   {
    "duration": 20,
    "start_time": "2023-03-16T09:10:00.354Z"
   },
   {
    "duration": 9,
    "start_time": "2023-03-16T09:10:23.289Z"
   },
   {
    "duration": 18,
    "start_time": "2023-03-16T09:10:55.449Z"
   },
   {
    "duration": 9,
    "start_time": "2023-03-16T09:11:48.229Z"
   },
   {
    "duration": 12,
    "start_time": "2023-03-16T09:30:53.705Z"
   },
   {
    "duration": 4,
    "start_time": "2023-03-16T09:34:00.794Z"
   },
   {
    "duration": 4,
    "start_time": "2023-03-16T09:35:01.494Z"
   },
   {
    "duration": 15,
    "start_time": "2023-03-16T09:35:14.527Z"
   },
   {
    "duration": 16,
    "start_time": "2023-03-16T09:35:35.137Z"
   },
   {
    "duration": 22,
    "start_time": "2023-03-16T09:44:46.321Z"
   },
   {
    "duration": 15,
    "start_time": "2023-03-16T10:47:13.182Z"
   },
   {
    "duration": 21,
    "start_time": "2023-03-16T10:47:32.754Z"
   },
   {
    "duration": 21,
    "start_time": "2023-03-16T10:47:48.294Z"
   },
   {
    "duration": 28,
    "start_time": "2023-03-16T10:48:42.009Z"
   },
   {
    "duration": 33,
    "start_time": "2023-03-16T10:48:48.541Z"
   },
   {
    "duration": 50,
    "start_time": "2023-03-16T10:49:05.522Z"
   },
   {
    "duration": 46,
    "start_time": "2023-03-16T10:49:14.321Z"
   },
   {
    "duration": 25,
    "start_time": "2023-03-16T10:49:19.485Z"
   },
   {
    "duration": 26,
    "start_time": "2023-03-16T10:50:39.842Z"
   },
   {
    "duration": 24,
    "start_time": "2023-03-16T10:50:53.890Z"
   },
   {
    "duration": 493,
    "start_time": "2023-03-16T11:17:43.805Z"
   },
   {
    "duration": 70,
    "start_time": "2023-03-16T11:18:05.909Z"
   },
   {
    "duration": 107,
    "start_time": "2023-03-16T11:18:38.953Z"
   },
   {
    "duration": 82,
    "start_time": "2023-03-16T11:18:48.458Z"
   },
   {
    "duration": 34,
    "start_time": "2023-03-16T11:20:01.737Z"
   },
   {
    "duration": 61,
    "start_time": "2023-03-16T11:20:06.497Z"
   },
   {
    "duration": 61,
    "start_time": "2023-03-16T11:24:07.793Z"
   },
   {
    "duration": 87,
    "start_time": "2023-03-16T11:26:14.121Z"
   },
   {
    "duration": 68,
    "start_time": "2023-03-16T11:26:30.225Z"
   },
   {
    "duration": 9,
    "start_time": "2023-03-16T11:26:30.296Z"
   },
   {
    "duration": 64,
    "start_time": "2023-03-16T11:26:39.005Z"
   },
   {
    "duration": 65,
    "start_time": "2023-03-16T11:26:44.886Z"
   },
   {
    "duration": 157,
    "start_time": "2023-03-16T11:27:17.806Z"
   },
   {
    "duration": 66,
    "start_time": "2023-03-16T11:27:59.389Z"
   },
   {
    "duration": 56,
    "start_time": "2023-03-16T11:39:51.497Z"
   },
   {
    "duration": 62,
    "start_time": "2023-03-16T11:40:06.838Z"
   },
   {
    "duration": 60,
    "start_time": "2023-03-16T11:40:36.122Z"
   },
   {
    "duration": 59,
    "start_time": "2023-03-16T11:40:55.029Z"
   },
   {
    "duration": 58,
    "start_time": "2023-03-16T11:41:08.510Z"
   },
   {
    "duration": 63,
    "start_time": "2023-03-16T11:41:21.295Z"
   },
   {
    "duration": 59,
    "start_time": "2023-03-16T11:49:21.046Z"
   },
   {
    "duration": 63,
    "start_time": "2023-03-16T11:49:28.436Z"
   },
   {
    "duration": 19,
    "start_time": "2023-03-16T11:52:04.730Z"
   },
   {
    "duration": 11,
    "start_time": "2023-03-16T11:55:04.946Z"
   },
   {
    "duration": 7,
    "start_time": "2023-03-16T11:55:30.195Z"
   },
   {
    "duration": 22,
    "start_time": "2023-03-16T11:56:18.145Z"
   },
   {
    "duration": 8,
    "start_time": "2023-03-16T11:56:42.991Z"
   },
   {
    "duration": 18,
    "start_time": "2023-03-16T11:57:19.897Z"
   },
   {
    "duration": 11,
    "start_time": "2023-03-16T11:57:46.593Z"
   },
   {
    "duration": 1239,
    "start_time": "2023-03-16T11:57:57.519Z"
   },
   {
    "duration": 1263,
    "start_time": "2023-03-16T11:57:58.760Z"
   },
   {
    "duration": 4,
    "start_time": "2023-03-16T11:58:00.025Z"
   },
   {
    "duration": 61,
    "start_time": "2023-03-16T11:58:00.032Z"
   },
   {
    "duration": 8,
    "start_time": "2023-03-16T11:58:00.096Z"
   },
   {
    "duration": 81,
    "start_time": "2023-03-16T11:58:00.106Z"
   },
   {
    "duration": 22,
    "start_time": "2023-03-16T11:58:00.188Z"
   },
   {
    "duration": 385,
    "start_time": "2023-03-16T11:58:00.211Z"
   },
   {
    "duration": 151,
    "start_time": "2023-03-16T11:58:00.597Z"
   },
   {
    "duration": 39,
    "start_time": "2023-03-16T11:58:00.752Z"
   },
   {
    "duration": 51,
    "start_time": "2023-03-16T11:58:00.793Z"
   },
   {
    "duration": 47,
    "start_time": "2023-03-16T11:58:00.845Z"
   },
   {
    "duration": 47,
    "start_time": "2023-03-16T11:58:00.894Z"
   },
   {
    "duration": 50,
    "start_time": "2023-03-16T11:58:00.943Z"
   },
   {
    "duration": 64,
    "start_time": "2023-03-16T11:58:00.995Z"
   },
   {
    "duration": 21,
    "start_time": "2023-03-16T11:58:01.061Z"
   },
   {
    "duration": 31,
    "start_time": "2023-03-16T11:58:01.084Z"
   },
   {
    "duration": 30,
    "start_time": "2023-03-16T11:58:01.117Z"
   },
   {
    "duration": 38,
    "start_time": "2023-03-16T11:58:01.149Z"
   },
   {
    "duration": 138,
    "start_time": "2023-03-16T11:58:01.189Z"
   },
   {
    "duration": 6,
    "start_time": "2023-03-16T11:58:01.328Z"
   },
   {
    "duration": 26,
    "start_time": "2023-03-16T11:58:01.336Z"
   },
   {
    "duration": 43,
    "start_time": "2023-03-16T11:58:01.364Z"
   },
   {
    "duration": 27,
    "start_time": "2023-03-16T11:58:01.409Z"
   },
   {
    "duration": 31,
    "start_time": "2023-03-16T11:58:01.438Z"
   },
   {
    "duration": 19,
    "start_time": "2023-03-16T11:58:01.471Z"
   },
   {
    "duration": 39,
    "start_time": "2023-03-16T11:58:01.492Z"
   },
   {
    "duration": 41,
    "start_time": "2023-03-16T11:58:01.535Z"
   },
   {
    "duration": 44,
    "start_time": "2023-03-16T11:58:01.577Z"
   },
   {
    "duration": 32,
    "start_time": "2023-03-16T11:58:01.623Z"
   },
   {
    "duration": 221,
    "start_time": "2023-03-16T11:58:01.657Z"
   },
   {
    "duration": 3,
    "start_time": "2023-03-16T11:58:01.880Z"
   },
   {
    "duration": 19,
    "start_time": "2023-03-16T11:58:01.884Z"
   },
   {
    "duration": 516,
    "start_time": "2023-03-16T11:58:01.905Z"
   },
   {
    "duration": 10,
    "start_time": "2023-03-16T11:58:02.423Z"
   },
   {
    "duration": 15,
    "start_time": "2023-03-16T11:58:02.435Z"
   },
   {
    "duration": 6,
    "start_time": "2023-03-16T11:58:02.452Z"
   },
   {
    "duration": 11,
    "start_time": "2023-03-16T11:58:02.460Z"
   },
   {
    "duration": 42,
    "start_time": "2023-03-16T11:58:02.473Z"
   },
   {
    "duration": 23,
    "start_time": "2023-03-16T11:58:02.517Z"
   },
   {
    "duration": 25,
    "start_time": "2023-03-16T11:58:02.542Z"
   },
   {
    "duration": 447,
    "start_time": "2023-03-16T11:58:02.569Z"
   },
   {
    "duration": 117,
    "start_time": "2023-03-16T11:58:03.018Z"
   },
   {
    "duration": 107,
    "start_time": "2023-03-16T11:58:03.137Z"
   },
   {
    "duration": 0,
    "start_time": "2023-03-16T11:58:03.245Z"
   },
   {
    "duration": 0,
    "start_time": "2023-03-16T11:58:03.246Z"
   },
   {
    "duration": 0,
    "start_time": "2023-03-16T11:58:03.248Z"
   },
   {
    "duration": 10,
    "start_time": "2023-03-16T11:59:22.401Z"
   },
   {
    "duration": 11,
    "start_time": "2023-03-16T11:59:49.053Z"
   },
   {
    "duration": 1207,
    "start_time": "2023-03-16T11:59:57.840Z"
   },
   {
    "duration": 1106,
    "start_time": "2023-03-16T11:59:59.049Z"
   },
   {
    "duration": 4,
    "start_time": "2023-03-16T12:00:00.157Z"
   },
   {
    "duration": 60,
    "start_time": "2023-03-16T12:00:00.164Z"
   },
   {
    "duration": 14,
    "start_time": "2023-03-16T12:00:00.226Z"
   },
   {
    "duration": 85,
    "start_time": "2023-03-16T12:00:00.242Z"
   },
   {
    "duration": 22,
    "start_time": "2023-03-16T12:00:00.329Z"
   },
   {
    "duration": 378,
    "start_time": "2023-03-16T12:00:00.353Z"
   },
   {
    "duration": 138,
    "start_time": "2023-03-16T12:00:00.732Z"
   },
   {
    "duration": 12,
    "start_time": "2023-03-16T12:00:00.873Z"
   },
   {
    "duration": 42,
    "start_time": "2023-03-16T12:00:00.887Z"
   },
   {
    "duration": 23,
    "start_time": "2023-03-16T12:00:00.931Z"
   },
   {
    "duration": 11,
    "start_time": "2023-03-16T12:00:00.956Z"
   },
   {
    "duration": 35,
    "start_time": "2023-03-16T12:00:00.969Z"
   },
   {
    "duration": 55,
    "start_time": "2023-03-16T12:00:01.005Z"
   },
   {
    "duration": 52,
    "start_time": "2023-03-16T12:00:01.062Z"
   },
   {
    "duration": 48,
    "start_time": "2023-03-16T12:00:01.116Z"
   },
   {
    "duration": 54,
    "start_time": "2023-03-16T12:00:01.165Z"
   },
   {
    "duration": 71,
    "start_time": "2023-03-16T12:00:01.221Z"
   },
   {
    "duration": 161,
    "start_time": "2023-03-16T12:00:01.294Z"
   },
   {
    "duration": 6,
    "start_time": "2023-03-16T12:00:01.457Z"
   },
   {
    "duration": 58,
    "start_time": "2023-03-16T12:00:01.465Z"
   },
   {
    "duration": 53,
    "start_time": "2023-03-16T12:00:01.525Z"
   },
   {
    "duration": 72,
    "start_time": "2023-03-16T12:00:01.579Z"
   },
   {
    "duration": 125,
    "start_time": "2023-03-16T12:00:01.653Z"
   },
   {
    "duration": 42,
    "start_time": "2023-03-16T12:00:01.779Z"
   },
   {
    "duration": 41,
    "start_time": "2023-03-16T12:00:01.823Z"
   },
   {
    "duration": 43,
    "start_time": "2023-03-16T12:00:01.868Z"
   },
   {
    "duration": 29,
    "start_time": "2023-03-16T12:00:01.913Z"
   },
   {
    "duration": 72,
    "start_time": "2023-03-16T12:00:01.944Z"
   },
   {
    "duration": 227,
    "start_time": "2023-03-16T12:00:02.018Z"
   },
   {
    "duration": 2,
    "start_time": "2023-03-16T12:00:02.247Z"
   },
   {
    "duration": 23,
    "start_time": "2023-03-16T12:00:02.251Z"
   },
   {
    "duration": 490,
    "start_time": "2023-03-16T12:00:02.276Z"
   },
   {
    "duration": 7,
    "start_time": "2023-03-16T12:00:02.768Z"
   },
   {
    "duration": 37,
    "start_time": "2023-03-16T12:00:02.777Z"
   },
   {
    "duration": 7,
    "start_time": "2023-03-16T12:00:02.815Z"
   },
   {
    "duration": 25,
    "start_time": "2023-03-16T12:00:02.824Z"
   },
   {
    "duration": 17,
    "start_time": "2023-03-16T12:00:02.851Z"
   },
   {
    "duration": 28,
    "start_time": "2023-03-16T12:00:02.870Z"
   },
   {
    "duration": 27,
    "start_time": "2023-03-16T12:00:02.900Z"
   },
   {
    "duration": 421,
    "start_time": "2023-03-16T12:00:02.929Z"
   },
   {
    "duration": 95,
    "start_time": "2023-03-16T12:00:03.352Z"
   },
   {
    "duration": 7,
    "start_time": "2023-03-16T12:00:03.449Z"
   },
   {
    "duration": 116,
    "start_time": "2023-03-16T12:00:03.457Z"
   },
   {
    "duration": 0,
    "start_time": "2023-03-16T12:00:03.575Z"
   },
   {
    "duration": 0,
    "start_time": "2023-03-16T12:00:03.576Z"
   },
   {
    "duration": 4,
    "start_time": "2023-03-16T12:00:30.906Z"
   },
   {
    "duration": 585,
    "start_time": "2023-03-16T12:00:46.217Z"
   },
   {
    "duration": 563,
    "start_time": "2023-03-16T12:01:19.482Z"
   },
   {
    "duration": 1173,
    "start_time": "2023-03-16T12:01:24.539Z"
   },
   {
    "duration": 1247,
    "start_time": "2023-03-16T12:01:25.715Z"
   },
   {
    "duration": 5,
    "start_time": "2023-03-16T12:01:26.964Z"
   },
   {
    "duration": 29,
    "start_time": "2023-03-16T12:01:26.971Z"
   },
   {
    "duration": 9,
    "start_time": "2023-03-16T12:01:27.002Z"
   },
   {
    "duration": 70,
    "start_time": "2023-03-16T12:01:27.012Z"
   },
   {
    "duration": 20,
    "start_time": "2023-03-16T12:01:27.084Z"
   },
   {
    "duration": 358,
    "start_time": "2023-03-16T12:01:27.106Z"
   },
   {
    "duration": 132,
    "start_time": "2023-03-16T12:01:27.465Z"
   },
   {
    "duration": 14,
    "start_time": "2023-03-16T12:01:27.611Z"
   },
   {
    "duration": 22,
    "start_time": "2023-03-16T12:01:27.627Z"
   },
   {
    "duration": 23,
    "start_time": "2023-03-16T12:01:27.651Z"
   },
   {
    "duration": 39,
    "start_time": "2023-03-16T12:01:27.676Z"
   },
   {
    "duration": 17,
    "start_time": "2023-03-16T12:01:27.717Z"
   },
   {
    "duration": 31,
    "start_time": "2023-03-16T12:01:27.736Z"
   },
   {
    "duration": 16,
    "start_time": "2023-03-16T12:01:27.769Z"
   },
   {
    "duration": 15,
    "start_time": "2023-03-16T12:01:27.813Z"
   },
   {
    "duration": 6,
    "start_time": "2023-03-16T12:01:27.829Z"
   },
   {
    "duration": 27,
    "start_time": "2023-03-16T12:01:27.837Z"
   },
   {
    "duration": 120,
    "start_time": "2023-03-16T12:01:27.866Z"
   },
   {
    "duration": 4,
    "start_time": "2023-03-16T12:01:27.987Z"
   },
   {
    "duration": 26,
    "start_time": "2023-03-16T12:01:27.993Z"
   },
   {
    "duration": 48,
    "start_time": "2023-03-16T12:01:28.021Z"
   },
   {
    "duration": 10,
    "start_time": "2023-03-16T12:01:28.071Z"
   },
   {
    "duration": 18,
    "start_time": "2023-03-16T12:01:28.083Z"
   },
   {
    "duration": 6,
    "start_time": "2023-03-16T12:01:28.103Z"
   },
   {
    "duration": 7,
    "start_time": "2023-03-16T12:01:28.111Z"
   },
   {
    "duration": 15,
    "start_time": "2023-03-16T12:01:28.122Z"
   },
   {
    "duration": 20,
    "start_time": "2023-03-16T12:01:28.139Z"
   },
   {
    "duration": 10,
    "start_time": "2023-03-16T12:01:28.161Z"
   },
   {
    "duration": 202,
    "start_time": "2023-03-16T12:01:28.173Z"
   },
   {
    "duration": 2,
    "start_time": "2023-03-16T12:01:28.377Z"
   },
   {
    "duration": 10,
    "start_time": "2023-03-16T12:01:28.381Z"
   },
   {
    "duration": 486,
    "start_time": "2023-03-16T12:01:28.393Z"
   },
   {
    "duration": 7,
    "start_time": "2023-03-16T12:01:28.881Z"
   },
   {
    "duration": 25,
    "start_time": "2023-03-16T12:01:28.889Z"
   },
   {
    "duration": 5,
    "start_time": "2023-03-16T12:01:28.916Z"
   },
   {
    "duration": 14,
    "start_time": "2023-03-16T12:01:28.923Z"
   },
   {
    "duration": 17,
    "start_time": "2023-03-16T12:01:28.939Z"
   },
   {
    "duration": 44,
    "start_time": "2023-03-16T12:01:28.958Z"
   },
   {
    "duration": 23,
    "start_time": "2023-03-16T12:01:29.004Z"
   },
   {
    "duration": 425,
    "start_time": "2023-03-16T12:01:29.029Z"
   },
   {
    "duration": 100,
    "start_time": "2023-03-16T12:01:29.456Z"
   },
   {
    "duration": 8,
    "start_time": "2023-03-16T12:01:29.613Z"
   },
   {
    "duration": 89,
    "start_time": "2023-03-16T12:01:29.623Z"
   },
   {
    "duration": 0,
    "start_time": "2023-03-16T12:01:29.714Z"
   },
   {
    "duration": 0,
    "start_time": "2023-03-16T12:01:29.715Z"
   },
   {
    "duration": 7,
    "start_time": "2023-03-16T12:01:42.150Z"
   },
   {
    "duration": 1216,
    "start_time": "2023-03-16T12:01:51.445Z"
   },
   {
    "duration": 1172,
    "start_time": "2023-03-16T12:01:52.663Z"
   },
   {
    "duration": 4,
    "start_time": "2023-03-16T12:01:53.839Z"
   },
   {
    "duration": 24,
    "start_time": "2023-03-16T12:01:53.846Z"
   },
   {
    "duration": 6,
    "start_time": "2023-03-16T12:01:53.872Z"
   },
   {
    "duration": 67,
    "start_time": "2023-03-16T12:01:53.879Z"
   },
   {
    "duration": 20,
    "start_time": "2023-03-16T12:01:53.948Z"
   },
   {
    "duration": 424,
    "start_time": "2023-03-16T12:01:53.969Z"
   },
   {
    "duration": 141,
    "start_time": "2023-03-16T12:01:54.396Z"
   },
   {
    "duration": 13,
    "start_time": "2023-03-16T12:01:54.539Z"
   },
   {
    "duration": 22,
    "start_time": "2023-03-16T12:01:54.553Z"
   },
   {
    "duration": 44,
    "start_time": "2023-03-16T12:01:54.577Z"
   },
   {
    "duration": 4,
    "start_time": "2023-03-16T12:01:54.623Z"
   },
   {
    "duration": 38,
    "start_time": "2023-03-16T12:01:54.629Z"
   },
   {
    "duration": 25,
    "start_time": "2023-03-16T12:01:54.669Z"
   },
   {
    "duration": 23,
    "start_time": "2023-03-16T12:01:54.696Z"
   },
   {
    "duration": 13,
    "start_time": "2023-03-16T12:01:54.721Z"
   },
   {
    "duration": 12,
    "start_time": "2023-03-16T12:01:54.736Z"
   },
   {
    "duration": 37,
    "start_time": "2023-03-16T12:01:54.749Z"
   },
   {
    "duration": 127,
    "start_time": "2023-03-16T12:01:54.787Z"
   },
   {
    "duration": 5,
    "start_time": "2023-03-16T12:01:54.916Z"
   },
   {
    "duration": 17,
    "start_time": "2023-03-16T12:01:54.922Z"
   },
   {
    "duration": 18,
    "start_time": "2023-03-16T12:01:54.941Z"
   },
   {
    "duration": 9,
    "start_time": "2023-03-16T12:01:54.960Z"
   },
   {
    "duration": 17,
    "start_time": "2023-03-16T12:01:54.971Z"
   },
   {
    "duration": 3,
    "start_time": "2023-03-16T12:01:55.013Z"
   },
   {
    "duration": 4,
    "start_time": "2023-03-16T12:01:55.021Z"
   },
   {
    "duration": 15,
    "start_time": "2023-03-16T12:01:55.027Z"
   },
   {
    "duration": 6,
    "start_time": "2023-03-16T12:01:55.044Z"
   },
   {
    "duration": 31,
    "start_time": "2023-03-16T12:01:55.052Z"
   },
   {
    "duration": 195,
    "start_time": "2023-03-16T12:01:55.085Z"
   },
   {
    "duration": 2,
    "start_time": "2023-03-16T12:01:55.282Z"
   },
   {
    "duration": 7,
    "start_time": "2023-03-16T12:01:55.286Z"
   },
   {
    "duration": 478,
    "start_time": "2023-03-16T12:01:55.296Z"
   },
   {
    "duration": 8,
    "start_time": "2023-03-16T12:01:55.776Z"
   },
   {
    "duration": 29,
    "start_time": "2023-03-16T12:01:55.786Z"
   },
   {
    "duration": 6,
    "start_time": "2023-03-16T12:01:55.817Z"
   },
   {
    "duration": 8,
    "start_time": "2023-03-16T12:01:55.825Z"
   },
   {
    "duration": 15,
    "start_time": "2023-03-16T12:01:55.835Z"
   },
   {
    "duration": 39,
    "start_time": "2023-03-16T12:01:55.853Z"
   },
   {
    "duration": 26,
    "start_time": "2023-03-16T12:01:55.911Z"
   },
   {
    "duration": 415,
    "start_time": "2023-03-16T12:01:55.938Z"
   },
   {
    "duration": 100,
    "start_time": "2023-03-16T12:01:56.355Z"
   },
   {
    "duration": 60,
    "start_time": "2023-03-16T12:01:56.457Z"
   },
   {
    "duration": 63,
    "start_time": "2023-03-16T12:01:56.519Z"
   },
   {
    "duration": 0,
    "start_time": "2023-03-16T12:01:56.584Z"
   },
   {
    "duration": 0,
    "start_time": "2023-03-16T12:01:56.585Z"
   },
   {
    "duration": 5,
    "start_time": "2023-03-16T12:02:17.592Z"
   },
   {
    "duration": 18,
    "start_time": "2023-03-16T12:03:51.497Z"
   },
   {
    "duration": 9,
    "start_time": "2023-03-16T12:04:06.490Z"
   },
   {
    "duration": 21,
    "start_time": "2023-03-16T12:06:19.542Z"
   },
   {
    "duration": 20,
    "start_time": "2023-03-16T12:07:22.599Z"
   },
   {
    "duration": 21,
    "start_time": "2023-03-16T12:07:28.286Z"
   },
   {
    "duration": 22,
    "start_time": "2023-03-16T12:07:42.199Z"
   },
   {
    "duration": 4,
    "start_time": "2023-03-16T12:08:24.701Z"
   },
   {
    "duration": 103,
    "start_time": "2023-03-16T12:14:21.350Z"
   },
   {
    "duration": 6,
    "start_time": "2023-03-16T18:16:40.368Z"
   },
   {
    "duration": 28,
    "start_time": "2023-03-16T18:16:55.291Z"
   },
   {
    "duration": 22,
    "start_time": "2023-03-16T18:17:22.761Z"
   },
   {
    "duration": 27,
    "start_time": "2023-03-16T18:17:46.064Z"
   },
   {
    "duration": 42,
    "start_time": "2023-03-16T18:21:18.051Z"
   },
   {
    "duration": 19,
    "start_time": "2023-03-16T18:21:23.707Z"
   },
   {
    "duration": 118,
    "start_time": "2023-03-16T18:21:35.904Z"
   },
   {
    "duration": 110,
    "start_time": "2023-03-16T18:21:43.833Z"
   },
   {
    "duration": 72,
    "start_time": "2023-03-16T18:38:40.493Z"
   },
   {
    "duration": 7,
    "start_time": "2023-03-16T18:38:52.097Z"
   },
   {
    "duration": 3,
    "start_time": "2023-03-16T18:39:25.076Z"
   },
   {
    "duration": 17,
    "start_time": "2023-03-16T18:39:59.478Z"
   },
   {
    "duration": 13,
    "start_time": "2023-03-16T18:40:03.445Z"
   },
   {
    "duration": 12,
    "start_time": "2023-03-16T18:40:37.917Z"
   },
   {
    "duration": 44,
    "start_time": "2023-03-16T18:54:28.362Z"
   },
   {
    "duration": 545,
    "start_time": "2023-03-16T18:56:08.895Z"
   },
   {
    "duration": 383,
    "start_time": "2023-03-16T18:56:48.644Z"
   },
   {
    "duration": 381,
    "start_time": "2023-03-16T18:57:12.820Z"
   },
   {
    "duration": 501,
    "start_time": "2023-03-16T18:57:26.246Z"
   },
   {
    "duration": 423,
    "start_time": "2023-03-16T19:05:00.230Z"
   },
   {
    "duration": 1152,
    "start_time": "2023-03-16T19:11:53.427Z"
   },
   {
    "duration": 1125,
    "start_time": "2023-03-16T19:11:54.581Z"
   },
   {
    "duration": 4,
    "start_time": "2023-03-16T19:11:55.707Z"
   },
   {
    "duration": 25,
    "start_time": "2023-03-16T19:11:55.713Z"
   },
   {
    "duration": 5,
    "start_time": "2023-03-16T19:11:55.739Z"
   },
   {
    "duration": 54,
    "start_time": "2023-03-16T19:11:55.745Z"
   },
   {
    "duration": 19,
    "start_time": "2023-03-16T19:11:55.801Z"
   },
   {
    "duration": 368,
    "start_time": "2023-03-16T19:11:55.822Z"
   },
   {
    "duration": 158,
    "start_time": "2023-03-16T19:11:56.192Z"
   },
   {
    "duration": 29,
    "start_time": "2023-03-16T19:11:56.352Z"
   },
   {
    "duration": 22,
    "start_time": "2023-03-16T19:11:56.382Z"
   },
   {
    "duration": 26,
    "start_time": "2023-03-16T19:11:56.406Z"
   },
   {
    "duration": 16,
    "start_time": "2023-03-16T19:11:56.435Z"
   },
   {
    "duration": 58,
    "start_time": "2023-03-16T19:11:56.452Z"
   },
   {
    "duration": 24,
    "start_time": "2023-03-16T19:11:56.512Z"
   },
   {
    "duration": 14,
    "start_time": "2023-03-16T19:11:56.538Z"
   },
   {
    "duration": 23,
    "start_time": "2023-03-16T19:11:56.553Z"
   },
   {
    "duration": 6,
    "start_time": "2023-03-16T19:11:56.578Z"
   },
   {
    "duration": 16,
    "start_time": "2023-03-16T19:11:56.586Z"
   },
   {
    "duration": 135,
    "start_time": "2023-03-16T19:11:56.604Z"
   },
   {
    "duration": 5,
    "start_time": "2023-03-16T19:11:56.741Z"
   },
   {
    "duration": 27,
    "start_time": "2023-03-16T19:11:56.748Z"
   },
   {
    "duration": 19,
    "start_time": "2023-03-16T19:11:56.777Z"
   },
   {
    "duration": 9,
    "start_time": "2023-03-16T19:11:56.797Z"
   },
   {
    "duration": 22,
    "start_time": "2023-03-16T19:11:56.808Z"
   },
   {
    "duration": 6,
    "start_time": "2023-03-16T19:11:56.832Z"
   },
   {
    "duration": 12,
    "start_time": "2023-03-16T19:11:56.839Z"
   },
   {
    "duration": 25,
    "start_time": "2023-03-16T19:11:56.854Z"
   },
   {
    "duration": 9,
    "start_time": "2023-03-16T19:11:56.880Z"
   },
   {
    "duration": 9,
    "start_time": "2023-03-16T19:11:56.891Z"
   },
   {
    "duration": 192,
    "start_time": "2023-03-16T19:11:56.901Z"
   },
   {
    "duration": 3,
    "start_time": "2023-03-16T19:11:57.095Z"
   },
   {
    "duration": 11,
    "start_time": "2023-03-16T19:11:57.099Z"
   },
   {
    "duration": 428,
    "start_time": "2023-03-16T19:11:57.112Z"
   },
   {
    "duration": 6,
    "start_time": "2023-03-16T19:11:57.542Z"
   },
   {
    "duration": 27,
    "start_time": "2023-03-16T19:11:57.550Z"
   },
   {
    "duration": 5,
    "start_time": "2023-03-16T19:11:57.578Z"
   },
   {
    "duration": 6,
    "start_time": "2023-03-16T19:11:57.585Z"
   },
   {
    "duration": 17,
    "start_time": "2023-03-16T19:11:57.593Z"
   },
   {
    "duration": 23,
    "start_time": "2023-03-16T19:11:57.611Z"
   },
   {
    "duration": 50,
    "start_time": "2023-03-16T19:11:57.635Z"
   },
   {
    "duration": 401,
    "start_time": "2023-03-16T19:11:57.687Z"
   },
   {
    "duration": 109,
    "start_time": "2023-03-16T19:11:58.090Z"
   },
   {
    "duration": 6,
    "start_time": "2023-03-16T19:11:58.201Z"
   },
   {
    "duration": 77,
    "start_time": "2023-03-16T19:11:58.209Z"
   },
   {
    "duration": 133,
    "start_time": "2023-03-16T19:11:58.288Z"
   },
   {
    "duration": 7,
    "start_time": "2023-03-16T19:11:58.422Z"
   },
   {
    "duration": 12,
    "start_time": "2023-03-16T19:11:58.431Z"
   },
   {
    "duration": 426,
    "start_time": "2023-03-16T19:11:58.444Z"
   },
   {
    "duration": 479,
    "start_time": "2023-03-16T19:22:34.751Z"
   },
   {
    "duration": 48,
    "start_time": "2023-03-16T19:39:27.609Z"
   },
   {
    "duration": 12,
    "start_time": "2023-03-16T19:39:38.577Z"
   },
   {
    "duration": 16,
    "start_time": "2023-03-16T19:39:49.957Z"
   },
   {
    "duration": 70,
    "start_time": "2023-03-16T19:56:07.450Z"
   },
   {
    "duration": 90,
    "start_time": "2023-03-16T19:56:11.153Z"
   },
   {
    "duration": 17,
    "start_time": "2023-03-16T19:56:16.435Z"
   },
   {
    "duration": 19,
    "start_time": "2023-03-16T19:56:23.544Z"
   },
   {
    "duration": 22,
    "start_time": "2023-03-16T19:58:17.707Z"
   },
   {
    "duration": 21,
    "start_time": "2023-03-16T19:58:50.999Z"
   },
   {
    "duration": 26,
    "start_time": "2023-03-16T19:59:16.704Z"
   },
   {
    "duration": 22,
    "start_time": "2023-03-16T19:59:33.008Z"
   },
   {
    "duration": 26,
    "start_time": "2023-03-16T20:01:02.451Z"
   },
   {
    "duration": 21,
    "start_time": "2023-03-16T20:01:41.972Z"
   },
   {
    "duration": 22,
    "start_time": "2023-03-16T20:02:53.646Z"
   },
   {
    "duration": 12,
    "start_time": "2023-03-16T20:03:04.053Z"
   },
   {
    "duration": 10,
    "start_time": "2023-03-16T20:03:11.072Z"
   },
   {
    "duration": 1200,
    "start_time": "2023-03-16T20:08:49.232Z"
   },
   {
    "duration": 1313,
    "start_time": "2023-03-16T20:08:50.434Z"
   },
   {
    "duration": 4,
    "start_time": "2023-03-16T20:08:51.749Z"
   },
   {
    "duration": 22,
    "start_time": "2023-03-16T20:08:51.754Z"
   },
   {
    "duration": 5,
    "start_time": "2023-03-16T20:08:51.777Z"
   },
   {
    "duration": 59,
    "start_time": "2023-03-16T20:08:51.783Z"
   },
   {
    "duration": 31,
    "start_time": "2023-03-16T20:08:51.844Z"
   },
   {
    "duration": 365,
    "start_time": "2023-03-16T20:08:51.877Z"
   },
   {
    "duration": 133,
    "start_time": "2023-03-16T20:08:52.244Z"
   },
   {
    "duration": 12,
    "start_time": "2023-03-16T20:08:52.379Z"
   },
   {
    "duration": 22,
    "start_time": "2023-03-16T20:08:52.393Z"
   },
   {
    "duration": 24,
    "start_time": "2023-03-16T20:08:52.418Z"
   },
   {
    "duration": 5,
    "start_time": "2023-03-16T20:08:52.476Z"
   },
   {
    "duration": 28,
    "start_time": "2023-03-16T20:08:52.483Z"
   },
   {
    "duration": 47,
    "start_time": "2023-03-16T20:08:52.513Z"
   },
   {
    "duration": 31,
    "start_time": "2023-03-16T20:08:52.562Z"
   },
   {
    "duration": 13,
    "start_time": "2023-03-16T20:08:52.595Z"
   },
   {
    "duration": 11,
    "start_time": "2023-03-16T20:08:52.610Z"
   },
   {
    "duration": 29,
    "start_time": "2023-03-16T20:08:52.622Z"
   },
   {
    "duration": 119,
    "start_time": "2023-03-16T20:08:52.653Z"
   },
   {
    "duration": 5,
    "start_time": "2023-03-16T20:08:52.773Z"
   },
   {
    "duration": 9,
    "start_time": "2023-03-16T20:08:52.780Z"
   },
   {
    "duration": 20,
    "start_time": "2023-03-16T20:08:52.791Z"
   },
   {
    "duration": 10,
    "start_time": "2023-03-16T20:08:52.813Z"
   },
   {
    "duration": 9,
    "start_time": "2023-03-16T20:08:52.824Z"
   },
   {
    "duration": 4,
    "start_time": "2023-03-16T20:08:52.835Z"
   },
   {
    "duration": 4,
    "start_time": "2023-03-16T20:08:52.874Z"
   },
   {
    "duration": 19,
    "start_time": "2023-03-16T20:08:52.882Z"
   },
   {
    "duration": 8,
    "start_time": "2023-03-16T20:08:52.902Z"
   },
   {
    "duration": 12,
    "start_time": "2023-03-16T20:08:52.911Z"
   },
   {
    "duration": 197,
    "start_time": "2023-03-16T20:08:52.925Z"
   },
   {
    "duration": 2,
    "start_time": "2023-03-16T20:08:53.124Z"
   },
   {
    "duration": 4,
    "start_time": "2023-03-16T20:08:53.129Z"
   },
   {
    "duration": 452,
    "start_time": "2023-03-16T20:08:53.135Z"
   },
   {
    "duration": 6,
    "start_time": "2023-03-16T20:08:53.589Z"
   },
   {
    "duration": 12,
    "start_time": "2023-03-16T20:08:53.597Z"
   },
   {
    "duration": 4,
    "start_time": "2023-03-16T20:08:53.611Z"
   },
   {
    "duration": 11,
    "start_time": "2023-03-16T20:08:53.617Z"
   },
   {
    "duration": 13,
    "start_time": "2023-03-16T20:08:53.629Z"
   },
   {
    "duration": 49,
    "start_time": "2023-03-16T20:08:53.644Z"
   },
   {
    "duration": 20,
    "start_time": "2023-03-16T20:08:53.695Z"
   },
   {
    "duration": 433,
    "start_time": "2023-03-16T20:08:53.717Z"
   },
   {
    "duration": 141,
    "start_time": "2023-03-16T20:08:54.152Z"
   },
   {
    "duration": 5,
    "start_time": "2023-03-16T20:08:54.295Z"
   },
   {
    "duration": 18,
    "start_time": "2023-03-16T20:08:54.301Z"
   },
   {
    "duration": 134,
    "start_time": "2023-03-16T20:08:54.320Z"
   },
   {
    "duration": 6,
    "start_time": "2023-03-16T20:08:54.456Z"
   },
   {
    "duration": 15,
    "start_time": "2023-03-16T20:08:54.475Z"
   },
   {
    "duration": 408,
    "start_time": "2023-03-16T20:08:54.493Z"
   },
   {
    "duration": 30,
    "start_time": "2023-03-16T20:08:54.904Z"
   },
   {
    "duration": 25,
    "start_time": "2023-03-16T20:18:07.520Z"
   },
   {
    "duration": 24,
    "start_time": "2023-03-16T20:18:21.852Z"
   },
   {
    "duration": 4,
    "start_time": "2023-03-16T20:24:17.305Z"
   },
   {
    "duration": 5,
    "start_time": "2023-03-16T20:24:41.802Z"
   },
   {
    "duration": 9,
    "start_time": "2023-03-16T20:24:47.069Z"
   },
   {
    "duration": 7,
    "start_time": "2023-03-16T20:25:02.066Z"
   },
   {
    "duration": 9,
    "start_time": "2023-03-16T20:25:14.600Z"
   },
   {
    "duration": 1107,
    "start_time": "2023-03-16T20:25:21.492Z"
   },
   {
    "duration": 1131,
    "start_time": "2023-03-16T20:25:22.601Z"
   },
   {
    "duration": 4,
    "start_time": "2023-03-16T20:25:23.733Z"
   },
   {
    "duration": 28,
    "start_time": "2023-03-16T20:25:23.739Z"
   },
   {
    "duration": 4,
    "start_time": "2023-03-16T20:25:23.769Z"
   },
   {
    "duration": 46,
    "start_time": "2023-03-16T20:25:23.775Z"
   },
   {
    "duration": 17,
    "start_time": "2023-03-16T20:25:23.823Z"
   },
   {
    "duration": 397,
    "start_time": "2023-03-16T20:25:23.842Z"
   },
   {
    "duration": 141,
    "start_time": "2023-03-16T20:25:24.241Z"
   },
   {
    "duration": 13,
    "start_time": "2023-03-16T20:25:24.384Z"
   },
   {
    "duration": 20,
    "start_time": "2023-03-16T20:25:24.399Z"
   },
   {
    "duration": 22,
    "start_time": "2023-03-16T20:25:24.420Z"
   },
   {
    "duration": 33,
    "start_time": "2023-03-16T20:25:24.444Z"
   },
   {
    "duration": 17,
    "start_time": "2023-03-16T20:25:24.479Z"
   },
   {
    "duration": 24,
    "start_time": "2023-03-16T20:25:24.498Z"
   },
   {
    "duration": 15,
    "start_time": "2023-03-16T20:25:24.524Z"
   },
   {
    "duration": 13,
    "start_time": "2023-03-16T20:25:24.575Z"
   },
   {
    "duration": 5,
    "start_time": "2023-03-16T20:25:24.590Z"
   },
   {
    "duration": 15,
    "start_time": "2023-03-16T20:25:24.597Z"
   },
   {
    "duration": 128,
    "start_time": "2023-03-16T20:25:24.614Z"
   },
   {
    "duration": 5,
    "start_time": "2023-03-16T20:25:24.744Z"
   },
   {
    "duration": 27,
    "start_time": "2023-03-16T20:25:24.751Z"
   },
   {
    "duration": 18,
    "start_time": "2023-03-16T20:25:24.780Z"
   },
   {
    "duration": 10,
    "start_time": "2023-03-16T20:25:24.800Z"
   },
   {
    "duration": 12,
    "start_time": "2023-03-16T20:25:24.811Z"
   },
   {
    "duration": 6,
    "start_time": "2023-03-16T20:25:24.824Z"
   },
   {
    "duration": 6,
    "start_time": "2023-03-16T20:25:24.832Z"
   },
   {
    "duration": 37,
    "start_time": "2023-03-16T20:25:24.841Z"
   },
   {
    "duration": 10,
    "start_time": "2023-03-16T20:25:24.880Z"
   },
   {
    "duration": 8,
    "start_time": "2023-03-16T20:25:24.892Z"
   },
   {
    "duration": 199,
    "start_time": "2023-03-16T20:25:24.901Z"
   },
   {
    "duration": 2,
    "start_time": "2023-03-16T20:25:25.102Z"
   },
   {
    "duration": 12,
    "start_time": "2023-03-16T20:25:25.106Z"
   },
   {
    "duration": 437,
    "start_time": "2023-03-16T20:25:25.120Z"
   },
   {
    "duration": 7,
    "start_time": "2023-03-16T20:25:25.559Z"
   },
   {
    "duration": 13,
    "start_time": "2023-03-16T20:25:25.574Z"
   },
   {
    "duration": 5,
    "start_time": "2023-03-16T20:25:25.588Z"
   },
   {
    "duration": 8,
    "start_time": "2023-03-16T20:25:25.594Z"
   },
   {
    "duration": 17,
    "start_time": "2023-03-16T20:25:25.603Z"
   },
   {
    "duration": 18,
    "start_time": "2023-03-16T20:25:25.621Z"
   },
   {
    "duration": 49,
    "start_time": "2023-03-16T20:25:25.641Z"
   },
   {
    "duration": 402,
    "start_time": "2023-03-16T20:25:25.691Z"
   },
   {
    "duration": 110,
    "start_time": "2023-03-16T20:25:26.095Z"
   },
   {
    "duration": 4,
    "start_time": "2023-03-16T20:25:26.207Z"
   },
   {
    "duration": 21,
    "start_time": "2023-03-16T20:25:26.212Z"
   },
   {
    "duration": 107,
    "start_time": "2023-03-16T20:25:26.275Z"
   },
   {
    "duration": 7,
    "start_time": "2023-03-16T20:25:26.384Z"
   },
   {
    "duration": 13,
    "start_time": "2023-03-16T20:25:26.393Z"
   },
   {
    "duration": 431,
    "start_time": "2023-03-16T20:25:26.408Z"
   },
   {
    "duration": 44,
    "start_time": "2023-03-16T20:25:26.841Z"
   },
   {
    "duration": 6,
    "start_time": "2023-03-16T20:25:26.887Z"
   },
   {
    "duration": 9,
    "start_time": "2023-03-16T20:25:26.894Z"
   },
   {
    "duration": 4,
    "start_time": "2023-03-16T20:26:32.823Z"
   },
   {
    "duration": 10,
    "start_time": "2023-03-16T20:26:38.034Z"
   },
   {
    "duration": 1146,
    "start_time": "2023-03-16T20:26:49.434Z"
   },
   {
    "duration": 1007,
    "start_time": "2023-03-16T20:26:50.581Z"
   },
   {
    "duration": 5,
    "start_time": "2023-03-16T20:26:51.590Z"
   },
   {
    "duration": 22,
    "start_time": "2023-03-16T20:26:51.598Z"
   },
   {
    "duration": 4,
    "start_time": "2023-03-16T20:26:51.622Z"
   },
   {
    "duration": 74,
    "start_time": "2023-03-16T20:26:51.628Z"
   },
   {
    "duration": 17,
    "start_time": "2023-03-16T20:26:51.704Z"
   },
   {
    "duration": 352,
    "start_time": "2023-03-16T20:26:51.723Z"
   },
   {
    "duration": 131,
    "start_time": "2023-03-16T20:26:52.077Z"
   },
   {
    "duration": 12,
    "start_time": "2023-03-16T20:26:52.210Z"
   },
   {
    "duration": 18,
    "start_time": "2023-03-16T20:26:52.223Z"
   },
   {
    "duration": 40,
    "start_time": "2023-03-16T20:26:52.242Z"
   },
   {
    "duration": 5,
    "start_time": "2023-03-16T20:26:52.284Z"
   },
   {
    "duration": 15,
    "start_time": "2023-03-16T20:26:52.290Z"
   },
   {
    "duration": 28,
    "start_time": "2023-03-16T20:26:52.307Z"
   },
   {
    "duration": 42,
    "start_time": "2023-03-16T20:26:52.337Z"
   },
   {
    "duration": 12,
    "start_time": "2023-03-16T20:26:52.381Z"
   },
   {
    "duration": 10,
    "start_time": "2023-03-16T20:26:52.395Z"
   },
   {
    "duration": 23,
    "start_time": "2023-03-16T20:26:52.407Z"
   },
   {
    "duration": 122,
    "start_time": "2023-03-16T20:26:52.432Z"
   },
   {
    "duration": 4,
    "start_time": "2023-03-16T20:26:52.556Z"
   },
   {
    "duration": 19,
    "start_time": "2023-03-16T20:26:52.561Z"
   },
   {
    "duration": 26,
    "start_time": "2023-03-16T20:26:52.581Z"
   },
   {
    "duration": 10,
    "start_time": "2023-03-16T20:26:52.608Z"
   },
   {
    "duration": 17,
    "start_time": "2023-03-16T20:26:52.619Z"
   },
   {
    "duration": 13,
    "start_time": "2023-03-16T20:26:52.638Z"
   },
   {
    "duration": 36,
    "start_time": "2023-03-16T20:26:52.652Z"
   },
   {
    "duration": 21,
    "start_time": "2023-03-16T20:26:52.691Z"
   },
   {
    "duration": 18,
    "start_time": "2023-03-16T20:26:52.713Z"
   },
   {
    "duration": 13,
    "start_time": "2023-03-16T20:26:52.733Z"
   },
   {
    "duration": 163,
    "start_time": "2023-03-16T20:26:52.748Z"
   },
   {
    "duration": 2,
    "start_time": "2023-03-16T20:26:52.912Z"
   },
   {
    "duration": 13,
    "start_time": "2023-03-16T20:26:52.916Z"
   },
   {
    "duration": 422,
    "start_time": "2023-03-16T20:26:52.930Z"
   },
   {
    "duration": 6,
    "start_time": "2023-03-16T20:26:53.354Z"
   },
   {
    "duration": 24,
    "start_time": "2023-03-16T20:26:53.361Z"
   },
   {
    "duration": 5,
    "start_time": "2023-03-16T20:26:53.386Z"
   },
   {
    "duration": 8,
    "start_time": "2023-03-16T20:26:53.392Z"
   },
   {
    "duration": 20,
    "start_time": "2023-03-16T20:26:53.401Z"
   },
   {
    "duration": 18,
    "start_time": "2023-03-16T20:26:53.423Z"
   },
   {
    "duration": 43,
    "start_time": "2023-03-16T20:26:53.443Z"
   },
   {
    "duration": 412,
    "start_time": "2023-03-16T20:26:53.488Z"
   },
   {
    "duration": 100,
    "start_time": "2023-03-16T20:26:53.901Z"
   },
   {
    "duration": 4,
    "start_time": "2023-03-16T20:26:54.003Z"
   },
   {
    "duration": 24,
    "start_time": "2023-03-16T20:26:54.009Z"
   },
   {
    "duration": 132,
    "start_time": "2023-03-16T20:26:54.074Z"
   },
   {
    "duration": 8,
    "start_time": "2023-03-16T20:26:54.208Z"
   },
   {
    "duration": 19,
    "start_time": "2023-03-16T20:26:54.217Z"
   },
   {
    "duration": 426,
    "start_time": "2023-03-16T20:26:54.238Z"
   },
   {
    "duration": 36,
    "start_time": "2023-03-16T20:26:54.666Z"
   },
   {
    "duration": 7,
    "start_time": "2023-03-16T20:26:54.704Z"
   },
   {
    "duration": 6,
    "start_time": "2023-03-16T20:26:54.712Z"
   },
   {
    "duration": 9,
    "start_time": "2023-03-16T20:26:54.720Z"
   },
   {
    "duration": 20,
    "start_time": "2023-03-16T20:29:40.203Z"
   },
   {
    "duration": 9,
    "start_time": "2023-03-16T20:29:42.928Z"
   },
   {
    "duration": 13,
    "start_time": "2023-03-16T20:29:55.136Z"
   },
   {
    "duration": 13,
    "start_time": "2023-03-16T20:29:58.790Z"
   },
   {
    "duration": 10,
    "start_time": "2023-03-16T20:30:00.778Z"
   },
   {
    "duration": 18,
    "start_time": "2023-03-16T20:30:50.516Z"
   },
   {
    "duration": 73,
    "start_time": "2023-03-16T20:33:31.584Z"
   },
   {
    "duration": 19,
    "start_time": "2023-03-16T20:33:45.865Z"
   },
   {
    "duration": 23,
    "start_time": "2023-03-16T20:34:19.708Z"
   },
   {
    "duration": 54,
    "start_time": "2023-03-16T20:35:07.521Z"
   },
   {
    "duration": 55,
    "start_time": "2023-03-16T20:35:36.682Z"
   },
   {
    "duration": 12,
    "start_time": "2023-03-16T20:35:44.941Z"
   },
   {
    "duration": 123,
    "start_time": "2023-03-16T20:36:27.793Z"
   },
   {
    "duration": 12,
    "start_time": "2023-03-16T20:39:57.456Z"
   },
   {
    "duration": 12,
    "start_time": "2023-03-16T20:40:13.771Z"
   },
   {
    "duration": 42,
    "start_time": "2023-03-16T20:42:41.828Z"
   },
   {
    "duration": 15,
    "start_time": "2023-03-16T20:42:50.084Z"
   },
   {
    "duration": 13,
    "start_time": "2023-03-16T20:43:58.292Z"
   },
   {
    "duration": 14,
    "start_time": "2023-03-16T20:44:01.462Z"
   },
   {
    "duration": 12,
    "start_time": "2023-03-16T20:44:47.592Z"
   },
   {
    "duration": 13,
    "start_time": "2023-03-16T20:48:55.560Z"
   },
   {
    "duration": 10,
    "start_time": "2023-03-16T20:49:08.790Z"
   },
   {
    "duration": 5,
    "start_time": "2023-03-16T20:57:55.958Z"
   },
   {
    "duration": 10,
    "start_time": "2023-03-16T20:58:02.013Z"
   },
   {
    "duration": 15,
    "start_time": "2023-03-16T20:58:18.422Z"
   },
   {
    "duration": 11,
    "start_time": "2023-03-16T20:58:56.482Z"
   },
   {
    "duration": 11,
    "start_time": "2023-03-16T20:59:03.095Z"
   },
   {
    "duration": 3,
    "start_time": "2023-03-16T21:08:45.177Z"
   },
   {
    "duration": 3,
    "start_time": "2023-03-16T21:10:41.357Z"
   },
   {
    "duration": 12,
    "start_time": "2023-03-16T21:14:52.775Z"
   },
   {
    "duration": 49,
    "start_time": "2023-03-16T21:17:27.876Z"
   },
   {
    "duration": 6,
    "start_time": "2023-03-16T21:17:48.741Z"
   },
   {
    "duration": 49,
    "start_time": "2023-03-16T21:19:43.567Z"
   },
   {
    "duration": 26,
    "start_time": "2023-03-16T21:20:38.859Z"
   },
   {
    "duration": 6,
    "start_time": "2023-03-16T21:20:58.676Z"
   },
   {
    "duration": 28,
    "start_time": "2023-03-16T21:21:00.823Z"
   },
   {
    "duration": 6,
    "start_time": "2023-03-16T21:21:31.235Z"
   },
   {
    "duration": 53,
    "start_time": "2023-03-16T21:21:33.507Z"
   },
   {
    "duration": 52,
    "start_time": "2023-03-16T21:21:46.673Z"
   },
   {
    "duration": 6,
    "start_time": "2023-03-16T21:23:01.149Z"
   },
   {
    "duration": 49,
    "start_time": "2023-03-16T21:23:02.981Z"
   },
   {
    "duration": 6,
    "start_time": "2023-03-16T21:23:08.477Z"
   },
   {
    "duration": 55,
    "start_time": "2023-03-16T21:23:09.127Z"
   },
   {
    "duration": 12,
    "start_time": "2023-03-16T21:24:01.321Z"
   },
   {
    "duration": 50,
    "start_time": "2023-03-16T21:24:09.922Z"
   },
   {
    "duration": 72,
    "start_time": "2023-03-17T12:13:29.270Z"
   },
   {
    "duration": 43,
    "start_time": "2023-03-17T12:14:06.919Z"
   },
   {
    "duration": 1367,
    "start_time": "2023-03-17T12:48:13.890Z"
   },
   {
    "duration": 1644,
    "start_time": "2023-03-17T12:48:15.259Z"
   },
   {
    "duration": 4,
    "start_time": "2023-03-17T12:48:16.905Z"
   },
   {
    "duration": 28,
    "start_time": "2023-03-17T12:48:16.911Z"
   },
   {
    "duration": 5,
    "start_time": "2023-03-17T12:48:16.941Z"
   },
   {
    "duration": 65,
    "start_time": "2023-03-17T12:48:16.948Z"
   },
   {
    "duration": 21,
    "start_time": "2023-03-17T12:48:17.015Z"
   },
   {
    "duration": 386,
    "start_time": "2023-03-17T12:48:17.038Z"
   },
   {
    "duration": 163,
    "start_time": "2023-03-17T12:48:17.426Z"
   },
   {
    "duration": 14,
    "start_time": "2023-03-17T12:48:17.591Z"
   },
   {
    "duration": 21,
    "start_time": "2023-03-17T12:48:17.606Z"
   },
   {
    "duration": 24,
    "start_time": "2023-03-17T12:48:17.628Z"
   },
   {
    "duration": 8,
    "start_time": "2023-03-17T12:48:17.675Z"
   },
   {
    "duration": 19,
    "start_time": "2023-03-17T12:48:17.686Z"
   },
   {
    "duration": 24,
    "start_time": "2023-03-17T12:48:17.706Z"
   },
   {
    "duration": 14,
    "start_time": "2023-03-17T12:48:17.732Z"
   },
   {
    "duration": 45,
    "start_time": "2023-03-17T12:48:17.748Z"
   },
   {
    "duration": 6,
    "start_time": "2023-03-17T12:48:17.795Z"
   },
   {
    "duration": 31,
    "start_time": "2023-03-17T12:48:17.802Z"
   },
   {
    "duration": 128,
    "start_time": "2023-03-17T12:48:17.835Z"
   },
   {
    "duration": 14,
    "start_time": "2023-03-17T12:48:17.965Z"
   },
   {
    "duration": 10,
    "start_time": "2023-03-17T12:48:17.988Z"
   },
   {
    "duration": 23,
    "start_time": "2023-03-17T12:48:18.000Z"
   },
   {
    "duration": 10,
    "start_time": "2023-03-17T12:48:18.024Z"
   },
   {
    "duration": 11,
    "start_time": "2023-03-17T12:48:18.036Z"
   },
   {
    "duration": 37,
    "start_time": "2023-03-17T12:48:18.049Z"
   },
   {
    "duration": 4,
    "start_time": "2023-03-17T12:48:18.088Z"
   },
   {
    "duration": 19,
    "start_time": "2023-03-17T12:48:18.094Z"
   },
   {
    "duration": 17,
    "start_time": "2023-03-17T12:48:18.115Z"
   },
   {
    "duration": 15,
    "start_time": "2023-03-17T12:48:18.133Z"
   },
   {
    "duration": 227,
    "start_time": "2023-03-17T12:48:18.149Z"
   },
   {
    "duration": 6,
    "start_time": "2023-03-17T12:48:18.382Z"
   },
   {
    "duration": 6,
    "start_time": "2023-03-17T12:48:18.394Z"
   },
   {
    "duration": 591,
    "start_time": "2023-03-17T12:48:18.403Z"
   },
   {
    "duration": 10,
    "start_time": "2023-03-17T12:48:18.997Z"
   },
   {
    "duration": 19,
    "start_time": "2023-03-17T12:48:19.009Z"
   },
   {
    "duration": 6,
    "start_time": "2023-03-17T12:48:19.031Z"
   },
   {
    "duration": 10,
    "start_time": "2023-03-17T12:48:19.039Z"
   },
   {
    "duration": 24,
    "start_time": "2023-03-17T12:48:19.078Z"
   },
   {
    "duration": 27,
    "start_time": "2023-03-17T12:48:19.104Z"
   },
   {
    "duration": 50,
    "start_time": "2023-03-17T12:48:19.137Z"
   },
   {
    "duration": 485,
    "start_time": "2023-03-17T12:48:19.196Z"
   },
   {
    "duration": 122,
    "start_time": "2023-03-17T12:48:19.683Z"
   },
   {
    "duration": 5,
    "start_time": "2023-03-17T12:48:19.807Z"
   },
   {
    "duration": 45,
    "start_time": "2023-03-17T12:48:19.814Z"
   },
   {
    "duration": 0,
    "start_time": "2023-03-17T12:48:19.861Z"
   },
   {
    "duration": 0,
    "start_time": "2023-03-17T12:48:19.862Z"
   },
   {
    "duration": 0,
    "start_time": "2023-03-17T12:48:19.863Z"
   },
   {
    "duration": 0,
    "start_time": "2023-03-17T12:48:19.864Z"
   },
   {
    "duration": 0,
    "start_time": "2023-03-17T12:48:19.865Z"
   },
   {
    "duration": 0,
    "start_time": "2023-03-17T12:48:19.866Z"
   },
   {
    "duration": 0,
    "start_time": "2023-03-17T12:48:19.867Z"
   },
   {
    "duration": 0,
    "start_time": "2023-03-17T12:48:19.878Z"
   },
   {
    "duration": 0,
    "start_time": "2023-03-17T12:48:19.880Z"
   },
   {
    "duration": 0,
    "start_time": "2023-03-17T12:48:19.880Z"
   },
   {
    "duration": 0,
    "start_time": "2023-03-17T12:48:19.882Z"
   },
   {
    "duration": 0,
    "start_time": "2023-03-17T12:48:19.882Z"
   },
   {
    "duration": 32,
    "start_time": "2023-03-17T12:49:38.651Z"
   },
   {
    "duration": 10,
    "start_time": "2023-03-17T12:50:28.061Z"
   },
   {
    "duration": 26,
    "start_time": "2023-03-17T12:50:29.357Z"
   },
   {
    "duration": 5,
    "start_time": "2023-03-17T12:51:11.237Z"
   },
   {
    "duration": 114,
    "start_time": "2023-03-17T12:51:23.244Z"
   },
   {
    "duration": 13,
    "start_time": "2023-03-17T12:51:26.696Z"
   },
   {
    "duration": 13,
    "start_time": "2023-03-17T12:51:30.547Z"
   },
   {
    "duration": 459,
    "start_time": "2023-03-17T12:56:31.697Z"
   },
   {
    "duration": 33,
    "start_time": "2023-03-17T12:56:35.662Z"
   },
   {
    "duration": 10,
    "start_time": "2023-03-17T12:56:38.367Z"
   },
   {
    "duration": 20,
    "start_time": "2023-03-17T12:56:40.791Z"
   },
   {
    "duration": 14,
    "start_time": "2023-03-17T12:56:44.905Z"
   },
   {
    "duration": 15,
    "start_time": "2023-03-17T12:56:48.679Z"
   },
   {
    "duration": 3,
    "start_time": "2023-03-17T12:56:51.894Z"
   },
   {
    "duration": 7,
    "start_time": "2023-03-17T12:56:52.409Z"
   },
   {
    "duration": 47,
    "start_time": "2023-03-17T12:56:53.708Z"
   },
   {
    "duration": 1212,
    "start_time": "2023-03-17T13:20:16.632Z"
   },
   {
    "duration": 1394,
    "start_time": "2023-03-17T13:20:17.846Z"
   },
   {
    "duration": 4,
    "start_time": "2023-03-17T13:20:19.242Z"
   },
   {
    "duration": 26,
    "start_time": "2023-03-17T13:20:19.248Z"
   },
   {
    "duration": 8,
    "start_time": "2023-03-17T13:20:19.276Z"
   },
   {
    "duration": 57,
    "start_time": "2023-03-17T13:20:19.287Z"
   },
   {
    "duration": 39,
    "start_time": "2023-03-17T13:20:19.346Z"
   },
   {
    "duration": 377,
    "start_time": "2023-03-17T13:20:19.388Z"
   },
   {
    "duration": 158,
    "start_time": "2023-03-17T13:20:19.766Z"
   },
   {
    "duration": 13,
    "start_time": "2023-03-17T13:20:19.928Z"
   },
   {
    "duration": 48,
    "start_time": "2023-03-17T13:20:19.943Z"
   },
   {
    "duration": 26,
    "start_time": "2023-03-17T13:20:19.993Z"
   },
   {
    "duration": 7,
    "start_time": "2023-03-17T13:20:20.020Z"
   },
   {
    "duration": 42,
    "start_time": "2023-03-17T13:20:20.029Z"
   },
   {
    "duration": 30,
    "start_time": "2023-03-17T13:20:20.076Z"
   },
   {
    "duration": 14,
    "start_time": "2023-03-17T13:20:20.108Z"
   },
   {
    "duration": 15,
    "start_time": "2023-03-17T13:20:20.124Z"
   },
   {
    "duration": 34,
    "start_time": "2023-03-17T13:20:20.141Z"
   },
   {
    "duration": 16,
    "start_time": "2023-03-17T13:20:20.177Z"
   },
   {
    "duration": 148,
    "start_time": "2023-03-17T13:20:20.195Z"
   },
   {
    "duration": 5,
    "start_time": "2023-03-17T13:20:20.345Z"
   },
   {
    "duration": 29,
    "start_time": "2023-03-17T13:20:20.351Z"
   },
   {
    "duration": 28,
    "start_time": "2023-03-17T13:20:20.382Z"
   },
   {
    "duration": 11,
    "start_time": "2023-03-17T13:20:20.412Z"
   },
   {
    "duration": 12,
    "start_time": "2023-03-17T13:20:20.425Z"
   },
   {
    "duration": 8,
    "start_time": "2023-03-17T13:20:20.439Z"
   },
   {
    "duration": 5,
    "start_time": "2023-03-17T13:20:20.477Z"
   },
   {
    "duration": 17,
    "start_time": "2023-03-17T13:20:20.488Z"
   },
   {
    "duration": 16,
    "start_time": "2023-03-17T13:20:20.507Z"
   },
   {
    "duration": 11,
    "start_time": "2023-03-17T13:20:20.525Z"
   },
   {
    "duration": 211,
    "start_time": "2023-03-17T13:20:20.538Z"
   },
   {
    "duration": 3,
    "start_time": "2023-03-17T13:20:20.751Z"
   },
   {
    "duration": 21,
    "start_time": "2023-03-17T13:20:20.757Z"
   },
   {
    "duration": 485,
    "start_time": "2023-03-17T13:20:20.780Z"
   },
   {
    "duration": 14,
    "start_time": "2023-03-17T13:20:21.266Z"
   },
   {
    "duration": 14,
    "start_time": "2023-03-17T13:20:21.282Z"
   },
   {
    "duration": 5,
    "start_time": "2023-03-17T13:20:21.298Z"
   },
   {
    "duration": 7,
    "start_time": "2023-03-17T13:20:21.304Z"
   },
   {
    "duration": 16,
    "start_time": "2023-03-17T13:20:21.313Z"
   },
   {
    "duration": 54,
    "start_time": "2023-03-17T13:20:21.331Z"
   },
   {
    "duration": 23,
    "start_time": "2023-03-17T13:20:21.387Z"
   },
   {
    "duration": 468,
    "start_time": "2023-03-17T13:20:21.411Z"
   },
   {
    "duration": 117,
    "start_time": "2023-03-17T13:20:21.881Z"
   },
   {
    "duration": 4,
    "start_time": "2023-03-17T13:20:21.999Z"
   },
   {
    "duration": 21,
    "start_time": "2023-03-17T13:20:22.005Z"
   },
   {
    "duration": 157,
    "start_time": "2023-03-17T13:20:22.028Z"
   },
   {
    "duration": 9,
    "start_time": "2023-03-17T13:20:22.193Z"
   },
   {
    "duration": 16,
    "start_time": "2023-03-17T13:20:22.204Z"
   },
   {
    "duration": 494,
    "start_time": "2023-03-17T13:20:22.222Z"
   },
   {
    "duration": 24,
    "start_time": "2023-03-17T13:20:22.718Z"
   },
   {
    "duration": 39,
    "start_time": "2023-03-17T13:20:22.743Z"
   },
   {
    "duration": 20,
    "start_time": "2023-03-17T13:20:22.784Z"
   },
   {
    "duration": 12,
    "start_time": "2023-03-17T13:20:22.806Z"
   },
   {
    "duration": 11,
    "start_time": "2023-03-17T13:20:22.820Z"
   },
   {
    "duration": 4,
    "start_time": "2023-03-17T13:20:22.833Z"
   },
   {
    "duration": 52,
    "start_time": "2023-03-17T13:20:22.839Z"
   },
   {
    "duration": 45,
    "start_time": "2023-03-17T13:20:22.893Z"
   },
   {
    "duration": 1296,
    "start_time": "2023-03-18T05:02:54.781Z"
   },
   {
    "duration": 1596,
    "start_time": "2023-03-18T05:02:56.079Z"
   },
   {
    "duration": 4,
    "start_time": "2023-03-18T05:02:57.677Z"
   },
   {
    "duration": 20,
    "start_time": "2023-03-18T05:02:57.683Z"
   },
   {
    "duration": 5,
    "start_time": "2023-03-18T05:02:57.705Z"
   },
   {
    "duration": 49,
    "start_time": "2023-03-18T05:02:57.711Z"
   },
   {
    "duration": 18,
    "start_time": "2023-03-18T05:02:57.762Z"
   },
   {
    "duration": 373,
    "start_time": "2023-03-18T05:02:57.782Z"
   },
   {
    "duration": 137,
    "start_time": "2023-03-18T05:02:58.156Z"
   },
   {
    "duration": 12,
    "start_time": "2023-03-18T05:02:58.296Z"
   },
   {
    "duration": 32,
    "start_time": "2023-03-18T05:02:58.309Z"
   },
   {
    "duration": 21,
    "start_time": "2023-03-18T05:02:58.343Z"
   },
   {
    "duration": 4,
    "start_time": "2023-03-18T05:02:58.366Z"
   },
   {
    "duration": 14,
    "start_time": "2023-03-18T05:02:58.372Z"
   },
   {
    "duration": 23,
    "start_time": "2023-03-18T05:02:58.388Z"
   },
   {
    "duration": 14,
    "start_time": "2023-03-18T05:02:58.441Z"
   },
   {
    "duration": 12,
    "start_time": "2023-03-18T05:02:58.457Z"
   },
   {
    "duration": 5,
    "start_time": "2023-03-18T05:02:58.471Z"
   },
   {
    "duration": 15,
    "start_time": "2023-03-18T05:02:58.477Z"
   },
   {
    "duration": 136,
    "start_time": "2023-03-18T05:02:58.494Z"
   },
   {
    "duration": 11,
    "start_time": "2023-03-18T05:02:58.632Z"
   },
   {
    "duration": 10,
    "start_time": "2023-03-18T05:02:58.644Z"
   },
   {
    "duration": 18,
    "start_time": "2023-03-18T05:02:58.656Z"
   },
   {
    "duration": 8,
    "start_time": "2023-03-18T05:02:58.676Z"
   },
   {
    "duration": 8,
    "start_time": "2023-03-18T05:02:58.686Z"
   },
   {
    "duration": 6,
    "start_time": "2023-03-18T05:02:58.696Z"
   },
   {
    "duration": 5,
    "start_time": "2023-03-18T05:02:58.704Z"
   },
   {
    "duration": 15,
    "start_time": "2023-03-18T05:02:58.745Z"
   },
   {
    "duration": 7,
    "start_time": "2023-03-18T05:02:58.762Z"
   },
   {
    "duration": 10,
    "start_time": "2023-03-18T05:02:58.770Z"
   },
   {
    "duration": 223,
    "start_time": "2023-03-18T05:02:58.782Z"
   },
   {
    "duration": 3,
    "start_time": "2023-03-18T05:02:59.007Z"
   },
   {
    "duration": 9,
    "start_time": "2023-03-18T05:02:59.013Z"
   },
   {
    "duration": 446,
    "start_time": "2023-03-18T05:02:59.023Z"
   },
   {
    "duration": 8,
    "start_time": "2023-03-18T05:02:59.471Z"
   },
   {
    "duration": 13,
    "start_time": "2023-03-18T05:02:59.481Z"
   },
   {
    "duration": 5,
    "start_time": "2023-03-18T05:02:59.496Z"
   },
   {
    "duration": 38,
    "start_time": "2023-03-18T05:02:59.503Z"
   },
   {
    "duration": 14,
    "start_time": "2023-03-18T05:02:59.543Z"
   },
   {
    "duration": 19,
    "start_time": "2023-03-18T05:02:59.559Z"
   },
   {
    "duration": 21,
    "start_time": "2023-03-18T05:02:59.580Z"
   },
   {
    "duration": 740,
    "start_time": "2023-03-18T05:02:59.602Z"
   },
   {
    "duration": 108,
    "start_time": "2023-03-18T05:03:00.344Z"
   },
   {
    "duration": 4,
    "start_time": "2023-03-18T05:03:00.454Z"
   },
   {
    "duration": 78,
    "start_time": "2023-03-18T05:03:00.460Z"
   },
   {
    "duration": 132,
    "start_time": "2023-03-18T05:03:00.539Z"
   },
   {
    "duration": 7,
    "start_time": "2023-03-18T05:03:00.673Z"
   },
   {
    "duration": 46,
    "start_time": "2023-03-18T05:03:00.681Z"
   },
   {
    "duration": 438,
    "start_time": "2023-03-18T05:03:00.729Z"
   },
   {
    "duration": 24,
    "start_time": "2023-03-18T05:03:01.169Z"
   },
   {
    "duration": 33,
    "start_time": "2023-03-18T05:03:01.194Z"
   },
   {
    "duration": 40,
    "start_time": "2023-03-18T05:03:01.229Z"
   },
   {
    "duration": 23,
    "start_time": "2023-03-18T05:03:01.271Z"
   },
   {
    "duration": 27,
    "start_time": "2023-03-18T05:03:01.296Z"
   },
   {
    "duration": 53,
    "start_time": "2023-03-18T05:03:01.325Z"
   },
   {
    "duration": 79,
    "start_time": "2023-03-18T05:03:01.380Z"
   },
   {
    "duration": 88,
    "start_time": "2023-03-18T05:03:01.461Z"
   },
   {
    "duration": 4,
    "start_time": "2023-03-18T05:05:40.117Z"
   },
   {
    "duration": 10,
    "start_time": "2023-03-18T05:05:46.648Z"
   },
   {
    "duration": 13,
    "start_time": "2023-03-18T05:06:45.669Z"
   },
   {
    "duration": 5,
    "start_time": "2023-03-18T05:06:51.765Z"
   },
   {
    "duration": 7,
    "start_time": "2023-03-18T05:09:22.517Z"
   },
   {
    "duration": 20,
    "start_time": "2023-03-18T05:11:42.616Z"
   },
   {
    "duration": 1266,
    "start_time": "2023-03-18T12:48:27.905Z"
   },
   {
    "duration": 1386,
    "start_time": "2023-03-18T12:48:29.173Z"
   },
   {
    "duration": 6,
    "start_time": "2023-03-18T12:48:30.561Z"
   },
   {
    "duration": 55,
    "start_time": "2023-03-18T12:48:30.569Z"
   },
   {
    "duration": 26,
    "start_time": "2023-03-18T12:48:30.626Z"
   },
   {
    "duration": 100,
    "start_time": "2023-03-18T12:48:30.653Z"
   },
   {
    "duration": 22,
    "start_time": "2023-03-18T12:48:30.755Z"
   },
   {
    "duration": 376,
    "start_time": "2023-03-18T12:48:30.778Z"
   },
   {
    "duration": 135,
    "start_time": "2023-03-18T12:48:31.156Z"
   },
   {
    "duration": 14,
    "start_time": "2023-03-18T12:48:31.293Z"
   },
   {
    "duration": 32,
    "start_time": "2023-03-18T12:48:31.309Z"
   },
   {
    "duration": 51,
    "start_time": "2023-03-18T12:48:31.343Z"
   },
   {
    "duration": 6,
    "start_time": "2023-03-18T12:48:31.397Z"
   },
   {
    "duration": 20,
    "start_time": "2023-03-18T12:48:31.405Z"
   },
   {
    "duration": 43,
    "start_time": "2023-03-18T12:48:31.427Z"
   },
   {
    "duration": 16,
    "start_time": "2023-03-18T12:48:31.472Z"
   },
   {
    "duration": 15,
    "start_time": "2023-03-18T12:48:31.490Z"
   },
   {
    "duration": 25,
    "start_time": "2023-03-18T12:48:31.507Z"
   },
   {
    "duration": 29,
    "start_time": "2023-03-18T12:48:31.534Z"
   },
   {
    "duration": 119,
    "start_time": "2023-03-18T12:48:31.565Z"
   },
   {
    "duration": 6,
    "start_time": "2023-03-18T12:48:31.685Z"
   },
   {
    "duration": 17,
    "start_time": "2023-03-18T12:48:31.692Z"
   },
   {
    "duration": 36,
    "start_time": "2023-03-18T12:48:31.710Z"
   },
   {
    "duration": 12,
    "start_time": "2023-03-18T12:48:31.748Z"
   },
   {
    "duration": 17,
    "start_time": "2023-03-18T12:48:31.762Z"
   },
   {
    "duration": 10,
    "start_time": "2023-03-18T12:48:31.783Z"
   },
   {
    "duration": 7,
    "start_time": "2023-03-18T12:48:31.795Z"
   },
   {
    "duration": 4,
    "start_time": "2023-03-18T12:48:31.805Z"
   },
   {
    "duration": 17,
    "start_time": "2023-03-18T12:48:31.810Z"
   },
   {
    "duration": 6,
    "start_time": "2023-03-18T12:48:31.829Z"
   },
   {
    "duration": 38,
    "start_time": "2023-03-18T12:48:31.837Z"
   },
   {
    "duration": 181,
    "start_time": "2023-03-18T12:48:31.877Z"
   },
   {
    "duration": 3,
    "start_time": "2023-03-18T12:48:32.060Z"
   },
   {
    "duration": 11,
    "start_time": "2023-03-18T12:48:32.065Z"
   },
   {
    "duration": 476,
    "start_time": "2023-03-18T12:48:32.078Z"
   },
   {
    "duration": 7,
    "start_time": "2023-03-18T12:48:32.556Z"
   },
   {
    "duration": 22,
    "start_time": "2023-03-18T12:48:32.564Z"
   },
   {
    "duration": 5,
    "start_time": "2023-03-18T12:48:32.588Z"
   },
   {
    "duration": 9,
    "start_time": "2023-03-18T12:48:32.594Z"
   },
   {
    "duration": 14,
    "start_time": "2023-03-18T12:48:32.604Z"
   },
   {
    "duration": 34,
    "start_time": "2023-03-18T12:48:32.620Z"
   },
   {
    "duration": 22,
    "start_time": "2023-03-18T12:48:32.676Z"
   },
   {
    "duration": 445,
    "start_time": "2023-03-18T12:48:32.700Z"
   },
   {
    "duration": 133,
    "start_time": "2023-03-18T12:48:33.147Z"
   },
   {
    "duration": 5,
    "start_time": "2023-03-18T12:48:33.282Z"
   },
   {
    "duration": 20,
    "start_time": "2023-03-18T12:48:33.289Z"
   },
   {
    "duration": 141,
    "start_time": "2023-03-18T12:48:33.310Z"
   },
   {
    "duration": 7,
    "start_time": "2023-03-18T12:48:33.453Z"
   },
   {
    "duration": 23,
    "start_time": "2023-03-18T12:48:33.462Z"
   },
   {
    "duration": 424,
    "start_time": "2023-03-18T12:48:33.487Z"
   },
   {
    "duration": 24,
    "start_time": "2023-03-18T12:48:33.913Z"
   },
   {
    "duration": 37,
    "start_time": "2023-03-18T12:48:33.938Z"
   },
   {
    "duration": 21,
    "start_time": "2023-03-18T12:48:33.977Z"
   },
   {
    "duration": 17,
    "start_time": "2023-03-18T12:48:33.999Z"
   },
   {
    "duration": 56,
    "start_time": "2023-03-18T12:48:34.019Z"
   },
   {
    "duration": 4,
    "start_time": "2023-03-18T12:48:34.077Z"
   },
   {
    "duration": 18,
    "start_time": "2023-03-18T12:48:34.083Z"
   },
   {
    "duration": 60,
    "start_time": "2023-03-18T12:48:34.103Z"
   },
   {
    "duration": 32,
    "start_time": "2023-03-18T12:57:21.659Z"
   },
   {
    "duration": 65,
    "start_time": "2023-03-18T12:57:37.767Z"
   },
   {
    "duration": 1114,
    "start_time": "2023-03-18T12:57:50.808Z"
   },
   {
    "duration": 2094,
    "start_time": "2023-03-18T12:57:51.924Z"
   },
   {
    "duration": 4,
    "start_time": "2023-03-18T12:57:54.020Z"
   },
   {
    "duration": 25,
    "start_time": "2023-03-18T12:57:54.027Z"
   },
   {
    "duration": 5,
    "start_time": "2023-03-18T12:57:54.055Z"
   },
   {
    "duration": 53,
    "start_time": "2023-03-18T12:57:54.062Z"
   },
   {
    "duration": 20,
    "start_time": "2023-03-18T12:57:54.116Z"
   },
   {
    "duration": 421,
    "start_time": "2023-03-18T12:57:54.137Z"
   },
   {
    "duration": 134,
    "start_time": "2023-03-18T12:57:54.560Z"
   },
   {
    "duration": 12,
    "start_time": "2023-03-18T12:57:54.696Z"
   },
   {
    "duration": 21,
    "start_time": "2023-03-18T12:57:54.709Z"
   },
   {
    "duration": 48,
    "start_time": "2023-03-18T12:57:54.732Z"
   },
   {
    "duration": 5,
    "start_time": "2023-03-18T12:57:54.782Z"
   },
   {
    "duration": 16,
    "start_time": "2023-03-18T12:57:54.789Z"
   },
   {
    "duration": 25,
    "start_time": "2023-03-18T12:57:54.806Z"
   },
   {
    "duration": 47,
    "start_time": "2023-03-18T12:57:54.833Z"
   },
   {
    "duration": 13,
    "start_time": "2023-03-18T12:57:54.881Z"
   },
   {
    "duration": 5,
    "start_time": "2023-03-18T12:57:54.896Z"
   },
   {
    "duration": 21,
    "start_time": "2023-03-18T12:57:54.902Z"
   },
   {
    "duration": 133,
    "start_time": "2023-03-18T12:57:54.925Z"
   },
   {
    "duration": 4,
    "start_time": "2023-03-18T12:57:55.060Z"
   },
   {
    "duration": 19,
    "start_time": "2023-03-18T12:57:55.066Z"
   },
   {
    "duration": 32,
    "start_time": "2023-03-18T12:57:55.087Z"
   },
   {
    "duration": 10,
    "start_time": "2023-03-18T12:57:55.120Z"
   },
   {
    "duration": 5,
    "start_time": "2023-03-18T12:57:55.131Z"
   },
   {
    "duration": 13,
    "start_time": "2023-03-18T12:57:55.138Z"
   },
   {
    "duration": 24,
    "start_time": "2023-03-18T12:57:55.152Z"
   },
   {
    "duration": 6,
    "start_time": "2023-03-18T12:57:55.181Z"
   },
   {
    "duration": 22,
    "start_time": "2023-03-18T12:57:55.189Z"
   },
   {
    "duration": 38,
    "start_time": "2023-03-18T12:57:55.212Z"
   },
   {
    "duration": 10,
    "start_time": "2023-03-18T12:57:55.252Z"
   },
   {
    "duration": 177,
    "start_time": "2023-03-18T12:57:55.263Z"
   },
   {
    "duration": 3,
    "start_time": "2023-03-18T12:57:55.442Z"
   },
   {
    "duration": 9,
    "start_time": "2023-03-18T12:57:55.446Z"
   },
   {
    "duration": 465,
    "start_time": "2023-03-18T12:57:55.456Z"
   },
   {
    "duration": 7,
    "start_time": "2023-03-18T12:57:55.923Z"
   },
   {
    "duration": 18,
    "start_time": "2023-03-18T12:57:55.932Z"
   },
   {
    "duration": 5,
    "start_time": "2023-03-18T12:57:55.952Z"
   },
   {
    "duration": 9,
    "start_time": "2023-03-18T12:57:55.975Z"
   },
   {
    "duration": 15,
    "start_time": "2023-03-18T12:57:55.986Z"
   },
   {
    "duration": 23,
    "start_time": "2023-03-18T12:57:56.003Z"
   },
   {
    "duration": 61,
    "start_time": "2023-03-18T12:57:56.028Z"
   },
   {
    "duration": 479,
    "start_time": "2023-03-18T12:57:56.091Z"
   },
   {
    "duration": 120,
    "start_time": "2023-03-18T12:57:56.575Z"
   },
   {
    "duration": 5,
    "start_time": "2023-03-18T12:57:56.697Z"
   },
   {
    "duration": 25,
    "start_time": "2023-03-18T12:57:56.704Z"
   },
   {
    "duration": 169,
    "start_time": "2023-03-18T12:57:56.732Z"
   },
   {
    "duration": 8,
    "start_time": "2023-03-18T12:57:56.904Z"
   },
   {
    "duration": 14,
    "start_time": "2023-03-18T12:57:56.913Z"
   },
   {
    "duration": 470,
    "start_time": "2023-03-18T12:57:56.929Z"
   },
   {
    "duration": 36,
    "start_time": "2023-03-18T12:57:57.401Z"
   },
   {
    "duration": 62,
    "start_time": "2023-03-18T12:57:57.438Z"
   },
   {
    "duration": 8,
    "start_time": "2023-03-18T12:57:57.503Z"
   },
   {
    "duration": 23,
    "start_time": "2023-03-18T12:57:57.513Z"
   },
   {
    "duration": 47,
    "start_time": "2023-03-18T12:57:57.538Z"
   },
   {
    "duration": 12,
    "start_time": "2023-03-18T12:57:57.587Z"
   },
   {
    "duration": 3,
    "start_time": "2023-03-18T12:57:57.601Z"
   },
   {
    "duration": 6,
    "start_time": "2023-03-18T12:57:57.606Z"
   },
   {
    "duration": 77,
    "start_time": "2023-03-18T12:57:57.614Z"
   },
   {
    "duration": 1118,
    "start_time": "2023-03-18T12:58:54.815Z"
   },
   {
    "duration": 1213,
    "start_time": "2023-03-18T12:58:55.935Z"
   },
   {
    "duration": 4,
    "start_time": "2023-03-18T12:58:57.149Z"
   },
   {
    "duration": 24,
    "start_time": "2023-03-18T12:58:57.155Z"
   },
   {
    "duration": 4,
    "start_time": "2023-03-18T12:58:57.181Z"
   },
   {
    "duration": 55,
    "start_time": "2023-03-18T12:58:57.187Z"
   },
   {
    "duration": 43,
    "start_time": "2023-03-18T12:58:57.244Z"
   },
   {
    "duration": 357,
    "start_time": "2023-03-18T12:58:57.289Z"
   },
   {
    "duration": 143,
    "start_time": "2023-03-18T12:58:57.648Z"
   },
   {
    "duration": 13,
    "start_time": "2023-03-18T12:58:57.794Z"
   },
   {
    "duration": 21,
    "start_time": "2023-03-18T12:58:57.809Z"
   },
   {
    "duration": 51,
    "start_time": "2023-03-18T12:58:57.832Z"
   },
   {
    "duration": 5,
    "start_time": "2023-03-18T12:58:57.885Z"
   },
   {
    "duration": 19,
    "start_time": "2023-03-18T12:58:57.892Z"
   },
   {
    "duration": 23,
    "start_time": "2023-03-18T12:58:57.913Z"
   },
   {
    "duration": 39,
    "start_time": "2023-03-18T12:58:57.938Z"
   },
   {
    "duration": 14,
    "start_time": "2023-03-18T12:58:57.979Z"
   },
   {
    "duration": 7,
    "start_time": "2023-03-18T12:58:57.995Z"
   },
   {
    "duration": 15,
    "start_time": "2023-03-18T12:58:58.003Z"
   },
   {
    "duration": 145,
    "start_time": "2023-03-18T12:58:58.020Z"
   },
   {
    "duration": 10,
    "start_time": "2023-03-18T12:58:58.166Z"
   },
   {
    "duration": 12,
    "start_time": "2023-03-18T12:58:58.178Z"
   },
   {
    "duration": 19,
    "start_time": "2023-03-18T12:58:58.191Z"
   },
   {
    "duration": 9,
    "start_time": "2023-03-18T12:58:58.212Z"
   },
   {
    "duration": 15,
    "start_time": "2023-03-18T12:58:58.223Z"
   },
   {
    "duration": 30,
    "start_time": "2023-03-18T12:58:58.240Z"
   },
   {
    "duration": 5,
    "start_time": "2023-03-18T12:58:58.271Z"
   },
   {
    "duration": 7,
    "start_time": "2023-03-18T12:58:58.279Z"
   },
   {
    "duration": 17,
    "start_time": "2023-03-18T12:58:58.288Z"
   },
   {
    "duration": 7,
    "start_time": "2023-03-18T12:58:58.306Z"
   },
   {
    "duration": 13,
    "start_time": "2023-03-18T12:58:58.315Z"
   },
   {
    "duration": 202,
    "start_time": "2023-03-18T12:58:58.330Z"
   },
   {
    "duration": 3,
    "start_time": "2023-03-18T12:58:58.533Z"
   },
   {
    "duration": 16,
    "start_time": "2023-03-18T12:58:58.537Z"
   },
   {
    "duration": 424,
    "start_time": "2023-03-18T12:58:58.555Z"
   },
   {
    "duration": 8,
    "start_time": "2023-03-18T12:58:58.981Z"
   },
   {
    "duration": 16,
    "start_time": "2023-03-18T12:58:58.990Z"
   },
   {
    "duration": 6,
    "start_time": "2023-03-18T12:58:59.008Z"
   },
   {
    "duration": 10,
    "start_time": "2023-03-18T12:58:59.015Z"
   },
   {
    "duration": 14,
    "start_time": "2023-03-18T12:58:59.027Z"
   },
   {
    "duration": 52,
    "start_time": "2023-03-18T12:58:59.042Z"
   },
   {
    "duration": 23,
    "start_time": "2023-03-18T12:58:59.096Z"
   },
   {
    "duration": 442,
    "start_time": "2023-03-18T12:58:59.121Z"
   },
   {
    "duration": 122,
    "start_time": "2023-03-18T12:58:59.575Z"
   },
   {
    "duration": 4,
    "start_time": "2023-03-18T12:58:59.699Z"
   },
   {
    "duration": 19,
    "start_time": "2023-03-18T12:58:59.705Z"
   },
   {
    "duration": 143,
    "start_time": "2023-03-18T12:58:59.726Z"
   },
   {
    "duration": 6,
    "start_time": "2023-03-18T12:58:59.875Z"
   },
   {
    "duration": 13,
    "start_time": "2023-03-18T12:58:59.883Z"
   },
   {
    "duration": 424,
    "start_time": "2023-03-18T12:58:59.897Z"
   },
   {
    "duration": 23,
    "start_time": "2023-03-18T12:59:00.323Z"
   },
   {
    "duration": 33,
    "start_time": "2023-03-18T12:59:00.376Z"
   },
   {
    "duration": 41,
    "start_time": "2023-03-18T12:59:00.411Z"
   },
   {
    "duration": 22,
    "start_time": "2023-03-18T12:59:00.454Z"
   },
   {
    "duration": 40,
    "start_time": "2023-03-18T12:59:00.478Z"
   },
   {
    "duration": 26,
    "start_time": "2023-03-18T12:59:00.520Z"
   },
   {
    "duration": 36,
    "start_time": "2023-03-18T12:59:00.548Z"
   },
   {
    "duration": 36,
    "start_time": "2023-03-18T12:59:00.586Z"
   },
   {
    "duration": 48,
    "start_time": "2023-03-18T12:59:00.625Z"
   },
   {
    "duration": 85,
    "start_time": "2023-03-18T12:59:00.675Z"
   },
   {
    "duration": 26,
    "start_time": "2023-03-18T12:59:54.826Z"
   },
   {
    "duration": 28,
    "start_time": "2023-03-18T13:02:11.862Z"
   },
   {
    "duration": 24,
    "start_time": "2023-03-18T13:03:38.463Z"
   },
   {
    "duration": 25,
    "start_time": "2023-03-18T13:04:12.745Z"
   },
   {
    "duration": 781,
    "start_time": "2023-03-18T13:05:26.559Z"
   },
   {
    "duration": 4,
    "start_time": "2023-03-18T13:05:33.912Z"
   },
   {
    "duration": 752,
    "start_time": "2023-03-18T13:05:40.657Z"
   },
   {
    "duration": 690,
    "start_time": "2023-03-18T13:06:03.954Z"
   },
   {
    "duration": 1222,
    "start_time": "2023-03-18T13:06:16.684Z"
   },
   {
    "duration": 1348,
    "start_time": "2023-03-18T13:06:17.908Z"
   },
   {
    "duration": 4,
    "start_time": "2023-03-18T13:06:19.258Z"
   },
   {
    "duration": 23,
    "start_time": "2023-03-18T13:06:19.264Z"
   },
   {
    "duration": 5,
    "start_time": "2023-03-18T13:06:19.289Z"
   },
   {
    "duration": 57,
    "start_time": "2023-03-18T13:06:19.296Z"
   },
   {
    "duration": 36,
    "start_time": "2023-03-18T13:06:19.354Z"
   },
   {
    "duration": 417,
    "start_time": "2023-03-18T13:06:19.392Z"
   },
   {
    "duration": 138,
    "start_time": "2023-03-18T13:06:19.810Z"
   },
   {
    "duration": 29,
    "start_time": "2023-03-18T13:06:19.952Z"
   },
   {
    "duration": 26,
    "start_time": "2023-03-18T13:06:19.983Z"
   },
   {
    "duration": 25,
    "start_time": "2023-03-18T13:06:20.011Z"
   },
   {
    "duration": 5,
    "start_time": "2023-03-18T13:06:20.038Z"
   },
   {
    "duration": 20,
    "start_time": "2023-03-18T13:06:20.076Z"
   },
   {
    "duration": 29,
    "start_time": "2023-03-18T13:06:20.099Z"
   },
   {
    "duration": 45,
    "start_time": "2023-03-18T13:06:20.130Z"
   },
   {
    "duration": 15,
    "start_time": "2023-03-18T13:06:20.178Z"
   },
   {
    "duration": 6,
    "start_time": "2023-03-18T13:06:20.195Z"
   },
   {
    "duration": 47,
    "start_time": "2023-03-18T13:06:20.203Z"
   },
   {
    "duration": 148,
    "start_time": "2023-03-18T13:06:20.251Z"
   },
   {
    "duration": 5,
    "start_time": "2023-03-18T13:06:20.401Z"
   },
   {
    "duration": 15,
    "start_time": "2023-03-18T13:06:20.407Z"
   },
   {
    "duration": 27,
    "start_time": "2023-03-18T13:06:20.424Z"
   },
   {
    "duration": 12,
    "start_time": "2023-03-18T13:06:20.476Z"
   },
   {
    "duration": 5,
    "start_time": "2023-03-18T13:06:20.489Z"
   },
   {
    "duration": 22,
    "start_time": "2023-03-18T13:06:20.495Z"
   },
   {
    "duration": 4,
    "start_time": "2023-03-18T13:06:20.519Z"
   },
   {
    "duration": 4,
    "start_time": "2023-03-18T13:06:20.526Z"
   },
   {
    "duration": 45,
    "start_time": "2023-03-18T13:06:20.532Z"
   },
   {
    "duration": 8,
    "start_time": "2023-03-18T13:06:20.578Z"
   },
   {
    "duration": 11,
    "start_time": "2023-03-18T13:06:20.588Z"
   },
   {
    "duration": 220,
    "start_time": "2023-03-18T13:06:20.600Z"
   },
   {
    "duration": 4,
    "start_time": "2023-03-18T13:06:20.822Z"
   },
   {
    "duration": 12,
    "start_time": "2023-03-18T13:06:20.828Z"
   },
   {
    "duration": 500,
    "start_time": "2023-03-18T13:06:20.842Z"
   },
   {
    "duration": 9,
    "start_time": "2023-03-18T13:06:21.343Z"
   },
   {
    "duration": 26,
    "start_time": "2023-03-18T13:06:21.353Z"
   },
   {
    "duration": 6,
    "start_time": "2023-03-18T13:06:21.381Z"
   },
   {
    "duration": 8,
    "start_time": "2023-03-18T13:06:21.388Z"
   },
   {
    "duration": 15,
    "start_time": "2023-03-18T13:06:21.397Z"
   },
   {
    "duration": 20,
    "start_time": "2023-03-18T13:06:21.414Z"
   },
   {
    "duration": 24,
    "start_time": "2023-03-18T13:06:21.474Z"
   },
   {
    "duration": 435,
    "start_time": "2023-03-18T13:06:21.500Z"
   },
   {
    "duration": 144,
    "start_time": "2023-03-18T13:06:21.937Z"
   },
   {
    "duration": 5,
    "start_time": "2023-03-18T13:06:22.083Z"
   },
   {
    "duration": 21,
    "start_time": "2023-03-18T13:06:22.090Z"
   },
   {
    "duration": 132,
    "start_time": "2023-03-18T13:06:22.112Z"
   },
   {
    "duration": 7,
    "start_time": "2023-03-18T13:06:22.246Z"
   },
   {
    "duration": 28,
    "start_time": "2023-03-18T13:06:22.254Z"
   },
   {
    "duration": 428,
    "start_time": "2023-03-18T13:06:22.284Z"
   },
   {
    "duration": 22,
    "start_time": "2023-03-18T13:06:22.714Z"
   },
   {
    "duration": 776,
    "start_time": "2023-03-18T13:06:22.738Z"
   },
   {
    "duration": 0,
    "start_time": "2023-03-18T13:06:23.516Z"
   },
   {
    "duration": 0,
    "start_time": "2023-03-18T13:06:23.517Z"
   },
   {
    "duration": 0,
    "start_time": "2023-03-18T13:06:23.517Z"
   },
   {
    "duration": 0,
    "start_time": "2023-03-18T13:06:23.518Z"
   },
   {
    "duration": 0,
    "start_time": "2023-03-18T13:06:23.519Z"
   },
   {
    "duration": 0,
    "start_time": "2023-03-18T13:06:23.520Z"
   },
   {
    "duration": 0,
    "start_time": "2023-03-18T13:06:23.521Z"
   },
   {
    "duration": 0,
    "start_time": "2023-03-18T13:06:23.522Z"
   },
   {
    "duration": 16,
    "start_time": "2023-03-18T13:07:03.338Z"
   },
   {
    "duration": 41,
    "start_time": "2023-03-18T13:07:15.589Z"
   },
   {
    "duration": 1233,
    "start_time": "2023-03-18T13:09:58.882Z"
   },
   {
    "duration": 1127,
    "start_time": "2023-03-18T13:10:00.117Z"
   },
   {
    "duration": 4,
    "start_time": "2023-03-18T13:10:01.246Z"
   },
   {
    "duration": 49,
    "start_time": "2023-03-18T13:10:01.252Z"
   },
   {
    "duration": 33,
    "start_time": "2023-03-18T13:10:01.303Z"
   },
   {
    "duration": 86,
    "start_time": "2023-03-18T13:10:01.338Z"
   },
   {
    "duration": 21,
    "start_time": "2023-03-18T13:10:01.426Z"
   },
   {
    "duration": 409,
    "start_time": "2023-03-18T13:10:01.448Z"
   },
   {
    "duration": 132,
    "start_time": "2023-03-18T13:10:01.859Z"
   },
   {
    "duration": 11,
    "start_time": "2023-03-18T13:10:01.993Z"
   },
   {
    "duration": 48,
    "start_time": "2023-03-18T13:10:02.006Z"
   },
   {
    "duration": 23,
    "start_time": "2023-03-18T13:10:02.055Z"
   },
   {
    "duration": 9,
    "start_time": "2023-03-18T13:10:02.079Z"
   },
   {
    "duration": 49,
    "start_time": "2023-03-18T13:10:02.091Z"
   },
   {
    "duration": 24,
    "start_time": "2023-03-18T13:10:02.142Z"
   },
   {
    "duration": 14,
    "start_time": "2023-03-18T13:10:02.168Z"
   },
   {
    "duration": 40,
    "start_time": "2023-03-18T13:10:02.184Z"
   },
   {
    "duration": 7,
    "start_time": "2023-03-18T13:10:02.225Z"
   },
   {
    "duration": 38,
    "start_time": "2023-03-18T13:10:02.234Z"
   },
   {
    "duration": 130,
    "start_time": "2023-03-18T13:10:02.274Z"
   },
   {
    "duration": 5,
    "start_time": "2023-03-18T13:10:02.406Z"
   },
   {
    "duration": 29,
    "start_time": "2023-03-18T13:10:02.413Z"
   },
   {
    "duration": 19,
    "start_time": "2023-03-18T13:10:02.443Z"
   },
   {
    "duration": 18,
    "start_time": "2023-03-18T13:10:02.464Z"
   },
   {
    "duration": 9,
    "start_time": "2023-03-18T13:10:02.483Z"
   },
   {
    "duration": 21,
    "start_time": "2023-03-18T13:10:02.494Z"
   },
   {
    "duration": 12,
    "start_time": "2023-03-18T13:10:02.517Z"
   },
   {
    "duration": 11,
    "start_time": "2023-03-18T13:10:02.531Z"
   },
   {
    "duration": 15,
    "start_time": "2023-03-18T13:10:02.544Z"
   },
   {
    "duration": 15,
    "start_time": "2023-03-18T13:10:02.561Z"
   },
   {
    "duration": 10,
    "start_time": "2023-03-18T13:10:02.577Z"
   },
   {
    "duration": 197,
    "start_time": "2023-03-18T13:10:02.589Z"
   },
   {
    "duration": 3,
    "start_time": "2023-03-18T13:10:02.787Z"
   },
   {
    "duration": 12,
    "start_time": "2023-03-18T13:10:02.791Z"
   },
   {
    "duration": 479,
    "start_time": "2023-03-18T13:10:02.805Z"
   },
   {
    "duration": 7,
    "start_time": "2023-03-18T13:10:03.286Z"
   },
   {
    "duration": 15,
    "start_time": "2023-03-18T13:10:03.295Z"
   },
   {
    "duration": 7,
    "start_time": "2023-03-18T13:10:03.312Z"
   },
   {
    "duration": 9,
    "start_time": "2023-03-18T13:10:03.320Z"
   },
   {
    "duration": 49,
    "start_time": "2023-03-18T13:10:03.331Z"
   },
   {
    "duration": 22,
    "start_time": "2023-03-18T13:10:03.384Z"
   },
   {
    "duration": 46,
    "start_time": "2023-03-18T13:10:03.407Z"
   },
   {
    "duration": 40,
    "start_time": "2023-03-18T13:10:03.454Z"
   },
   {
    "duration": 426,
    "start_time": "2023-03-18T13:10:03.495Z"
   },
   {
    "duration": 93,
    "start_time": "2023-03-18T13:10:03.922Z"
   },
   {
    "duration": 59,
    "start_time": "2023-03-18T13:10:04.018Z"
   },
   {
    "duration": 27,
    "start_time": "2023-03-18T13:10:04.080Z"
   },
   {
    "duration": 156,
    "start_time": "2023-03-18T13:10:04.109Z"
   },
   {
    "duration": 8,
    "start_time": "2023-03-18T13:10:04.274Z"
   },
   {
    "duration": 24,
    "start_time": "2023-03-18T13:10:04.284Z"
   },
   {
    "duration": 434,
    "start_time": "2023-03-18T13:10:04.310Z"
   },
   {
    "duration": 36,
    "start_time": "2023-03-18T13:10:04.746Z"
   },
   {
    "duration": 24,
    "start_time": "2023-03-18T13:10:04.784Z"
   },
   {
    "duration": 7,
    "start_time": "2023-03-18T13:10:04.810Z"
   },
   {
    "duration": 22,
    "start_time": "2023-03-18T13:10:04.818Z"
   },
   {
    "duration": 45,
    "start_time": "2023-03-18T13:10:04.842Z"
   },
   {
    "duration": 11,
    "start_time": "2023-03-18T13:10:04.890Z"
   },
   {
    "duration": 4,
    "start_time": "2023-03-18T13:10:04.903Z"
   },
   {
    "duration": 13,
    "start_time": "2023-03-18T13:10:04.908Z"
   },
   {
    "duration": 67,
    "start_time": "2023-03-18T13:10:04.922Z"
   },
   {
    "duration": 1122,
    "start_time": "2023-03-18T13:11:21.090Z"
   },
   {
    "duration": 1062,
    "start_time": "2023-03-18T13:11:22.214Z"
   },
   {
    "duration": 4,
    "start_time": "2023-03-18T13:11:23.278Z"
   },
   {
    "duration": 24,
    "start_time": "2023-03-18T13:11:23.284Z"
   },
   {
    "duration": 5,
    "start_time": "2023-03-18T13:11:23.311Z"
   },
   {
    "duration": 74,
    "start_time": "2023-03-18T13:11:23.317Z"
   },
   {
    "duration": 19,
    "start_time": "2023-03-18T13:11:23.392Z"
   },
   {
    "duration": 355,
    "start_time": "2023-03-18T13:11:23.413Z"
   },
   {
    "duration": 133,
    "start_time": "2023-03-18T13:11:23.775Z"
   },
   {
    "duration": 12,
    "start_time": "2023-03-18T13:11:23.910Z"
   },
   {
    "duration": 18,
    "start_time": "2023-03-18T13:11:23.924Z"
   },
   {
    "duration": 41,
    "start_time": "2023-03-18T13:11:23.944Z"
   },
   {
    "duration": 6,
    "start_time": "2023-03-18T13:11:23.987Z"
   },
   {
    "duration": 17,
    "start_time": "2023-03-18T13:11:23.996Z"
   },
   {
    "duration": 27,
    "start_time": "2023-03-18T13:11:24.014Z"
   },
   {
    "duration": 45,
    "start_time": "2023-03-18T13:11:24.043Z"
   },
   {
    "duration": 13,
    "start_time": "2023-03-18T13:11:24.090Z"
   },
   {
    "duration": 6,
    "start_time": "2023-03-18T13:11:24.105Z"
   },
   {
    "duration": 39,
    "start_time": "2023-03-18T13:11:24.113Z"
   },
   {
    "duration": 154,
    "start_time": "2023-03-18T13:11:24.154Z"
   },
   {
    "duration": 7,
    "start_time": "2023-03-18T13:11:24.310Z"
   },
   {
    "duration": 15,
    "start_time": "2023-03-18T13:11:24.320Z"
   },
   {
    "duration": 51,
    "start_time": "2023-03-18T13:11:24.338Z"
   },
   {
    "duration": 13,
    "start_time": "2023-03-18T13:11:24.391Z"
   },
   {
    "duration": 5,
    "start_time": "2023-03-18T13:11:24.407Z"
   },
   {
    "duration": 14,
    "start_time": "2023-03-18T13:11:24.414Z"
   },
   {
    "duration": 4,
    "start_time": "2023-03-18T13:11:24.431Z"
   },
   {
    "duration": 39,
    "start_time": "2023-03-18T13:11:24.437Z"
   },
   {
    "duration": 20,
    "start_time": "2023-03-18T13:11:24.478Z"
   },
   {
    "duration": 11,
    "start_time": "2023-03-18T13:11:24.500Z"
   },
   {
    "duration": 10,
    "start_time": "2023-03-18T13:11:24.513Z"
   },
   {
    "duration": 207,
    "start_time": "2023-03-18T13:11:24.525Z"
   },
   {
    "duration": 2,
    "start_time": "2023-03-18T13:11:24.734Z"
   },
   {
    "duration": 7,
    "start_time": "2023-03-18T13:11:24.738Z"
   },
   {
    "duration": 457,
    "start_time": "2023-03-18T13:11:24.746Z"
   },
   {
    "duration": 6,
    "start_time": "2023-03-18T13:11:25.205Z"
   },
   {
    "duration": 12,
    "start_time": "2023-03-18T13:11:25.212Z"
   },
   {
    "duration": 4,
    "start_time": "2023-03-18T13:11:25.226Z"
   },
   {
    "duration": 13,
    "start_time": "2023-03-18T13:11:25.231Z"
   },
   {
    "duration": 37,
    "start_time": "2023-03-18T13:11:25.246Z"
   },
   {
    "duration": 20,
    "start_time": "2023-03-18T13:11:25.287Z"
   },
   {
    "duration": 7,
    "start_time": "2023-03-18T13:11:25.309Z"
   },
   {
    "duration": 39,
    "start_time": "2023-03-18T13:11:25.318Z"
   },
   {
    "duration": 34,
    "start_time": "2023-03-18T13:11:25.358Z"
   },
   {
    "duration": 414,
    "start_time": "2023-03-18T13:11:25.394Z"
   },
   {
    "duration": 97,
    "start_time": "2023-03-18T13:11:25.809Z"
   },
   {
    "duration": 5,
    "start_time": "2023-03-18T13:11:25.907Z"
   },
   {
    "duration": 71,
    "start_time": "2023-03-18T13:11:25.913Z"
   },
   {
    "duration": 106,
    "start_time": "2023-03-18T13:11:25.986Z"
   },
   {
    "duration": 7,
    "start_time": "2023-03-18T13:11:26.094Z"
   },
   {
    "duration": 12,
    "start_time": "2023-03-18T13:11:26.103Z"
   },
   {
    "duration": 99,
    "start_time": "2023-03-18T13:11:26.117Z"
   },
   {
    "duration": 0,
    "start_time": "2023-03-18T13:11:26.217Z"
   },
   {
    "duration": 0,
    "start_time": "2023-03-18T13:11:26.219Z"
   },
   {
    "duration": 0,
    "start_time": "2023-03-18T13:11:26.220Z"
   },
   {
    "duration": 1,
    "start_time": "2023-03-18T13:11:26.221Z"
   },
   {
    "duration": 0,
    "start_time": "2023-03-18T13:11:26.223Z"
   },
   {
    "duration": 0,
    "start_time": "2023-03-18T13:11:26.224Z"
   },
   {
    "duration": 0,
    "start_time": "2023-03-18T13:11:26.225Z"
   },
   {
    "duration": 0,
    "start_time": "2023-03-18T13:11:26.227Z"
   },
   {
    "duration": 6,
    "start_time": "2023-03-18T13:15:10.748Z"
   },
   {
    "duration": 6,
    "start_time": "2023-03-18T13:15:28.490Z"
   },
   {
    "duration": 24,
    "start_time": "2023-03-18T13:18:58.725Z"
   },
   {
    "duration": 3,
    "start_time": "2023-03-18T13:23:37.518Z"
   },
   {
    "duration": 11,
    "start_time": "2023-03-18T13:24:02.393Z"
   },
   {
    "duration": 13,
    "start_time": "2023-03-18T13:28:49.856Z"
   },
   {
    "duration": 429,
    "start_time": "2023-03-18T13:28:56.596Z"
   },
   {
    "duration": 24,
    "start_time": "2023-03-18T13:29:02.537Z"
   },
   {
    "duration": 8,
    "start_time": "2023-03-18T13:29:06.729Z"
   },
   {
    "duration": 21,
    "start_time": "2023-03-18T13:29:08.294Z"
   },
   {
    "duration": 14,
    "start_time": "2023-03-18T13:29:10.234Z"
   },
   {
    "duration": 13,
    "start_time": "2023-03-18T13:29:19.347Z"
   },
   {
    "duration": 3,
    "start_time": "2023-03-18T13:29:22.501Z"
   },
   {
    "duration": 6,
    "start_time": "2023-03-18T13:29:25.203Z"
   },
   {
    "duration": 40,
    "start_time": "2023-03-18T13:29:27.622Z"
   },
   {
    "duration": 1235,
    "start_time": "2023-03-18T14:41:15.051Z"
   },
   {
    "duration": 1148,
    "start_time": "2023-03-18T14:41:16.289Z"
   },
   {
    "duration": 4,
    "start_time": "2023-03-18T14:41:17.439Z"
   },
   {
    "duration": 24,
    "start_time": "2023-03-18T14:41:17.446Z"
   },
   {
    "duration": 5,
    "start_time": "2023-03-18T14:41:17.472Z"
   },
   {
    "duration": 55,
    "start_time": "2023-03-18T14:41:17.479Z"
   },
   {
    "duration": 40,
    "start_time": "2023-03-18T14:41:17.536Z"
   },
   {
    "duration": 366,
    "start_time": "2023-03-18T14:41:17.578Z"
   },
   {
    "duration": 138,
    "start_time": "2023-03-18T14:41:17.946Z"
   },
   {
    "duration": 13,
    "start_time": "2023-03-18T14:41:18.087Z"
   },
   {
    "duration": 21,
    "start_time": "2023-03-18T14:41:18.101Z"
   },
   {
    "duration": 55,
    "start_time": "2023-03-18T14:41:18.123Z"
   },
   {
    "duration": 6,
    "start_time": "2023-03-18T14:41:18.180Z"
   },
   {
    "duration": 17,
    "start_time": "2023-03-18T14:41:18.188Z"
   },
   {
    "duration": 28,
    "start_time": "2023-03-18T14:41:18.207Z"
   },
   {
    "duration": 53,
    "start_time": "2023-03-18T14:41:18.237Z"
   },
   {
    "duration": 25,
    "start_time": "2023-03-18T14:41:18.292Z"
   },
   {
    "duration": 8,
    "start_time": "2023-03-18T14:41:18.319Z"
   },
   {
    "duration": 17,
    "start_time": "2023-03-18T14:41:18.329Z"
   },
   {
    "duration": 157,
    "start_time": "2023-03-18T14:41:18.348Z"
   },
   {
    "duration": 5,
    "start_time": "2023-03-18T14:41:18.507Z"
   },
   {
    "duration": 11,
    "start_time": "2023-03-18T14:41:18.513Z"
   },
   {
    "duration": 50,
    "start_time": "2023-03-18T14:41:18.526Z"
   },
   {
    "duration": 22,
    "start_time": "2023-03-18T14:41:18.578Z"
   },
   {
    "duration": 2,
    "start_time": "2023-03-18T14:41:18.602Z"
   },
   {
    "duration": 12,
    "start_time": "2023-03-18T14:41:18.606Z"
   },
   {
    "duration": 5,
    "start_time": "2023-03-18T14:41:18.620Z"
   },
   {
    "duration": 11,
    "start_time": "2023-03-18T14:41:18.629Z"
   },
   {
    "duration": 8,
    "start_time": "2023-03-18T14:41:18.641Z"
   },
   {
    "duration": 4,
    "start_time": "2023-03-18T14:41:18.676Z"
   },
   {
    "duration": 23,
    "start_time": "2023-03-18T14:41:18.682Z"
   },
   {
    "duration": 7,
    "start_time": "2023-03-18T14:41:18.707Z"
   },
   {
    "duration": 10,
    "start_time": "2023-03-18T14:41:18.715Z"
   },
   {
    "duration": 211,
    "start_time": "2023-03-18T14:41:18.726Z"
   },
   {
    "duration": 3,
    "start_time": "2023-03-18T14:41:18.939Z"
   },
   {
    "duration": 6,
    "start_time": "2023-03-18T14:41:18.943Z"
   },
   {
    "duration": 491,
    "start_time": "2023-03-18T14:41:18.950Z"
   },
   {
    "duration": 9,
    "start_time": "2023-03-18T14:41:19.443Z"
   },
   {
    "duration": 36,
    "start_time": "2023-03-18T14:41:19.455Z"
   },
   {
    "duration": 7,
    "start_time": "2023-03-18T14:41:19.493Z"
   },
   {
    "duration": 8,
    "start_time": "2023-03-18T14:41:19.502Z"
   },
   {
    "duration": 15,
    "start_time": "2023-03-18T14:41:19.512Z"
   },
   {
    "duration": 61,
    "start_time": "2023-03-18T14:41:19.529Z"
   },
   {
    "duration": 10,
    "start_time": "2023-03-18T14:41:19.592Z"
   },
   {
    "duration": 27,
    "start_time": "2023-03-18T14:41:19.604Z"
   },
   {
    "duration": 493,
    "start_time": "2023-03-18T14:41:19.633Z"
   },
   {
    "duration": 160,
    "start_time": "2023-03-18T14:41:20.128Z"
   },
   {
    "duration": 4,
    "start_time": "2023-03-18T14:41:20.290Z"
   },
   {
    "duration": 36,
    "start_time": "2023-03-18T14:41:20.296Z"
   },
   {
    "duration": 62,
    "start_time": "2023-03-18T14:41:20.333Z"
   },
   {
    "duration": 158,
    "start_time": "2023-03-18T14:41:20.397Z"
   },
   {
    "duration": 7,
    "start_time": "2023-03-18T14:41:20.557Z"
   },
   {
    "duration": 34,
    "start_time": "2023-03-18T14:41:20.566Z"
   },
   {
    "duration": 435,
    "start_time": "2023-03-18T14:41:20.602Z"
   },
   {
    "duration": 45,
    "start_time": "2023-03-18T14:41:21.039Z"
   },
   {
    "duration": 9,
    "start_time": "2023-03-18T14:41:21.085Z"
   },
   {
    "duration": 22,
    "start_time": "2023-03-18T14:41:21.096Z"
   },
   {
    "duration": 15,
    "start_time": "2023-03-18T14:41:21.119Z"
   },
   {
    "duration": 13,
    "start_time": "2023-03-18T14:41:21.175Z"
   },
   {
    "duration": 22,
    "start_time": "2023-03-18T14:41:21.190Z"
   },
   {
    "duration": 18,
    "start_time": "2023-03-18T14:41:21.214Z"
   },
   {
    "duration": 50,
    "start_time": "2023-03-18T14:41:21.234Z"
   },
   {
    "duration": 1229,
    "start_time": "2023-03-18T14:44:36.956Z"
   },
   {
    "duration": 1225,
    "start_time": "2023-03-18T14:44:38.187Z"
   },
   {
    "duration": 4,
    "start_time": "2023-03-18T14:44:39.416Z"
   },
   {
    "duration": 21,
    "start_time": "2023-03-18T14:44:39.422Z"
   },
   {
    "duration": 4,
    "start_time": "2023-03-18T14:44:39.445Z"
   },
   {
    "duration": 60,
    "start_time": "2023-03-18T14:44:39.451Z"
   },
   {
    "duration": 19,
    "start_time": "2023-03-18T14:44:39.512Z"
   },
   {
    "duration": 398,
    "start_time": "2023-03-18T14:44:39.533Z"
   },
   {
    "duration": 117,
    "start_time": "2023-03-18T14:44:39.934Z"
   },
   {
    "duration": 29,
    "start_time": "2023-03-18T14:44:40.053Z"
   },
   {
    "duration": 17,
    "start_time": "2023-03-18T14:44:40.084Z"
   },
   {
    "duration": 23,
    "start_time": "2023-03-18T14:44:40.103Z"
   },
   {
    "duration": 7,
    "start_time": "2023-03-18T14:44:40.128Z"
   },
   {
    "duration": 18,
    "start_time": "2023-03-18T14:44:40.176Z"
   },
   {
    "duration": 26,
    "start_time": "2023-03-18T14:44:40.196Z"
   },
   {
    "duration": 18,
    "start_time": "2023-03-18T14:44:40.224Z"
   },
   {
    "duration": 14,
    "start_time": "2023-03-18T14:44:40.275Z"
   },
   {
    "duration": 6,
    "start_time": "2023-03-18T14:44:40.291Z"
   },
   {
    "duration": 37,
    "start_time": "2023-03-18T14:44:40.299Z"
   },
   {
    "duration": 147,
    "start_time": "2023-03-18T14:44:40.337Z"
   },
   {
    "duration": 5,
    "start_time": "2023-03-18T14:44:40.486Z"
   },
   {
    "duration": 9,
    "start_time": "2023-03-18T14:44:40.493Z"
   },
   {
    "duration": 20,
    "start_time": "2023-03-18T14:44:40.504Z"
   },
   {
    "duration": 53,
    "start_time": "2023-03-18T14:44:40.525Z"
   },
   {
    "duration": 3,
    "start_time": "2023-03-18T14:44:40.580Z"
   },
   {
    "duration": 13,
    "start_time": "2023-03-18T14:44:40.584Z"
   },
   {
    "duration": 4,
    "start_time": "2023-03-18T14:44:40.601Z"
   },
   {
    "duration": 10,
    "start_time": "2023-03-18T14:44:40.607Z"
   },
   {
    "duration": 3,
    "start_time": "2023-03-18T14:44:40.619Z"
   },
   {
    "duration": 5,
    "start_time": "2023-03-18T14:44:40.623Z"
   },
   {
    "duration": 52,
    "start_time": "2023-03-18T14:44:40.629Z"
   },
   {
    "duration": 6,
    "start_time": "2023-03-18T14:44:40.683Z"
   },
   {
    "duration": 10,
    "start_time": "2023-03-18T14:44:40.692Z"
   },
   {
    "duration": 200,
    "start_time": "2023-03-18T14:44:40.704Z"
   },
   {
    "duration": 2,
    "start_time": "2023-03-18T14:44:40.906Z"
   },
   {
    "duration": 6,
    "start_time": "2023-03-18T14:44:40.910Z"
   },
   {
    "duration": 463,
    "start_time": "2023-03-18T14:44:40.918Z"
   },
   {
    "duration": 8,
    "start_time": "2023-03-18T14:44:41.382Z"
   },
   {
    "duration": 14,
    "start_time": "2023-03-18T14:44:41.391Z"
   },
   {
    "duration": 5,
    "start_time": "2023-03-18T14:44:41.406Z"
   },
   {
    "duration": 7,
    "start_time": "2023-03-18T14:44:41.412Z"
   },
   {
    "duration": 14,
    "start_time": "2023-03-18T14:44:41.421Z"
   },
   {
    "duration": 57,
    "start_time": "2023-03-18T14:44:41.437Z"
   },
   {
    "duration": 8,
    "start_time": "2023-03-18T14:44:41.496Z"
   },
   {
    "duration": 30,
    "start_time": "2023-03-18T14:44:41.506Z"
   },
   {
    "duration": 447,
    "start_time": "2023-03-18T14:44:41.538Z"
   },
   {
    "duration": 134,
    "start_time": "2023-03-18T14:44:41.987Z"
   },
   {
    "duration": 56,
    "start_time": "2023-03-18T14:44:42.123Z"
   },
   {
    "duration": 27,
    "start_time": "2023-03-18T14:44:42.181Z"
   },
   {
    "duration": 29,
    "start_time": "2023-03-18T14:44:42.210Z"
   },
   {
    "duration": 50,
    "start_time": "2023-03-18T14:44:42.240Z"
   },
   {
    "duration": 123,
    "start_time": "2023-03-18T14:44:42.292Z"
   },
   {
    "duration": 7,
    "start_time": "2023-03-18T14:44:42.417Z"
   },
   {
    "duration": 11,
    "start_time": "2023-03-18T14:44:42.426Z"
   },
   {
    "duration": 437,
    "start_time": "2023-03-18T14:44:42.439Z"
   },
   {
    "duration": 23,
    "start_time": "2023-03-18T14:44:42.877Z"
   },
   {
    "duration": 8,
    "start_time": "2023-03-18T14:44:42.901Z"
   },
   {
    "duration": 20,
    "start_time": "2023-03-18T14:44:42.910Z"
   },
   {
    "duration": 54,
    "start_time": "2023-03-18T14:44:42.932Z"
   },
   {
    "duration": 11,
    "start_time": "2023-03-18T14:44:42.988Z"
   },
   {
    "duration": 3,
    "start_time": "2023-03-18T14:44:43.001Z"
   },
   {
    "duration": 8,
    "start_time": "2023-03-18T14:44:43.006Z"
   },
   {
    "duration": 87,
    "start_time": "2023-03-18T14:44:43.016Z"
   },
   {
    "duration": 26,
    "start_time": "2023-03-18T14:47:12.298Z"
   },
   {
    "duration": 15,
    "start_time": "2023-03-18T14:47:29.517Z"
   },
   {
    "duration": 7,
    "start_time": "2023-03-18T14:48:11.705Z"
   },
   {
    "duration": 1182,
    "start_time": "2023-03-18T14:50:00.840Z"
   },
   {
    "duration": 1297,
    "start_time": "2023-03-18T14:50:02.025Z"
   },
   {
    "duration": 4,
    "start_time": "2023-03-18T14:50:03.324Z"
   },
   {
    "duration": 80,
    "start_time": "2023-03-18T14:50:03.331Z"
   },
   {
    "duration": 21,
    "start_time": "2023-03-18T14:50:03.413Z"
   },
   {
    "duration": 83,
    "start_time": "2023-03-18T14:50:03.436Z"
   },
   {
    "duration": 21,
    "start_time": "2023-03-18T14:50:03.521Z"
   },
   {
    "duration": 381,
    "start_time": "2023-03-18T14:50:03.544Z"
   },
   {
    "duration": 151,
    "start_time": "2023-03-18T14:50:03.927Z"
   },
   {
    "duration": 16,
    "start_time": "2023-03-18T14:50:04.082Z"
   },
   {
    "duration": 26,
    "start_time": "2023-03-18T14:50:04.100Z"
   },
   {
    "duration": 58,
    "start_time": "2023-03-18T14:50:04.128Z"
   },
   {
    "duration": 7,
    "start_time": "2023-03-18T14:50:04.189Z"
   },
   {
    "duration": 40,
    "start_time": "2023-03-18T14:50:04.198Z"
   },
   {
    "duration": 36,
    "start_time": "2023-03-18T14:50:04.240Z"
   },
   {
    "duration": 14,
    "start_time": "2023-03-18T14:50:04.278Z"
   },
   {
    "duration": 13,
    "start_time": "2023-03-18T14:50:04.294Z"
   },
   {
    "duration": 6,
    "start_time": "2023-03-18T14:50:04.309Z"
   },
   {
    "duration": 16,
    "start_time": "2023-03-18T14:50:04.317Z"
   },
   {
    "duration": 165,
    "start_time": "2023-03-18T14:50:04.335Z"
   },
   {
    "duration": 5,
    "start_time": "2023-03-18T14:50:04.502Z"
   },
   {
    "duration": 10,
    "start_time": "2023-03-18T14:50:04.508Z"
   },
   {
    "duration": 22,
    "start_time": "2023-03-18T14:50:04.519Z"
   },
   {
    "duration": 48,
    "start_time": "2023-03-18T14:50:04.542Z"
   },
   {
    "duration": 3,
    "start_time": "2023-03-18T14:50:04.592Z"
   },
   {
    "duration": 13,
    "start_time": "2023-03-18T14:50:04.596Z"
   },
   {
    "duration": 4,
    "start_time": "2023-03-18T14:50:04.610Z"
   },
   {
    "duration": 9,
    "start_time": "2023-03-18T14:50:04.618Z"
   },
   {
    "duration": 3,
    "start_time": "2023-03-18T14:50:04.629Z"
   },
   {
    "duration": 4,
    "start_time": "2023-03-18T14:50:04.633Z"
   },
   {
    "duration": 54,
    "start_time": "2023-03-18T14:50:04.638Z"
   },
   {
    "duration": 8,
    "start_time": "2023-03-18T14:50:04.693Z"
   },
   {
    "duration": 9,
    "start_time": "2023-03-18T14:50:04.702Z"
   },
   {
    "duration": 202,
    "start_time": "2023-03-18T14:50:04.712Z"
   },
   {
    "duration": 3,
    "start_time": "2023-03-18T14:50:04.915Z"
   },
   {
    "duration": 7,
    "start_time": "2023-03-18T14:50:04.919Z"
   },
   {
    "duration": 507,
    "start_time": "2023-03-18T14:50:04.928Z"
   },
   {
    "duration": 7,
    "start_time": "2023-03-18T14:50:05.437Z"
   },
   {
    "duration": 29,
    "start_time": "2023-03-18T14:50:05.446Z"
   },
   {
    "duration": 7,
    "start_time": "2023-03-18T14:50:05.477Z"
   },
   {
    "duration": 14,
    "start_time": "2023-03-18T14:50:05.485Z"
   },
   {
    "duration": 33,
    "start_time": "2023-03-18T14:50:05.501Z"
   },
   {
    "duration": 26,
    "start_time": "2023-03-18T14:50:05.536Z"
   },
   {
    "duration": 18,
    "start_time": "2023-03-18T14:50:05.563Z"
   },
   {
    "duration": 40,
    "start_time": "2023-03-18T14:50:05.583Z"
   },
   {
    "duration": 438,
    "start_time": "2023-03-18T14:50:05.625Z"
   },
   {
    "duration": 127,
    "start_time": "2023-03-18T14:50:06.065Z"
   },
   {
    "duration": 5,
    "start_time": "2023-03-18T14:50:06.194Z"
   },
   {
    "duration": 31,
    "start_time": "2023-03-18T14:50:06.201Z"
   },
   {
    "duration": 66,
    "start_time": "2023-03-18T14:50:06.234Z"
   },
   {
    "duration": 19,
    "start_time": "2023-03-18T14:50:06.302Z"
   },
   {
    "duration": 124,
    "start_time": "2023-03-18T14:50:06.323Z"
   },
   {
    "duration": 7,
    "start_time": "2023-03-18T14:50:06.449Z"
   },
   {
    "duration": 24,
    "start_time": "2023-03-18T14:50:06.457Z"
   },
   {
    "duration": 415,
    "start_time": "2023-03-18T14:50:06.482Z"
   },
   {
    "duration": 30,
    "start_time": "2023-03-18T14:50:06.899Z"
   },
   {
    "duration": 49,
    "start_time": "2023-03-18T14:50:06.931Z"
   },
   {
    "duration": 20,
    "start_time": "2023-03-18T14:50:06.981Z"
   },
   {
    "duration": 12,
    "start_time": "2023-03-18T14:50:07.003Z"
   },
   {
    "duration": 12,
    "start_time": "2023-03-18T14:50:07.016Z"
   },
   {
    "duration": 4,
    "start_time": "2023-03-18T14:50:07.030Z"
   },
   {
    "duration": 5,
    "start_time": "2023-03-18T14:50:07.036Z"
   },
   {
    "duration": 45,
    "start_time": "2023-03-18T14:50:07.076Z"
   },
   {
    "duration": 20,
    "start_time": "2023-03-18T14:50:45.317Z"
   },
   {
    "duration": 1286,
    "start_time": "2023-03-18T14:50:52.939Z"
   },
   {
    "duration": 2389,
    "start_time": "2023-03-18T14:50:54.227Z"
   },
   {
    "duration": 5,
    "start_time": "2023-03-18T14:50:56.618Z"
   },
   {
    "duration": 30,
    "start_time": "2023-03-18T14:50:56.625Z"
   },
   {
    "duration": 6,
    "start_time": "2023-03-18T14:50:56.658Z"
   },
   {
    "duration": 56,
    "start_time": "2023-03-18T14:50:56.666Z"
   },
   {
    "duration": 21,
    "start_time": "2023-03-18T14:50:56.724Z"
   },
   {
    "duration": 375,
    "start_time": "2023-03-18T14:50:56.748Z"
   },
   {
    "duration": 136,
    "start_time": "2023-03-18T14:50:57.125Z"
   },
   {
    "duration": 20,
    "start_time": "2023-03-18T14:50:57.266Z"
   },
   {
    "duration": 24,
    "start_time": "2023-03-18T14:50:57.287Z"
   },
   {
    "duration": 24,
    "start_time": "2023-03-18T14:50:57.313Z"
   },
   {
    "duration": 38,
    "start_time": "2023-03-18T14:50:57.338Z"
   },
   {
    "duration": 17,
    "start_time": "2023-03-18T14:50:57.377Z"
   },
   {
    "duration": 25,
    "start_time": "2023-03-18T14:50:57.395Z"
   },
   {
    "duration": 15,
    "start_time": "2023-03-18T14:50:57.421Z"
   },
   {
    "duration": 45,
    "start_time": "2023-03-18T14:50:57.438Z"
   },
   {
    "duration": 6,
    "start_time": "2023-03-18T14:50:57.485Z"
   },
   {
    "duration": 18,
    "start_time": "2023-03-18T14:50:57.492Z"
   },
   {
    "duration": 142,
    "start_time": "2023-03-18T14:50:57.511Z"
   },
   {
    "duration": 6,
    "start_time": "2023-03-18T14:50:57.654Z"
   },
   {
    "duration": 22,
    "start_time": "2023-03-18T14:50:57.661Z"
   },
   {
    "duration": 23,
    "start_time": "2023-03-18T14:50:57.685Z"
   },
   {
    "duration": 27,
    "start_time": "2023-03-18T14:50:57.710Z"
   },
   {
    "duration": 2,
    "start_time": "2023-03-18T14:50:57.739Z"
   },
   {
    "duration": 11,
    "start_time": "2023-03-18T14:50:57.775Z"
   },
   {
    "duration": 5,
    "start_time": "2023-03-18T14:50:57.788Z"
   },
   {
    "duration": 12,
    "start_time": "2023-03-18T14:50:57.797Z"
   },
   {
    "duration": 5,
    "start_time": "2023-03-18T14:50:57.811Z"
   },
   {
    "duration": 5,
    "start_time": "2023-03-18T14:50:57.818Z"
   },
   {
    "duration": 52,
    "start_time": "2023-03-18T14:50:57.825Z"
   },
   {
    "duration": 8,
    "start_time": "2023-03-18T14:50:57.880Z"
   },
   {
    "duration": 9,
    "start_time": "2023-03-18T14:50:57.890Z"
   },
   {
    "duration": 205,
    "start_time": "2023-03-18T14:50:57.901Z"
   },
   {
    "duration": 3,
    "start_time": "2023-03-18T14:50:58.108Z"
   },
   {
    "duration": 7,
    "start_time": "2023-03-18T14:50:58.113Z"
   },
   {
    "duration": 488,
    "start_time": "2023-03-18T14:50:58.122Z"
   },
   {
    "duration": 7,
    "start_time": "2023-03-18T14:50:58.612Z"
   },
   {
    "duration": 14,
    "start_time": "2023-03-18T14:50:58.620Z"
   },
   {
    "duration": 5,
    "start_time": "2023-03-18T14:50:58.636Z"
   },
   {
    "duration": 32,
    "start_time": "2023-03-18T14:50:58.643Z"
   },
   {
    "duration": 14,
    "start_time": "2023-03-18T14:50:58.677Z"
   },
   {
    "duration": 23,
    "start_time": "2023-03-18T14:50:58.693Z"
   },
   {
    "duration": 10,
    "start_time": "2023-03-18T14:50:58.718Z"
   },
   {
    "duration": 54,
    "start_time": "2023-03-18T14:50:58.730Z"
   },
   {
    "duration": 438,
    "start_time": "2023-03-18T14:50:58.786Z"
   },
   {
    "duration": 96,
    "start_time": "2023-03-18T14:50:59.226Z"
   },
   {
    "duration": 68,
    "start_time": "2023-03-18T14:50:59.324Z"
   },
   {
    "duration": 27,
    "start_time": "2023-03-18T14:50:59.394Z"
   },
   {
    "duration": 59,
    "start_time": "2023-03-18T14:50:59.422Z"
   },
   {
    "duration": 21,
    "start_time": "2023-03-18T14:50:59.483Z"
   },
   {
    "duration": 121,
    "start_time": "2023-03-18T14:50:59.505Z"
   },
   {
    "duration": 6,
    "start_time": "2023-03-18T14:50:59.628Z"
   },
   {
    "duration": 13,
    "start_time": "2023-03-18T14:50:59.636Z"
   },
   {
    "duration": 431,
    "start_time": "2023-03-18T14:50:59.651Z"
   },
   {
    "duration": 24,
    "start_time": "2023-03-18T14:51:00.084Z"
   },
   {
    "duration": 23,
    "start_time": "2023-03-18T14:51:00.110Z"
   },
   {
    "duration": 50,
    "start_time": "2023-03-18T14:51:00.135Z"
   },
   {
    "duration": 13,
    "start_time": "2023-03-18T14:51:00.187Z"
   },
   {
    "duration": 14,
    "start_time": "2023-03-18T14:51:00.202Z"
   },
   {
    "duration": 21,
    "start_time": "2023-03-18T14:51:00.217Z"
   },
   {
    "duration": 45,
    "start_time": "2023-03-18T14:51:00.240Z"
   },
   {
    "duration": 67,
    "start_time": "2023-03-18T14:51:00.288Z"
   },
   {
    "duration": 143,
    "start_time": "2023-03-18T14:54:39.895Z"
   },
   {
    "duration": 62,
    "start_time": "2023-03-18T14:54:59.495Z"
   },
   {
    "duration": 19,
    "start_time": "2023-03-18T14:58:00.302Z"
   },
   {
    "duration": 1258,
    "start_time": "2023-03-18T14:58:10.864Z"
   },
   {
    "duration": 1201,
    "start_time": "2023-03-18T14:58:12.125Z"
   },
   {
    "duration": 4,
    "start_time": "2023-03-18T14:58:13.328Z"
   },
   {
    "duration": 24,
    "start_time": "2023-03-18T14:58:13.335Z"
   },
   {
    "duration": 7,
    "start_time": "2023-03-18T14:58:13.361Z"
   },
   {
    "duration": 66,
    "start_time": "2023-03-18T14:58:13.370Z"
   },
   {
    "duration": 21,
    "start_time": "2023-03-18T14:58:13.438Z"
   },
   {
    "duration": 384,
    "start_time": "2023-03-18T14:58:13.475Z"
   },
   {
    "duration": 135,
    "start_time": "2023-03-18T14:58:13.861Z"
   },
   {
    "duration": 14,
    "start_time": "2023-03-18T14:58:13.999Z"
   },
   {
    "duration": 31,
    "start_time": "2023-03-18T14:58:14.015Z"
   },
   {
    "duration": 50,
    "start_time": "2023-03-18T14:58:14.049Z"
   },
   {
    "duration": 6,
    "start_time": "2023-03-18T14:58:14.101Z"
   },
   {
    "duration": 22,
    "start_time": "2023-03-18T14:58:14.109Z"
   },
   {
    "duration": 66,
    "start_time": "2023-03-18T14:58:14.134Z"
   },
   {
    "duration": 19,
    "start_time": "2023-03-18T14:58:14.202Z"
   },
   {
    "duration": 18,
    "start_time": "2023-03-18T14:58:14.224Z"
   },
   {
    "duration": 33,
    "start_time": "2023-03-18T14:58:14.244Z"
   },
   {
    "duration": 16,
    "start_time": "2023-03-18T14:58:14.279Z"
   },
   {
    "duration": 149,
    "start_time": "2023-03-18T14:58:14.298Z"
   },
   {
    "duration": 5,
    "start_time": "2023-03-18T14:58:14.448Z"
   },
   {
    "duration": 23,
    "start_time": "2023-03-18T14:58:14.454Z"
   },
   {
    "duration": 22,
    "start_time": "2023-03-18T14:58:14.478Z"
   },
   {
    "duration": 24,
    "start_time": "2023-03-18T14:58:14.502Z"
   },
   {
    "duration": 3,
    "start_time": "2023-03-18T14:58:14.528Z"
   },
   {
    "duration": 12,
    "start_time": "2023-03-18T14:58:14.532Z"
   },
   {
    "duration": 31,
    "start_time": "2023-03-18T14:58:14.547Z"
   },
   {
    "duration": 10,
    "start_time": "2023-03-18T14:58:14.581Z"
   },
   {
    "duration": 7,
    "start_time": "2023-03-18T14:58:14.593Z"
   },
   {
    "duration": 5,
    "start_time": "2023-03-18T14:58:14.601Z"
   },
   {
    "duration": 17,
    "start_time": "2023-03-18T14:58:14.608Z"
   },
   {
    "duration": 6,
    "start_time": "2023-03-18T14:58:14.627Z"
   },
   {
    "duration": 43,
    "start_time": "2023-03-18T14:58:14.634Z"
   },
   {
    "duration": 198,
    "start_time": "2023-03-18T14:58:14.678Z"
   },
   {
    "duration": 2,
    "start_time": "2023-03-18T14:58:14.878Z"
   },
   {
    "duration": 6,
    "start_time": "2023-03-18T14:58:14.881Z"
   },
   {
    "duration": 493,
    "start_time": "2023-03-18T14:58:14.888Z"
   },
   {
    "duration": 8,
    "start_time": "2023-03-18T14:58:15.383Z"
   },
   {
    "duration": 15,
    "start_time": "2023-03-18T14:58:15.393Z"
   },
   {
    "duration": 5,
    "start_time": "2023-03-18T14:58:15.410Z"
   },
   {
    "duration": 8,
    "start_time": "2023-03-18T14:58:15.417Z"
   },
   {
    "duration": 48,
    "start_time": "2023-03-18T14:58:15.426Z"
   },
   {
    "duration": 24,
    "start_time": "2023-03-18T14:58:15.476Z"
   },
   {
    "duration": 10,
    "start_time": "2023-03-18T14:58:15.502Z"
   },
   {
    "duration": 27,
    "start_time": "2023-03-18T14:58:15.514Z"
   },
   {
    "duration": 447,
    "start_time": "2023-03-18T14:58:15.543Z"
   },
   {
    "duration": 112,
    "start_time": "2023-03-18T14:58:15.992Z"
   },
   {
    "duration": 20,
    "start_time": "2023-03-18T14:58:16.106Z"
   },
   {
    "duration": 70,
    "start_time": "2023-03-18T14:58:16.128Z"
   },
   {
    "duration": 35,
    "start_time": "2023-03-18T14:58:16.200Z"
   },
   {
    "duration": 46,
    "start_time": "2023-03-18T14:58:16.237Z"
   },
   {
    "duration": 127,
    "start_time": "2023-03-18T14:58:16.285Z"
   },
   {
    "duration": 7,
    "start_time": "2023-03-18T14:58:16.414Z"
   },
   {
    "duration": 18,
    "start_time": "2023-03-18T14:58:16.423Z"
   },
   {
    "duration": 432,
    "start_time": "2023-03-18T14:58:16.442Z"
   },
   {
    "duration": 31,
    "start_time": "2023-03-18T14:58:16.877Z"
   },
   {
    "duration": 8,
    "start_time": "2023-03-18T14:58:16.910Z"
   },
   {
    "duration": 62,
    "start_time": "2023-03-18T14:58:16.920Z"
   },
   {
    "duration": 15,
    "start_time": "2023-03-18T14:58:16.983Z"
   },
   {
    "duration": 12,
    "start_time": "2023-03-18T14:58:16.999Z"
   },
   {
    "duration": 4,
    "start_time": "2023-03-18T14:58:17.013Z"
   },
   {
    "duration": 8,
    "start_time": "2023-03-18T14:58:17.019Z"
   },
   {
    "duration": 79,
    "start_time": "2023-03-18T14:58:17.029Z"
   },
   {
    "duration": 25,
    "start_time": "2023-03-18T15:00:00.500Z"
   },
   {
    "duration": 12,
    "start_time": "2023-03-18T15:00:24.900Z"
   },
   {
    "duration": 118,
    "start_time": "2023-03-18T15:00:37.202Z"
   },
   {
    "duration": 1271,
    "start_time": "2023-03-18T15:00:54.137Z"
   },
   {
    "duration": 1072,
    "start_time": "2023-03-18T15:00:55.410Z"
   },
   {
    "duration": 4,
    "start_time": "2023-03-18T15:00:56.484Z"
   },
   {
    "duration": 22,
    "start_time": "2023-03-18T15:00:56.490Z"
   },
   {
    "duration": 5,
    "start_time": "2023-03-18T15:00:56.514Z"
   },
   {
    "duration": 73,
    "start_time": "2023-03-18T15:00:56.521Z"
   },
   {
    "duration": 21,
    "start_time": "2023-03-18T15:00:56.596Z"
   },
   {
    "duration": 394,
    "start_time": "2023-03-18T15:00:56.619Z"
   },
   {
    "duration": 132,
    "start_time": "2023-03-18T15:00:57.015Z"
   },
   {
    "duration": 26,
    "start_time": "2023-03-18T15:00:57.150Z"
   },
   {
    "duration": 21,
    "start_time": "2023-03-18T15:00:57.178Z"
   },
   {
    "duration": 21,
    "start_time": "2023-03-18T15:00:57.201Z"
   },
   {
    "duration": 5,
    "start_time": "2023-03-18T15:00:57.224Z"
   },
   {
    "duration": 46,
    "start_time": "2023-03-18T15:00:57.230Z"
   },
   {
    "duration": 25,
    "start_time": "2023-03-18T15:00:57.278Z"
   },
   {
    "duration": 14,
    "start_time": "2023-03-18T15:00:57.305Z"
   },
   {
    "duration": 14,
    "start_time": "2023-03-18T15:00:57.320Z"
   },
   {
    "duration": 6,
    "start_time": "2023-03-18T15:00:57.336Z"
   },
   {
    "duration": 14,
    "start_time": "2023-03-18T15:00:57.376Z"
   },
   {
    "duration": 136,
    "start_time": "2023-03-18T15:00:57.392Z"
   },
   {
    "duration": 5,
    "start_time": "2023-03-18T15:00:57.530Z"
   },
   {
    "duration": 17,
    "start_time": "2023-03-18T15:00:57.537Z"
   },
   {
    "duration": 36,
    "start_time": "2023-03-18T15:00:57.556Z"
   },
   {
    "duration": 24,
    "start_time": "2023-03-18T15:00:57.594Z"
   },
   {
    "duration": 3,
    "start_time": "2023-03-18T15:00:57.620Z"
   },
   {
    "duration": 24,
    "start_time": "2023-03-18T15:00:57.625Z"
   },
   {
    "duration": 5,
    "start_time": "2023-03-18T15:00:57.651Z"
   },
   {
    "duration": 13,
    "start_time": "2023-03-18T15:00:57.678Z"
   },
   {
    "duration": 4,
    "start_time": "2023-03-18T15:00:57.693Z"
   },
   {
    "duration": 5,
    "start_time": "2023-03-18T15:00:57.698Z"
   },
   {
    "duration": 18,
    "start_time": "2023-03-18T15:00:57.705Z"
   },
   {
    "duration": 8,
    "start_time": "2023-03-18T15:00:57.725Z"
   },
   {
    "duration": 40,
    "start_time": "2023-03-18T15:00:57.735Z"
   },
   {
    "duration": 206,
    "start_time": "2023-03-18T15:00:57.777Z"
   },
   {
    "duration": 3,
    "start_time": "2023-03-18T15:00:57.985Z"
   },
   {
    "duration": 5,
    "start_time": "2023-03-18T15:00:57.990Z"
   },
   {
    "duration": 475,
    "start_time": "2023-03-18T15:00:57.996Z"
   },
   {
    "duration": 7,
    "start_time": "2023-03-18T15:00:58.473Z"
   },
   {
    "duration": 14,
    "start_time": "2023-03-18T15:00:58.481Z"
   },
   {
    "duration": 6,
    "start_time": "2023-03-18T15:00:58.496Z"
   },
   {
    "duration": 27,
    "start_time": "2023-03-18T15:00:58.504Z"
   },
   {
    "duration": 16,
    "start_time": "2023-03-18T15:00:58.533Z"
   },
   {
    "duration": 36,
    "start_time": "2023-03-18T15:00:58.550Z"
   },
   {
    "duration": 8,
    "start_time": "2023-03-18T15:00:58.587Z"
   },
   {
    "duration": 25,
    "start_time": "2023-03-18T15:00:58.597Z"
   },
   {
    "duration": 434,
    "start_time": "2023-03-18T15:00:58.624Z"
   },
   {
    "duration": 126,
    "start_time": "2023-03-18T15:00:59.060Z"
   },
   {
    "duration": 21,
    "start_time": "2023-03-18T15:00:59.187Z"
   },
   {
    "duration": 43,
    "start_time": "2023-03-18T15:00:59.210Z"
   },
   {
    "duration": 44,
    "start_time": "2023-03-18T15:00:59.255Z"
   },
   {
    "duration": 19,
    "start_time": "2023-03-18T15:00:59.301Z"
   },
   {
    "duration": 117,
    "start_time": "2023-03-18T15:00:59.322Z"
   },
   {
    "duration": 7,
    "start_time": "2023-03-18T15:00:59.441Z"
   },
   {
    "duration": 31,
    "start_time": "2023-03-18T15:00:59.450Z"
   },
   {
    "duration": 413,
    "start_time": "2023-03-18T15:00:59.482Z"
   },
   {
    "duration": 24,
    "start_time": "2023-03-18T15:00:59.897Z"
   },
   {
    "duration": 8,
    "start_time": "2023-03-18T15:00:59.922Z"
   },
   {
    "duration": 57,
    "start_time": "2023-03-18T15:00:59.932Z"
   },
   {
    "duration": 13,
    "start_time": "2023-03-18T15:00:59.990Z"
   },
   {
    "duration": 11,
    "start_time": "2023-03-18T15:01:00.005Z"
   },
   {
    "duration": 25,
    "start_time": "2023-03-18T15:01:00.018Z"
   },
   {
    "duration": 38,
    "start_time": "2023-03-18T15:01:00.044Z"
   },
   {
    "duration": 81,
    "start_time": "2023-03-18T15:01:00.083Z"
   },
   {
    "duration": 4,
    "start_time": "2023-03-18T15:02:38.001Z"
   },
   {
    "duration": 79,
    "start_time": "2023-03-18T15:03:44.211Z"
   },
   {
    "duration": 1209,
    "start_time": "2023-03-18T15:03:52.007Z"
   },
   {
    "duration": 1283,
    "start_time": "2023-03-18T15:03:53.218Z"
   },
   {
    "duration": 4,
    "start_time": "2023-03-18T15:03:54.503Z"
   },
   {
    "duration": 24,
    "start_time": "2023-03-18T15:03:54.509Z"
   },
   {
    "duration": 5,
    "start_time": "2023-03-18T15:03:54.535Z"
   },
   {
    "duration": 65,
    "start_time": "2023-03-18T15:03:54.542Z"
   },
   {
    "duration": 22,
    "start_time": "2023-03-18T15:03:54.609Z"
   },
   {
    "duration": 391,
    "start_time": "2023-03-18T15:03:54.633Z"
   },
   {
    "duration": 133,
    "start_time": "2023-03-18T15:03:55.026Z"
   },
   {
    "duration": 24,
    "start_time": "2023-03-18T15:03:55.161Z"
   },
   {
    "duration": 24,
    "start_time": "2023-03-18T15:03:55.186Z"
   },
   {
    "duration": 25,
    "start_time": "2023-03-18T15:03:55.211Z"
   },
   {
    "duration": 6,
    "start_time": "2023-03-18T15:03:55.237Z"
   },
   {
    "duration": 18,
    "start_time": "2023-03-18T15:03:55.277Z"
   },
   {
    "duration": 26,
    "start_time": "2023-03-18T15:03:55.296Z"
   },
   {
    "duration": 16,
    "start_time": "2023-03-18T15:03:55.324Z"
   },
   {
    "duration": 43,
    "start_time": "2023-03-18T15:03:55.342Z"
   },
   {
    "duration": 6,
    "start_time": "2023-03-18T15:03:55.387Z"
   },
   {
    "duration": 17,
    "start_time": "2023-03-18T15:03:55.395Z"
   },
   {
    "duration": 140,
    "start_time": "2023-03-18T15:03:55.414Z"
   },
   {
    "duration": 6,
    "start_time": "2023-03-18T15:03:55.556Z"
   },
   {
    "duration": 9,
    "start_time": "2023-03-18T15:03:55.574Z"
   },
   {
    "duration": 19,
    "start_time": "2023-03-18T15:03:55.584Z"
   },
   {
    "duration": 21,
    "start_time": "2023-03-18T15:03:55.605Z"
   },
   {
    "duration": 3,
    "start_time": "2023-03-18T15:03:55.628Z"
   },
   {
    "duration": 43,
    "start_time": "2023-03-18T15:03:55.633Z"
   },
   {
    "duration": 4,
    "start_time": "2023-03-18T15:03:55.678Z"
   },
   {
    "duration": 10,
    "start_time": "2023-03-18T15:03:55.684Z"
   },
   {
    "duration": 4,
    "start_time": "2023-03-18T15:03:55.696Z"
   },
   {
    "duration": 10,
    "start_time": "2023-03-18T15:03:55.702Z"
   },
   {
    "duration": 17,
    "start_time": "2023-03-18T15:03:55.713Z"
   },
   {
    "duration": 7,
    "start_time": "2023-03-18T15:03:55.731Z"
   },
   {
    "duration": 10,
    "start_time": "2023-03-18T15:03:55.774Z"
   },
   {
    "duration": 197,
    "start_time": "2023-03-18T15:03:55.786Z"
   },
   {
    "duration": 3,
    "start_time": "2023-03-18T15:03:55.984Z"
   },
   {
    "duration": 6,
    "start_time": "2023-03-18T15:03:55.988Z"
   },
   {
    "duration": 485,
    "start_time": "2023-03-18T15:03:55.995Z"
   },
   {
    "duration": 7,
    "start_time": "2023-03-18T15:03:56.481Z"
   },
   {
    "duration": 13,
    "start_time": "2023-03-18T15:03:56.490Z"
   },
   {
    "duration": 5,
    "start_time": "2023-03-18T15:03:56.505Z"
   },
   {
    "duration": 8,
    "start_time": "2023-03-18T15:03:56.514Z"
   },
   {
    "duration": 52,
    "start_time": "2023-03-18T15:03:56.524Z"
   },
   {
    "duration": 21,
    "start_time": "2023-03-18T15:03:56.578Z"
   },
   {
    "duration": 28,
    "start_time": "2023-03-18T15:03:56.601Z"
   },
   {
    "duration": 446,
    "start_time": "2023-03-18T15:03:56.631Z"
   },
   {
    "duration": 113,
    "start_time": "2023-03-18T15:03:57.079Z"
   },
   {
    "duration": 11,
    "start_time": "2023-03-18T15:03:57.194Z"
   },
   {
    "duration": 35,
    "start_time": "2023-03-18T15:03:57.207Z"
   },
   {
    "duration": 50,
    "start_time": "2023-03-18T15:03:57.244Z"
   },
   {
    "duration": 122,
    "start_time": "2023-03-18T15:03:57.295Z"
   },
   {
    "duration": 7,
    "start_time": "2023-03-18T15:03:57.419Z"
   },
   {
    "duration": 15,
    "start_time": "2023-03-18T15:03:57.428Z"
   },
   {
    "duration": 457,
    "start_time": "2023-03-18T15:03:57.445Z"
   },
   {
    "duration": 25,
    "start_time": "2023-03-18T15:03:57.904Z"
   },
   {
    "duration": 8,
    "start_time": "2023-03-18T15:03:57.931Z"
   },
   {
    "duration": 23,
    "start_time": "2023-03-18T15:03:57.976Z"
   },
   {
    "duration": 14,
    "start_time": "2023-03-18T15:03:58.001Z"
   },
   {
    "duration": 12,
    "start_time": "2023-03-18T15:03:58.017Z"
   },
   {
    "duration": 3,
    "start_time": "2023-03-18T15:03:58.031Z"
   },
   {
    "duration": 42,
    "start_time": "2023-03-18T15:03:58.036Z"
   },
   {
    "duration": 47,
    "start_time": "2023-03-18T15:03:58.080Z"
   },
   {
    "duration": 29,
    "start_time": "2023-03-18T15:08:32.432Z"
   },
   {
    "duration": 27,
    "start_time": "2023-03-18T15:08:45.440Z"
   },
   {
    "duration": 23,
    "start_time": "2023-03-18T15:08:58.697Z"
   },
   {
    "duration": 22,
    "start_time": "2023-03-18T15:10:28.743Z"
   },
   {
    "duration": 96,
    "start_time": "2023-03-18T15:11:37.318Z"
   },
   {
    "duration": 138,
    "start_time": "2023-03-18T15:11:42.690Z"
   },
   {
    "duration": 56,
    "start_time": "2023-03-18T15:12:10.829Z"
   },
   {
    "duration": 52,
    "start_time": "2023-03-18T15:12:53.200Z"
   },
   {
    "duration": 51,
    "start_time": "2023-03-18T15:13:36.254Z"
   },
   {
    "duration": 17,
    "start_time": "2023-03-18T15:13:51.315Z"
   },
   {
    "duration": 58,
    "start_time": "2023-03-18T15:13:53.516Z"
   },
   {
    "duration": 52,
    "start_time": "2023-03-18T15:14:17.865Z"
   },
   {
    "duration": 60,
    "start_time": "2023-03-18T15:15:07.637Z"
   },
   {
    "duration": 55,
    "start_time": "2023-03-18T15:15:43.508Z"
   },
   {
    "duration": 103,
    "start_time": "2023-03-18T15:16:04.039Z"
   },
   {
    "duration": 52,
    "start_time": "2023-03-18T15:17:01.525Z"
   },
   {
    "duration": 15,
    "start_time": "2023-03-18T15:28:41.514Z"
   },
   {
    "duration": 24,
    "start_time": "2023-03-18T15:28:50.344Z"
   },
   {
    "duration": 68,
    "start_time": "2023-03-18T15:30:31.914Z"
   },
   {
    "duration": 66,
    "start_time": "2023-03-18T15:30:44.406Z"
   },
   {
    "duration": 67,
    "start_time": "2023-03-18T15:31:26.210Z"
   },
   {
    "duration": 64,
    "start_time": "2023-03-18T15:31:37.960Z"
   },
   {
    "duration": 59,
    "start_time": "2023-03-18T15:31:42.928Z"
   },
   {
    "duration": 1276,
    "start_time": "2023-03-18T15:44:45.959Z"
   },
   {
    "duration": 1644,
    "start_time": "2023-03-18T15:44:47.237Z"
   },
   {
    "duration": 5,
    "start_time": "2023-03-18T15:44:48.882Z"
   },
   {
    "duration": 24,
    "start_time": "2023-03-18T15:44:48.889Z"
   },
   {
    "duration": 6,
    "start_time": "2023-03-18T15:44:48.914Z"
   },
   {
    "duration": 77,
    "start_time": "2023-03-18T15:44:48.921Z"
   },
   {
    "duration": 21,
    "start_time": "2023-03-18T15:44:49.000Z"
   },
   {
    "duration": 373,
    "start_time": "2023-03-18T15:44:49.023Z"
   },
   {
    "duration": 133,
    "start_time": "2023-03-18T15:44:49.398Z"
   },
   {
    "duration": 16,
    "start_time": "2023-03-18T15:44:49.534Z"
   },
   {
    "duration": 50,
    "start_time": "2023-03-18T15:44:49.553Z"
   },
   {
    "duration": 26,
    "start_time": "2023-03-18T15:44:49.604Z"
   },
   {
    "duration": 6,
    "start_time": "2023-03-18T15:44:49.632Z"
   },
   {
    "duration": 42,
    "start_time": "2023-03-18T15:44:49.639Z"
   },
   {
    "duration": 25,
    "start_time": "2023-03-18T15:44:49.683Z"
   },
   {
    "duration": 14,
    "start_time": "2023-03-18T15:44:49.710Z"
   },
   {
    "duration": 13,
    "start_time": "2023-03-18T15:44:49.726Z"
   },
   {
    "duration": 39,
    "start_time": "2023-03-18T15:44:49.741Z"
   },
   {
    "duration": 27,
    "start_time": "2023-03-18T15:44:49.782Z"
   },
   {
    "duration": 133,
    "start_time": "2023-03-18T15:44:49.811Z"
   },
   {
    "duration": 5,
    "start_time": "2023-03-18T15:44:49.946Z"
   },
   {
    "duration": 27,
    "start_time": "2023-03-18T15:44:49.952Z"
   },
   {
    "duration": 21,
    "start_time": "2023-03-18T15:44:49.981Z"
   },
   {
    "duration": 25,
    "start_time": "2023-03-18T15:44:50.004Z"
   },
   {
    "duration": 3,
    "start_time": "2023-03-18T15:44:50.030Z"
   },
   {
    "duration": 17,
    "start_time": "2023-03-18T15:44:50.034Z"
   },
   {
    "duration": 27,
    "start_time": "2023-03-18T15:44:50.052Z"
   },
   {
    "duration": 11,
    "start_time": "2023-03-18T15:44:50.083Z"
   },
   {
    "duration": 9,
    "start_time": "2023-03-18T15:44:50.095Z"
   },
   {
    "duration": 9,
    "start_time": "2023-03-18T15:44:50.106Z"
   },
   {
    "duration": 19,
    "start_time": "2023-03-18T15:44:50.117Z"
   },
   {
    "duration": 7,
    "start_time": "2023-03-18T15:44:50.138Z"
   },
   {
    "duration": 32,
    "start_time": "2023-03-18T15:44:50.147Z"
   },
   {
    "duration": 200,
    "start_time": "2023-03-18T15:44:50.180Z"
   },
   {
    "duration": 5,
    "start_time": "2023-03-18T15:44:50.383Z"
   },
   {
    "duration": 4,
    "start_time": "2023-03-18T15:44:50.392Z"
   },
   {
    "duration": 486,
    "start_time": "2023-03-18T15:44:50.398Z"
   },
   {
    "duration": 7,
    "start_time": "2023-03-18T15:44:50.886Z"
   },
   {
    "duration": 13,
    "start_time": "2023-03-18T15:44:50.895Z"
   },
   {
    "duration": 19,
    "start_time": "2023-03-18T15:44:50.910Z"
   },
   {
    "duration": 18,
    "start_time": "2023-03-18T15:44:50.931Z"
   },
   {
    "duration": 24,
    "start_time": "2023-03-18T15:44:50.951Z"
   },
   {
    "duration": 22,
    "start_time": "2023-03-18T15:44:50.977Z"
   },
   {
    "duration": 23,
    "start_time": "2023-03-18T15:44:51.001Z"
   },
   {
    "duration": 435,
    "start_time": "2023-03-18T15:44:51.025Z"
   },
   {
    "duration": 115,
    "start_time": "2023-03-18T15:44:51.461Z"
   },
   {
    "duration": 15,
    "start_time": "2023-03-18T15:44:51.578Z"
   },
   {
    "duration": 23,
    "start_time": "2023-03-18T15:44:51.595Z"
   },
   {
    "duration": 138,
    "start_time": "2023-03-18T15:44:51.620Z"
   },
   {
    "duration": 19,
    "start_time": "2023-03-18T15:44:51.759Z"
   },
   {
    "duration": 16,
    "start_time": "2023-03-18T15:44:51.780Z"
   },
   {
    "duration": 454,
    "start_time": "2023-03-18T15:44:51.797Z"
   },
   {
    "duration": 28,
    "start_time": "2023-03-18T15:44:52.253Z"
   },
   {
    "duration": 174,
    "start_time": "2023-03-18T15:44:52.283Z"
   },
   {
    "duration": 38,
    "start_time": "2023-03-18T15:44:52.459Z"
   },
   {
    "duration": 10,
    "start_time": "2023-03-18T15:44:52.500Z"
   },
   {
    "duration": 29,
    "start_time": "2023-03-18T15:44:52.512Z"
   },
   {
    "duration": 38,
    "start_time": "2023-03-18T15:44:52.543Z"
   },
   {
    "duration": 12,
    "start_time": "2023-03-18T15:44:52.584Z"
   },
   {
    "duration": 3,
    "start_time": "2023-03-18T15:44:52.598Z"
   },
   {
    "duration": 8,
    "start_time": "2023-03-18T15:44:52.603Z"
   },
   {
    "duration": 79,
    "start_time": "2023-03-18T15:44:52.613Z"
   },
   {
    "duration": 1346,
    "start_time": "2023-03-18T19:20:43.751Z"
   },
   {
    "duration": 1400,
    "start_time": "2023-03-18T19:20:45.100Z"
   },
   {
    "duration": 5,
    "start_time": "2023-03-18T19:20:46.508Z"
   },
   {
    "duration": 52,
    "start_time": "2023-03-18T19:20:46.517Z"
   },
   {
    "duration": 48,
    "start_time": "2023-03-18T19:20:46.571Z"
   },
   {
    "duration": 84,
    "start_time": "2023-03-18T19:20:46.621Z"
   },
   {
    "duration": 23,
    "start_time": "2023-03-18T19:20:46.707Z"
   },
   {
    "duration": 428,
    "start_time": "2023-03-18T19:20:46.731Z"
   },
   {
    "duration": 176,
    "start_time": "2023-03-18T19:20:47.161Z"
   },
   {
    "duration": 15,
    "start_time": "2023-03-18T19:20:47.341Z"
   },
   {
    "duration": 48,
    "start_time": "2023-03-18T19:20:47.358Z"
   },
   {
    "duration": 25,
    "start_time": "2023-03-18T19:20:47.414Z"
   },
   {
    "duration": 6,
    "start_time": "2023-03-18T19:20:47.441Z"
   },
   {
    "duration": 35,
    "start_time": "2023-03-18T19:20:47.449Z"
   },
   {
    "duration": 71,
    "start_time": "2023-03-18T19:20:47.486Z"
   },
   {
    "duration": 28,
    "start_time": "2023-03-18T19:20:47.561Z"
   },
   {
    "duration": 40,
    "start_time": "2023-03-18T19:20:47.591Z"
   },
   {
    "duration": 11,
    "start_time": "2023-03-18T19:20:47.633Z"
   },
   {
    "duration": 29,
    "start_time": "2023-03-18T19:20:47.646Z"
   },
   {
    "duration": 162,
    "start_time": "2023-03-18T19:20:47.676Z"
   },
   {
    "duration": 4,
    "start_time": "2023-03-18T19:20:47.839Z"
   },
   {
    "duration": 12,
    "start_time": "2023-03-18T19:20:47.845Z"
   },
   {
    "duration": 38,
    "start_time": "2023-03-18T19:20:47.858Z"
   },
   {
    "duration": 26,
    "start_time": "2023-03-18T19:20:47.903Z"
   },
   {
    "duration": 10,
    "start_time": "2023-03-18T19:20:47.930Z"
   },
   {
    "duration": 27,
    "start_time": "2023-03-18T19:20:47.942Z"
   },
   {
    "duration": 12,
    "start_time": "2023-03-18T19:20:47.971Z"
   },
   {
    "duration": 50,
    "start_time": "2023-03-18T19:20:47.988Z"
   },
   {
    "duration": 24,
    "start_time": "2023-03-18T19:20:48.039Z"
   },
   {
    "duration": 58,
    "start_time": "2023-03-18T19:20:48.065Z"
   },
   {
    "duration": 106,
    "start_time": "2023-03-18T19:20:48.124Z"
   },
   {
    "duration": 98,
    "start_time": "2023-03-18T19:20:48.232Z"
   },
   {
    "duration": 20,
    "start_time": "2023-03-18T19:20:48.332Z"
   },
   {
    "duration": 268,
    "start_time": "2023-03-18T19:20:48.354Z"
   },
   {
    "duration": 2,
    "start_time": "2023-03-18T19:20:48.624Z"
   },
   {
    "duration": 15,
    "start_time": "2023-03-18T19:20:48.628Z"
   },
   {
    "duration": 513,
    "start_time": "2023-03-18T19:20:48.645Z"
   },
   {
    "duration": 8,
    "start_time": "2023-03-18T19:20:49.159Z"
   },
   {
    "duration": 44,
    "start_time": "2023-03-18T19:20:49.169Z"
   },
   {
    "duration": 15,
    "start_time": "2023-03-18T19:20:49.216Z"
   },
   {
    "duration": 17,
    "start_time": "2023-03-18T19:20:49.232Z"
   },
   {
    "duration": 23,
    "start_time": "2023-03-18T19:20:49.251Z"
   },
   {
    "duration": 38,
    "start_time": "2023-03-18T19:20:49.276Z"
   },
   {
    "duration": 47,
    "start_time": "2023-03-18T19:20:49.316Z"
   },
   {
    "duration": 956,
    "start_time": "2023-03-18T19:20:49.364Z"
   },
   {
    "duration": 101,
    "start_time": "2023-03-18T19:20:50.321Z"
   },
   {
    "duration": 64,
    "start_time": "2023-03-18T19:20:50.424Z"
   },
   {
    "duration": 30,
    "start_time": "2023-03-18T19:20:50.496Z"
   },
   {
    "duration": 119,
    "start_time": "2023-03-18T19:20:50.527Z"
   },
   {
    "duration": 15,
    "start_time": "2023-03-18T19:20:50.649Z"
   },
   {
    "duration": 51,
    "start_time": "2023-03-18T19:20:50.666Z"
   },
   {
    "duration": 476,
    "start_time": "2023-03-18T19:20:50.719Z"
   },
   {
    "duration": 30,
    "start_time": "2023-03-18T19:20:51.200Z"
   },
   {
    "duration": 195,
    "start_time": "2023-03-18T19:20:51.232Z"
   },
   {
    "duration": 24,
    "start_time": "2023-03-18T19:20:51.429Z"
   },
   {
    "duration": 8,
    "start_time": "2023-03-18T19:20:51.455Z"
   },
   {
    "duration": 29,
    "start_time": "2023-03-18T19:20:51.490Z"
   },
   {
    "duration": 18,
    "start_time": "2023-03-18T19:20:51.521Z"
   },
   {
    "duration": 14,
    "start_time": "2023-03-18T19:20:51.540Z"
   },
   {
    "duration": 10,
    "start_time": "2023-03-18T19:20:51.555Z"
   },
   {
    "duration": 34,
    "start_time": "2023-03-18T19:20:51.567Z"
   },
   {
    "duration": 62,
    "start_time": "2023-03-18T19:20:51.604Z"
   }
  ],
  "kernelspec": {
   "display_name": "Python 3 (ipykernel)",
   "language": "python",
   "name": "python3"
  },
  "language_info": {
   "codemirror_mode": {
    "name": "ipython",
    "version": 3
   },
   "file_extension": ".py",
   "mimetype": "text/x-python",
   "name": "python",
   "nbconvert_exporter": "python",
   "pygments_lexer": "ipython3",
   "version": "3.9.12"
  },
  "toc": {
   "base_numbering": 1,
   "nav_menu": {},
   "number_sections": true,
   "sideBar": true,
   "skip_h1_title": true,
   "title_cell": "Table of Contents",
   "title_sidebar": "Contents",
   "toc_cell": false,
   "toc_position": {
    "height": "calc(100% - 180px)",
    "left": "10px",
    "top": "150px",
    "width": "270.188px"
   },
   "toc_section_display": true,
   "toc_window_display": true
  }
 },
 "nbformat": 4,
 "nbformat_minor": 2
}
