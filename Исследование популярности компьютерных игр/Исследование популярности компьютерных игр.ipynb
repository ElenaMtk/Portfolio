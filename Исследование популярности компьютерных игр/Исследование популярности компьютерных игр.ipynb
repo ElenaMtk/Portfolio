{
 "cells": [
  {
   "cell_type": "markdown",
   "metadata": {},
   "source": [
    "# Исследование популярности компьютерных игр"
   ]
  },
  {
   "cell_type": "markdown",
   "metadata": {},
   "source": [
    "В текущем исследовании мы изучим данные о продажах компьютерных игр и их популярность среди населения разных регионов мира, полученные из открытых источников. На основании полученных результатов мы опишем закономерности, определяющие успешность игр,  и проверим несколько гипотез в отношении пользовательских рейтингов.\n",
    "\n",
    "Таким образом, **цели исследования** будут следующие:\n",
    "- выявить закономерности, которые определяют успешность игры;\n",
    "- составить портрет пользователя, характерного для каждого региона;\n",
    "- проверить две гипотезы: \n",
    "  1. средние пользовательские рейтинги платформ Xbox One и PC одинаковые;\n",
    "  2. средние пользовательские рейтинги жанров \"Action\" и \"Sports\" разные.\n",
    "\n",
    "Исследование пройдет в несколько этапов:\n",
    "1. Обзор данных.\n",
    "2. Предобработка данных.\n",
    "3. Исследовательский анализ данных.\n",
    "4. Составление портрета пользователей\n",
    "5. Проверка гипотез"
   ]
  },
  {
   "cell_type": "markdown",
   "metadata": {},
   "source": [
    "## Оглавление  <a class=\"anchor\" id=\"end\"></a>"
   ]
  },
  {
   "cell_type": "markdown",
   "metadata": {},
   "source": [
    "* [1. Обзор данных](#1)\n",
    "* [2. Предобработка_данных](#2)\n",
    "    * [2.1 Обработка дубликатов](#2.1)\n",
    "    * [2.2 Обработка названий столбцов и пропусков](#2.2)\n",
    "    * [2.3 Изменение  типов данных](#2.3)\n",
    "    * [2.4 Добавление данных в таблицу](#2.4)\n",
    "    * [2.5 Вывод](#2.5)\n",
    "* [3. Исследовательский анализ данных](#3)\n",
    "    * [3.1 Определение актуального периода для исследования данных](#3.1)\n",
    "    * [3.2 Определение актуальных игровых платформ](#3.2)\n",
    "    * [3.3 Исследование продаж внутри платформ](#3.3)\n",
    "    * [3.4 Исследование популярности жанров](#3.4)\n",
    "    * [3.5 Вывод](#3.5)\n",
    "* [4. Портрет пользователя каждого региона](#4)\n",
    "    * [4.1 Изучение особенностей регионов](#4.1)\n",
    "    * [4.2 Вывод](#4.2)\n",
    "* [5. Проверка гипотез](#5)\n",
    "    * [5.1 Вывод](#5.1)\n",
    "* [6. Итоги исследования](#6)   "
   ]
  },
  {
   "cell_type": "markdown",
   "metadata": {},
   "source": [
    "## 1. Обзор данных  <a class=\"anchor\" id=\"1\"></a>"
   ]
  },
  {
   "cell_type": "code",
   "execution_count": 34,
   "metadata": {},
   "outputs": [],
   "source": [
    "#импортируем библиотеки,\n",
    "import pandas as pd\n",
    "import seaborn as sns\n",
    "import numpy as np\n",
    "import matplotlib.pyplot as plt"
   ]
  },
  {
   "cell_type": "code",
   "execution_count": 35,
   "metadata": {
    "scrolled": true
   },
   "outputs": [
    {
     "name": "stdout",
     "output_type": "stream",
     "text": [
      "<class 'pandas.core.frame.DataFrame'>\n",
      "RangeIndex: 16715 entries, 0 to 16714\n",
      "Data columns (total 11 columns):\n",
      " #   Column           Non-Null Count  Dtype  \n",
      "---  ------           --------------  -----  \n",
      " 0   Name             16713 non-null  object \n",
      " 1   Platform         16715 non-null  object \n",
      " 2   Year_of_Release  16446 non-null  float64\n",
      " 3   Genre            16713 non-null  object \n",
      " 4   NA_sales         16715 non-null  float64\n",
      " 5   EU_sales         16715 non-null  float64\n",
      " 6   JP_sales         16715 non-null  float64\n",
      " 7   Other_sales      16715 non-null  float64\n",
      " 8   Critic_Score     8137 non-null   float64\n",
      " 9   User_Score       10014 non-null  object \n",
      " 10  Rating           9949 non-null   object \n",
      "dtypes: float64(6), object(5)\n",
      "memory usage: 1.4+ MB\n",
      "None\n"
     ]
    },
    {
     "data": {
      "text/html": [
       "<div>\n",
       "<style scoped>\n",
       "    .dataframe tbody tr th:only-of-type {\n",
       "        vertical-align: middle;\n",
       "    }\n",
       "\n",
       "    .dataframe tbody tr th {\n",
       "        vertical-align: top;\n",
       "    }\n",
       "\n",
       "    .dataframe thead th {\n",
       "        text-align: right;\n",
       "    }\n",
       "</style>\n",
       "<table border=\"1\" class=\"dataframe\">\n",
       "  <thead>\n",
       "    <tr style=\"text-align: right;\">\n",
       "      <th></th>\n",
       "      <th>Name</th>\n",
       "      <th>Platform</th>\n",
       "      <th>Year_of_Release</th>\n",
       "      <th>Genre</th>\n",
       "      <th>NA_sales</th>\n",
       "      <th>EU_sales</th>\n",
       "      <th>JP_sales</th>\n",
       "      <th>Other_sales</th>\n",
       "      <th>Critic_Score</th>\n",
       "      <th>User_Score</th>\n",
       "      <th>Rating</th>\n",
       "    </tr>\n",
       "  </thead>\n",
       "  <tbody>\n",
       "    <tr>\n",
       "      <th>0</th>\n",
       "      <td>Wii Sports</td>\n",
       "      <td>Wii</td>\n",
       "      <td>2006.0</td>\n",
       "      <td>Sports</td>\n",
       "      <td>41.36</td>\n",
       "      <td>28.96</td>\n",
       "      <td>3.77</td>\n",
       "      <td>8.45</td>\n",
       "      <td>76.0</td>\n",
       "      <td>8</td>\n",
       "      <td>E</td>\n",
       "    </tr>\n",
       "    <tr>\n",
       "      <th>1</th>\n",
       "      <td>Super Mario Bros.</td>\n",
       "      <td>NES</td>\n",
       "      <td>1985.0</td>\n",
       "      <td>Platform</td>\n",
       "      <td>29.08</td>\n",
       "      <td>3.58</td>\n",
       "      <td>6.81</td>\n",
       "      <td>0.77</td>\n",
       "      <td>NaN</td>\n",
       "      <td>NaN</td>\n",
       "      <td>NaN</td>\n",
       "    </tr>\n",
       "    <tr>\n",
       "      <th>2</th>\n",
       "      <td>Mario Kart Wii</td>\n",
       "      <td>Wii</td>\n",
       "      <td>2008.0</td>\n",
       "      <td>Racing</td>\n",
       "      <td>15.68</td>\n",
       "      <td>12.76</td>\n",
       "      <td>3.79</td>\n",
       "      <td>3.29</td>\n",
       "      <td>82.0</td>\n",
       "      <td>8.3</td>\n",
       "      <td>E</td>\n",
       "    </tr>\n",
       "    <tr>\n",
       "      <th>3</th>\n",
       "      <td>Wii Sports Resort</td>\n",
       "      <td>Wii</td>\n",
       "      <td>2009.0</td>\n",
       "      <td>Sports</td>\n",
       "      <td>15.61</td>\n",
       "      <td>10.93</td>\n",
       "      <td>3.28</td>\n",
       "      <td>2.95</td>\n",
       "      <td>80.0</td>\n",
       "      <td>8</td>\n",
       "      <td>E</td>\n",
       "    </tr>\n",
       "    <tr>\n",
       "      <th>4</th>\n",
       "      <td>Pokemon Red/Pokemon Blue</td>\n",
       "      <td>GB</td>\n",
       "      <td>1996.0</td>\n",
       "      <td>Role-Playing</td>\n",
       "      <td>11.27</td>\n",
       "      <td>8.89</td>\n",
       "      <td>10.22</td>\n",
       "      <td>1.00</td>\n",
       "      <td>NaN</td>\n",
       "      <td>NaN</td>\n",
       "      <td>NaN</td>\n",
       "    </tr>\n",
       "    <tr>\n",
       "      <th>5</th>\n",
       "      <td>Tetris</td>\n",
       "      <td>GB</td>\n",
       "      <td>1989.0</td>\n",
       "      <td>Puzzle</td>\n",
       "      <td>23.20</td>\n",
       "      <td>2.26</td>\n",
       "      <td>4.22</td>\n",
       "      <td>0.58</td>\n",
       "      <td>NaN</td>\n",
       "      <td>NaN</td>\n",
       "      <td>NaN</td>\n",
       "    </tr>\n",
       "    <tr>\n",
       "      <th>6</th>\n",
       "      <td>New Super Mario Bros.</td>\n",
       "      <td>DS</td>\n",
       "      <td>2006.0</td>\n",
       "      <td>Platform</td>\n",
       "      <td>11.28</td>\n",
       "      <td>9.14</td>\n",
       "      <td>6.50</td>\n",
       "      <td>2.88</td>\n",
       "      <td>89.0</td>\n",
       "      <td>8.5</td>\n",
       "      <td>E</td>\n",
       "    </tr>\n",
       "    <tr>\n",
       "      <th>7</th>\n",
       "      <td>Wii Play</td>\n",
       "      <td>Wii</td>\n",
       "      <td>2006.0</td>\n",
       "      <td>Misc</td>\n",
       "      <td>13.96</td>\n",
       "      <td>9.18</td>\n",
       "      <td>2.93</td>\n",
       "      <td>2.84</td>\n",
       "      <td>58.0</td>\n",
       "      <td>6.6</td>\n",
       "      <td>E</td>\n",
       "    </tr>\n",
       "    <tr>\n",
       "      <th>8</th>\n",
       "      <td>New Super Mario Bros. Wii</td>\n",
       "      <td>Wii</td>\n",
       "      <td>2009.0</td>\n",
       "      <td>Platform</td>\n",
       "      <td>14.44</td>\n",
       "      <td>6.94</td>\n",
       "      <td>4.70</td>\n",
       "      <td>2.24</td>\n",
       "      <td>87.0</td>\n",
       "      <td>8.4</td>\n",
       "      <td>E</td>\n",
       "    </tr>\n",
       "    <tr>\n",
       "      <th>9</th>\n",
       "      <td>Duck Hunt</td>\n",
       "      <td>NES</td>\n",
       "      <td>1984.0</td>\n",
       "      <td>Shooter</td>\n",
       "      <td>26.93</td>\n",
       "      <td>0.63</td>\n",
       "      <td>0.28</td>\n",
       "      <td>0.47</td>\n",
       "      <td>NaN</td>\n",
       "      <td>NaN</td>\n",
       "      <td>NaN</td>\n",
       "    </tr>\n",
       "  </tbody>\n",
       "</table>\n",
       "</div>"
      ],
      "text/plain": [
       "                        Name Platform  Year_of_Release         Genre  \\\n",
       "0                 Wii Sports      Wii           2006.0        Sports   \n",
       "1          Super Mario Bros.      NES           1985.0      Platform   \n",
       "2             Mario Kart Wii      Wii           2008.0        Racing   \n",
       "3          Wii Sports Resort      Wii           2009.0        Sports   \n",
       "4   Pokemon Red/Pokemon Blue       GB           1996.0  Role-Playing   \n",
       "5                     Tetris       GB           1989.0        Puzzle   \n",
       "6      New Super Mario Bros.       DS           2006.0      Platform   \n",
       "7                   Wii Play      Wii           2006.0          Misc   \n",
       "8  New Super Mario Bros. Wii      Wii           2009.0      Platform   \n",
       "9                  Duck Hunt      NES           1984.0       Shooter   \n",
       "\n",
       "   NA_sales  EU_sales  JP_sales  Other_sales  Critic_Score User_Score Rating  \n",
       "0     41.36     28.96      3.77         8.45          76.0          8      E  \n",
       "1     29.08      3.58      6.81         0.77           NaN        NaN    NaN  \n",
       "2     15.68     12.76      3.79         3.29          82.0        8.3      E  \n",
       "3     15.61     10.93      3.28         2.95          80.0          8      E  \n",
       "4     11.27      8.89     10.22         1.00           NaN        NaN    NaN  \n",
       "5     23.20      2.26      4.22         0.58           NaN        NaN    NaN  \n",
       "6     11.28      9.14      6.50         2.88          89.0        8.5      E  \n",
       "7     13.96      9.18      2.93         2.84          58.0        6.6      E  \n",
       "8     14.44      6.94      4.70         2.24          87.0        8.4      E  \n",
       "9     26.93      0.63      0.28         0.47           NaN        NaN    NaN  "
      ]
     },
     "execution_count": 35,
     "metadata": {},
     "output_type": "execute_result"
    }
   ],
   "source": [
    "#прочитаем файл и сохраним его в переменной data_games\n",
    "data_games = pd.read_csv('https://code.s3.yandex.net/datasets/games.csv')\n",
    "\n",
    "#изучим датафрейм\n",
    "print(data_games.info())\n",
    "data_games.head(10)"
   ]
  },
  {
   "cell_type": "markdown",
   "metadata": {},
   "source": [
    "В каждой строке таблицы содержатся данные об одной компьютерной игре. \n",
    "Колонки \"Name\", \"Platform\", \"Year_of_Release\" и \"Genre\" описывают основные характеристики игры. Остальные колонки представляют численные данные о рейтингах и продажах игр в различных регионах мира.\n",
    "\n",
    "При первом знакомстве с данными можно преждположительно утверждать, что их достаточно для проведения исследования. Однако можно заметить, что количество значений в столбцах различается. Значит, в данных есть пропущенные значения. \n",
    "\n",
    "Подготовим данные для дальнейшего анализа."
   ]
  },
  {
   "cell_type": "markdown",
   "metadata": {},
   "source": [
    "## 2. Предобработка данных  <a class=\"anchor\" id=\"2\"></a>"
   ]
  },
  {
   "cell_type": "markdown",
   "metadata": {},
   "source": [
    "### 2.1 Обработка дубликатов  <a class=\"anchor\" id=\"2.1\"></a>"
   ]
  },
  {
   "cell_type": "markdown",
   "metadata": {},
   "source": [
    "Проверим наличие в таблице явных дубликатов, а так же неявных дубликатов в столбцах \"Platform\" и \"Genre\""
   ]
  },
  {
   "cell_type": "code",
   "execution_count": 36,
   "metadata": {},
   "outputs": [
    {
     "data": {
      "text/plain": [
       "0"
      ]
     },
     "execution_count": 36,
     "metadata": {},
     "output_type": "execute_result"
    }
   ],
   "source": [
    "#проверяем явные дубликаты\n",
    "data_games.duplicated().sum()"
   ]
  },
  {
   "cell_type": "code",
   "execution_count": 4,
   "metadata": {},
   "outputs": [
    {
     "name": "stdout",
     "output_type": "stream",
     "text": [
      "['Wii' 'NES' 'GB' 'DS' 'X360' 'PS3' 'PS2' 'SNES' 'GBA' 'PS4' '3DS' 'N64'\n",
      " 'PS' 'XB' 'PC' '2600' 'PSP' 'XOne' 'WiiU' 'GC' 'GEN' 'DC' 'PSV' 'SAT'\n",
      " 'SCD' 'WS' 'NG' 'TG16' '3DO' 'GG' 'PCFX']\n",
      "---------\n",
      "['Sports' 'Platform' 'Racing' 'Role-Playing' 'Puzzle' 'Misc' 'Shooter'\n",
      " 'Simulation' 'Action' 'Fighting' 'Adventure' 'Strategy' nan]\n"
     ]
    }
   ],
   "source": [
    "#выводим уникальные значения столбцов Platform и Genre\n",
    "print(data_games['Platform'].unique())\n",
    "print('---------')\n",
    "print(data_games['Genre'].unique())"
   ]
  },
  {
   "cell_type": "markdown",
   "metadata": {},
   "source": [
    "Исследуемые данные достаточны качественные. Явных или неявных дубликатов не выявлено."
   ]
  },
  {
   "cell_type": "markdown",
   "metadata": {},
   "source": [
    "### 2.2 Обработка названий столбцов и пропусков  <a class=\"anchor\" id=\"2.2\"></a>"
   ]
  },
  {
   "cell_type": "markdown",
   "metadata": {},
   "source": [
    "В названиях столбцов строчные буквы сочетаются с прописными. Изменим названия в соответствии с правилами хорошего кода."
   ]
  },
  {
   "cell_type": "code",
   "execution_count": 5,
   "metadata": {},
   "outputs": [],
   "source": [
    "#приведем названия колонок к нижнему регистру\n",
    "data_games = data_games.rename(columns={name:name.lower() for name in data_games.columns})"
   ]
  },
  {
   "cell_type": "code",
   "execution_count": 6,
   "metadata": {},
   "outputs": [
    {
     "name": "stdout",
     "output_type": "stream",
     "text": [
      "name                  2\n",
      "platform              0\n",
      "year_of_release     269\n",
      "genre                 2\n",
      "na_sales              0\n",
      "eu_sales              0\n",
      "jp_sales              0\n",
      "other_sales           0\n",
      "critic_score       8578\n",
      "user_score         6701\n",
      "rating             6766\n",
      "dtype: int64\n"
     ]
    },
    {
     "data": {
      "text/html": [
       "<style type=\"text/css\">\n",
       "#T_5401f_row0_col0, #T_5401f_row1_col0, #T_5401f_row3_col0, #T_5401f_row4_col0, #T_5401f_row5_col0, #T_5401f_row6_col0, #T_5401f_row7_col0 {\n",
       "  background-color: #3b4cc0;\n",
       "  color: #f1f1f1;\n",
       "}\n",
       "#T_5401f_row2_col0 {\n",
       "  background-color: #465ecf;\n",
       "  color: #f1f1f1;\n",
       "}\n",
       "#T_5401f_row8_col0 {\n",
       "  background-color: #b40426;\n",
       "  color: #f1f1f1;\n",
       "}\n",
       "#T_5401f_row9_col0, #T_5401f_row10_col0 {\n",
       "  background-color: #f08b6e;\n",
       "  color: #f1f1f1;\n",
       "}\n",
       "</style>\n",
       "<table id=\"T_5401f\">\n",
       "  <thead>\n",
       "    <tr>\n",
       "      <th class=\"blank level0\" >&nbsp;</th>\n",
       "      <th id=\"T_5401f_level0_col0\" class=\"col_heading level0 col0\" >0</th>\n",
       "    </tr>\n",
       "  </thead>\n",
       "  <tbody>\n",
       "    <tr>\n",
       "      <th id=\"T_5401f_level0_row0\" class=\"row_heading level0 row0\" >name</th>\n",
       "      <td id=\"T_5401f_row0_col0\" class=\"data row0 col0\" >0.000000</td>\n",
       "    </tr>\n",
       "    <tr>\n",
       "      <th id=\"T_5401f_level0_row1\" class=\"row_heading level0 row1\" >platform</th>\n",
       "      <td id=\"T_5401f_row1_col0\" class=\"data row1 col0\" >0.000000</td>\n",
       "    </tr>\n",
       "    <tr>\n",
       "      <th id=\"T_5401f_level0_row2\" class=\"row_heading level0 row2\" >year_of_release</th>\n",
       "      <td id=\"T_5401f_row2_col0\" class=\"data row2 col0\" >2.000000</td>\n",
       "    </tr>\n",
       "    <tr>\n",
       "      <th id=\"T_5401f_level0_row3\" class=\"row_heading level0 row3\" >genre</th>\n",
       "      <td id=\"T_5401f_row3_col0\" class=\"data row3 col0\" >0.000000</td>\n",
       "    </tr>\n",
       "    <tr>\n",
       "      <th id=\"T_5401f_level0_row4\" class=\"row_heading level0 row4\" >na_sales</th>\n",
       "      <td id=\"T_5401f_row4_col0\" class=\"data row4 col0\" >0.000000</td>\n",
       "    </tr>\n",
       "    <tr>\n",
       "      <th id=\"T_5401f_level0_row5\" class=\"row_heading level0 row5\" >eu_sales</th>\n",
       "      <td id=\"T_5401f_row5_col0\" class=\"data row5 col0\" >0.000000</td>\n",
       "    </tr>\n",
       "    <tr>\n",
       "      <th id=\"T_5401f_level0_row6\" class=\"row_heading level0 row6\" >jp_sales</th>\n",
       "      <td id=\"T_5401f_row6_col0\" class=\"data row6 col0\" >0.000000</td>\n",
       "    </tr>\n",
       "    <tr>\n",
       "      <th id=\"T_5401f_level0_row7\" class=\"row_heading level0 row7\" >other_sales</th>\n",
       "      <td id=\"T_5401f_row7_col0\" class=\"data row7 col0\" >0.000000</td>\n",
       "    </tr>\n",
       "    <tr>\n",
       "      <th id=\"T_5401f_level0_row8\" class=\"row_heading level0 row8\" >critic_score</th>\n",
       "      <td id=\"T_5401f_row8_col0\" class=\"data row8 col0\" >51.000000</td>\n",
       "    </tr>\n",
       "    <tr>\n",
       "      <th id=\"T_5401f_level0_row9\" class=\"row_heading level0 row9\" >user_score</th>\n",
       "      <td id=\"T_5401f_row9_col0\" class=\"data row9 col0\" >40.000000</td>\n",
       "    </tr>\n",
       "    <tr>\n",
       "      <th id=\"T_5401f_level0_row10\" class=\"row_heading level0 row10\" >rating</th>\n",
       "      <td id=\"T_5401f_row10_col0\" class=\"data row10 col0\" >40.000000</td>\n",
       "    </tr>\n",
       "  </tbody>\n",
       "</table>\n"
      ],
      "text/plain": [
       "<pandas.io.formats.style.Styler at 0x7fdba1510b80>"
      ]
     },
     "execution_count": 6,
     "metadata": {},
     "output_type": "execute_result"
    }
   ],
   "source": [
    "#определим кол-во пропусков в столбцах и их процентное соотношение\n",
    "print(data_games.isna().sum())\n",
    "pd.DataFrame(round(data_games.isna().mean()*100,)).style.background_gradient('coolwarm')"
   ]
  },
  {
   "cell_type": "markdown",
   "metadata": {},
   "source": [
    "Пропуски присутствуют в столбцах name, genre, year_of_release, critic_score, user_score и rating. При этом процент пропусков в первых трех составляет не более 2% от общего количество данных.\n",
    " \n",
    "Посмотрим, в каких играх не хватает указания жанра. Возможно, удастся заполнить их корректными значениями в соответствии с названием игры."
   ]
  },
  {
   "cell_type": "code",
   "execution_count": 7,
   "metadata": {},
   "outputs": [
    {
     "data": {
      "text/html": [
       "<div>\n",
       "<style scoped>\n",
       "    .dataframe tbody tr th:only-of-type {\n",
       "        vertical-align: middle;\n",
       "    }\n",
       "\n",
       "    .dataframe tbody tr th {\n",
       "        vertical-align: top;\n",
       "    }\n",
       "\n",
       "    .dataframe thead th {\n",
       "        text-align: right;\n",
       "    }\n",
       "</style>\n",
       "<table border=\"1\" class=\"dataframe\">\n",
       "  <thead>\n",
       "    <tr style=\"text-align: right;\">\n",
       "      <th></th>\n",
       "      <th>name</th>\n",
       "      <th>platform</th>\n",
       "      <th>year_of_release</th>\n",
       "      <th>genre</th>\n",
       "      <th>na_sales</th>\n",
       "      <th>eu_sales</th>\n",
       "      <th>jp_sales</th>\n",
       "      <th>other_sales</th>\n",
       "      <th>critic_score</th>\n",
       "      <th>user_score</th>\n",
       "      <th>rating</th>\n",
       "    </tr>\n",
       "  </thead>\n",
       "  <tbody>\n",
       "    <tr>\n",
       "      <th>659</th>\n",
       "      <td>NaN</td>\n",
       "      <td>GEN</td>\n",
       "      <td>1993.0</td>\n",
       "      <td>NaN</td>\n",
       "      <td>1.78</td>\n",
       "      <td>0.53</td>\n",
       "      <td>0.00</td>\n",
       "      <td>0.08</td>\n",
       "      <td>NaN</td>\n",
       "      <td>NaN</td>\n",
       "      <td>NaN</td>\n",
       "    </tr>\n",
       "    <tr>\n",
       "      <th>14244</th>\n",
       "      <td>NaN</td>\n",
       "      <td>GEN</td>\n",
       "      <td>1993.0</td>\n",
       "      <td>NaN</td>\n",
       "      <td>0.00</td>\n",
       "      <td>0.00</td>\n",
       "      <td>0.03</td>\n",
       "      <td>0.00</td>\n",
       "      <td>NaN</td>\n",
       "      <td>NaN</td>\n",
       "      <td>NaN</td>\n",
       "    </tr>\n",
       "  </tbody>\n",
       "</table>\n",
       "</div>"
      ],
      "text/plain": [
       "      name platform  year_of_release genre  na_sales  eu_sales  jp_sales  \\\n",
       "659    NaN      GEN           1993.0   NaN      1.78      0.53      0.00   \n",
       "14244  NaN      GEN           1993.0   NaN      0.00      0.00      0.03   \n",
       "\n",
       "       other_sales  critic_score user_score rating  \n",
       "659           0.08           NaN        NaN    NaN  \n",
       "14244         0.00           NaN        NaN    NaN  "
      ]
     },
     "execution_count": 7,
     "metadata": {},
     "output_type": "execute_result"
    }
   ],
   "source": [
    "data_games.query('genre.isna()')"
   ]
  },
  {
   "cell_type": "markdown",
   "metadata": {},
   "source": [
    "Пропуски в стобцах с названием и жанром игры попадают на одни строки. При отсутствии названия заполнить пропуск в столбце с жанрами не представляется возможным. Получить информацию о названии игр так же неоткуда.\n",
    "Учитывая процентное кол-во отсутвующих значений, мы можем удалить строки, в которых отсутствует информация о названии и жанре игры. \n",
    "\n",
    "Так же можно поступить со строками, в которых отсутствует год выпуска игры. Возможно, год выпуска каждой из 269 игр можно узнать из открытых источников в сети интернет, но, учитывая, что пропуски в этом столбце составляют всего 2% от общего объема информации, более целесообразным представляется удаление содержащих их строк. Удаление строк не исказит результаты исследования."
   ]
  },
  {
   "cell_type": "code",
   "execution_count": 8,
   "metadata": {
    "scrolled": true
   },
   "outputs": [],
   "source": [
    "#удалим из датасета строки, где присутствуют пропуски в столбцах name, genre, year_of_release\n",
    "data_games = data_games.dropna(subset = ['name', 'year_of_release', 'genre']).reset_index(drop=True)\n"
   ]
  },
  {
   "cell_type": "markdown",
   "metadata": {},
   "source": [
    "С пропусками с столбцах critic_score, user_score и rating ситуация совсем иная. Рейтинги и оценки отсутствуют почти у половины представленных в таблице игр.  \n"
   ]
  },
  {
   "cell_type": "code",
   "execution_count": 9,
   "metadata": {},
   "outputs": [
    {
     "data": {
      "text/html": [
       "<div>\n",
       "<style scoped>\n",
       "    .dataframe tbody tr th:only-of-type {\n",
       "        vertical-align: middle;\n",
       "    }\n",
       "\n",
       "    .dataframe tbody tr th {\n",
       "        vertical-align: top;\n",
       "    }\n",
       "\n",
       "    .dataframe thead th {\n",
       "        text-align: right;\n",
       "    }\n",
       "</style>\n",
       "<table border=\"1\" class=\"dataframe\">\n",
       "  <thead>\n",
       "    <tr style=\"text-align: right;\">\n",
       "      <th></th>\n",
       "      <th>name</th>\n",
       "      <th>platform</th>\n",
       "      <th>year_of_release</th>\n",
       "      <th>genre</th>\n",
       "      <th>na_sales</th>\n",
       "      <th>eu_sales</th>\n",
       "      <th>jp_sales</th>\n",
       "      <th>other_sales</th>\n",
       "      <th>critic_score</th>\n",
       "      <th>user_score</th>\n",
       "      <th>rating</th>\n",
       "    </tr>\n",
       "  </thead>\n",
       "  <tbody>\n",
       "    <tr>\n",
       "      <th>6260</th>\n",
       "      <td>XGIII: Extreme G Racing</td>\n",
       "      <td>PS2</td>\n",
       "      <td>2001.0</td>\n",
       "      <td>Racing</td>\n",
       "      <td>0.13</td>\n",
       "      <td>0.10</td>\n",
       "      <td>0.00</td>\n",
       "      <td>0.03</td>\n",
       "      <td>NaN</td>\n",
       "      <td>NaN</td>\n",
       "      <td>NaN</td>\n",
       "    </tr>\n",
       "    <tr>\n",
       "      <th>12497</th>\n",
       "      <td>Jumble Madness</td>\n",
       "      <td>DS</td>\n",
       "      <td>2009.0</td>\n",
       "      <td>Puzzle</td>\n",
       "      <td>0.06</td>\n",
       "      <td>0.00</td>\n",
       "      <td>0.00</td>\n",
       "      <td>0.00</td>\n",
       "      <td>NaN</td>\n",
       "      <td>tbd</td>\n",
       "      <td>E10+</td>\n",
       "    </tr>\n",
       "    <tr>\n",
       "      <th>3105</th>\n",
       "      <td>Rayman 2: The Great Escape</td>\n",
       "      <td>N64</td>\n",
       "      <td>1999.0</td>\n",
       "      <td>Platform</td>\n",
       "      <td>0.40</td>\n",
       "      <td>0.22</td>\n",
       "      <td>0.00</td>\n",
       "      <td>0.02</td>\n",
       "      <td>NaN</td>\n",
       "      <td>NaN</td>\n",
       "      <td>NaN</td>\n",
       "    </tr>\n",
       "    <tr>\n",
       "      <th>15045</th>\n",
       "      <td>18 Wheels of Steel: Extreme Trucker</td>\n",
       "      <td>PC</td>\n",
       "      <td>2009.0</td>\n",
       "      <td>Racing</td>\n",
       "      <td>0.00</td>\n",
       "      <td>0.02</td>\n",
       "      <td>0.00</td>\n",
       "      <td>0.00</td>\n",
       "      <td>NaN</td>\n",
       "      <td>8</td>\n",
       "      <td>NaN</td>\n",
       "    </tr>\n",
       "    <tr>\n",
       "      <th>14713</th>\n",
       "      <td>D.C. III: Da Capo III</td>\n",
       "      <td>PSP</td>\n",
       "      <td>2013.0</td>\n",
       "      <td>Adventure</td>\n",
       "      <td>0.00</td>\n",
       "      <td>0.00</td>\n",
       "      <td>0.03</td>\n",
       "      <td>0.00</td>\n",
       "      <td>NaN</td>\n",
       "      <td>NaN</td>\n",
       "      <td>NaN</td>\n",
       "    </tr>\n",
       "    <tr>\n",
       "      <th>3022</th>\n",
       "      <td>Metro: Last Light</td>\n",
       "      <td>PS4</td>\n",
       "      <td>2014.0</td>\n",
       "      <td>Action</td>\n",
       "      <td>0.22</td>\n",
       "      <td>0.30</td>\n",
       "      <td>0.04</td>\n",
       "      <td>0.10</td>\n",
       "      <td>NaN</td>\n",
       "      <td>NaN</td>\n",
       "      <td>NaN</td>\n",
       "    </tr>\n",
       "    <tr>\n",
       "      <th>980</th>\n",
       "      <td>Metroid II: Return of Samus</td>\n",
       "      <td>GB</td>\n",
       "      <td>1991.0</td>\n",
       "      <td>Adventure</td>\n",
       "      <td>0.85</td>\n",
       "      <td>0.31</td>\n",
       "      <td>0.56</td>\n",
       "      <td>0.04</td>\n",
       "      <td>NaN</td>\n",
       "      <td>NaN</td>\n",
       "      <td>NaN</td>\n",
       "    </tr>\n",
       "    <tr>\n",
       "      <th>15771</th>\n",
       "      <td>Rayman 10th Anniversary</td>\n",
       "      <td>GBA</td>\n",
       "      <td>2005.0</td>\n",
       "      <td>Platform</td>\n",
       "      <td>0.01</td>\n",
       "      <td>0.00</td>\n",
       "      <td>0.00</td>\n",
       "      <td>0.00</td>\n",
       "      <td>NaN</td>\n",
       "      <td>NaN</td>\n",
       "      <td>NaN</td>\n",
       "    </tr>\n",
       "    <tr>\n",
       "      <th>11366</th>\n",
       "      <td>Sentimental Graffiti: First Window</td>\n",
       "      <td>SAT</td>\n",
       "      <td>1997.0</td>\n",
       "      <td>Adventure</td>\n",
       "      <td>0.00</td>\n",
       "      <td>0.00</td>\n",
       "      <td>0.08</td>\n",
       "      <td>0.00</td>\n",
       "      <td>NaN</td>\n",
       "      <td>NaN</td>\n",
       "      <td>NaN</td>\n",
       "    </tr>\n",
       "    <tr>\n",
       "      <th>7195</th>\n",
       "      <td>Teenage Mutant Ninja Turtles: Smash-Up</td>\n",
       "      <td>PS2</td>\n",
       "      <td>2009.0</td>\n",
       "      <td>Fighting</td>\n",
       "      <td>0.11</td>\n",
       "      <td>0.08</td>\n",
       "      <td>0.00</td>\n",
       "      <td>0.03</td>\n",
       "      <td>NaN</td>\n",
       "      <td>8.4</td>\n",
       "      <td>E10+</td>\n",
       "    </tr>\n",
       "    <tr>\n",
       "      <th>5846</th>\n",
       "      <td>RealSports Boxing</td>\n",
       "      <td>2600</td>\n",
       "      <td>1986.0</td>\n",
       "      <td>Sports</td>\n",
       "      <td>0.28</td>\n",
       "      <td>0.02</td>\n",
       "      <td>0.00</td>\n",
       "      <td>0.00</td>\n",
       "      <td>NaN</td>\n",
       "      <td>NaN</td>\n",
       "      <td>NaN</td>\n",
       "    </tr>\n",
       "    <tr>\n",
       "      <th>15448</th>\n",
       "      <td>Ketsui: Kizuna Jigoku Tachi Extra</td>\n",
       "      <td>X360</td>\n",
       "      <td>2010.0</td>\n",
       "      <td>Shooter</td>\n",
       "      <td>0.00</td>\n",
       "      <td>0.00</td>\n",
       "      <td>0.02</td>\n",
       "      <td>0.00</td>\n",
       "      <td>NaN</td>\n",
       "      <td>NaN</td>\n",
       "      <td>NaN</td>\n",
       "    </tr>\n",
       "    <tr>\n",
       "      <th>10604</th>\n",
       "      <td>Horse Life Adventures</td>\n",
       "      <td>DS</td>\n",
       "      <td>2008.0</td>\n",
       "      <td>Simulation</td>\n",
       "      <td>0.08</td>\n",
       "      <td>0.01</td>\n",
       "      <td>0.00</td>\n",
       "      <td>0.01</td>\n",
       "      <td>NaN</td>\n",
       "      <td>tbd</td>\n",
       "      <td>E</td>\n",
       "    </tr>\n",
       "    <tr>\n",
       "      <th>14255</th>\n",
       "      <td>East India Company Collection</td>\n",
       "      <td>PC</td>\n",
       "      <td>2010.0</td>\n",
       "      <td>Misc</td>\n",
       "      <td>0.00</td>\n",
       "      <td>0.03</td>\n",
       "      <td>0.00</td>\n",
       "      <td>0.00</td>\n",
       "      <td>NaN</td>\n",
       "      <td>tbd</td>\n",
       "      <td>T</td>\n",
       "    </tr>\n",
       "    <tr>\n",
       "      <th>13927</th>\n",
       "      <td>Onechanbara Z Kagura</td>\n",
       "      <td>PS3</td>\n",
       "      <td>2013.0</td>\n",
       "      <td>Action</td>\n",
       "      <td>0.00</td>\n",
       "      <td>0.00</td>\n",
       "      <td>0.03</td>\n",
       "      <td>0.00</td>\n",
       "      <td>NaN</td>\n",
       "      <td>NaN</td>\n",
       "      <td>NaN</td>\n",
       "    </tr>\n",
       "    <tr>\n",
       "      <th>451</th>\n",
       "      <td>World Class Track Meet</td>\n",
       "      <td>NES</td>\n",
       "      <td>1986.0</td>\n",
       "      <td>Sports</td>\n",
       "      <td>1.92</td>\n",
       "      <td>0.45</td>\n",
       "      <td>0.64</td>\n",
       "      <td>0.07</td>\n",
       "      <td>NaN</td>\n",
       "      <td>NaN</td>\n",
       "      <td>NaN</td>\n",
       "    </tr>\n",
       "    <tr>\n",
       "      <th>6154</th>\n",
       "      <td>Moero! Nekketsu Rhythm Damashii: Osu! Tatakae!...</td>\n",
       "      <td>DS</td>\n",
       "      <td>2007.0</td>\n",
       "      <td>Misc</td>\n",
       "      <td>0.00</td>\n",
       "      <td>0.00</td>\n",
       "      <td>0.27</td>\n",
       "      <td>0.00</td>\n",
       "      <td>NaN</td>\n",
       "      <td>NaN</td>\n",
       "      <td>NaN</td>\n",
       "    </tr>\n",
       "    <tr>\n",
       "      <th>5365</th>\n",
       "      <td>Bomberman World</td>\n",
       "      <td>PS</td>\n",
       "      <td>1998.0</td>\n",
       "      <td>Puzzle</td>\n",
       "      <td>0.06</td>\n",
       "      <td>0.04</td>\n",
       "      <td>0.22</td>\n",
       "      <td>0.02</td>\n",
       "      <td>NaN</td>\n",
       "      <td>NaN</td>\n",
       "      <td>NaN</td>\n",
       "    </tr>\n",
       "    <tr>\n",
       "      <th>8796</th>\n",
       "      <td>Tamagotchi no Narikiri Channel</td>\n",
       "      <td>DS</td>\n",
       "      <td>2009.0</td>\n",
       "      <td>Role-Playing</td>\n",
       "      <td>0.00</td>\n",
       "      <td>0.00</td>\n",
       "      <td>0.15</td>\n",
       "      <td>0.00</td>\n",
       "      <td>NaN</td>\n",
       "      <td>NaN</td>\n",
       "      <td>NaN</td>\n",
       "    </tr>\n",
       "    <tr>\n",
       "      <th>3998</th>\n",
       "      <td>Taiko no Tatsujin: Appare Sandaime</td>\n",
       "      <td>PS2</td>\n",
       "      <td>2003.0</td>\n",
       "      <td>Misc</td>\n",
       "      <td>0.00</td>\n",
       "      <td>0.00</td>\n",
       "      <td>0.49</td>\n",
       "      <td>0.00</td>\n",
       "      <td>NaN</td>\n",
       "      <td>NaN</td>\n",
       "      <td>NaN</td>\n",
       "    </tr>\n",
       "    <tr>\n",
       "      <th>14676</th>\n",
       "      <td>Age of Empires III: Gold Edition</td>\n",
       "      <td>PC</td>\n",
       "      <td>2007.0</td>\n",
       "      <td>Strategy</td>\n",
       "      <td>0.00</td>\n",
       "      <td>0.02</td>\n",
       "      <td>0.00</td>\n",
       "      <td>0.00</td>\n",
       "      <td>NaN</td>\n",
       "      <td>7.8</td>\n",
       "      <td>T</td>\n",
       "    </tr>\n",
       "    <tr>\n",
       "      <th>13201</th>\n",
       "      <td>Centipede: Infestation</td>\n",
       "      <td>3DS</td>\n",
       "      <td>2011.0</td>\n",
       "      <td>Shooter</td>\n",
       "      <td>0.04</td>\n",
       "      <td>0.00</td>\n",
       "      <td>0.00</td>\n",
       "      <td>0.00</td>\n",
       "      <td>NaN</td>\n",
       "      <td>tbd</td>\n",
       "      <td>E10+</td>\n",
       "    </tr>\n",
       "    <tr>\n",
       "      <th>10134</th>\n",
       "      <td>FoxKids.com Micro Maniacs Racing</td>\n",
       "      <td>PS</td>\n",
       "      <td>2000.0</td>\n",
       "      <td>Racing</td>\n",
       "      <td>0.06</td>\n",
       "      <td>0.04</td>\n",
       "      <td>0.00</td>\n",
       "      <td>0.01</td>\n",
       "      <td>NaN</td>\n",
       "      <td>NaN</td>\n",
       "      <td>NaN</td>\n",
       "    </tr>\n",
       "    <tr>\n",
       "      <th>12528</th>\n",
       "      <td>Eikan wa Kimini 2002: Koshien no Kodou</td>\n",
       "      <td>PS2</td>\n",
       "      <td>2002.0</td>\n",
       "      <td>Sports</td>\n",
       "      <td>0.00</td>\n",
       "      <td>0.00</td>\n",
       "      <td>0.06</td>\n",
       "      <td>0.00</td>\n",
       "      <td>NaN</td>\n",
       "      <td>NaN</td>\n",
       "      <td>NaN</td>\n",
       "    </tr>\n",
       "    <tr>\n",
       "      <th>11386</th>\n",
       "      <td>Ogre Battle Series: Tactics Ogre</td>\n",
       "      <td>PS</td>\n",
       "      <td>1997.0</td>\n",
       "      <td>Role-Playing</td>\n",
       "      <td>0.04</td>\n",
       "      <td>0.03</td>\n",
       "      <td>0.00</td>\n",
       "      <td>0.01</td>\n",
       "      <td>NaN</td>\n",
       "      <td>NaN</td>\n",
       "      <td>NaN</td>\n",
       "    </tr>\n",
       "    <tr>\n",
       "      <th>10209</th>\n",
       "      <td>WWE 2K17</td>\n",
       "      <td>X360</td>\n",
       "      <td>2016.0</td>\n",
       "      <td>Sports</td>\n",
       "      <td>0.05</td>\n",
       "      <td>0.04</td>\n",
       "      <td>0.00</td>\n",
       "      <td>0.01</td>\n",
       "      <td>NaN</td>\n",
       "      <td>tbd</td>\n",
       "      <td>T</td>\n",
       "    </tr>\n",
       "    <tr>\n",
       "      <th>15204</th>\n",
       "      <td>Winter Sports 2011</td>\n",
       "      <td>X360</td>\n",
       "      <td>2011.0</td>\n",
       "      <td>Sports</td>\n",
       "      <td>0.00</td>\n",
       "      <td>0.02</td>\n",
       "      <td>0.00</td>\n",
       "      <td>0.00</td>\n",
       "      <td>NaN</td>\n",
       "      <td>NaN</td>\n",
       "      <td>NaN</td>\n",
       "    </tr>\n",
       "    <tr>\n",
       "      <th>2901</th>\n",
       "      <td>Monster Hunter Tri</td>\n",
       "      <td>WiiU</td>\n",
       "      <td>2012.0</td>\n",
       "      <td>Role-Playing</td>\n",
       "      <td>0.24</td>\n",
       "      <td>0.19</td>\n",
       "      <td>0.22</td>\n",
       "      <td>0.04</td>\n",
       "      <td>NaN</td>\n",
       "      <td>NaN</td>\n",
       "      <td>NaN</td>\n",
       "    </tr>\n",
       "    <tr>\n",
       "      <th>2223</th>\n",
       "      <td>Space Jam</td>\n",
       "      <td>PS</td>\n",
       "      <td>1996.0</td>\n",
       "      <td>Sports</td>\n",
       "      <td>0.51</td>\n",
       "      <td>0.35</td>\n",
       "      <td>0.00</td>\n",
       "      <td>0.06</td>\n",
       "      <td>NaN</td>\n",
       "      <td>NaN</td>\n",
       "      <td>NaN</td>\n",
       "    </tr>\n",
       "    <tr>\n",
       "      <th>7173</th>\n",
       "      <td>Pass the Pigs</td>\n",
       "      <td>DS</td>\n",
       "      <td>2008.0</td>\n",
       "      <td>Misc</td>\n",
       "      <td>0.20</td>\n",
       "      <td>0.00</td>\n",
       "      <td>0.00</td>\n",
       "      <td>0.02</td>\n",
       "      <td>NaN</td>\n",
       "      <td>NaN</td>\n",
       "      <td>NaN</td>\n",
       "    </tr>\n",
       "    <tr>\n",
       "      <th>11231</th>\n",
       "      <td>Naruto Shippuden: Shinobi Rumble</td>\n",
       "      <td>DS</td>\n",
       "      <td>2010.0</td>\n",
       "      <td>Fighting</td>\n",
       "      <td>0.03</td>\n",
       "      <td>0.00</td>\n",
       "      <td>0.05</td>\n",
       "      <td>0.00</td>\n",
       "      <td>NaN</td>\n",
       "      <td>tbd</td>\n",
       "      <td>T</td>\n",
       "    </tr>\n",
       "    <tr>\n",
       "      <th>13848</th>\n",
       "      <td>San Goku Shi DS 3</td>\n",
       "      <td>DS</td>\n",
       "      <td>2010.0</td>\n",
       "      <td>Strategy</td>\n",
       "      <td>0.00</td>\n",
       "      <td>0.00</td>\n",
       "      <td>0.04</td>\n",
       "      <td>0.00</td>\n",
       "      <td>NaN</td>\n",
       "      <td>NaN</td>\n",
       "      <td>NaN</td>\n",
       "    </tr>\n",
       "    <tr>\n",
       "      <th>5827</th>\n",
       "      <td>Future Cop L.A.P.D.</td>\n",
       "      <td>PS</td>\n",
       "      <td>1997.0</td>\n",
       "      <td>Simulation</td>\n",
       "      <td>0.16</td>\n",
       "      <td>0.11</td>\n",
       "      <td>0.00</td>\n",
       "      <td>0.02</td>\n",
       "      <td>NaN</td>\n",
       "      <td>NaN</td>\n",
       "      <td>NaN</td>\n",
       "    </tr>\n",
       "    <tr>\n",
       "      <th>9764</th>\n",
       "      <td>Harukanaru Augusta 2: Masters</td>\n",
       "      <td>SNES</td>\n",
       "      <td>1993.0</td>\n",
       "      <td>Sports</td>\n",
       "      <td>0.00</td>\n",
       "      <td>0.00</td>\n",
       "      <td>0.12</td>\n",
       "      <td>0.00</td>\n",
       "      <td>NaN</td>\n",
       "      <td>NaN</td>\n",
       "      <td>NaN</td>\n",
       "    </tr>\n",
       "    <tr>\n",
       "      <th>16065</th>\n",
       "      <td>MXGP 2</td>\n",
       "      <td>PC</td>\n",
       "      <td>2016.0</td>\n",
       "      <td>Racing</td>\n",
       "      <td>0.00</td>\n",
       "      <td>0.01</td>\n",
       "      <td>0.00</td>\n",
       "      <td>0.00</td>\n",
       "      <td>NaN</td>\n",
       "      <td>NaN</td>\n",
       "      <td>NaN</td>\n",
       "    </tr>\n",
       "    <tr>\n",
       "      <th>8200</th>\n",
       "      <td>Disney TH!NK Fast: The Ultimate Trivia Showdown</td>\n",
       "      <td>PS2</td>\n",
       "      <td>2008.0</td>\n",
       "      <td>Misc</td>\n",
       "      <td>0.08</td>\n",
       "      <td>0.06</td>\n",
       "      <td>0.00</td>\n",
       "      <td>0.02</td>\n",
       "      <td>NaN</td>\n",
       "      <td>NaN</td>\n",
       "      <td>NaN</td>\n",
       "    </tr>\n",
       "    <tr>\n",
       "      <th>3470</th>\n",
       "      <td>Rapala: We Fish</td>\n",
       "      <td>Wii</td>\n",
       "      <td>2009.0</td>\n",
       "      <td>Sports</td>\n",
       "      <td>0.52</td>\n",
       "      <td>0.01</td>\n",
       "      <td>0.00</td>\n",
       "      <td>0.04</td>\n",
       "      <td>NaN</td>\n",
       "      <td>tbd</td>\n",
       "      <td>E</td>\n",
       "    </tr>\n",
       "    <tr>\n",
       "      <th>10384</th>\n",
       "      <td>DS Kageyama Method: Dennou Hanpuku - Tadashii ...</td>\n",
       "      <td>DS</td>\n",
       "      <td>2007.0</td>\n",
       "      <td>Misc</td>\n",
       "      <td>0.00</td>\n",
       "      <td>0.00</td>\n",
       "      <td>0.10</td>\n",
       "      <td>0.00</td>\n",
       "      <td>NaN</td>\n",
       "      <td>NaN</td>\n",
       "      <td>NaN</td>\n",
       "    </tr>\n",
       "    <tr>\n",
       "      <th>4520</th>\n",
       "      <td>Avatar: The Last Airbender - The Burning Earth</td>\n",
       "      <td>PS2</td>\n",
       "      <td>2007.0</td>\n",
       "      <td>Action</td>\n",
       "      <td>0.21</td>\n",
       "      <td>0.16</td>\n",
       "      <td>0.00</td>\n",
       "      <td>0.05</td>\n",
       "      <td>NaN</td>\n",
       "      <td>NaN</td>\n",
       "      <td>NaN</td>\n",
       "    </tr>\n",
       "    <tr>\n",
       "      <th>9433</th>\n",
       "      <td>Star Wars: Clone Wars</td>\n",
       "      <td>XB</td>\n",
       "      <td>2003.0</td>\n",
       "      <td>Shooter</td>\n",
       "      <td>0.10</td>\n",
       "      <td>0.03</td>\n",
       "      <td>0.00</td>\n",
       "      <td>0.00</td>\n",
       "      <td>NaN</td>\n",
       "      <td>NaN</td>\n",
       "      <td>NaN</td>\n",
       "    </tr>\n",
       "    <tr>\n",
       "      <th>6612</th>\n",
       "      <td>Porky's</td>\n",
       "      <td>2600</td>\n",
       "      <td>1982.0</td>\n",
       "      <td>Action</td>\n",
       "      <td>0.23</td>\n",
       "      <td>0.01</td>\n",
       "      <td>0.00</td>\n",
       "      <td>0.00</td>\n",
       "      <td>NaN</td>\n",
       "      <td>NaN</td>\n",
       "      <td>NaN</td>\n",
       "    </tr>\n",
       "    <tr>\n",
       "      <th>15624</th>\n",
       "      <td>Storm Lover 2nd V</td>\n",
       "      <td>PSV</td>\n",
       "      <td>2016.0</td>\n",
       "      <td>Adventure</td>\n",
       "      <td>0.00</td>\n",
       "      <td>0.00</td>\n",
       "      <td>0.02</td>\n",
       "      <td>0.00</td>\n",
       "      <td>NaN</td>\n",
       "      <td>NaN</td>\n",
       "      <td>NaN</td>\n",
       "    </tr>\n",
       "    <tr>\n",
       "      <th>16220</th>\n",
       "      <td>Pippa Funnell 2: Farm Adventures</td>\n",
       "      <td>DS</td>\n",
       "      <td>2007.0</td>\n",
       "      <td>Simulation</td>\n",
       "      <td>0.00</td>\n",
       "      <td>0.01</td>\n",
       "      <td>0.00</td>\n",
       "      <td>0.00</td>\n",
       "      <td>NaN</td>\n",
       "      <td>NaN</td>\n",
       "      <td>NaN</td>\n",
       "    </tr>\n",
       "    <tr>\n",
       "      <th>7045</th>\n",
       "      <td>Petz Monkeyz House</td>\n",
       "      <td>DS</td>\n",
       "      <td>2008.0</td>\n",
       "      <td>Simulation</td>\n",
       "      <td>0.20</td>\n",
       "      <td>0.00</td>\n",
       "      <td>0.00</td>\n",
       "      <td>0.02</td>\n",
       "      <td>NaN</td>\n",
       "      <td>tbd</td>\n",
       "      <td>E</td>\n",
       "    </tr>\n",
       "    <tr>\n",
       "      <th>10377</th>\n",
       "      <td>Metal Gear Solid HD Edition</td>\n",
       "      <td>PS3</td>\n",
       "      <td>2011.0</td>\n",
       "      <td>Action</td>\n",
       "      <td>0.00</td>\n",
       "      <td>0.00</td>\n",
       "      <td>0.10</td>\n",
       "      <td>0.00</td>\n",
       "      <td>NaN</td>\n",
       "      <td>NaN</td>\n",
       "      <td>NaN</td>\n",
       "    </tr>\n",
       "    <tr>\n",
       "      <th>15186</th>\n",
       "      <td>The Idolmaster: Gravure For You! Vol.8</td>\n",
       "      <td>PS3</td>\n",
       "      <td>2012.0</td>\n",
       "      <td>Action</td>\n",
       "      <td>0.00</td>\n",
       "      <td>0.00</td>\n",
       "      <td>0.02</td>\n",
       "      <td>0.00</td>\n",
       "      <td>NaN</td>\n",
       "      <td>NaN</td>\n",
       "      <td>NaN</td>\n",
       "    </tr>\n",
       "    <tr>\n",
       "      <th>14204</th>\n",
       "      <td>Hyperdimension Neptunia Re;Birth 2</td>\n",
       "      <td>PSV</td>\n",
       "      <td>2014.0</td>\n",
       "      <td>Action</td>\n",
       "      <td>0.02</td>\n",
       "      <td>0.01</td>\n",
       "      <td>0.00</td>\n",
       "      <td>0.01</td>\n",
       "      <td>NaN</td>\n",
       "      <td>NaN</td>\n",
       "      <td>NaN</td>\n",
       "    </tr>\n",
       "    <tr>\n",
       "      <th>13153</th>\n",
       "      <td>Magic Carpet</td>\n",
       "      <td>PS</td>\n",
       "      <td>1995.0</td>\n",
       "      <td>Shooter</td>\n",
       "      <td>0.03</td>\n",
       "      <td>0.02</td>\n",
       "      <td>0.00</td>\n",
       "      <td>0.00</td>\n",
       "      <td>NaN</td>\n",
       "      <td>NaN</td>\n",
       "      <td>NaN</td>\n",
       "    </tr>\n",
       "    <tr>\n",
       "      <th>11645</th>\n",
       "      <td>Utawarerumono: Itsuwari no Kamen</td>\n",
       "      <td>PSV</td>\n",
       "      <td>2015.0</td>\n",
       "      <td>Adventure</td>\n",
       "      <td>0.00</td>\n",
       "      <td>0.00</td>\n",
       "      <td>0.07</td>\n",
       "      <td>0.00</td>\n",
       "      <td>NaN</td>\n",
       "      <td>NaN</td>\n",
       "      <td>NaN</td>\n",
       "    </tr>\n",
       "    <tr>\n",
       "      <th>10379</th>\n",
       "      <td>Daito Giken Koushiki Pachi-Slot Simulator: Hih...</td>\n",
       "      <td>DS</td>\n",
       "      <td>2007.0</td>\n",
       "      <td>Misc</td>\n",
       "      <td>0.00</td>\n",
       "      <td>0.00</td>\n",
       "      <td>0.10</td>\n",
       "      <td>0.00</td>\n",
       "      <td>NaN</td>\n",
       "      <td>NaN</td>\n",
       "      <td>NaN</td>\n",
       "    </tr>\n",
       "    <tr>\n",
       "      <th>12289</th>\n",
       "      <td>KimiKiss</td>\n",
       "      <td>PS2</td>\n",
       "      <td>2006.0</td>\n",
       "      <td>Adventure</td>\n",
       "      <td>0.00</td>\n",
       "      <td>0.00</td>\n",
       "      <td>0.06</td>\n",
       "      <td>0.00</td>\n",
       "      <td>NaN</td>\n",
       "      <td>NaN</td>\n",
       "      <td>NaN</td>\n",
       "    </tr>\n",
       "    <tr>\n",
       "      <th>11856</th>\n",
       "      <td>Gintama DS: Yorozuya Daisoudou</td>\n",
       "      <td>DS</td>\n",
       "      <td>2006.0</td>\n",
       "      <td>Action</td>\n",
       "      <td>0.00</td>\n",
       "      <td>0.00</td>\n",
       "      <td>0.07</td>\n",
       "      <td>0.00</td>\n",
       "      <td>NaN</td>\n",
       "      <td>NaN</td>\n",
       "      <td>NaN</td>\n",
       "    </tr>\n",
       "    <tr>\n",
       "      <th>13559</th>\n",
       "      <td>Chicken Blaster</td>\n",
       "      <td>DS</td>\n",
       "      <td>2009.0</td>\n",
       "      <td>Shooter</td>\n",
       "      <td>0.04</td>\n",
       "      <td>0.00</td>\n",
       "      <td>0.00</td>\n",
       "      <td>0.00</td>\n",
       "      <td>NaN</td>\n",
       "      <td>tbd</td>\n",
       "      <td>E10+</td>\n",
       "    </tr>\n",
       "    <tr>\n",
       "      <th>13923</th>\n",
       "      <td>Zenkoku Dekotora Matsuri</td>\n",
       "      <td>Wii</td>\n",
       "      <td>2008.0</td>\n",
       "      <td>Racing</td>\n",
       "      <td>0.00</td>\n",
       "      <td>0.00</td>\n",
       "      <td>0.03</td>\n",
       "      <td>0.00</td>\n",
       "      <td>NaN</td>\n",
       "      <td>NaN</td>\n",
       "      <td>NaN</td>\n",
       "    </tr>\n",
       "    <tr>\n",
       "      <th>6739</th>\n",
       "      <td>Front Line</td>\n",
       "      <td>2600</td>\n",
       "      <td>1981.0</td>\n",
       "      <td>Action</td>\n",
       "      <td>0.22</td>\n",
       "      <td>0.01</td>\n",
       "      <td>0.00</td>\n",
       "      <td>0.00</td>\n",
       "      <td>NaN</td>\n",
       "      <td>NaN</td>\n",
       "      <td>NaN</td>\n",
       "    </tr>\n",
       "    <tr>\n",
       "      <th>16228</th>\n",
       "      <td>Sakigake!! Otokojuku - Nihon yo, Kore ga Otoko...</td>\n",
       "      <td>PS3</td>\n",
       "      <td>2014.0</td>\n",
       "      <td>Fighting</td>\n",
       "      <td>0.00</td>\n",
       "      <td>0.00</td>\n",
       "      <td>0.01</td>\n",
       "      <td>0.00</td>\n",
       "      <td>NaN</td>\n",
       "      <td>NaN</td>\n",
       "      <td>NaN</td>\n",
       "    </tr>\n",
       "    <tr>\n",
       "      <th>10018</th>\n",
       "      <td>Surf's Up</td>\n",
       "      <td>PSP</td>\n",
       "      <td>2007.0</td>\n",
       "      <td>Sports</td>\n",
       "      <td>0.02</td>\n",
       "      <td>0.06</td>\n",
       "      <td>0.00</td>\n",
       "      <td>0.03</td>\n",
       "      <td>NaN</td>\n",
       "      <td>tbd</td>\n",
       "      <td>E10+</td>\n",
       "    </tr>\n",
       "    <tr>\n",
       "      <th>1258</th>\n",
       "      <td>Banjo-Tooie</td>\n",
       "      <td>N64</td>\n",
       "      <td>2000.0</td>\n",
       "      <td>Platform</td>\n",
       "      <td>0.82</td>\n",
       "      <td>0.36</td>\n",
       "      <td>0.25</td>\n",
       "      <td>0.06</td>\n",
       "      <td>NaN</td>\n",
       "      <td>NaN</td>\n",
       "      <td>NaN</td>\n",
       "    </tr>\n",
       "    <tr>\n",
       "      <th>14843</th>\n",
       "      <td>Who Wants to be a Millionaire: 2nd Edition</td>\n",
       "      <td>Wii</td>\n",
       "      <td>2008.0</td>\n",
       "      <td>Misc</td>\n",
       "      <td>0.00</td>\n",
       "      <td>0.02</td>\n",
       "      <td>0.00</td>\n",
       "      <td>0.00</td>\n",
       "      <td>NaN</td>\n",
       "      <td>NaN</td>\n",
       "      <td>NaN</td>\n",
       "    </tr>\n",
       "    <tr>\n",
       "      <th>3574</th>\n",
       "      <td>The Godfather (old US sales)</td>\n",
       "      <td>XB</td>\n",
       "      <td>2006.0</td>\n",
       "      <td>Action</td>\n",
       "      <td>0.42</td>\n",
       "      <td>0.11</td>\n",
       "      <td>0.00</td>\n",
       "      <td>0.02</td>\n",
       "      <td>NaN</td>\n",
       "      <td>NaN</td>\n",
       "      <td>NaN</td>\n",
       "    </tr>\n",
       "  </tbody>\n",
       "</table>\n",
       "</div>"
      ],
      "text/plain": [
       "                                                    name platform  \\\n",
       "6260                             XGIII: Extreme G Racing      PS2   \n",
       "12497                                     Jumble Madness       DS   \n",
       "3105                          Rayman 2: The Great Escape      N64   \n",
       "15045                18 Wheels of Steel: Extreme Trucker       PC   \n",
       "14713                              D.C. III: Da Capo III      PSP   \n",
       "3022                                   Metro: Last Light      PS4   \n",
       "980                          Metroid II: Return of Samus       GB   \n",
       "15771                            Rayman 10th Anniversary      GBA   \n",
       "11366                 Sentimental Graffiti: First Window      SAT   \n",
       "7195              Teenage Mutant Ninja Turtles: Smash-Up      PS2   \n",
       "5846                                   RealSports Boxing     2600   \n",
       "15448                  Ketsui: Kizuna Jigoku Tachi Extra     X360   \n",
       "10604                              Horse Life Adventures       DS   \n",
       "14255                      East India Company Collection       PC   \n",
       "13927                               Onechanbara Z Kagura      PS3   \n",
       "451                               World Class Track Meet      NES   \n",
       "6154   Moero! Nekketsu Rhythm Damashii: Osu! Tatakae!...       DS   \n",
       "5365                                     Bomberman World       PS   \n",
       "8796                      Tamagotchi no Narikiri Channel       DS   \n",
       "3998                  Taiko no Tatsujin: Appare Sandaime      PS2   \n",
       "14676                   Age of Empires III: Gold Edition       PC   \n",
       "13201                             Centipede: Infestation      3DS   \n",
       "10134                   FoxKids.com Micro Maniacs Racing       PS   \n",
       "12528             Eikan wa Kimini 2002: Koshien no Kodou      PS2   \n",
       "11386                   Ogre Battle Series: Tactics Ogre       PS   \n",
       "10209                                           WWE 2K17     X360   \n",
       "15204                                 Winter Sports 2011     X360   \n",
       "2901                                  Monster Hunter Tri     WiiU   \n",
       "2223                                           Space Jam       PS   \n",
       "7173                                       Pass the Pigs       DS   \n",
       "11231                   Naruto Shippuden: Shinobi Rumble       DS   \n",
       "13848                                  San Goku Shi DS 3       DS   \n",
       "5827                                 Future Cop L.A.P.D.       PS   \n",
       "9764                       Harukanaru Augusta 2: Masters     SNES   \n",
       "16065                                             MXGP 2       PC   \n",
       "8200     Disney TH!NK Fast: The Ultimate Trivia Showdown      PS2   \n",
       "3470                                     Rapala: We Fish      Wii   \n",
       "10384  DS Kageyama Method: Dennou Hanpuku - Tadashii ...       DS   \n",
       "4520      Avatar: The Last Airbender - The Burning Earth      PS2   \n",
       "9433                               Star Wars: Clone Wars       XB   \n",
       "6612                                             Porky's     2600   \n",
       "15624                                  Storm Lover 2nd V      PSV   \n",
       "16220                   Pippa Funnell 2: Farm Adventures       DS   \n",
       "7045                                  Petz Monkeyz House       DS   \n",
       "10377                        Metal Gear Solid HD Edition      PS3   \n",
       "15186             The Idolmaster: Gravure For You! Vol.8      PS3   \n",
       "14204                 Hyperdimension Neptunia Re;Birth 2      PSV   \n",
       "13153                                       Magic Carpet       PS   \n",
       "11645                   Utawarerumono: Itsuwari no Kamen      PSV   \n",
       "10379  Daito Giken Koushiki Pachi-Slot Simulator: Hih...       DS   \n",
       "12289                                           KimiKiss      PS2   \n",
       "11856                     Gintama DS: Yorozuya Daisoudou       DS   \n",
       "13559                                    Chicken Blaster       DS   \n",
       "13923                           Zenkoku Dekotora Matsuri      Wii   \n",
       "6739                                          Front Line     2600   \n",
       "16228  Sakigake!! Otokojuku - Nihon yo, Kore ga Otoko...      PS3   \n",
       "10018                                          Surf's Up      PSP   \n",
       "1258                                         Banjo-Tooie      N64   \n",
       "14843         Who Wants to be a Millionaire: 2nd Edition      Wii   \n",
       "3574                        The Godfather (old US sales)       XB   \n",
       "\n",
       "       year_of_release         genre  na_sales  eu_sales  jp_sales  \\\n",
       "6260            2001.0        Racing      0.13      0.10      0.00   \n",
       "12497           2009.0        Puzzle      0.06      0.00      0.00   \n",
       "3105            1999.0      Platform      0.40      0.22      0.00   \n",
       "15045           2009.0        Racing      0.00      0.02      0.00   \n",
       "14713           2013.0     Adventure      0.00      0.00      0.03   \n",
       "3022            2014.0        Action      0.22      0.30      0.04   \n",
       "980             1991.0     Adventure      0.85      0.31      0.56   \n",
       "15771           2005.0      Platform      0.01      0.00      0.00   \n",
       "11366           1997.0     Adventure      0.00      0.00      0.08   \n",
       "7195            2009.0      Fighting      0.11      0.08      0.00   \n",
       "5846            1986.0        Sports      0.28      0.02      0.00   \n",
       "15448           2010.0       Shooter      0.00      0.00      0.02   \n",
       "10604           2008.0    Simulation      0.08      0.01      0.00   \n",
       "14255           2010.0          Misc      0.00      0.03      0.00   \n",
       "13927           2013.0        Action      0.00      0.00      0.03   \n",
       "451             1986.0        Sports      1.92      0.45      0.64   \n",
       "6154            2007.0          Misc      0.00      0.00      0.27   \n",
       "5365            1998.0        Puzzle      0.06      0.04      0.22   \n",
       "8796            2009.0  Role-Playing      0.00      0.00      0.15   \n",
       "3998            2003.0          Misc      0.00      0.00      0.49   \n",
       "14676           2007.0      Strategy      0.00      0.02      0.00   \n",
       "13201           2011.0       Shooter      0.04      0.00      0.00   \n",
       "10134           2000.0        Racing      0.06      0.04      0.00   \n",
       "12528           2002.0        Sports      0.00      0.00      0.06   \n",
       "11386           1997.0  Role-Playing      0.04      0.03      0.00   \n",
       "10209           2016.0        Sports      0.05      0.04      0.00   \n",
       "15204           2011.0        Sports      0.00      0.02      0.00   \n",
       "2901            2012.0  Role-Playing      0.24      0.19      0.22   \n",
       "2223            1996.0        Sports      0.51      0.35      0.00   \n",
       "7173            2008.0          Misc      0.20      0.00      0.00   \n",
       "11231           2010.0      Fighting      0.03      0.00      0.05   \n",
       "13848           2010.0      Strategy      0.00      0.00      0.04   \n",
       "5827            1997.0    Simulation      0.16      0.11      0.00   \n",
       "9764            1993.0        Sports      0.00      0.00      0.12   \n",
       "16065           2016.0        Racing      0.00      0.01      0.00   \n",
       "8200            2008.0          Misc      0.08      0.06      0.00   \n",
       "3470            2009.0        Sports      0.52      0.01      0.00   \n",
       "10384           2007.0          Misc      0.00      0.00      0.10   \n",
       "4520            2007.0        Action      0.21      0.16      0.00   \n",
       "9433            2003.0       Shooter      0.10      0.03      0.00   \n",
       "6612            1982.0        Action      0.23      0.01      0.00   \n",
       "15624           2016.0     Adventure      0.00      0.00      0.02   \n",
       "16220           2007.0    Simulation      0.00      0.01      0.00   \n",
       "7045            2008.0    Simulation      0.20      0.00      0.00   \n",
       "10377           2011.0        Action      0.00      0.00      0.10   \n",
       "15186           2012.0        Action      0.00      0.00      0.02   \n",
       "14204           2014.0        Action      0.02      0.01      0.00   \n",
       "13153           1995.0       Shooter      0.03      0.02      0.00   \n",
       "11645           2015.0     Adventure      0.00      0.00      0.07   \n",
       "10379           2007.0          Misc      0.00      0.00      0.10   \n",
       "12289           2006.0     Adventure      0.00      0.00      0.06   \n",
       "11856           2006.0        Action      0.00      0.00      0.07   \n",
       "13559           2009.0       Shooter      0.04      0.00      0.00   \n",
       "13923           2008.0        Racing      0.00      0.00      0.03   \n",
       "6739            1981.0        Action      0.22      0.01      0.00   \n",
       "16228           2014.0      Fighting      0.00      0.00      0.01   \n",
       "10018           2007.0        Sports      0.02      0.06      0.00   \n",
       "1258            2000.0      Platform      0.82      0.36      0.25   \n",
       "14843           2008.0          Misc      0.00      0.02      0.00   \n",
       "3574            2006.0        Action      0.42      0.11      0.00   \n",
       "\n",
       "       other_sales  critic_score user_score rating  \n",
       "6260          0.03           NaN        NaN    NaN  \n",
       "12497         0.00           NaN        tbd   E10+  \n",
       "3105          0.02           NaN        NaN    NaN  \n",
       "15045         0.00           NaN          8    NaN  \n",
       "14713         0.00           NaN        NaN    NaN  \n",
       "3022          0.10           NaN        NaN    NaN  \n",
       "980           0.04           NaN        NaN    NaN  \n",
       "15771         0.00           NaN        NaN    NaN  \n",
       "11366         0.00           NaN        NaN    NaN  \n",
       "7195          0.03           NaN        8.4   E10+  \n",
       "5846          0.00           NaN        NaN    NaN  \n",
       "15448         0.00           NaN        NaN    NaN  \n",
       "10604         0.01           NaN        tbd      E  \n",
       "14255         0.00           NaN        tbd      T  \n",
       "13927         0.00           NaN        NaN    NaN  \n",
       "451           0.07           NaN        NaN    NaN  \n",
       "6154          0.00           NaN        NaN    NaN  \n",
       "5365          0.02           NaN        NaN    NaN  \n",
       "8796          0.00           NaN        NaN    NaN  \n",
       "3998          0.00           NaN        NaN    NaN  \n",
       "14676         0.00           NaN        7.8      T  \n",
       "13201         0.00           NaN        tbd   E10+  \n",
       "10134         0.01           NaN        NaN    NaN  \n",
       "12528         0.00           NaN        NaN    NaN  \n",
       "11386         0.01           NaN        NaN    NaN  \n",
       "10209         0.01           NaN        tbd      T  \n",
       "15204         0.00           NaN        NaN    NaN  \n",
       "2901          0.04           NaN        NaN    NaN  \n",
       "2223          0.06           NaN        NaN    NaN  \n",
       "7173          0.02           NaN        NaN    NaN  \n",
       "11231         0.00           NaN        tbd      T  \n",
       "13848         0.00           NaN        NaN    NaN  \n",
       "5827          0.02           NaN        NaN    NaN  \n",
       "9764          0.00           NaN        NaN    NaN  \n",
       "16065         0.00           NaN        NaN    NaN  \n",
       "8200          0.02           NaN        NaN    NaN  \n",
       "3470          0.04           NaN        tbd      E  \n",
       "10384         0.00           NaN        NaN    NaN  \n",
       "4520          0.05           NaN        NaN    NaN  \n",
       "9433          0.00           NaN        NaN    NaN  \n",
       "6612          0.00           NaN        NaN    NaN  \n",
       "15624         0.00           NaN        NaN    NaN  \n",
       "16220         0.00           NaN        NaN    NaN  \n",
       "7045          0.02           NaN        tbd      E  \n",
       "10377         0.00           NaN        NaN    NaN  \n",
       "15186         0.00           NaN        NaN    NaN  \n",
       "14204         0.01           NaN        NaN    NaN  \n",
       "13153         0.00           NaN        NaN    NaN  \n",
       "11645         0.00           NaN        NaN    NaN  \n",
       "10379         0.00           NaN        NaN    NaN  \n",
       "12289         0.00           NaN        NaN    NaN  \n",
       "11856         0.00           NaN        NaN    NaN  \n",
       "13559         0.00           NaN        tbd   E10+  \n",
       "13923         0.00           NaN        NaN    NaN  \n",
       "6739          0.00           NaN        NaN    NaN  \n",
       "16228         0.00           NaN        NaN    NaN  \n",
       "10018         0.03           NaN        tbd   E10+  \n",
       "1258          0.06           NaN        NaN    NaN  \n",
       "14843         0.00           NaN        NaN    NaN  \n",
       "3574          0.02           NaN        NaN    NaN  "
      ]
     },
     "execution_count": 9,
     "metadata": {},
     "output_type": "execute_result"
    }
   ],
   "source": [
    "#проанализируем, в каких строках отсутствуют оценки критиков\n",
    "data_games.query('critic_score.isna()').sample(60)"
   ]
  },
  {
   "cell_type": "markdown",
   "metadata": {},
   "source": [
    "При изучении данных можно заметить, что среди оценок пользователей встречается значение \"tbd\", которое обозначает \"To Be Determined\" (\"требует уточнения\"). Другими словами, оценка отсутсвует, поэтому логично будет удалить это значение, то есть заменить его на пропуск. "
   ]
  },
  {
   "cell_type": "code",
   "execution_count": 10,
   "metadata": {},
   "outputs": [],
   "source": [
    "#заменим все значения tbd на NaN\n",
    "data_games = data_games.replace('tbd', np.NaN)"
   ]
  },
  {
   "cell_type": "markdown",
   "metadata": {},
   "source": [
    "По имеющимся данным так же видно, что оценки критиков и пользователей, а так же рейтинг организации ESRB отсутствуют, по большей части, в одних и тех же строках. При этом, игры имеют разные жанры и год выпуска. Логично предположить, что и причины возникновения пропусков различны.  Для игр, которые были выпущены до 2000 года, причина может быть в отсутствии технической возможности собирать и храить информацию о выставленных оценках, для более позднего периода отсутствие оценок может быть связано с постоянными изменениями в игровой индустрии, несовершенстве системе оценок, крайней непопулярности игры.\n",
    "\n",
    "Заполнять такие пропуски усредненными значениями будет некорректно, так как это исказит дальнейшее исследование. Но наличие пропуском может стать причиной потери каких-то данных при дальнейшем исследовании.\n",
    "\n",
    "Заменим пропуски на абстрактное значение \"-1\" При этом при дальнейшем исследовании мы будем ориентироваться, что -1 - не оценка, а ее отсутствие."
   ]
  },
  {
   "cell_type": "code",
   "execution_count": 11,
   "metadata": {},
   "outputs": [],
   "source": [
    "data_games['critic_score'] = data_games['critic_score'].fillna(-1)\n",
    "data_games['user_score'] = data_games['user_score'].fillna(-1)"
   ]
  },
  {
   "cell_type": "markdown",
   "metadata": {},
   "source": [
    "Рассмотрим отдельно столбец 'rating'. Здесь содержится информация о рейтинге от организации ESRB, который определяет возрастную категорию продукта. Инициатором получения знака такого рейтинга выступает организация - производитель продукта, что объясняет самую простую причину появления пропусков в данных. Производители некоторых игр могли пропустить эту процедуру, так как получение рейтинга не является обязательным условием выпуска игры на рынок.\n",
    "\n",
    "Кроме того, организация ESRB появилась только в 1994 году. Что дает право предположить, что большинство игр, вышедших до этого года, не могли своевременно пройти процедуру определения рейтинга ESRB.\n",
    "\n",
    "Изучим категории рейтинга."
   ]
  },
  {
   "cell_type": "code",
   "execution_count": 12,
   "metadata": {},
   "outputs": [
    {
     "data": {
      "text/plain": [
       "array(['E', nan, 'M', 'T', 'E10+', 'K-A', 'AO', 'EC', 'RP'], dtype=object)"
      ]
     },
     "execution_count": 12,
     "metadata": {},
     "output_type": "execute_result"
    }
   ],
   "source": [
    "#выведем уникальные значения из столбца rating\n",
    "data_games['rating'].unique()"
   ]
  },
  {
   "cell_type": "markdown",
   "metadata": {},
   "source": [
    "Среди значений в имеющихся данных присутствует категория 'K-A', которая отсутствует в современной возрастной градации. Причина в том, что категория 'K-A' существовала до 1994 года, после чего стала обозначаться буквой 'E'. Значение 'E' так же присутствует в таблице, что приводит к возникновению неявных дубликатов в наборе данных.\n",
    "\n",
    "Заменим все значения 'K-A' на значение 'E'."
   ]
  },
  {
   "cell_type": "code",
   "execution_count": 13,
   "metadata": {},
   "outputs": [
    {
     "data": {
      "text/plain": [
       "array(['E', nan, 'M', 'T', 'E10+', 'AO', 'RP'], dtype=object)"
      ]
     },
     "execution_count": 13,
     "metadata": {},
     "output_type": "execute_result"
    }
   ],
   "source": [
    "data_games['rating'] = data_games['rating'].replace(['K-A', 'EC'], 'E')\n",
    "\n",
    "#проверим уникальные значения после замены\n",
    "data_games['rating'].unique()"
   ]
  },
  {
   "cell_type": "markdown",
   "metadata": {},
   "source": [
    "Теперь в таблице представлены только современные категории. Однако, в столбце rating все еще остается большое количество пропусков. В связи с тем, что определение рейтинга в организации ESRB - это многоэтапная процедура, и факторов, влияющих на конечное решение - большое количество, заполнить пропуски самыми частотными значениями по жанру игры будет некорректно. \n",
    "\n",
    "Кроме того, отсутствие значения в таблице говорит о том, что рейтинг не был определен, что так же может служить для пользователей определенным критерием при выборе игры.\n",
    "\n",
    "Заменим все пропуске в столбце 'rating' на 'undt' (от англ. undetermined - неопределенный)."
   ]
  },
  {
   "cell_type": "code",
   "execution_count": 14,
   "metadata": {},
   "outputs": [
    {
     "data": {
      "text/html": [
       "<div>\n",
       "<style scoped>\n",
       "    .dataframe tbody tr th:only-of-type {\n",
       "        vertical-align: middle;\n",
       "    }\n",
       "\n",
       "    .dataframe tbody tr th {\n",
       "        vertical-align: top;\n",
       "    }\n",
       "\n",
       "    .dataframe thead th {\n",
       "        text-align: right;\n",
       "    }\n",
       "</style>\n",
       "<table border=\"1\" class=\"dataframe\">\n",
       "  <thead>\n",
       "    <tr style=\"text-align: right;\">\n",
       "      <th></th>\n",
       "      <th>name</th>\n",
       "      <th>platform</th>\n",
       "      <th>year_of_release</th>\n",
       "      <th>genre</th>\n",
       "      <th>na_sales</th>\n",
       "      <th>eu_sales</th>\n",
       "      <th>jp_sales</th>\n",
       "      <th>other_sales</th>\n",
       "      <th>critic_score</th>\n",
       "      <th>user_score</th>\n",
       "      <th>rating</th>\n",
       "    </tr>\n",
       "  </thead>\n",
       "  <tbody>\n",
       "    <tr>\n",
       "      <th>0</th>\n",
       "      <td>Wii Sports</td>\n",
       "      <td>Wii</td>\n",
       "      <td>2006.0</td>\n",
       "      <td>Sports</td>\n",
       "      <td>41.36</td>\n",
       "      <td>28.96</td>\n",
       "      <td>3.77</td>\n",
       "      <td>8.45</td>\n",
       "      <td>76.0</td>\n",
       "      <td>8</td>\n",
       "      <td>E</td>\n",
       "    </tr>\n",
       "    <tr>\n",
       "      <th>1</th>\n",
       "      <td>Super Mario Bros.</td>\n",
       "      <td>NES</td>\n",
       "      <td>1985.0</td>\n",
       "      <td>Platform</td>\n",
       "      <td>29.08</td>\n",
       "      <td>3.58</td>\n",
       "      <td>6.81</td>\n",
       "      <td>0.77</td>\n",
       "      <td>-1.0</td>\n",
       "      <td>-1</td>\n",
       "      <td>undt</td>\n",
       "    </tr>\n",
       "    <tr>\n",
       "      <th>2</th>\n",
       "      <td>Mario Kart Wii</td>\n",
       "      <td>Wii</td>\n",
       "      <td>2008.0</td>\n",
       "      <td>Racing</td>\n",
       "      <td>15.68</td>\n",
       "      <td>12.76</td>\n",
       "      <td>3.79</td>\n",
       "      <td>3.29</td>\n",
       "      <td>82.0</td>\n",
       "      <td>8.3</td>\n",
       "      <td>E</td>\n",
       "    </tr>\n",
       "    <tr>\n",
       "      <th>3</th>\n",
       "      <td>Wii Sports Resort</td>\n",
       "      <td>Wii</td>\n",
       "      <td>2009.0</td>\n",
       "      <td>Sports</td>\n",
       "      <td>15.61</td>\n",
       "      <td>10.93</td>\n",
       "      <td>3.28</td>\n",
       "      <td>2.95</td>\n",
       "      <td>80.0</td>\n",
       "      <td>8</td>\n",
       "      <td>E</td>\n",
       "    </tr>\n",
       "    <tr>\n",
       "      <th>4</th>\n",
       "      <td>Pokemon Red/Pokemon Blue</td>\n",
       "      <td>GB</td>\n",
       "      <td>1996.0</td>\n",
       "      <td>Role-Playing</td>\n",
       "      <td>11.27</td>\n",
       "      <td>8.89</td>\n",
       "      <td>10.22</td>\n",
       "      <td>1.00</td>\n",
       "      <td>-1.0</td>\n",
       "      <td>-1</td>\n",
       "      <td>undt</td>\n",
       "    </tr>\n",
       "    <tr>\n",
       "      <th>...</th>\n",
       "      <td>...</td>\n",
       "      <td>...</td>\n",
       "      <td>...</td>\n",
       "      <td>...</td>\n",
       "      <td>...</td>\n",
       "      <td>...</td>\n",
       "      <td>...</td>\n",
       "      <td>...</td>\n",
       "      <td>...</td>\n",
       "      <td>...</td>\n",
       "      <td>...</td>\n",
       "    </tr>\n",
       "    <tr>\n",
       "      <th>16439</th>\n",
       "      <td>Samurai Warriors: Sanada Maru</td>\n",
       "      <td>PS3</td>\n",
       "      <td>2016.0</td>\n",
       "      <td>Action</td>\n",
       "      <td>0.00</td>\n",
       "      <td>0.00</td>\n",
       "      <td>0.01</td>\n",
       "      <td>0.00</td>\n",
       "      <td>-1.0</td>\n",
       "      <td>-1</td>\n",
       "      <td>undt</td>\n",
       "    </tr>\n",
       "    <tr>\n",
       "      <th>16440</th>\n",
       "      <td>LMA Manager 2007</td>\n",
       "      <td>X360</td>\n",
       "      <td>2006.0</td>\n",
       "      <td>Sports</td>\n",
       "      <td>0.00</td>\n",
       "      <td>0.01</td>\n",
       "      <td>0.00</td>\n",
       "      <td>0.00</td>\n",
       "      <td>-1.0</td>\n",
       "      <td>-1</td>\n",
       "      <td>undt</td>\n",
       "    </tr>\n",
       "    <tr>\n",
       "      <th>16441</th>\n",
       "      <td>Haitaka no Psychedelica</td>\n",
       "      <td>PSV</td>\n",
       "      <td>2016.0</td>\n",
       "      <td>Adventure</td>\n",
       "      <td>0.00</td>\n",
       "      <td>0.00</td>\n",
       "      <td>0.01</td>\n",
       "      <td>0.00</td>\n",
       "      <td>-1.0</td>\n",
       "      <td>-1</td>\n",
       "      <td>undt</td>\n",
       "    </tr>\n",
       "    <tr>\n",
       "      <th>16442</th>\n",
       "      <td>Spirits &amp; Spells</td>\n",
       "      <td>GBA</td>\n",
       "      <td>2003.0</td>\n",
       "      <td>Platform</td>\n",
       "      <td>0.01</td>\n",
       "      <td>0.00</td>\n",
       "      <td>0.00</td>\n",
       "      <td>0.00</td>\n",
       "      <td>-1.0</td>\n",
       "      <td>-1</td>\n",
       "      <td>undt</td>\n",
       "    </tr>\n",
       "    <tr>\n",
       "      <th>16443</th>\n",
       "      <td>Winning Post 8 2016</td>\n",
       "      <td>PSV</td>\n",
       "      <td>2016.0</td>\n",
       "      <td>Simulation</td>\n",
       "      <td>0.00</td>\n",
       "      <td>0.00</td>\n",
       "      <td>0.01</td>\n",
       "      <td>0.00</td>\n",
       "      <td>-1.0</td>\n",
       "      <td>-1</td>\n",
       "      <td>undt</td>\n",
       "    </tr>\n",
       "  </tbody>\n",
       "</table>\n",
       "<p>16444 rows × 11 columns</p>\n",
       "</div>"
      ],
      "text/plain": [
       "                                name platform  year_of_release         genre  \\\n",
       "0                         Wii Sports      Wii           2006.0        Sports   \n",
       "1                  Super Mario Bros.      NES           1985.0      Platform   \n",
       "2                     Mario Kart Wii      Wii           2008.0        Racing   \n",
       "3                  Wii Sports Resort      Wii           2009.0        Sports   \n",
       "4           Pokemon Red/Pokemon Blue       GB           1996.0  Role-Playing   \n",
       "...                              ...      ...              ...           ...   \n",
       "16439  Samurai Warriors: Sanada Maru      PS3           2016.0        Action   \n",
       "16440               LMA Manager 2007     X360           2006.0        Sports   \n",
       "16441        Haitaka no Psychedelica      PSV           2016.0     Adventure   \n",
       "16442               Spirits & Spells      GBA           2003.0      Platform   \n",
       "16443            Winning Post 8 2016      PSV           2016.0    Simulation   \n",
       "\n",
       "       na_sales  eu_sales  jp_sales  other_sales  critic_score user_score  \\\n",
       "0         41.36     28.96      3.77         8.45          76.0          8   \n",
       "1         29.08      3.58      6.81         0.77          -1.0         -1   \n",
       "2         15.68     12.76      3.79         3.29          82.0        8.3   \n",
       "3         15.61     10.93      3.28         2.95          80.0          8   \n",
       "4         11.27      8.89     10.22         1.00          -1.0         -1   \n",
       "...         ...       ...       ...          ...           ...        ...   \n",
       "16439      0.00      0.00      0.01         0.00          -1.0         -1   \n",
       "16440      0.00      0.01      0.00         0.00          -1.0         -1   \n",
       "16441      0.00      0.00      0.01         0.00          -1.0         -1   \n",
       "16442      0.01      0.00      0.00         0.00          -1.0         -1   \n",
       "16443      0.00      0.00      0.01         0.00          -1.0         -1   \n",
       "\n",
       "      rating  \n",
       "0          E  \n",
       "1       undt  \n",
       "2          E  \n",
       "3          E  \n",
       "4       undt  \n",
       "...      ...  \n",
       "16439   undt  \n",
       "16440   undt  \n",
       "16441   undt  \n",
       "16442   undt  \n",
       "16443   undt  \n",
       "\n",
       "[16444 rows x 11 columns]"
      ]
     },
     "execution_count": 14,
     "metadata": {},
     "output_type": "execute_result"
    }
   ],
   "source": [
    "data_games['rating'] = data_games['rating'].fillna('undt')\n",
    "data_games"
   ]
  },
  {
   "cell_type": "markdown",
   "metadata": {},
   "source": [
    "Нам удалось избавится от пропусков в столбцах \"name\", \"year_of_release\" и \"genre\" путем удаления строк с отсутствующими значениями. Это было возможным по причине того, что процентное отношение строк с пропусками в значниях составляло не более 2% от общего объема данных, а значит, удаление этих данных не может исказить дальнейшее исследование.\n",
    "\n",
    "Отсутствие значений в оценках пользователей и критиков не подлежат замене, так как являются уникальными для каждой конкретной игры. Кроме того, отсутствие у игры оценок может служить важным критерием при выборе игры пользователями.\n",
    "\n",
    "Такая же ситуация складывается в отношении данных в столбце \"rating\". Однако,  здесь представлены категориальные значения, поэтому все пропуски были логично заменены на значение 'undt' (от англ. undetermined - неопределенный)."
   ]
  },
  {
   "cell_type": "markdown",
   "metadata": {},
   "source": [
    "### 2.3 Изменение  типов данных <a class=\"anchor\" id=\"2.3\"></a>"
   ]
  },
  {
   "cell_type": "code",
   "execution_count": 15,
   "metadata": {},
   "outputs": [
    {
     "data": {
      "text/plain": [
       "name                object\n",
       "platform            object\n",
       "year_of_release    float64\n",
       "genre               object\n",
       "na_sales           float64\n",
       "eu_sales           float64\n",
       "jp_sales           float64\n",
       "other_sales        float64\n",
       "critic_score       float64\n",
       "user_score          object\n",
       "rating              object\n",
       "dtype: object"
      ]
     },
     "execution_count": 15,
     "metadata": {},
     "output_type": "execute_result"
    }
   ],
   "source": [
    "#изучим типы данных в столбцах\n",
    "data_games.dtypes"
   ]
  },
  {
   "cell_type": "markdown",
   "metadata": {},
   "source": [
    "Год выпуска игры - значение категориальное, однако, оно представленно целым числом. Приведем данные в столбце \"Year_of_Release\" к типу \"int\".\n",
    "\n",
    "Так же поступим со значениями в столбце 'critic_scrore', содержащем целочисленные данные. А в столбце 'user_score' данные приведем ктипу float, так как здесь хранятся числовые значения."
   ]
  },
  {
   "cell_type": "code",
   "execution_count": 16,
   "metadata": {
    "scrolled": true
   },
   "outputs": [
    {
     "data": {
      "text/html": [
       "<div>\n",
       "<style scoped>\n",
       "    .dataframe tbody tr th:only-of-type {\n",
       "        vertical-align: middle;\n",
       "    }\n",
       "\n",
       "    .dataframe tbody tr th {\n",
       "        vertical-align: top;\n",
       "    }\n",
       "\n",
       "    .dataframe thead th {\n",
       "        text-align: right;\n",
       "    }\n",
       "</style>\n",
       "<table border=\"1\" class=\"dataframe\">\n",
       "  <thead>\n",
       "    <tr style=\"text-align: right;\">\n",
       "      <th></th>\n",
       "      <th>name</th>\n",
       "      <th>platform</th>\n",
       "      <th>year_of_release</th>\n",
       "      <th>genre</th>\n",
       "      <th>na_sales</th>\n",
       "      <th>eu_sales</th>\n",
       "      <th>jp_sales</th>\n",
       "      <th>other_sales</th>\n",
       "      <th>critic_score</th>\n",
       "      <th>user_score</th>\n",
       "      <th>rating</th>\n",
       "    </tr>\n",
       "  </thead>\n",
       "  <tbody>\n",
       "    <tr>\n",
       "      <th>0</th>\n",
       "      <td>Wii Sports</td>\n",
       "      <td>Wii</td>\n",
       "      <td>2006</td>\n",
       "      <td>Sports</td>\n",
       "      <td>41.36</td>\n",
       "      <td>28.96</td>\n",
       "      <td>3.77</td>\n",
       "      <td>8.45</td>\n",
       "      <td>76</td>\n",
       "      <td>8.0</td>\n",
       "      <td>E</td>\n",
       "    </tr>\n",
       "    <tr>\n",
       "      <th>1</th>\n",
       "      <td>Super Mario Bros.</td>\n",
       "      <td>NES</td>\n",
       "      <td>1985</td>\n",
       "      <td>Platform</td>\n",
       "      <td>29.08</td>\n",
       "      <td>3.58</td>\n",
       "      <td>6.81</td>\n",
       "      <td>0.77</td>\n",
       "      <td>-1</td>\n",
       "      <td>-1.0</td>\n",
       "      <td>undt</td>\n",
       "    </tr>\n",
       "    <tr>\n",
       "      <th>2</th>\n",
       "      <td>Mario Kart Wii</td>\n",
       "      <td>Wii</td>\n",
       "      <td>2008</td>\n",
       "      <td>Racing</td>\n",
       "      <td>15.68</td>\n",
       "      <td>12.76</td>\n",
       "      <td>3.79</td>\n",
       "      <td>3.29</td>\n",
       "      <td>82</td>\n",
       "      <td>8.3</td>\n",
       "      <td>E</td>\n",
       "    </tr>\n",
       "    <tr>\n",
       "      <th>3</th>\n",
       "      <td>Wii Sports Resort</td>\n",
       "      <td>Wii</td>\n",
       "      <td>2009</td>\n",
       "      <td>Sports</td>\n",
       "      <td>15.61</td>\n",
       "      <td>10.93</td>\n",
       "      <td>3.28</td>\n",
       "      <td>2.95</td>\n",
       "      <td>80</td>\n",
       "      <td>8.0</td>\n",
       "      <td>E</td>\n",
       "    </tr>\n",
       "    <tr>\n",
       "      <th>4</th>\n",
       "      <td>Pokemon Red/Pokemon Blue</td>\n",
       "      <td>GB</td>\n",
       "      <td>1996</td>\n",
       "      <td>Role-Playing</td>\n",
       "      <td>11.27</td>\n",
       "      <td>8.89</td>\n",
       "      <td>10.22</td>\n",
       "      <td>1.00</td>\n",
       "      <td>-1</td>\n",
       "      <td>-1.0</td>\n",
       "      <td>undt</td>\n",
       "    </tr>\n",
       "  </tbody>\n",
       "</table>\n",
       "</div>"
      ],
      "text/plain": [
       "                       name platform  year_of_release         genre  na_sales  \\\n",
       "0                Wii Sports      Wii             2006        Sports     41.36   \n",
       "1         Super Mario Bros.      NES             1985      Platform     29.08   \n",
       "2            Mario Kart Wii      Wii             2008        Racing     15.68   \n",
       "3         Wii Sports Resort      Wii             2009        Sports     15.61   \n",
       "4  Pokemon Red/Pokemon Blue       GB             1996  Role-Playing     11.27   \n",
       "\n",
       "   eu_sales  jp_sales  other_sales  critic_score  user_score rating  \n",
       "0     28.96      3.77         8.45            76         8.0      E  \n",
       "1      3.58      6.81         0.77            -1        -1.0   undt  \n",
       "2     12.76      3.79         3.29            82         8.3      E  \n",
       "3     10.93      3.28         2.95            80         8.0      E  \n",
       "4      8.89     10.22         1.00            -1        -1.0   undt  "
      ]
     },
     "execution_count": 16,
     "metadata": {},
     "output_type": "execute_result"
    }
   ],
   "source": [
    "data_games['year_of_release'] = data_games['year_of_release'].astype('int')\n",
    "data_games['critic_score'] = data_games['critic_score'].astype('int')\n",
    "\n",
    "data_games['user_score'] = data_games['user_score'].astype('float')\n",
    "data_games.head()"
   ]
  },
  {
   "cell_type": "markdown",
   "metadata": {},
   "source": [
    "### 2.4 Добавление данных в таблицу <a class=\"anchor\" id=\"2.4\"></a>"
   ]
  },
  {
   "cell_type": "markdown",
   "metadata": {},
   "source": [
    "Для дальнейшего анализа нам потребуется информация об общих продажах по всем регионам для каждой игры. Добавим данные в таблицу отдельным столбцом \"total_sales\"."
   ]
  },
  {
   "cell_type": "code",
   "execution_count": 17,
   "metadata": {},
   "outputs": [
    {
     "data": {
      "text/html": [
       "<div>\n",
       "<style scoped>\n",
       "    .dataframe tbody tr th:only-of-type {\n",
       "        vertical-align: middle;\n",
       "    }\n",
       "\n",
       "    .dataframe tbody tr th {\n",
       "        vertical-align: top;\n",
       "    }\n",
       "\n",
       "    .dataframe thead th {\n",
       "        text-align: right;\n",
       "    }\n",
       "</style>\n",
       "<table border=\"1\" class=\"dataframe\">\n",
       "  <thead>\n",
       "    <tr style=\"text-align: right;\">\n",
       "      <th></th>\n",
       "      <th>name</th>\n",
       "      <th>platform</th>\n",
       "      <th>year_of_release</th>\n",
       "      <th>genre</th>\n",
       "      <th>na_sales</th>\n",
       "      <th>eu_sales</th>\n",
       "      <th>jp_sales</th>\n",
       "      <th>other_sales</th>\n",
       "      <th>critic_score</th>\n",
       "      <th>user_score</th>\n",
       "      <th>rating</th>\n",
       "      <th>total_sales</th>\n",
       "    </tr>\n",
       "  </thead>\n",
       "  <tbody>\n",
       "    <tr>\n",
       "      <th>0</th>\n",
       "      <td>Wii Sports</td>\n",
       "      <td>Wii</td>\n",
       "      <td>2006</td>\n",
       "      <td>Sports</td>\n",
       "      <td>41.36</td>\n",
       "      <td>28.96</td>\n",
       "      <td>3.77</td>\n",
       "      <td>8.45</td>\n",
       "      <td>76</td>\n",
       "      <td>8.0</td>\n",
       "      <td>E</td>\n",
       "      <td>82.54</td>\n",
       "    </tr>\n",
       "    <tr>\n",
       "      <th>1</th>\n",
       "      <td>Super Mario Bros.</td>\n",
       "      <td>NES</td>\n",
       "      <td>1985</td>\n",
       "      <td>Platform</td>\n",
       "      <td>29.08</td>\n",
       "      <td>3.58</td>\n",
       "      <td>6.81</td>\n",
       "      <td>0.77</td>\n",
       "      <td>-1</td>\n",
       "      <td>-1.0</td>\n",
       "      <td>undt</td>\n",
       "      <td>40.24</td>\n",
       "    </tr>\n",
       "    <tr>\n",
       "      <th>2</th>\n",
       "      <td>Mario Kart Wii</td>\n",
       "      <td>Wii</td>\n",
       "      <td>2008</td>\n",
       "      <td>Racing</td>\n",
       "      <td>15.68</td>\n",
       "      <td>12.76</td>\n",
       "      <td>3.79</td>\n",
       "      <td>3.29</td>\n",
       "      <td>82</td>\n",
       "      <td>8.3</td>\n",
       "      <td>E</td>\n",
       "      <td>35.52</td>\n",
       "    </tr>\n",
       "    <tr>\n",
       "      <th>3</th>\n",
       "      <td>Wii Sports Resort</td>\n",
       "      <td>Wii</td>\n",
       "      <td>2009</td>\n",
       "      <td>Sports</td>\n",
       "      <td>15.61</td>\n",
       "      <td>10.93</td>\n",
       "      <td>3.28</td>\n",
       "      <td>2.95</td>\n",
       "      <td>80</td>\n",
       "      <td>8.0</td>\n",
       "      <td>E</td>\n",
       "      <td>32.77</td>\n",
       "    </tr>\n",
       "    <tr>\n",
       "      <th>4</th>\n",
       "      <td>Pokemon Red/Pokemon Blue</td>\n",
       "      <td>GB</td>\n",
       "      <td>1996</td>\n",
       "      <td>Role-Playing</td>\n",
       "      <td>11.27</td>\n",
       "      <td>8.89</td>\n",
       "      <td>10.22</td>\n",
       "      <td>1.00</td>\n",
       "      <td>-1</td>\n",
       "      <td>-1.0</td>\n",
       "      <td>undt</td>\n",
       "      <td>31.38</td>\n",
       "    </tr>\n",
       "  </tbody>\n",
       "</table>\n",
       "</div>"
      ],
      "text/plain": [
       "                       name platform  year_of_release         genre  na_sales  \\\n",
       "0                Wii Sports      Wii             2006        Sports     41.36   \n",
       "1         Super Mario Bros.      NES             1985      Platform     29.08   \n",
       "2            Mario Kart Wii      Wii             2008        Racing     15.68   \n",
       "3         Wii Sports Resort      Wii             2009        Sports     15.61   \n",
       "4  Pokemon Red/Pokemon Blue       GB             1996  Role-Playing     11.27   \n",
       "\n",
       "   eu_sales  jp_sales  other_sales  critic_score  user_score rating  \\\n",
       "0     28.96      3.77         8.45            76         8.0      E   \n",
       "1      3.58      6.81         0.77            -1        -1.0   undt   \n",
       "2     12.76      3.79         3.29            82         8.3      E   \n",
       "3     10.93      3.28         2.95            80         8.0      E   \n",
       "4      8.89     10.22         1.00            -1        -1.0   undt   \n",
       "\n",
       "   total_sales  \n",
       "0        82.54  \n",
       "1        40.24  \n",
       "2        35.52  \n",
       "3        32.77  \n",
       "4        31.38  "
      ]
     },
     "execution_count": 17,
     "metadata": {},
     "output_type": "execute_result"
    }
   ],
   "source": [
    "#создадим столбец, в который поместим сумму значений из столбцов na_sales, eu_sales, jp_sales и other_sales\n",
    "data_games['total_sales'] = data_games['na_sales'] + data_games['eu_sales'] + data_games['jp_sales'] + data_games['other_sales']\n",
    "\n",
    "data_games.head()"
   ]
  },
  {
   "cell_type": "markdown",
   "metadata": {},
   "source": [
    "### 2.5 Вывод <a class=\"anchor\" id=\"2.5\"></a>"
   ]
  },
  {
   "cell_type": "markdown",
   "metadata": {},
   "source": [
    "В ходе подготовки данных к дальнейшему исследованию мы привели все названия стобцов к нижнему регистру, проверили данные на наличие дубликатов и обработали пропуски в значениях.\n",
    "\n",
    "В столбцах \"name\", \"year_of_release\" и \"genre\" нам удалось избавится от пропусков путем удаления строк с отсутствующими значениями. Учитывая процентное отношение строк с пропусками к общему объему данных (всего 2%), такое удаление допустимо и не сможет исказить дальнейшее исследование.\n",
    "\n",
    "С отсутствующими значениями в оценках критиков и пользователей мы поступили иначе - установили так называемые \"заглушки\", для того, что бы не потерять эти данные в дальнейшем. А в столбце \"rating\" заменили значения \"K-A\" и \"EC\" на значение \"E\", так как, по сути, эти значения относятся к одной возрастной категории, которая в разные периоды имела разные условные обозначения.\n",
    "\n",
    "Столбцы \"Year_of_Release\" и 'critic_scrore' с целочисленными значениями были приведены к типу \"int\".\n",
    "\n",
    "Так же для дальнейшего исследования нам потребуется информация по суммарным продажам для каждой игры. Эти данные мы добавили в новый столбец \"total_sales\"."
   ]
  },
  {
   "cell_type": "markdown",
   "metadata": {},
   "source": [
    "## 3. Исследовательский анализ данных <a class=\"anchor\" id=\"3\"></a>"
   ]
  },
  {
   "cell_type": "markdown",
   "metadata": {},
   "source": [
    "### 3.1 Определение актуального периода для исследования данных <a class=\"anchor\" id=\"3.1\"></a>"
   ]
  },
  {
   "cell_type": "markdown",
   "metadata": {},
   "source": [
    "Компьютерные технологии и програмное обеспечение развивается в последние десятилетия стремительными темпами. Каждый новые продукт может потерять свою актуальность уже через 5-10 лет после появления на рынке, а иногда это происходит даже раньше. Игровые платформы не отстают от общих темпов в техническом прогрессе.\n",
    "\n",
    "В связи с этим, изучение неактуальных данных может стать причиной некорректных выводов и ошибок в прогнозировании будущих продаж.\n",
    "\n",
    "Что бы этого избежать, изучим особенности продаж игр в различные годы.\n",
    "\n",
    "Посмотрим, как изменялось количество выпущенных игр с течением времени."
   ]
  },
  {
   "cell_type": "code",
   "execution_count": 18,
   "metadata": {},
   "outputs": [
    {
     "data": {
      "image/png": "[encoded data removed]",
      "text/plain": [
       "<Figure size 432x288 with 1 Axes>"
      ]
     },
     "metadata": {
      "needs_background": "light"
     },
     "output_type": "display_data"
    }
   ],
   "source": [
    "#построим сводную таблицу с указанием года и кол-вом выпущенных в этот год игр\n",
    "games_per_year = data_games.pivot_table(index = 'year_of_release', values = 'name', aggfunc='count')\n",
    "games_per_year.columns = ['ammount']\n",
    "\n",
    "#постоим линейный график по таблице games_per_year\n",
    "games_per_year.plot(y='ammount', title=\"Изменение объема выпускаемых игр по годам\", style='o-', grid=True)\n",
    "plt.ylabel(\"кол-во игр, шт\")\n",
    "plt.xlabel(\"год выпуска\");"
   ]
  },
  {
   "cell_type": "markdown",
   "metadata": {},
   "source": [
    "На полученном графике четко прослеживается тенденция роста количества выпускаемых игр до 2009 года. При этом до 1993 года включительно выпускалось крайне маленькое кол-во игр, не превышающее 60 шт в год. Период с 1994 по 2006 гг можно охарактеризовать медленным, но стабильным, ростом объема выпускаемой продукции. Расцвет игровой индустрии приходится на период с 2006 по 2011 годы, когда каждый год в свет выходило более 1000 новых компьютерных игр.\n",
    "Однако, уже в 2009 году производственные темпы начинают замедляться, наблюдается резкий спад в количестве выпускаемый продукции. \n",
    "\n",
    "Вероятно, такая ситуация обусловлена экономической обстановкой в мире - финансовым кризисом 2008 года, который критически сказался на сфере компьютерных игр и игрового оборудования. По ряду причин, включая потерю компаниями большого числа инвесторов, сокращения рабочих мест, падение спроса на игровые консоли и последующее снижение их производства, объемы производимых компьютерных игр так же начинают идти на спад. И \n",
    "уже к 2012 году количество выпускаемых в год игр составляет около 650 шт - лишь половину от объема игр, выпущенных в период расцвета. \n",
    "\n",
    "Далее этот показатель остается стабильным до настоящего времени, и составляет 500-600 игр в год.\n",
    "\n",
    "Учитывая тот факт, что с 1980г до 2009г, почти 30 лет, на игровом рынке наблюдалась тенденция по увеличению кол-ва выпускаемых игр, а после критического для игровой индустрии 2008 года мы наблюдаем обвал объемов производства игр, когда за три года показатели упали в 2 раза и продолжают снижаться до настоящего момента, логично предположить, что данные за весь указанный в таблице временной период не могут представлять для дальнейшего исследования одинаковую важность. \n",
    "\n",
    "Ориентироваться на период, когда количество игр стабильно росло будет неверно, ведь ситуация в корне изменилась с 2009 года. Кроме того, за последние 5 лет не наблюдалось тенденции к увеличению объема продаж, а значит, прогноз, построенные на основе анализа таких данных будет неверным. Таким образом, период до 2009 года не представляет для нашего исследования важности.\n",
    "\n",
    "Однако, несмотря на то, что в 2009 году начался спад в объемах производства, до 2012 года на рынке все еще появлялось большое количество компьютерных игр - более 1000 в год. Эти данные так же не могут представлять для нас интереса в контексте построения прогнозов, так как с 2012 года (а это 5 лет на настоящий момент) наблюдается иная ситуация на игровом рынке, которая значительно отличается от вышеуказанных цифр, и составляет всего 500-600 игр в год.\n",
    "\n",
    "Таким образом, можно логично определить, что важность для нас представляет только период с 2012 по 2016 год, когда объемы выпускаемых игр относительно стабильны и не превышают полумиллиона шт ежегодно."
   ]
  },
  {
   "cell_type": "markdown",
   "metadata": {},
   "source": [
    "Из полученных данных можно сделать вывод, что объем выпускаемых компьютерных игр не стабилен на протяжении всего времени с момента их популяризации. На линейном графике изменения кол-ва игр за каждый год можно отметить периоды постепенного роста их числа, резкого скачка в объемах выпускаемой продукции, а затем - заметного спада. В связи с чем, появляется необходимость исключить из анализа устаревшие данные, которые могут исказить исследование и стать причиной неверных прогнозов из-за своей неактуальности.\n",
    "\n",
    "Учитывая изменения в объеме выпуска компьютерных игр в мире, наиболее целесообразно для анализа данных рассматривать только информацию за 2012-2016 года. Так как прогнозы, ориентированные на периоды роста объемов выпуска игр или на пиковые значения, в 1-1,5 тысячи шт, более ранних периодов приведут к заведомо провальной маркетинговой кампании в условиях современных мировых реалий.\n",
    "\n",
    "Именно этот период мы будем рассматривать для дальнейшего исследования.\n"
   ]
  },
  {
   "cell_type": "markdown",
   "metadata": {},
   "source": [
    "### 3.2 Определение актуальных игровых платформ <a class=\"anchor\" id=\"3.2\"></a>"
   ]
  },
  {
   "cell_type": "markdown",
   "metadata": {},
   "source": [
    "Посмотрим, как менялись продажи по платформам, и изучим их популярность в течении времени."
   ]
  },
  {
   "cell_type": "code",
   "execution_count": 19,
   "metadata": {
    "scrolled": true
   },
   "outputs": [
    {
     "data": {
      "text/html": [
       "<div>\n",
       "<style scoped>\n",
       "    .dataframe tbody tr th:only-of-type {\n",
       "        vertical-align: middle;\n",
       "    }\n",
       "\n",
       "    .dataframe tbody tr th {\n",
       "        vertical-align: top;\n",
       "    }\n",
       "\n",
       "    .dataframe thead th {\n",
       "        text-align: right;\n",
       "    }\n",
       "</style>\n",
       "<table border=\"1\" class=\"dataframe\">\n",
       "  <thead>\n",
       "    <tr style=\"text-align: right;\">\n",
       "      <th></th>\n",
       "      <th>total_sales</th>\n",
       "    </tr>\n",
       "    <tr>\n",
       "      <th>platform</th>\n",
       "      <th></th>\n",
       "    </tr>\n",
       "  </thead>\n",
       "  <tbody>\n",
       "    <tr>\n",
       "      <th>PS2</th>\n",
       "      <td>1233.56</td>\n",
       "    </tr>\n",
       "    <tr>\n",
       "      <th>X360</th>\n",
       "      <td>961.24</td>\n",
       "    </tr>\n",
       "    <tr>\n",
       "      <th>PS3</th>\n",
       "      <td>931.34</td>\n",
       "    </tr>\n",
       "    <tr>\n",
       "      <th>Wii</th>\n",
       "      <td>891.18</td>\n",
       "    </tr>\n",
       "    <tr>\n",
       "      <th>DS</th>\n",
       "      <td>802.78</td>\n",
       "    </tr>\n",
       "    <tr>\n",
       "      <th>PS</th>\n",
       "      <td>727.58</td>\n",
       "    </tr>\n",
       "    <tr>\n",
       "      <th>PS4</th>\n",
       "      <td>314.14</td>\n",
       "    </tr>\n",
       "    <tr>\n",
       "      <th>GBA</th>\n",
       "      <td>312.88</td>\n",
       "    </tr>\n",
       "    <tr>\n",
       "      <th>PSP</th>\n",
       "      <td>289.53</td>\n",
       "    </tr>\n",
       "    <tr>\n",
       "      <th>3DS</th>\n",
       "      <td>257.81</td>\n",
       "    </tr>\n",
       "    <tr>\n",
       "      <th>PC</th>\n",
       "      <td>255.76</td>\n",
       "    </tr>\n",
       "    <tr>\n",
       "      <th>GB</th>\n",
       "      <td>254.43</td>\n",
       "    </tr>\n",
       "    <tr>\n",
       "      <th>XB</th>\n",
       "      <td>251.57</td>\n",
       "    </tr>\n",
       "    <tr>\n",
       "      <th>NES</th>\n",
       "      <td>251.05</td>\n",
       "    </tr>\n",
       "    <tr>\n",
       "      <th>N64</th>\n",
       "      <td>218.01</td>\n",
       "    </tr>\n",
       "    <tr>\n",
       "      <th>SNES</th>\n",
       "      <td>200.04</td>\n",
       "    </tr>\n",
       "    <tr>\n",
       "      <th>GC</th>\n",
       "      <td>196.73</td>\n",
       "    </tr>\n",
       "    <tr>\n",
       "      <th>XOne</th>\n",
       "      <td>159.32</td>\n",
       "    </tr>\n",
       "    <tr>\n",
       "      <th>2600</th>\n",
       "      <td>86.48</td>\n",
       "    </tr>\n",
       "    <tr>\n",
       "      <th>WiiU</th>\n",
       "      <td>82.19</td>\n",
       "    </tr>\n",
       "    <tr>\n",
       "      <th>PSV</th>\n",
       "      <td>53.81</td>\n",
       "    </tr>\n",
       "    <tr>\n",
       "      <th>SAT</th>\n",
       "      <td>33.59</td>\n",
       "    </tr>\n",
       "    <tr>\n",
       "      <th>GEN</th>\n",
       "      <td>28.35</td>\n",
       "    </tr>\n",
       "    <tr>\n",
       "      <th>DC</th>\n",
       "      <td>15.95</td>\n",
       "    </tr>\n",
       "    <tr>\n",
       "      <th>SCD</th>\n",
       "      <td>1.86</td>\n",
       "    </tr>\n",
       "    <tr>\n",
       "      <th>NG</th>\n",
       "      <td>1.44</td>\n",
       "    </tr>\n",
       "    <tr>\n",
       "      <th>WS</th>\n",
       "      <td>1.42</td>\n",
       "    </tr>\n",
       "    <tr>\n",
       "      <th>TG16</th>\n",
       "      <td>0.16</td>\n",
       "    </tr>\n",
       "    <tr>\n",
       "      <th>3DO</th>\n",
       "      <td>0.10</td>\n",
       "    </tr>\n",
       "    <tr>\n",
       "      <th>GG</th>\n",
       "      <td>0.04</td>\n",
       "    </tr>\n",
       "    <tr>\n",
       "      <th>PCFX</th>\n",
       "      <td>0.03</td>\n",
       "    </tr>\n",
       "  </tbody>\n",
       "</table>\n",
       "</div>"
      ],
      "text/plain": [
       "          total_sales\n",
       "platform             \n",
       "PS2           1233.56\n",
       "X360           961.24\n",
       "PS3            931.34\n",
       "Wii            891.18\n",
       "DS             802.78\n",
       "PS             727.58\n",
       "PS4            314.14\n",
       "GBA            312.88\n",
       "PSP            289.53\n",
       "3DS            257.81\n",
       "PC             255.76\n",
       "GB             254.43\n",
       "XB             251.57\n",
       "NES            251.05\n",
       "N64            218.01\n",
       "SNES           200.04\n",
       "GC             196.73\n",
       "XOne           159.32\n",
       "2600            86.48\n",
       "WiiU            82.19\n",
       "PSV             53.81\n",
       "SAT             33.59\n",
       "GEN             28.35\n",
       "DC              15.95\n",
       "SCD              1.86\n",
       "NG               1.44\n",
       "WS               1.42\n",
       "TG16             0.16\n",
       "3DO              0.10\n",
       "GG               0.04\n",
       "PCFX             0.03"
      ]
     },
     "execution_count": 19,
     "metadata": {},
     "output_type": "execute_result"
    }
   ],
   "source": [
    "#построим сводную таблицу с указанием названия платформы и суммарными продажами по годам\n",
    "#и отсортируем таблицу по убыванию кол-ва продаж\n",
    "(\n",
    "   data_games\n",
    "   .pivot_table(index = 'platform', values = 'total_sales', aggfunc='sum') \n",
    "   .sort_values('total_sales', ascending=False)\n",
    ")"
   ]
  },
  {
   "cell_type": "markdown",
   "metadata": {},
   "source": [
    "Среди всех игровых платформ выделяются явные лидеры по кол-ву проданных игр - это консоли PS2, X360, PS3, Wii, DS и PS. Посмотрим, как распределяются продажи по годам для этих лидеров."
   ]
  },
  {
   "cell_type": "code",
   "execution_count": 20,
   "metadata": {
    "scrolled": true
   },
   "outputs": [
    {
     "data": {
      "image/png": "[encoded data removed]",
      "text/plain": [
       "<Figure size 576x360 with 1 Axes>"
      ]
     },
     "metadata": {
      "needs_background": "light"
     },
     "output_type": "display_data"
    }
   ],
   "source": [
    "#создадим список платформ-лидеров\n",
    "platforms = ['PS2', 'X360', 'PS3', 'Wii', 'DS', 'PS']\n",
    "\n",
    "#построим графики продаж по годам для каждой из популярных платформ\n",
    "(\n",
    "    data_games.query('platform == @platforms')\n",
    "    .pivot_table(index='year_of_release', columns='platform', values = 'total_sales', aggfunc='sum')\n",
    "    .plot(title='Объем продаж по годам для каждой из популярных платформ', grid=True, figsize=(8,5))\n",
    ")\n",
    "plt.ylabel(\"кол-во проданных игр, млн\")\n",
    "plt.xlabel(\"год выпуска\");\n",
    "plt.show()"
   ]
  },
  {
   "cell_type": "markdown",
   "metadata": {},
   "source": [
    "На полученном графике четко прослеживается интересная закономерность - у игровой платформы \"срок жизни\" ограничен и, чаще всего, составляет около 10 лет. Другими словами, даже самые популярные платформы, продажи игр на которых составляли сотни миллионов, теряют актуальность через 9-12 лет с момента выхода на рынок.\n",
    "\n",
    "При этом, характерный жизненный цикл игровой консоли включает период достаточно стремительного роста популярности, период расцвета, который длится 2-3 года, и за ним такой же стремительный спад популярности.\n",
    "\n",
    "В связи с этим, очевидно, что брать для исследования данные по всем платформам не имеет смысла, так как на настоящий момент многие игровые могли потерять свою актуальсть, игры для них перестали выпускать, а следовательно, они не смогут представлять интерес для продавца компьютерных игр.\n",
    "\n",
    "Таким образом, имеет смысл оставить в таблице данные только по тем игровым платформам, для которых продолжают выходить новые игры на актуальный период.\n",
    "\n",
    "Отфильтруем данные по 2012-2016 годам и посмотрим, какие платформы существуют в этот период."
   ]
  },
  {
   "cell_type": "code",
   "execution_count": 21,
   "metadata": {},
   "outputs": [
    {
     "data": {
      "image/png": "[encoded data removed]",
      "text/plain": [
       "<Figure size 576x360 with 1 Axes>"
      ]
     },
     "metadata": {
      "needs_background": "light"
     },
     "output_type": "display_data"
    }
   ],
   "source": [
    "#делаем срез по данным, где год выпуска игры не ранее 2012\n",
    "data_games_actual = data_games.query('year_of_release >= 2012')\n",
    "\n",
    "#построим графики продаж по годам для каждой из популярных платформ\n",
    "(\n",
    "    data_games_actual\n",
    "    .pivot_table(index='year_of_release', columns='platform', values = 'total_sales', aggfunc='sum')\n",
    "    .plot(title='Объем продаж для всех платформ за период 2012-2016гг', grid=True, figsize=(8,5))\n",
    ")\n",
    "plt.ylabel(\"кол-во проданных игр, млн\")\n",
    "plt.xlabel(\"год выпуска\");\n",
    "plt.show()\n",
    "\n",
    "#data_games_actual.pivot_table(index='year_of_release', columns='platform', values = 'total_sales', aggfunc='sum')"
   ]
  },
  {
   "cell_type": "markdown",
   "metadata": {},
   "source": [
    "На графике хорошо заметно, что даже за период в 4 года картина на игровом рынке значительно поменялась. Несколько консолей к 2016 году закончили или практический подошли к концу своего жизненного цикла (DS, PSP, Wii), некоторые консоли потеряют актуальности через 1-2 года (X360, PS3).\n",
    "\n",
    "Но так же появились и новые игровые платформы (PS4, XOne), которые успели проти через пик своей актульности всего за 3 года.\n",
    "\n",
    "В связи с чем, можно сделать вывод, что выявленные актуальный период в 4 года, 2012-2016 года, слишком велик и не позволит сделать корректные прогнозы. Сократим временной промежуток в два раза, взяв данные за 2014-2016 года и оставив 6 потенциально интересных платформ, и еще раз оценим динамику продаж."
   ]
  },
  {
   "cell_type": "code",
   "execution_count": 22,
   "metadata": {},
   "outputs": [
    {
     "data": {
      "image/png": "[encoded data removed]",
      "text/plain": [
       "<Figure size 576x360 with 1 Axes>"
      ]
     },
     "metadata": {
      "needs_background": "light"
     },
     "output_type": "display_data"
    }
   ],
   "source": [
    "#создадим список актуальных игровых платформ\n",
    "names = ['3DS', 'PC', 'PS4', 'PSV', 'XOne', 'WiiU']\n",
    "\n",
    "#создадим срез данных по заданным условиям\n",
    "data_games_actual = data_games_actual.query('year_of_release >= 2014 and platform in @names')\n",
    "\n",
    "#повторим графики продаж по годам для каждой из актуальных платформ\n",
    "(\n",
    "    data_games_actual\n",
    "    .pivot_table(index='year_of_release', columns='platform', values = 'total_sales', aggfunc='sum')\n",
    "    .plot(title='Объем продаж для всех платформ за период 2012-2016гг', grid=True, figsize=(8,5))\n",
    ")\n",
    "plt.ylabel(\"кол-во проданных игр, млн\")\n",
    "plt.xlabel(\"год выпуска\");\n",
    "plt.show()\n"
   ]
  },
  {
   "cell_type": "markdown",
   "metadata": {},
   "source": [
    "Теперь отчетливо выделяются платформы, лидирующие по кол-ву проданных для них игр. Самые высокие объемы за последние два года показывает PS4, и, несмотря но то, что за год продажи упали почти вдвое (с цифры в 120 млн в 2015 году до 70 млн в 2016) можно с уверенностью утверждать, что еще минимум год платформа будет популярна.\n",
    "\n",
    "Продажи для консоли XOne так же переживали пик в 2015 году, составляя 60 млн, и в текущий момент идут на спад. Но, аналогично PS4, даже при условии сохранения темпов уменьшения объема продаж, на следующий год актуальность платформы должна сохраниться.\n",
    "\n",
    "Платформа 3DS не может сравнится  объемами проданных игр с вышеописанными конкурентами, однако темпы спада ее популярности намного ниже, что дает право предположить, что ее так же целесообразно рассматривать в перспективе следующего года.\n",
    "\n",
    "Показатели объема продаж по платформам PC и PSV сохраняют стабильность, снижение идет очень медленно и плавно. Повода считать, что в следующем году что-то изменится, и платформы резко потеряют актуальность - нет.\n",
    "\n",
    "Самой сомнительной в плане перспектив является платформа WiiU. Несмотря на то, что продажи игр для нее за 2 года выше, чем эти же показатели для PC и PSV, но здесь можно заметить стабильно активное уменьшение их объемом. Что говорит о том, что количество проданных для нее игр в новом году, с большой вероятностью, окажутся ниже.\n",
    "\n",
    "Исключим эту платформу из таблицы, оставив только 5 актуальных платформ, по которым будем проведить дальнейшее исследование."
   ]
  },
  {
   "cell_type": "code",
   "execution_count": 23,
   "metadata": {},
   "outputs": [],
   "source": [
    "#удалим из таблицы данные по платформе WiiU\n",
    "data_games_actual = data_games_actual.query('platform !=\"WiiU\"')"
   ]
  },
  {
   "cell_type": "markdown",
   "metadata": {},
   "source": [
    "Полученные в ходе исследования результаты показали, что любая игровая платформа имеет ограниченный срок жизни, при этом за свой жизненный цикл она проходит стадии активного роста своей популярности, период расцвета, в котором наблюдаются максимальные объемы прождаж, и неизменный спад популярности. В большинстве случаев характерный период жизни одной платформы охватывает 9-11 лет.\n",
    "\n",
    "Таким образом, анализировать весь объем имеющихся данных является нецелесообразным, так как ситуация на игровом рынке меняется осень стремительно. В связи с этим, актуальный временной период был уменьшен в два раза и составляет 2014-2016 гг, а так же были определены пять наиболее перспективных на 2017 год платформ. Среди них оказались '3DS', 'PC', 'PS4', 'PSV' и 'XOne'."
   ]
  },
  {
   "cell_type": "markdown",
   "metadata": {},
   "source": [
    "### 3.3 Исследование продаж внутри платформ <a class=\"anchor\" id=\"3.3\"></a>"
   ]
  },
  {
   "cell_type": "markdown",
   "metadata": {},
   "source": [
    "Построим график распределения по глобальным продажам игр в разбивке по платформам."
   ]
  },
  {
   "cell_type": "code",
   "execution_count": 24,
   "metadata": {},
   "outputs": [
    {
     "data": {
      "image/png": "[encoded data removed]",
      "text/plain": [
       "<Figure size 432x288 with 1 Axes>"
      ]
     },
     "metadata": {
      "needs_background": "light"
     },
     "output_type": "display_data"
    }
   ],
   "source": [
    "#построим диаграмму размаха для каждой платформы\n",
    "sns.boxplot(data=data_games_actual, x='platform', y='total_sales')\n",
    "plt.xlabel(\"Платформы\")\n",
    "plt.ylabel(\"кол-во проданных копий каждой игры, млн\")\n",
    "plt.title('Распределение продаж для каждой платформам');"
   ]
  },
  {
   "cell_type": "markdown",
   "metadata": {},
   "source": [
    "На полученном графике отчетливо видно выбросы - нетипичные значение, но трудноразличимы основные данные по каждой платформе. Изменим масштабы диаграммы, что бы рассмотреть основные значения по продажам игр."
   ]
  },
  {
   "cell_type": "code",
   "execution_count": 25,
   "metadata": {},
   "outputs": [
    {
     "data": {
      "image/png": "[encoded data removed]",
      "text/plain": [
       "<Figure size 432x288 with 1 Axes>"
      ]
     },
     "metadata": {
      "needs_background": "light"
     },
     "output_type": "display_data"
    }
   ],
   "source": [
    "#зададим ограничение по оси y, равное 1,5\n",
    "sns.boxplot(data=data_games_actual, x='platform', y='total_sales')\n",
    "plt.xlabel(\"платформы\")\n",
    "plt.ylabel(\"кол-во проданных копий каждой игры, млн\")\n",
    "plt.title('Распределение продаж для каждой платформам')\n",
    "plt.ylim(0, 1.6);"
   ]
  },
  {
   "cell_type": "markdown",
   "metadata": {},
   "source": [
    "Исходя из полученных данных можно сделать вывод, что за последние 2 года объем продаж большинства игр не превышал 1,5 миллиона копий в год для платформ PS4, XOne и WiiU. При этом, основная часть игр продавалась в количестве от 50 тыс до 700 тысяч копий в год, средний же показатель для кажой игры - около 200 тыс.\n",
    "Для платформ 3DS, PC и PSV показатели еще ниже. Здесь основной процент игр расходился тиражами не более 250 тыс копий.\n",
    "\n",
    "Однако, можно так же заметить, что среди игр на каждой платформе есть особо популярные экземляры, продажи которых выбиваются из общего числа и превышают 2 миллионов копий в год. На графике так же присутствуют единичные хиты (около 10 игр), завоевавшие огромную популярность, их продажи насчитывают от 7 до 14 млн копий в год.\n",
    "\n",
    "Изучим продажи игр внутри самой популярной на настоящий момент платформы, PS4, и посмотрим, как влияют на продажи отзывы пользователей и критиков."
   ]
  },
  {
   "cell_type": "code",
   "execution_count": 26,
   "metadata": {
    "scrolled": true
   },
   "outputs": [
    {
     "name": "stdout",
     "output_type": "stream",
     "text": [
      "Платформа PS4\n"
     ]
    },
    {
     "data": {
      "image/png": "[encoded data removed]",
      "text/plain": [
       "<Figure size 432x288 with 1 Axes>"
      ]
     },
     "metadata": {
      "needs_background": "light"
     },
     "output_type": "display_data"
    },
    {
     "name": "stdout",
     "output_type": "stream",
     "text": [
      "Коэффициент корреляции: 0.4\n"
     ]
    },
    {
     "data": {
      "image/png": "[encoded data removed]",
      "text/plain": [
       "<Figure size 432x288 with 1 Axes>"
      ]
     },
     "metadata": {
      "needs_background": "light"
     },
     "output_type": "display_data"
    },
    {
     "name": "stdout",
     "output_type": "stream",
     "text": [
      "Коэффициент корреляции: -0.04\n"
     ]
    }
   ],
   "source": [
    "#для исследования взаимосвязи исключим значения с заглушками\n",
    "data_games_actual_filt = data_games_actual.query('critic_score != -1 and user_score != -1')\n",
    "\n",
    "#построим диаграмму рассеивания и посчитаем корреляцию между отзывами и продажами\n",
    "print('Платформа PS4')\n",
    "for score in ['critic_score', 'user_score']:\n",
    "    (\n",
    "        data_games_actual_filt.query('platform == \"PS4\"')\n",
    "        .sort_values(by='total_sales')\n",
    "        .plot(x=score, y='total_sales', kind='scatter', title=score, grid=True, alpha=0.3)\n",
    "    )\n",
    "    plt.show()\n",
    "    print('Коэффициент корреляции:', (\n",
    "        data_games_actual_filt.query('platform == \"PS4\"')['total_sales']\n",
    "        .corr(data_games_actual_filt[score]))\n",
    "        .round(2)\n",
    "         )\n",
    "            \n"
   ]
  },
  {
   "cell_type": "markdown",
   "metadata": {},
   "source": [
    "По диаграмме рассеивания видно, что бОльшая часть продаваемых игр имеет оценку критиков от 50 до 85 баллов. Создается впечатление, что критики редко присваивают играм меньшее кол-во рейтинговых баллов, на диаграмме можно заметить лишь единичные значения с оценками в 19 - 50.\n",
    "\n",
    "При этом для всех оценок от 50 дл 85 единиц объем продаж сконцентрирован в пределах миллиона копий, небольшое кол-во игр его превышает и доходит до 2 млн. Большинство игр, проданных в количестве от 2х до 13ти млн, имеют более высокие рейтинги  - от 75 до 95 баллов. Но число таких игр слишком мало, что бы можно было говорить о высокой взаимосвязи оценок критиков с продажами игр на рынке.\n",
    "\n",
    "Скорее, по полученной диаграмме рассеивания можно говорить о средней зависимости показателей оценки критиков и продаж. Об отсутствии сильной взаимосвязи между продажами и оценками критиков так же говорит и коэффицтент Пирсона, который составляет всего 0,4.\n",
    "\n",
    "Взаимосвязь продаж с оценками пользователей еще менее выражена. По диаграмме рассеивания видно, что основной процент игр получает оценки от 5,5 до 8,5 баллов. При этом отдельные популярные хиты, проданные тиражем в несколько миллионов, имеются и среди игр с низкой оценкой пользователя, и среди игр с высокими оценками. Коэффицтент Пирсона, -0.04,  так же свидетельствует о том, что взаимосвязь отсутствует.\n",
    "\n",
    "Посмотрим, как обстоят дела с оценками для других платформ."
   ]
  },
  {
   "cell_type": "code",
   "execution_count": 27,
   "metadata": {},
   "outputs": [
    {
     "name": "stdout",
     "output_type": "stream",
     "text": [
      "Платформа 3DS\n",
      "Коэффициент корреляции: critic_score 0.28\n",
      "Коэффициент корреляции: user_score 0.28\n"
     ]
    },
    {
     "data": {
      "image/png": "[encoded data removed]",
      "text/plain": [
       "<Figure size 432x288 with 1 Axes>"
      ]
     },
     "metadata": {
      "needs_background": "light"
     },
     "output_type": "display_data"
    },
    {
     "data": {
      "image/png": "[encoded data removed]",
      "text/plain": [
       "<Figure size 432x288 with 1 Axes>"
      ]
     },
     "metadata": {
      "needs_background": "light"
     },
     "output_type": "display_data"
    },
    {
     "name": "stdout",
     "output_type": "stream",
     "text": [
      "--------------------------------\n",
      "Платформа PC\n",
      "Коэффициент корреляции: critic_score 0.17\n",
      "Коэффициент корреляции: user_score -0.09\n"
     ]
    },
    {
     "data": {
      "image/png": "[encoded data removed]",
      "text/plain": [
       "<Figure size 432x288 with 1 Axes>"
      ]
     },
     "metadata": {
      "needs_background": "light"
     },
     "output_type": "display_data"
    },
    {
     "data": {
      "image/png": "[encoded data removed]",
      "text/plain": [
       "<Figure size 432x288 with 1 Axes>"
      ]
     },
     "metadata": {
      "needs_background": "light"
     },
     "output_type": "display_data"
    },
    {
     "name": "stdout",
     "output_type": "stream",
     "text": [
      "--------------------------------\n",
      "Платформа PSV\n",
      "Коэффициент корреляции: critic_score 0.04\n",
      "Коэффициент корреляции: user_score 0.02\n"
     ]
    },
    {
     "data": {
      "image/png": "[encoded data removed]",
      "text/plain": [
       "<Figure size 432x288 with 1 Axes>"
      ]
     },
     "metadata": {
      "needs_background": "light"
     },
     "output_type": "display_data"
    },
    {
     "data": {
      "image/png": "[encoded data removed]",
      "text/plain": [
       "<Figure size 432x288 with 1 Axes>"
      ]
     },
     "metadata": {
      "needs_background": "light"
     },
     "output_type": "display_data"
    },
    {
     "name": "stdout",
     "output_type": "stream",
     "text": [
      "--------------------------------\n",
      "Платформа XOne\n",
      "Коэффициент корреляции: critic_score 0.42\n",
      "Коэффициент корреляции: user_score -0.09\n"
     ]
    },
    {
     "data": {
      "image/png": "[encoded data removed]",
      "text/plain": [
       "<Figure size 432x288 with 1 Axes>"
      ]
     },
     "metadata": {
      "needs_background": "light"
     },
     "output_type": "display_data"
    },
    {
     "data": {
      "image/png": "[encoded data removed]",
      "text/plain": [
       "<Figure size 432x288 with 1 Axes>"
      ]
     },
     "metadata": {
      "needs_background": "light"
     },
     "output_type": "display_data"
    },
    {
     "name": "stdout",
     "output_type": "stream",
     "text": [
      "--------------------------------\n"
     ]
    }
   ],
   "source": [
    "for name in ['3DS', 'PC', 'PSV', 'XOne']:\n",
    "    print(\"Платформа\", name)\n",
    "    \n",
    "    for score in ['critic_score', 'user_score']:\n",
    "        print('Коэффициент корреляции:', score, (\n",
    "        data_games_actual_filt.loc[data_games_actual_filt['platform'] == name]['total_sales']\n",
    "        .corr(data_games_actual_filt[score]))\n",
    "        .round(2)\n",
    "         )\n",
    "        (\n",
    "        data_games_actual_filt.loc[data_games_actual_filt['platform'] == name]\n",
    "        .sort_values(by='total_sales')\n",
    "        .plot(x=score, y='total_sales', kind='scatter', title=score, grid=True, alpha=0.3)\n",
    "    )\n",
    "    plt.show()\n",
    "    print('--------------------------------')\n",
    "   \n"
   ]
  },
  {
   "cell_type": "markdown",
   "metadata": {},
   "source": [
    "Как видно из построенных диаграм, ситуация для остальных платформ схожа c ситуацией для платформы PS4. Оценки критиков крайне редко имеют значения ниже 50, а оценки пользователей - менее 5.\n",
    "\n",
    "При этом, консоли PC и PSV имеют наиболее близкий к 0 коэффициент Пирсона, и наименее выраженную взаимосвязь между любыми оценками и объемом продаж. А платформа XOne - наиболее близкий к коэффициенту платформы PS4, 0.4,  и похожее распределение значений: основной процент игр продается в количестве, непревышаемом 1 миллион копий. И лишь единичные экзампляры были проданы в кол-ве нескольких миллионов, они, так же как и на PS4, имеют рейтинги от 70 до 90."
   ]
  },
  {
   "cell_type": "markdown",
   "metadata": {},
   "source": [
    "Объемы продаж большинства игр за последние два года не превышает миллиона копий в год. В этот период так же было выпущено небольшое количество особо популярных игр, продажи которых сильно превышают обычные показатели и составляют несколько миллионов. Однако, это, скорее, единичные хиты, которые стали исключением.\n",
    "\n",
    "Так же, исследование показало, что, при наличии, оценки критиков варьируются в диапозоне от 50 до 90 баллов, а пользователи редко оценивают игры ниже 5 баллов. При этом, для платформ PS4 и XOne можно говорить о средней взаимосвязи между оценками критиков и объемом продаж игр (коэффицент корреляции этих показателей составляет 0.4), в то время , как для остальных платформ оценки критиков не оказывают существенного влияния на принятие решения о покупке той или иной игры. Так же как и оценки пользователей, что справедливо для любой из пяти актуальных платформ."
   ]
  },
  {
   "cell_type": "markdown",
   "metadata": {},
   "source": [
    "### 3.4 Исследование популярности жанров <a class=\"anchor\" id=\"3.4\"></a>"
   ]
  },
  {
   "cell_type": "markdown",
   "metadata": {},
   "source": [
    "Изучим общее распределение игр по жанрам за последние 2 года: посморим на количество выпущенных игр, объемы продаж по каждому жанру и среднее количество проданных копий для игр в каждом жанре."
   ]
  },
  {
   "cell_type": "code",
   "execution_count": 28,
   "metadata": {
    "scrolled": true
   },
   "outputs": [
    {
     "data": {
      "image/png": "[encoded data removed]",
      "text/plain": [
       "<Figure size 504x288 with 1 Axes>"
      ]
     },
     "metadata": {
      "needs_background": "light"
     },
     "output_type": "display_data"
    },
    {
     "data": {
      "image/png": "[encoded data removed]",
      "text/plain": [
       "<Figure size 504x288 with 1 Axes>"
      ]
     },
     "metadata": {
      "needs_background": "light"
     },
     "output_type": "display_data"
    },
    {
     "data": {
      "image/png": "[encoded data removed]",
      "text/plain": [
       "<Figure size 504x288 with 1 Axes>"
      ]
     },
     "metadata": {
      "needs_background": "light"
     },
     "output_type": "display_data"
    },
    {
     "data": {
      "image/png": "[encoded data removed]",
      "text/plain": [
       "<Figure size 504x504 with 1 Axes>"
      ]
     },
     "metadata": {},
     "output_type": "display_data"
    }
   ],
   "source": [
    "#построим сводную таблицу с указанием кол-ва игр по каждому жанру, кол-во проданных игр \n",
    "#и медианное значение по кол-ву продаж каждой игры в жанре\n",
    "game_genres = (\n",
    "               data_games_actual\n",
    "              .pivot_table(index='genre', values='total_sales', aggfunc=['count','sum', 'median'])\n",
    "              .reset_index()\n",
    ")\n",
    "#изменим названия cтолбцов \n",
    "game_genres.columns = ['genre', 'games_amount', 'total_sales', 'sales_per_game']\n",
    "\n",
    "#добавим столбец с процентным отношение продаж по жанру к общему кол-ву продаж\n",
    "game_genres['proportion'] = (game_genres['total_sales'] / (game_genres['total_sales'].sum())).round(2)\n",
    "\n",
    "#построим столбчатые диаграммы по каждому столбцу games_amount, total_sales, sales_per_game\n",
    "for name in game_genres.columns[1:-1]:\n",
    "    game_genres.sort_values(by=name).plot(\n",
    "    kind='bar',\n",
    "    x='genre',\n",
    "    y=name,\n",
    "    title=name,\n",
    "    grid=True,\n",
    "    figsize=(7,4)\n",
    "    );\n",
    "\n",
    "#построим круговую диаграмму по процентному соотношению\n",
    "fig = plt.figure(figsize =(7, 7)) \n",
    "plt.pie(data=game_genres, x=game_genres['proportion'], labels =game_genres['genre'], autopct='%1.0f%%', normalize=False);"
   ]
  },
  {
   "cell_type": "markdown",
   "metadata": {},
   "source": [
    "Наиболее популярным жанром для компьютерных игр, судя по графикам, является жанр Action. Продажи игр в жанре Action составляют 28% от объема продаж всех игр. Кол-во выпущенных игр этого жанра так же наибольшее - 460 шт. за 2 года. Однако, можно заметить, что средние значения продаж по каждой игре отдельно невелики и не доходят даже до 100000 копий. Таким образом, можно сказать, что жанр action \"берет количеством\", т.е. объемы продаж игр по этому жанру формируется не успешностью каждой игры, а их количеством.\n",
    "\n",
    "Второй по объему продаж на игровом рынке - жанр Shooter, который заполняет 25% игрового рынка, при том, что игр в этом жанре было выпущено значительно меньше - не более 100 шт. Причиной такого высоко объема продаж может стать выброс - то есть единичная супер популярная игра с большим кол-вом проданный копий, но по среднему значению продаж каждой игры мы видим, что оно намного выше аналогичного показателя в жанре action. Здесь каждая игра продается, в среднем, в количестве более полумиллиона, а значит, игры этого жанра можно назвать более популярными и успешными.\n",
    "\n",
    "Более мелкими, но все еще весомыми игроками на игровом рынке являются жанры Role-Playing, 16% от общего объема продаж, и Sports 14%. При этом игр в жанре Role-Playing было выпущено почти в два раза больше, чем спортивных игр. А показатель среднего кол-ва продаж по каждой игре у Sports достигает почти 200 тысяч, а у Role-Playing - в два раза меньше, всего 110000 копий в год.\n",
    "\n",
    "Остальные жанры имеют достаточно низкие показатели по продажам и составляют от 1 до 4% общего объема.\n",
    "\n",
    "Таким образом, можно сделать вывод, что высокого показателя по общим продажам для игры определенного жанра не достаточно для определения ее успешности. Так как высокие объемы продаж могут быть обусловлены большим количеством игр этого жанра, выпущенных на рынок, а не успешностью этих игр.\n",
    "Об успешности и популярности игры лучше судить в разрезе средних(с матем.точки зрения - медианного) значений по количеству глобальных продаж на каждую игру.\n",
    "\n",
    "Ориентируясь на эти показатели, можно сказать, что лидер по популярности - игры в жанре Shooter, где каждая игра, в среднем, находит не менее полумиллиона покупателей.\n",
    "\n",
    "К жанрам со средними показателями, от 200 до 100 тыс копий. в год, можно отнести по порядку убывания популярности - Sports, Platform, Fighting, Role-Play и Simulation.\n",
    "\n",
    "Игры, которые пользуются наименьшей популярность, продажи не превышают 100 тыс копий в год, выпускаются в жанрах Racing, Action, Misc, Strategy, Puzzle и Adventure."
   ]
  },
  {
   "cell_type": "markdown",
   "metadata": {},
   "source": [
    "### 3.5 Вывод <a class=\"anchor\" id=\"3.5\"></a>"
   ]
  },
  {
   "cell_type": "markdown",
   "metadata": {},
   "source": [
    "В ходе исследовательского анализа был определен актуальный временной период для дальнейшего исследования - данные за 2012-2016 гг. В связи с тем, что  ситуация на игровом рынке меняется очень стремительно, анализировать весь объем имеющихся данных является нецелесообразным.\n",
    "\n",
    "Так же были определены пять наиболее перспективных на 2017 год платформ. Среди них оказались '3DS', 'PC', 'PS4', 'PSV' и 'XOne'. Остальные игровые платформы либо утратили свою популярность, и на 2016 год для них уже не было выпущено ни одной игры, либо еще актуальны, но подходят к концу своего жизненного цикла. Учитывая, что каждая популярная игровая платформа имеет средний срок жизни около 9-11 лет, брать в исследование данные по платформам, продажи которых стремительно идут на спад, не является целесообразным.\n",
    " \n",
    "Кроме того, были исследованы взаимосвязи между оценками критиков/пользователей и популярностью игр. Полученные результаты показали отсутствие сильно выраженных связей между этими показателями.\n",
    "\n",
    "Среди игровых жанров самым популярным оказался жанр Shooter. Игры в жанре Shooter расходятся, в среднем, в количестве около полумиллиона копий. Следующими в ряду по популярности стоят игры в жанрах Sports, Platform, Fighting, Role-Play и Simulation. Здесь среднее количество проданных копи каждой игры составляет 100-200 тысяч копий. Наименьшей популярностью пользуются жанры Racing, Action, Misc, Strategy, Puzzle и Adventure, продажи игр, выпускаемых в этих жанрах, не превышают 100 тыс копий в год.\n",
    "\n",
    "При этом, нужно учитывать, что судить о популярности игр определенного жанра в разрезе количества общих продаж не совсем объективно. Так как высокие объемы продаж могут быть обусловлены большим количеством игр этого жанра, выпущенных на рынок, а не успешностью этих игр. В связи с чем, данные об успешности и популярности игры представлены по средним значениям продаж на каждую игру."
   ]
  },
  {
   "cell_type": "markdown",
   "metadata": {},
   "source": [
    "## 4. Портрет пользователя каждого региона  <a class=\"anchor\" id=\"4\"></a>"
   ]
  },
  {
   "cell_type": "markdown",
   "metadata": {},
   "source": [
    "### 4.1 Изучение особенностей регионов  <a class=\"anchor\" id=\"4.1\"></a>"
   ]
  },
  {
   "cell_type": "markdown",
   "metadata": {},
   "source": [
    "При рассмотрении имеющихся данных можно заметить, что одна и та же игра в разных регионах мира имеет разную популярность: в Европе и Америке игра может быть продана в количестве несколько миллионов копий, в то время, как в Японии этот показатель едва достигает 100000. Причина такой ситуации - различия в предпочтениях жителей этих регионов. \n",
    "\n",
    "Рассмотрим каждый регион отдельно и определим особенности в предпочтениях у пользователей каждого региона.\n",
    "сначала изучим популярность игровых платформ в разных регионах."
   ]
  },
  {
   "cell_type": "code",
   "execution_count": 29,
   "metadata": {},
   "outputs": [
    {
     "data": {
      "image/png": "[encoded data removed]",
      "text/plain": [
       "<Figure size 432x288 with 1 Axes>"
      ]
     },
     "metadata": {
      "needs_background": "light"
     },
     "output_type": "display_data"
    }
   ],
   "source": [
    "#построим для каждого региона сводную талицу с медианными значениями продаж по каждой игре\n",
    "pivot_na_sales = data_games_actual.pivot_table(index='platform', values='na_sales', aggfunc='median')\n",
    "pivot_eu_sales = data_games_actual.pivot_table(index='platform', values='eu_sales', aggfunc='median')\n",
    "pivot_jp_sales = data_games_actual.pivot_table(index='platform', values='jp_sales', aggfunc='median')\n",
    "\n",
    "#объединим полученные данные в одну таблицу и построим столбчатую диаграмму\n",
    "pivot_na_sales.join([pivot_eu_sales, pivot_jp_sales]).reset_index().plot(x=\"platform\", kind='bar')\n",
    "plt.xlabel(\"платформы\")\n",
    "plt.ylabel(\"среднее кол-во проданных копий каждой игры, млн\")\n",
    "plt.title('Популярность платформ в разных регионам');"
   ]
  },
  {
   "cell_type": "markdown",
   "metadata": {},
   "source": [
    "Запад и Восток - как два разных мира. Это утверждение абсолютно точно описывает ситуацию на полученном графике, где отчетливо видна разница в предпочтениях по игровым платформам в разных регионах мира. \n",
    "\n",
    "В Северной Америке пользователи предпочитаю платформы PS4 и XOne. Игры на этих платформах имеют, в среднем, наибольший объем продаж,  в то время, как игры на остальных платформах имеют крайне низкие продажи, неотражающиеся на графике.\n",
    "\n",
    "В Стране Восходящего Солнца ситуация противоположная. Игры на платформах PS4 и XOne пользуются крайне низким спросом, а основной процент продаж идет с платформ 3DS и PSV.\n",
    "\n",
    "Страны Европы по своим предпочтениям ближе к пользователям из Северной Америке. PS4 и XOne здесь так же в явных лидерах. Кроме того, европейцы не обходят сторойно игры, выпущенные для персональных компьютеров(PC).\n",
    "\n",
    "Посмотрим на жанровые предпочтение у пользователей из каждого региона."
   ]
  },
  {
   "cell_type": "code",
   "execution_count": 30,
   "metadata": {},
   "outputs": [
    {
     "data": {
      "image/png": "[encoded data removed]",
      "text/plain": [
       "<Figure size 432x288 with 1 Axes>"
      ]
     },
     "metadata": {
      "needs_background": "light"
     },
     "output_type": "display_data"
    },
    {
     "data": {
      "image/png": "[encoded data removed]",
      "text/plain": [
       "<Figure size 432x288 with 1 Axes>"
      ]
     },
     "metadata": {
      "needs_background": "light"
     },
     "output_type": "display_data"
    },
    {
     "data": {
      "image/png": "[encoded data removed]",
      "text/plain": [
       "<Figure size 432x288 with 1 Axes>"
      ]
     },
     "metadata": {
      "needs_background": "light"
     },
     "output_type": "display_data"
    }
   ],
   "source": [
    "#построим для каждого региона сводную талицу с медианными значениями продаж по каждой игре по жанрам \n",
    "#отсортируем таблицу по убыванию значений и построим диаграмму по первым пяти\n",
    "\n",
    "for region in['na_sales', 'eu_sales', 'jp_sales']:\n",
    "    (\n",
    "        data_games_actual\n",
    "        .pivot_table(index='genre', values=region, aggfunc='median').reset_index()\n",
    "        .sort_values(by=region, ascending=False)[:5]\n",
    "        .plot(kind='bar', x='genre', y=region, title= region, grid=True)  \n",
    "    )\n",
    "    plt.ylabel(\"среднее кол-во проданных копий каждой игры, млн\");"
   ]
  },
  {
   "cell_type": "markdown",
   "metadata": {},
   "source": [
    "По полученным результатам можно еще раз убедиться, что пользователи из Северной Америки и Европы очень похожи в своих предпочтениях. Как и с выбором игровых платформ, выбор наиболее интересных жанров для этих регионов совпадает. В ТОП-5 популярных жанров здесь попадают жанры Shooter, Sports, Racing, Platform и Fighting. Причем Shooter'ы лидируют в обоих регионах с большим отрывом от других жанров, имея около 250000 проданных копий каждой игры. В отношении остальных членов пятерки лидеров распределение предпочтений немного отличается, однако в обоих регионах средний объем продаж по каждой игре не превышает 60000 копий.\n",
    "\n",
    "Совершенна непохожая ситуация складывается на игровом рынке в Японии. Здесь самыми популярными жанрами являются Role-Playing, Fighting, Puzzle, Misc и Action. При этом разрыв между показателями по каждому жанру примерно одинаковый.\n",
    "\n",
    "Оценим влияние рейтинга организации ESRB на принятие решения о покупке игр в каждом регионе."
   ]
  },
  {
   "cell_type": "code",
   "execution_count": 31,
   "metadata": {},
   "outputs": [
    {
     "data": {
      "image/png": "[encoded data removed]",
      "text/plain": [
       "<Figure size 432x288 with 1 Axes>"
      ]
     },
     "metadata": {
      "needs_background": "light"
     },
     "output_type": "display_data"
    }
   ],
   "source": [
    "#построим графики и посмотрим взаимосвязь рейтинга и продаж игры\n",
    "(\n",
    "data_games_actual\n",
    ".pivot_table(index='rating', values=(['na_sales', 'eu_sales', 'jp_sales']), aggfunc='median')\n",
    ".reset_index()\n",
    ".plot(x=\"rating\", kind='bar', grid=True)\n",
    ")\n",
    "plt.ylabel(\"среднее кол-во проданных копий каждой игры, млн\")\n",
    "plt.xlabel(\"рейтинг ESRB\")\n",
    "plt.title(\"Взаимосвязь рейтинга ESRB и продаж игр\");"
   ]
  },
  {
   "cell_type": "markdown",
   "metadata": {},
   "source": [
    "Как видно на графике, японские пользователи крайне редко интересуются рейтингом ESRB, большинство продаваемых здесь игр не имеют вышеуказанного рейтинга. Это вполне объяснимо - в Японии существует своя система возрастных рейтингов и своя организация, отвечающая за их определение. \n",
    "\n",
    "В Северной Америке и странах Европы рейтинг организации ESRB более уважаем и является дополнительным критерием для пользователя при выборе игры. Абсолютное большинство проданных здесь игр имеет знак одной из возрастных категорий, в то время, как игры, не имеющие рейтинга, крайне непопулярны."
   ]
  },
  {
   "cell_type": "markdown",
   "metadata": {},
   "source": [
    "### 4.2 Вывод  <a class=\"anchor\" id=\"4.2\"></a>"
   ]
  },
  {
   "cell_type": "markdown",
   "metadata": {},
   "source": [
    "По полученным данным можно утверждать, что портрет пользователя в Японии значительно отличается от портрета пользо\n",
    "вателей двух других регионов. Наиболее популярными игровыми консолями здесь являются платформы 3DS и PSV. Среди самых любимых жанров можно выделить Role-Playing, Fighting, Puzzle, Misc и Action, а рейтинг игры от организации ESRB, при этом, не имеет для японцев значения.\n",
    "\n",
    "Игроки в Северной Америке имеют иные предпочтения, схожие с игроками из европейских стран. Абсолютным лидером среди игровых жанров в этих регионах является жанр Shooter, далее по популярности идут жанры Sports, Racing, Platform и Fighting. При этом, здесь ценятся игры на платформах PS4 и XOne с определенными рейтингами ESRB.\n",
    "Для европейских пользователей так же актуальны игры для персонального компьютера (PC)."
   ]
  },
  {
   "cell_type": "markdown",
   "metadata": {},
   "source": [
    "## 5. Проверка гипотез <a class=\"anchor\" id=\"5\"></a>"
   ]
  },
  {
   "cell_type": "markdown",
   "metadata": {},
   "source": [
    "Изучим рейтинги платформ и жанров, сравним средние пользовательские оценки и проверим две гипотезы:\n",
    "- средние пользовательские рейтинги платформ Xbox One и PC одинаковые;\n",
    "- средние пользовательские рейтинги жанров \"Action\" и \"Sports\" разные.\n",
    "\n",
    "**Проверим первау гипотезу.**\n",
    "\n",
    "Сформулируем статистические гипотезы следующим образом.\n",
    "\n",
    "\n",
    "Нулевая гипотеза:\n",
    "**\"Средние пользовательские рейтинги платформ Xbox One и PC равны\"**.\n",
    "\n",
    "Так как нам не важна разница в рейтингах, а интересует именно равенство между показателями, альтернативная гипотеза будет звучать следующим образом: \n",
    "**\"Средние пользовательские рейтинги платформ Xbox One и PC не равны\"**."
   ]
  },
  {
   "cell_type": "code",
   "execution_count": 32,
   "metadata": {},
   "outputs": [
    {
     "name": "stdout",
     "output_type": "stream",
     "text": [
      "p-значение: 0.11601398086668827\n",
      "Не получилось отвергнуть нулевую гипотезу\n"
     ]
    }
   ],
   "source": [
    "#импортируем библиотеку\n",
    "from scipy import stats as st\n",
    "\n",
    "#зададим критический уровень статистической значимости\n",
    "alpha = 0.05 \n",
    "\n",
    "\n",
    "results = st.ttest_ind(\n",
    "    data_games_actual.query('platform == \"XOne\" and user_score != -1')['user_score'], \n",
    "    data_games_actual.query('platform == \"PC\" and user_score != -1')['user_score'],\n",
    "    equal_var = False\n",
    "    )\n",
    "\n",
    "print('p-значение:', results.pvalue)\n",
    "\n",
    "#сравним получившееся p-значение с заданным уровнем статистической значимости\n",
    "if results.pvalue < alpha:\n",
    "    print(\"Отвергаем нулевую гипотезу\")\n",
    "else:\n",
    "    print(\"Не получилось отвергнуть нулевую гипотезу\") \n"
   ]
  },
  {
   "cell_type": "markdown",
   "metadata": {},
   "source": [
    "Согласно полученным результатам, учитывая уровень значимости 5%, оснований отвергнуть нулевую гипотезу в пользу альтернативной нет.\n",
    "    \n",
    "Мы можем сказать, что наша первая гипотеза \"Средние пользовательские рейтинги платформ Xbox One и PC одинаковые\" подтвердилась."
   ]
  },
  {
   "cell_type": "markdown",
   "metadata": {},
   "source": [
    "**Проверим втораю гипотезу.**\n",
    "\n",
    "Сформулируем статистические гипотезы следующим образом.\n",
    "\n",
    "Нулевая гипотеза: **\"Средние пользовательские рейтинги жанров Action и Sports равны\".**\n",
    "\n",
    "Аналогично первой гипотезе, нас не интересует разница в рейтингах, поэтому альтернативная гипотеза будет сформулирована следующим образом: **\"Средние пользовательские рейтинги жанров Action и Sports не равны\"**"
   ]
  },
  {
   "cell_type": "code",
   "execution_count": 33,
   "metadata": {},
   "outputs": [
    {
     "name": "stdout",
     "output_type": "stream",
     "text": [
      "p-значение: 2.1668116215949855e-08\n",
      "Отвергаем нулевую гипотезу\n"
     ]
    }
   ],
   "source": [
    "results = st.ttest_ind(\n",
    "    data_games_actual.query('genre == \"Sports\" and user_score != -1')['user_score'], \n",
    "    data_games_actual.query('genre == \"Action\" and user_score != -1')['user_score'],\n",
    "    equal_var = False\n",
    "    )\n",
    "\n",
    "print('p-значение:', results.pvalue)\n",
    "\n",
    "#сравним получившееся p-значение с заданным уровнем статистической значимости\n",
    "if results.pvalue < alpha:\n",
    "    print(\"Отвергаем нулевую гипотезу\")\n",
    "else:\n",
    "    print(\"Не получилось отвергнуть нулевую гипотезу\") "
   ]
  },
  {
   "cell_type": "markdown",
   "metadata": {},
   "source": [
    "По полученным результатам нам не удалось подвердить нулевую гипотезу. В связи с чем мы отклоняем нулевую гипотезу о равенстве рейтингов жанров Sport и Action в пользу выдвинутой альтернативной гипотезы.\n",
    "\n",
    "Таким образом, можно утверждать, что наша вторая проверяемая гипотеза \"Средние пользовательские рейтинги жанров \"Action\" и \"Sports\" разные\" так же подтвердилась."
   ]
  },
  {
   "cell_type": "markdown",
   "metadata": {},
   "source": [
    "### 5.1 Вывод <a class=\"anchor\" id=\"5.1\"></a>"
   ]
  },
  {
   "cell_type": "markdown",
   "metadata": {},
   "source": [
    "Для проверки двух гипотез \"Средние пользовательские рейтинги платформ Xbox One и PC одинаковые\" и \"Средние пользовательские рейтинги жанров \"Action\" и \"Sports\" разные\" мы использовали t-тест для сравнения средних двух независимых друг от друга совокупностей.\n",
    "\n",
    "В связи с тем, что нулевая гипотеза всегда формируется так, что бы все данные лежали в районе изначально предполагаемого значения, то есть с использованием знака равенства, то в обоих наших случаях нулевые гипотезы звучали как \"Средние пользовательские рейтинги равны\".\n",
    "\n",
    "При этом, при проверке первой гипотезы нулевая статистическая гипотеза не была отвергнута. Что говорит о том, что наша гипотеза \"Средние пользовательские рейтинги платформ Xbox One и PC одинаковые\" подтверждается.\n",
    "\n",
    "Во втором же случае мы отвергли нулевую гипотезу о равенстве рейтингов в пользу альтернативной статистической гипотезы, которая звучала как \"Средние пользовательские рейтинги жанров Action и Sports не равны\". Что так же говорит о том, что наша вторая гипотеза подтвердилась."
   ]
  },
  {
   "cell_type": "markdown",
   "metadata": {},
   "source": [
    "## 6. Итоги исследования <a class=\"anchor\" id=\"6\"></a>"
   ]
  },
  {
   "cell_type": "markdown",
   "metadata": {},
   "source": [
    "Нами были изучены данные о компьютерных играх за период с 1980х до 2016 года, взятые из открытых источников.\n",
    "\n",
    "В ходе исследования мы:\n",
    "- определили актуальный для анализа временной период;\n",
    "- определили список актуальных на исследуемый период времени игровых платформ;\n",
    "- проанализировали особенности продаж внутри каждой платформы;\n",
    "- выявили наиболее популярные жанры игр;\n",
    "- описали портрет пользователя в каждом из регионов продаж;\n",
    "- проверили заявленные гипотезы.\n",
    "\n",
    "Изучение полученных данных показало, что любая из игровых консолей имеет ограниченный жизненный срок. Даже если платформа была особо популярна среди пользователей и производителей игр, срок популярности, а другими словами - срок ее жизни, составляет в среднем 9-12 лет. Единственный \"долгожитель\" среди всех изученных игровых платформ - персональный компьютер, который не теряет актуальности с момента массовой популяризации.\n",
    "\n",
    "Кроме того, ***ситуация на игровом рынке так же меняется достаточно стремительно***, и одни и те же показатели одного года могут критически отличаться от аналогичных показательный спустя всего один год.\n",
    "\n",
    "Так, период с 1980 по 1990 гг характеризуется отсутствием какой-либо динамики в объемах выпускаемых компьютерных игр, с 1990 года этот показатель плавно начинает расти, а в 2000 - наблюдается резкий скачок, за которым последовал активный рост числа выпускаемых игр. Расцвет игровой индустрии приходится на период с 2006 по 2011 годы, когда каждый год в свет выходило более 1000 новых компьютерных игр. \n",
    "\n",
    "Однако, экономический и финансовый мировые кризисы 2008 года не обошли стороной и это направление. Уже в 2009 году начинается достаточно быстрый спад в объемах выпускаемой продукции, и всего за три года, к 2012 году, количество выпускаемых игр составляло всего лишь половину от былого объема. Цифра в 500-600 игр в год актуальна для всего периода 2014-2016 гг.\n",
    "\n",
    "***Учитывая жизненный срок игровых платформ и темпы изменений на игровом рынке,  наиболее целесообразно для анализа данных рассматривать только информацию за 2014-2016 года. В противном случае, прогнозы, сформированные на данных за более ранний период времени, могут привести  приведут к заведомо провальной маркетинговой кампании в условиях современных мировых реалий.***\n",
    "\n",
    "Исследование последних трех лет так же показало, что эпоха игровых консолий уходит в прошлое. Уже сейчас на игровом рынке нет игровых платформ, которые находятся на стадии наращивания объемов продаж по играм для них. Существующие на настоящий момент платформы, WiiU, 3DS, PC, PS4, PSV и XOne, уже перешагнули свой пиковый этап, когда объемы продаж игр составляли несколько десятков тысяч, и находятся на пути к завершению своего жизненного цикла. Из них только 5 платформ можно рассматривать как потенциально прибыльные на будущий 2017 год. Это 3DS, PC, PS4, PSV и XOne. Платформа WiiU, с большой вероятность, проживет еще 1-2 года. Но прогнозируемые объемы продаж игр для нее не представляют дальнейшего интереса.\n",
    "\n",
    "Если рассматривать продажи игр за актуальный период внутри каждой из платформ, то можно сказать, что <span style=\"color:orange\">**объемы продаж большинства игр за последние два года не превышает 1.5 миллиона копий в год**</span>. В этот период так же было выпущено небольшое количество особо популярных игр, продажи которых сильно превышают обычные показатели и составляют несколько миллионов. Однако, это, скорее, единичные хиты, которые стали исключением.\n",
    "\n",
    "Так же, исследование показало, что, при наличии, оценки критиков варьируются в диапозоне от 50 до 90 баллов, а пользователи редко оценивают игры ниже 5 баллов. При этом, для платформ PS4 и XOne можно говорить о средней взаимосвязи между оценками критиков и объемом продаж игр (коэффицент корреляции этих показателей составляет 0.4), в то время , как для остальных платформ оценки критиков не оказывают существенного влияния на принятие решения о покупке той или иной игры. Так же как и оценки пользователей, что справедливо для любой из пяти актуальных платформ.\n",
    "\n",
    "Для определения наиболее популярных среди пользователей жанров нам потребовалось сравнить средние показататели по продажам каждой игры внутри исследуемого жанра. \n",
    "\n",
    "Таким образом, \n",
    "- наиболее успешным стал жанр <span style=\"color:orange\">**Shooter**</span>, где средний показатель продаж по каждой игре составил <span style=\"color:orange\">**около 500000 копий**</span>. \n",
    "- к жанрам со средними объемами продаж, <span style=\"color:orange\">**от 200 до 100 тыс копий**</span> в год, можно отнести по порядку убывания популярности - <span style=\"color:orange\">**Sports, Platform, Fighting, Role-Play и Simulation**</span>\n",
    "- игры, которые пользуются наименьшей популярность, продажи <span style=\"color:orange\">**не превышают 100 тыс копий**</span> в год, выпускаются в жанрах <span style=\"color:orange\">**Racing, Action, Misc, Strategy, Puzzle и Adventure**</span>. \n",
    "\n",
    "Кроме того, важно отметить, что о популярности и успешности жанра не стоит судить по общему количеству проданных игр. Ведь даже одна игры, сильно выбивающаяся по популярности, может исказить результат исследования. Так же, причиной большого количества проданных игр может стать тот факт, что игр в данном жанре, в приниципе, выпускается значенительно больше, чем игр в других жанрах. Однако, не всегда количество говорит о том, что игры пользуются польшой популярностью.\n",
    "\n",
    "Так, игры жанра Action составляют 28% от общего объема продаж именно за счет кол-ва выпущенных на рынок игр, в то время, как каждая из них расходится в кол-ве не более 100000 копий.\n",
    "\n",
    "Нами так же были ***выявлены важные отличия портретов пользователей в странах Европы и Америки и пользователей из Японии.*** \n",
    "\n",
    "Отличия заключаются в разных предпочтениях по игровым плвтформам: 3DS и PSV - для Японии, и PS4 и XOne - для жителей Северной Америки и Европы.\n",
    "\n",
    "При этом жанры, популярные в Японии - это Role-Playing, Fighting, Puzzle, Misc и Action, в то время, как оба других региона предпочитают жанры Shooter, Sports, Racing, Platform и Fighting. Еще один важный критерий для европейцев и американцев - это волзрастной рейтинг ESRB. Дkя японских пользователей этот рецтингне не имеет значения, так как в их стране есть своя организация, определяющая возрастные рейтинги видеоирг.\n",
    "\n",
    "Таким образом, можно сделать вывод, что <span style=\"color:orange\">**2017-2018 года могут стать последними для существующих самостоятельных игровых платформ.**</span> Возможно, наиболее целосообразным будет постепенное смещение фокуса деятельности магазина на мобильные и сетевые компьютерные игры. Так как, даже при условии удовлетворения потребностей игроков из разных регионов мира, общий объем выпускаемых игр и продаваемых копий стабильно идет на спад. \n",
    "\n",
    "\n",
    "\n"
   ]
  },
  {
   "cell_type": "markdown",
   "metadata": {},
   "source": [
    "[К оглавлению.](#end)"
   ]
  }
 ],
 "metadata": {
  "ExecuteTimeLog": [
   {
    "duration": 598,
    "start_time": "2022-10-31T11:17:07.610Z"
   },
   {
    "duration": 81,
    "start_time": "2022-10-31T11:18:01.872Z"
   },
   {
    "duration": 79,
    "start_time": "2022-10-31T11:24:50.302Z"
   },
   {
    "duration": 77,
    "start_time": "2022-10-31T11:27:30.558Z"
   },
   {
    "duration": 76,
    "start_time": "2022-10-31T11:27:33.236Z"
   },
   {
    "duration": 70,
    "start_time": "2022-10-31T11:40:08.098Z"
   },
   {
    "duration": 17,
    "start_time": "2022-10-31T11:40:29.773Z"
   },
   {
    "duration": 17,
    "start_time": "2022-10-31T11:43:01.351Z"
   },
   {
    "duration": 9,
    "start_time": "2022-10-31T11:44:25.609Z"
   },
   {
    "duration": 11,
    "start_time": "2022-10-31T11:44:47.488Z"
   },
   {
    "duration": 4,
    "start_time": "2022-10-31T11:54:54.259Z"
   },
   {
    "duration": 4,
    "start_time": "2022-10-31T11:55:12.046Z"
   },
   {
    "duration": 6,
    "start_time": "2022-10-31T11:55:19.229Z"
   },
   {
    "duration": 7,
    "start_time": "2022-10-31T11:56:44.007Z"
   },
   {
    "duration": 17,
    "start_time": "2022-10-31T11:59:24.107Z"
   },
   {
    "duration": 5,
    "start_time": "2022-10-31T11:59:33.674Z"
   },
   {
    "duration": 1090,
    "start_time": "2022-10-31T12:07:12.605Z"
   },
   {
    "duration": 766,
    "start_time": "2022-10-31T12:07:50.658Z"
   },
   {
    "duration": 508,
    "start_time": "2022-10-31T12:08:02.836Z"
   },
   {
    "duration": 16,
    "start_time": "2022-10-31T12:08:03.346Z"
   },
   {
    "duration": 12,
    "start_time": "2022-10-31T12:08:03.364Z"
   },
   {
    "duration": 20,
    "start_time": "2022-10-31T12:08:03.378Z"
   },
   {
    "duration": 1279,
    "start_time": "2022-10-31T12:08:22.141Z"
   },
   {
    "duration": 497,
    "start_time": "2022-10-31T12:08:50.655Z"
   },
   {
    "duration": 17,
    "start_time": "2022-10-31T12:08:51.153Z"
   },
   {
    "duration": 14,
    "start_time": "2022-10-31T12:08:51.172Z"
   },
   {
    "duration": 17,
    "start_time": "2022-10-31T12:08:51.187Z"
   },
   {
    "duration": 6,
    "start_time": "2022-10-31T12:08:55.385Z"
   },
   {
    "duration": 72,
    "start_time": "2022-10-31T12:23:07.566Z"
   },
   {
    "duration": 19,
    "start_time": "2022-10-31T12:23:10.626Z"
   },
   {
    "duration": 7,
    "start_time": "2022-10-31T12:23:17.511Z"
   },
   {
    "duration": 17,
    "start_time": "2022-10-31T12:27:52.712Z"
   },
   {
    "duration": 10,
    "start_time": "2022-10-31T12:29:04.616Z"
   },
   {
    "duration": 17,
    "start_time": "2022-10-31T12:30:08.141Z"
   },
   {
    "duration": 23,
    "start_time": "2022-10-31T14:16:01.169Z"
   },
   {
    "duration": 17,
    "start_time": "2022-10-31T14:16:53.864Z"
   },
   {
    "duration": 8,
    "start_time": "2022-10-31T14:17:18.485Z"
   },
   {
    "duration": 25,
    "start_time": "2022-10-31T14:17:39.580Z"
   },
   {
    "duration": 13,
    "start_time": "2022-10-31T14:19:50.003Z"
   },
   {
    "duration": 4,
    "start_time": "2022-10-31T14:20:02.585Z"
   },
   {
    "duration": 13,
    "start_time": "2022-10-31T14:20:53.053Z"
   },
   {
    "duration": 6,
    "start_time": "2022-10-31T14:21:15.506Z"
   },
   {
    "duration": 22,
    "start_time": "2022-10-31T14:21:22.125Z"
   },
   {
    "duration": 475,
    "start_time": "2022-10-31T14:23:45.646Z"
   },
   {
    "duration": 20,
    "start_time": "2022-10-31T14:24:31.807Z"
   },
   {
    "duration": 26,
    "start_time": "2022-10-31T14:24:37.202Z"
   },
   {
    "duration": 11,
    "start_time": "2022-10-31T14:24:43.616Z"
   },
   {
    "duration": 10,
    "start_time": "2022-10-31T14:25:21.632Z"
   },
   {
    "duration": 22,
    "start_time": "2022-10-31T14:25:25.375Z"
   },
   {
    "duration": 27,
    "start_time": "2022-10-31T14:32:01.881Z"
   },
   {
    "duration": 23,
    "start_time": "2022-10-31T14:33:30.983Z"
   },
   {
    "duration": 24,
    "start_time": "2022-10-31T14:37:05.136Z"
   },
   {
    "duration": 17,
    "start_time": "2022-10-31T14:45:56.487Z"
   },
   {
    "duration": 7,
    "start_time": "2022-10-31T14:59:11.405Z"
   },
   {
    "duration": 18,
    "start_time": "2022-10-31T14:59:43.154Z"
   },
   {
    "duration": 22,
    "start_time": "2022-10-31T14:59:55.901Z"
   },
   {
    "duration": 530,
    "start_time": "2022-11-01T11:16:21.714Z"
   },
   {
    "duration": 14,
    "start_time": "2022-11-01T11:16:22.246Z"
   },
   {
    "duration": 6,
    "start_time": "2022-11-01T11:16:22.262Z"
   },
   {
    "duration": 26,
    "start_time": "2022-11-01T11:16:22.269Z"
   },
   {
    "duration": 460,
    "start_time": "2022-11-01T11:16:22.297Z"
   },
   {
    "duration": 17,
    "start_time": "2022-11-01T11:16:22.759Z"
   },
   {
    "duration": 16,
    "start_time": "2022-11-01T11:16:22.778Z"
   },
   {
    "duration": 32,
    "start_time": "2022-11-01T11:16:22.796Z"
   },
   {
    "duration": 168,
    "start_time": "2022-11-01T11:16:22.830Z"
   },
   {
    "duration": 12,
    "start_time": "2022-11-01T11:27:59.833Z"
   },
   {
    "duration": 15,
    "start_time": "2022-11-01T11:28:28.702Z"
   },
   {
    "duration": 1489,
    "start_time": "2022-11-01T11:28:47.674Z"
   },
   {
    "duration": 17,
    "start_time": "2022-11-01T11:29:14.881Z"
   },
   {
    "duration": 11,
    "start_time": "2022-11-01T11:29:26.137Z"
   },
   {
    "duration": 28,
    "start_time": "2022-11-01T11:37:04.326Z"
   },
   {
    "duration": 10,
    "start_time": "2022-11-01T11:48:15.847Z"
   },
   {
    "duration": 29,
    "start_time": "2022-11-01T11:49:17.989Z"
   },
   {
    "duration": 24,
    "start_time": "2022-11-01T11:49:21.944Z"
   },
   {
    "duration": 28,
    "start_time": "2022-11-01T11:49:46.470Z"
   },
   {
    "duration": 49,
    "start_time": "2022-11-01T11:59:56.657Z"
   },
   {
    "duration": 68,
    "start_time": "2022-11-01T12:11:23.806Z"
   },
   {
    "duration": 27,
    "start_time": "2022-11-01T12:17:26.288Z"
   },
   {
    "duration": 26,
    "start_time": "2022-11-01T12:18:07.954Z"
   },
   {
    "duration": 5,
    "start_time": "2022-11-01T12:23:04.760Z"
   },
   {
    "duration": 34,
    "start_time": "2022-11-01T12:23:18.720Z"
   },
   {
    "duration": 7,
    "start_time": "2022-11-01T12:23:39.656Z"
   },
   {
    "duration": 32,
    "start_time": "2022-11-01T19:49:14.966Z"
   },
   {
    "duration": 37,
    "start_time": "2022-11-01T19:52:48.644Z"
   },
   {
    "duration": 31,
    "start_time": "2022-11-01T19:55:16.983Z"
   },
   {
    "duration": 485,
    "start_time": "2022-11-01T19:57:31.832Z"
   },
   {
    "duration": 17,
    "start_time": "2022-11-01T19:57:32.319Z"
   },
   {
    "duration": 19,
    "start_time": "2022-11-01T19:57:32.339Z"
   },
   {
    "duration": 19,
    "start_time": "2022-11-01T19:57:32.361Z"
   },
   {
    "duration": 344,
    "start_time": "2022-11-01T19:57:32.382Z"
   },
   {
    "duration": 29,
    "start_time": "2022-11-01T19:57:32.728Z"
   },
   {
    "duration": 12,
    "start_time": "2022-11-01T19:57:32.759Z"
   },
   {
    "duration": 84,
    "start_time": "2022-11-01T19:57:32.773Z"
   },
   {
    "duration": 41,
    "start_time": "2022-11-01T19:57:32.859Z"
   },
   {
    "duration": 26,
    "start_time": "2022-11-01T19:57:32.902Z"
   },
   {
    "duration": 76,
    "start_time": "2022-11-01T19:57:32.930Z"
   },
   {
    "duration": 57,
    "start_time": "2022-11-01T19:57:33.008Z"
   },
   {
    "duration": 41,
    "start_time": "2022-11-01T19:58:05.425Z"
   },
   {
    "duration": 6,
    "start_time": "2022-11-01T19:59:07.487Z"
   },
   {
    "duration": 7,
    "start_time": "2022-11-01T20:19:22.501Z"
   },
   {
    "duration": 5,
    "start_time": "2022-11-01T20:25:25.674Z"
   },
   {
    "duration": 7,
    "start_time": "2022-11-01T20:26:15.898Z"
   },
   {
    "duration": 87,
    "start_time": "2022-11-01T20:34:03.660Z"
   },
   {
    "duration": 10,
    "start_time": "2022-11-01T20:34:16.892Z"
   },
   {
    "duration": 21,
    "start_time": "2022-11-01T20:34:31.879Z"
   },
   {
    "duration": 33,
    "start_time": "2022-11-01T20:34:44.067Z"
   },
   {
    "duration": 8,
    "start_time": "2022-11-01T20:35:37.031Z"
   },
   {
    "duration": 25,
    "start_time": "2022-11-01T20:36:16.913Z"
   },
   {
    "duration": 8,
    "start_time": "2022-11-01T20:36:27.669Z"
   },
   {
    "duration": 9,
    "start_time": "2022-11-01T20:37:41.961Z"
   },
   {
    "duration": 8,
    "start_time": "2022-11-01T20:40:08.360Z"
   },
   {
    "duration": 53,
    "start_time": "2022-11-01T20:41:27.846Z"
   },
   {
    "duration": 3,
    "start_time": "2022-11-01T20:41:43.786Z"
   },
   {
    "duration": 14,
    "start_time": "2022-11-01T20:50:09.159Z"
   },
   {
    "duration": 12,
    "start_time": "2022-11-01T20:50:14.869Z"
   },
   {
    "duration": 4,
    "start_time": "2022-11-01T20:50:23.950Z"
   },
   {
    "duration": 25,
    "start_time": "2022-11-01T20:54:02.156Z"
   },
   {
    "duration": 1741,
    "start_time": "2022-11-01T20:55:06.491Z"
   },
   {
    "duration": 46,
    "start_time": "2022-11-01T20:56:06.928Z"
   },
   {
    "duration": 52,
    "start_time": "2022-11-01T20:56:23.396Z"
   },
   {
    "duration": 42,
    "start_time": "2022-11-01T20:57:10.068Z"
   },
   {
    "duration": 29,
    "start_time": "2022-11-01T20:57:15.544Z"
   },
   {
    "duration": 8,
    "start_time": "2022-11-01T20:57:44.879Z"
   },
   {
    "duration": 33,
    "start_time": "2022-11-01T20:58:36.524Z"
   },
   {
    "duration": 35,
    "start_time": "2022-11-01T20:58:49.492Z"
   },
   {
    "duration": 6,
    "start_time": "2022-11-01T20:59:12.279Z"
   },
   {
    "duration": 52,
    "start_time": "2022-11-01T20:59:58.925Z"
   },
   {
    "duration": 127,
    "start_time": "2022-11-01T21:00:52.274Z"
   },
   {
    "duration": 34,
    "start_time": "2022-11-01T21:01:01.317Z"
   },
   {
    "duration": 25,
    "start_time": "2022-11-01T21:02:00.111Z"
   },
   {
    "duration": 30,
    "start_time": "2022-11-01T21:02:16.768Z"
   },
   {
    "duration": 8,
    "start_time": "2022-11-01T21:02:30.774Z"
   },
   {
    "duration": 52,
    "start_time": "2022-11-01T21:03:18.812Z"
   },
   {
    "duration": 38,
    "start_time": "2022-11-01T21:03:51.418Z"
   },
   {
    "duration": 43,
    "start_time": "2022-11-01T21:04:01.637Z"
   },
   {
    "duration": 55,
    "start_time": "2022-11-01T21:04:26.538Z"
   },
   {
    "duration": 41,
    "start_time": "2022-11-01T21:04:33.987Z"
   },
   {
    "duration": 5,
    "start_time": "2022-11-01T21:05:12.567Z"
   },
   {
    "duration": 20,
    "start_time": "2022-11-01T21:05:16.133Z"
   },
   {
    "duration": 4,
    "start_time": "2022-11-01T21:05:22.006Z"
   },
   {
    "duration": 11,
    "start_time": "2022-11-01T21:05:28.132Z"
   },
   {
    "duration": 15,
    "start_time": "2022-11-01T21:06:02.893Z"
   },
   {
    "duration": 11,
    "start_time": "2022-11-01T21:06:18.460Z"
   },
   {
    "duration": 9,
    "start_time": "2022-11-01T21:09:54.596Z"
   },
   {
    "duration": 10,
    "start_time": "2022-11-01T21:10:16.157Z"
   },
   {
    "duration": 5,
    "start_time": "2022-11-01T21:24:46.478Z"
   },
   {
    "duration": 31,
    "start_time": "2022-11-01T21:24:53.715Z"
   },
   {
    "duration": 52,
    "start_time": "2022-11-01T21:26:00.627Z"
   },
   {
    "duration": 45,
    "start_time": "2022-11-01T21:26:04.051Z"
   },
   {
    "duration": 22,
    "start_time": "2022-11-01T21:26:10.044Z"
   },
   {
    "duration": 24,
    "start_time": "2022-11-01T21:26:14.047Z"
   },
   {
    "duration": 509,
    "start_time": "2022-11-02T07:29:47.144Z"
   },
   {
    "duration": 18,
    "start_time": "2022-11-02T07:29:47.655Z"
   },
   {
    "duration": 6,
    "start_time": "2022-11-02T07:29:47.675Z"
   },
   {
    "duration": 28,
    "start_time": "2022-11-02T07:29:47.682Z"
   },
   {
    "duration": 332,
    "start_time": "2022-11-02T07:29:47.713Z"
   },
   {
    "duration": 18,
    "start_time": "2022-11-02T07:29:48.047Z"
   },
   {
    "duration": 17,
    "start_time": "2022-11-02T07:29:48.068Z"
   },
   {
    "duration": 80,
    "start_time": "2022-11-02T07:29:48.087Z"
   },
   {
    "duration": 7,
    "start_time": "2022-11-02T07:29:48.169Z"
   },
   {
    "duration": 14,
    "start_time": "2022-11-02T07:29:48.177Z"
   },
   {
    "duration": 16,
    "start_time": "2022-11-02T07:29:48.192Z"
   },
   {
    "duration": 35,
    "start_time": "2022-11-02T07:29:48.209Z"
   },
   {
    "duration": 9,
    "start_time": "2022-11-02T07:29:48.246Z"
   },
   {
    "duration": 27,
    "start_time": "2022-11-02T07:29:48.259Z"
   },
   {
    "duration": 110,
    "start_time": "2022-11-02T07:29:48.288Z"
   },
   {
    "duration": 22,
    "start_time": "2022-11-02T07:31:54.482Z"
   },
   {
    "duration": 508,
    "start_time": "2022-11-02T07:32:04.456Z"
   },
   {
    "duration": 18,
    "start_time": "2022-11-02T07:32:04.967Z"
   },
   {
    "duration": 25,
    "start_time": "2022-11-02T07:32:04.987Z"
   },
   {
    "duration": 42,
    "start_time": "2022-11-02T07:32:05.020Z"
   },
   {
    "duration": 394,
    "start_time": "2022-11-02T07:32:05.065Z"
   },
   {
    "duration": 24,
    "start_time": "2022-11-02T07:32:05.463Z"
   },
   {
    "duration": 40,
    "start_time": "2022-11-02T07:32:05.489Z"
   },
   {
    "duration": 104,
    "start_time": "2022-11-02T07:32:05.531Z"
   },
   {
    "duration": 20,
    "start_time": "2022-11-02T07:32:05.638Z"
   },
   {
    "duration": 39,
    "start_time": "2022-11-02T07:32:05.662Z"
   },
   {
    "duration": 39,
    "start_time": "2022-11-02T07:32:05.702Z"
   },
   {
    "duration": 58,
    "start_time": "2022-11-02T07:32:05.743Z"
   },
   {
    "duration": 41,
    "start_time": "2022-11-02T07:32:05.804Z"
   },
   {
    "duration": 62,
    "start_time": "2022-11-02T07:32:05.847Z"
   },
   {
    "duration": 56,
    "start_time": "2022-11-02T07:32:05.911Z"
   },
   {
    "duration": 5,
    "start_time": "2022-11-02T07:57:59.449Z"
   },
   {
    "duration": 141,
    "start_time": "2022-11-02T07:59:08.350Z"
   },
   {
    "duration": 26,
    "start_time": "2022-11-02T07:59:38.854Z"
   },
   {
    "duration": 5,
    "start_time": "2022-11-02T08:01:45.082Z"
   },
   {
    "duration": 25,
    "start_time": "2022-11-02T08:01:54.178Z"
   },
   {
    "duration": 5,
    "start_time": "2022-11-02T08:02:44.680Z"
   },
   {
    "duration": 35,
    "start_time": "2022-11-02T08:12:46.007Z"
   },
   {
    "duration": 1900,
    "start_time": "2022-11-02T08:13:11.184Z"
   },
   {
    "duration": 6,
    "start_time": "2022-11-02T08:14:27.511Z"
   },
   {
    "duration": 15,
    "start_time": "2022-11-02T08:15:03.145Z"
   },
   {
    "duration": 362,
    "start_time": "2022-11-02T08:15:27.991Z"
   },
   {
    "duration": 23,
    "start_time": "2022-11-02T08:15:49.248Z"
   },
   {
    "duration": 37,
    "start_time": "2022-11-02T08:26:22.639Z"
   },
   {
    "duration": 17,
    "start_time": "2022-11-02T08:28:14.956Z"
   },
   {
    "duration": 9,
    "start_time": "2022-11-02T11:04:29.305Z"
   },
   {
    "duration": 20,
    "start_time": "2022-11-02T11:04:39.157Z"
   },
   {
    "duration": 24,
    "start_time": "2022-11-02T11:22:32.237Z"
   },
   {
    "duration": 8,
    "start_time": "2022-11-02T11:22:59.969Z"
   },
   {
    "duration": 15,
    "start_time": "2022-11-02T11:23:08.584Z"
   },
   {
    "duration": 14,
    "start_time": "2022-11-02T11:27:06.973Z"
   },
   {
    "duration": 10,
    "start_time": "2022-11-02T11:27:20.263Z"
   },
   {
    "duration": 15,
    "start_time": "2022-11-02T11:27:27.205Z"
   },
   {
    "duration": 30,
    "start_time": "2022-11-02T11:27:49.734Z"
   },
   {
    "duration": 897,
    "start_time": "2022-11-02T11:28:27.944Z"
   },
   {
    "duration": 166,
    "start_time": "2022-11-02T11:29:27.132Z"
   },
   {
    "duration": 154,
    "start_time": "2022-11-02T11:29:48.154Z"
   },
   {
    "duration": 196,
    "start_time": "2022-11-02T11:30:37.370Z"
   },
   {
    "duration": 213,
    "start_time": "2022-11-02T11:30:47.751Z"
   },
   {
    "duration": 164,
    "start_time": "2022-11-02T11:55:49.567Z"
   },
   {
    "duration": 153,
    "start_time": "2022-11-02T11:56:48.366Z"
   },
   {
    "duration": 17,
    "start_time": "2022-11-02T11:58:00.558Z"
   },
   {
    "duration": 15,
    "start_time": "2022-11-02T11:58:43.241Z"
   },
   {
    "duration": 17,
    "start_time": "2022-11-02T11:58:53.376Z"
   },
   {
    "duration": 15,
    "start_time": "2022-11-02T11:59:11.217Z"
   },
   {
    "duration": 17,
    "start_time": "2022-11-02T11:59:27.420Z"
   },
   {
    "duration": 16,
    "start_time": "2022-11-02T11:59:36.568Z"
   },
   {
    "duration": 14,
    "start_time": "2022-11-02T12:00:11.391Z"
   },
   {
    "duration": 17,
    "start_time": "2022-11-02T12:00:17.218Z"
   },
   {
    "duration": 16,
    "start_time": "2022-11-02T12:01:03.956Z"
   },
   {
    "duration": 8,
    "start_time": "2022-11-02T12:03:49.037Z"
   },
   {
    "duration": 8,
    "start_time": "2022-11-02T12:04:09.950Z"
   },
   {
    "duration": 18,
    "start_time": "2022-11-02T12:04:40.838Z"
   },
   {
    "duration": 8,
    "start_time": "2022-11-02T12:04:44.737Z"
   },
   {
    "duration": 1324,
    "start_time": "2022-11-02T12:06:37.784Z"
   },
   {
    "duration": 20,
    "start_time": "2022-11-02T12:06:39.110Z"
   },
   {
    "duration": 7,
    "start_time": "2022-11-02T12:06:39.132Z"
   },
   {
    "duration": 21,
    "start_time": "2022-11-02T12:06:39.142Z"
   },
   {
    "duration": 69,
    "start_time": "2022-11-02T12:06:39.165Z"
   },
   {
    "duration": 17,
    "start_time": "2022-11-02T12:06:39.235Z"
   },
   {
    "duration": 15,
    "start_time": "2022-11-02T12:06:39.254Z"
   },
   {
    "duration": 72,
    "start_time": "2022-11-02T12:06:39.271Z"
   },
   {
    "duration": 6,
    "start_time": "2022-11-02T12:06:39.345Z"
   },
   {
    "duration": 13,
    "start_time": "2022-11-02T12:06:39.354Z"
   },
   {
    "duration": 10,
    "start_time": "2022-11-02T12:06:39.369Z"
   },
   {
    "duration": 40,
    "start_time": "2022-11-02T12:06:39.381Z"
   },
   {
    "duration": 5,
    "start_time": "2022-11-02T12:06:39.423Z"
   },
   {
    "duration": 25,
    "start_time": "2022-11-02T12:06:39.430Z"
   },
   {
    "duration": 19,
    "start_time": "2022-11-02T12:06:39.457Z"
   },
   {
    "duration": 192,
    "start_time": "2022-11-02T12:06:39.478Z"
   },
   {
    "duration": 18,
    "start_time": "2022-11-02T12:06:39.672Z"
   },
   {
    "duration": 8,
    "start_time": "2022-11-02T12:06:39.692Z"
   },
   {
    "duration": 18,
    "start_time": "2022-11-02T12:09:40.109Z"
   },
   {
    "duration": 61,
    "start_time": "2022-11-02T12:09:51.590Z"
   },
   {
    "duration": 17,
    "start_time": "2022-11-02T12:09:58.575Z"
   },
   {
    "duration": 15,
    "start_time": "2022-11-02T12:10:06.820Z"
   },
   {
    "duration": 2049,
    "start_time": "2022-11-02T12:18:50.425Z"
   },
   {
    "duration": 2170,
    "start_time": "2022-11-02T12:19:23.363Z"
   },
   {
    "duration": 1376,
    "start_time": "2022-11-02T12:19:40.037Z"
   },
   {
    "duration": 2064,
    "start_time": "2022-11-02T12:19:55.929Z"
   },
   {
    "duration": 877,
    "start_time": "2022-11-02T19:52:02.941Z"
   },
   {
    "duration": 1202,
    "start_time": "2022-11-02T19:52:25.932Z"
   },
   {
    "duration": 16,
    "start_time": "2022-11-02T19:52:27.137Z"
   },
   {
    "duration": 5,
    "start_time": "2022-11-02T19:52:27.154Z"
   },
   {
    "duration": 11,
    "start_time": "2022-11-02T19:52:27.161Z"
   },
   {
    "duration": 84,
    "start_time": "2022-11-02T19:52:27.174Z"
   },
   {
    "duration": 16,
    "start_time": "2022-11-02T19:52:27.260Z"
   },
   {
    "duration": 15,
    "start_time": "2022-11-02T19:52:27.278Z"
   },
   {
    "duration": 75,
    "start_time": "2022-11-02T19:52:27.295Z"
   },
   {
    "duration": 6,
    "start_time": "2022-11-02T19:52:27.372Z"
   },
   {
    "duration": 9,
    "start_time": "2022-11-02T19:52:27.379Z"
   },
   {
    "duration": 9,
    "start_time": "2022-11-02T19:52:27.389Z"
   },
   {
    "duration": 41,
    "start_time": "2022-11-02T19:52:27.400Z"
   },
   {
    "duration": 5,
    "start_time": "2022-11-02T19:52:27.443Z"
   },
   {
    "duration": 20,
    "start_time": "2022-11-02T19:52:27.450Z"
   },
   {
    "duration": 17,
    "start_time": "2022-11-02T19:52:27.472Z"
   },
   {
    "duration": 200,
    "start_time": "2022-11-02T19:52:27.492Z"
   },
   {
    "duration": 27,
    "start_time": "2022-11-02T19:52:27.694Z"
   },
   {
    "duration": 842,
    "start_time": "2022-11-02T19:52:27.723Z"
   },
   {
    "duration": 0,
    "start_time": "2022-11-02T19:52:28.566Z"
   },
   {
    "duration": 14,
    "start_time": "2022-11-02T19:52:42.010Z"
   },
   {
    "duration": 53,
    "start_time": "2022-11-02T19:53:19.152Z"
   },
   {
    "duration": 26,
    "start_time": "2022-11-02T19:53:36.433Z"
   },
   {
    "duration": 28,
    "start_time": "2022-11-02T19:56:35.923Z"
   },
   {
    "duration": 16,
    "start_time": "2022-11-02T19:57:09.867Z"
   },
   {
    "duration": 15,
    "start_time": "2022-11-02T19:57:17.104Z"
   },
   {
    "duration": 58,
    "start_time": "2022-11-02T19:57:40.328Z"
   },
   {
    "duration": 104,
    "start_time": "2022-11-02T20:01:13.631Z"
   },
   {
    "duration": 67,
    "start_time": "2022-11-02T20:03:50.945Z"
   },
   {
    "duration": 39,
    "start_time": "2022-11-02T20:04:21.167Z"
   },
   {
    "duration": 21,
    "start_time": "2022-11-02T20:04:33.787Z"
   },
   {
    "duration": 18,
    "start_time": "2022-11-02T20:04:44.239Z"
   },
   {
    "duration": 36,
    "start_time": "2022-11-02T20:12:20.674Z"
   },
   {
    "duration": 31,
    "start_time": "2022-11-02T20:13:16.177Z"
   },
   {
    "duration": 10,
    "start_time": "2022-11-02T20:13:24.515Z"
   },
   {
    "duration": 32,
    "start_time": "2022-11-02T20:14:53.221Z"
   },
   {
    "duration": 44,
    "start_time": "2022-11-02T20:15:08.731Z"
   },
   {
    "duration": 9,
    "start_time": "2022-11-02T20:15:18.279Z"
   },
   {
    "duration": 9,
    "start_time": "2022-11-02T20:20:03.301Z"
   },
   {
    "duration": 26,
    "start_time": "2022-11-02T20:20:24.216Z"
   },
   {
    "duration": 10,
    "start_time": "2022-11-02T20:20:51.066Z"
   },
   {
    "duration": 431,
    "start_time": "2022-11-02T20:24:53.008Z"
   },
   {
    "duration": 660,
    "start_time": "2022-11-02T20:25:54.035Z"
   },
   {
    "duration": 583,
    "start_time": "2022-11-02T20:26:30.555Z"
   },
   {
    "duration": 22,
    "start_time": "2022-11-02T20:27:53.337Z"
   },
   {
    "duration": 25,
    "start_time": "2022-11-02T20:29:37.646Z"
   },
   {
    "duration": 20,
    "start_time": "2022-11-02T20:29:51.568Z"
   },
   {
    "duration": 22,
    "start_time": "2022-11-02T20:30:10.461Z"
   },
   {
    "duration": 19,
    "start_time": "2022-11-02T20:30:21.665Z"
   },
   {
    "duration": 25,
    "start_time": "2022-11-02T20:33:19.688Z"
   },
   {
    "duration": 27,
    "start_time": "2022-11-02T20:33:36.789Z"
   },
   {
    "duration": 46,
    "start_time": "2022-11-02T20:34:05.115Z"
   },
   {
    "duration": 407,
    "start_time": "2022-11-02T20:35:00.356Z"
   },
   {
    "duration": 446,
    "start_time": "2022-11-02T20:36:19.665Z"
   },
   {
    "duration": 26,
    "start_time": "2022-11-02T20:36:53.005Z"
   },
   {
    "duration": 22,
    "start_time": "2022-11-02T20:38:40.858Z"
   },
   {
    "duration": 25,
    "start_time": "2022-11-02T20:39:10.707Z"
   },
   {
    "duration": 89,
    "start_time": "2022-11-02T20:40:01.650Z"
   },
   {
    "duration": 224,
    "start_time": "2022-11-02T20:40:09.953Z"
   },
   {
    "duration": 26,
    "start_time": "2022-11-02T20:41:00.897Z"
   },
   {
    "duration": 29,
    "start_time": "2022-11-02T20:41:49.062Z"
   },
   {
    "duration": 21,
    "start_time": "2022-11-02T20:45:26.991Z"
   },
   {
    "duration": 29,
    "start_time": "2022-11-02T20:47:41.542Z"
   },
   {
    "duration": 111,
    "start_time": "2022-11-02T20:48:01.829Z"
   },
   {
    "duration": 42,
    "start_time": "2022-11-02T20:48:29.391Z"
   },
   {
    "duration": 20,
    "start_time": "2022-11-02T20:48:55.342Z"
   },
   {
    "duration": 42,
    "start_time": "2022-11-02T20:49:04.154Z"
   },
   {
    "duration": 46,
    "start_time": "2022-11-02T20:50:22.979Z"
   },
   {
    "duration": 67,
    "start_time": "2022-11-02T20:53:03.971Z"
   },
   {
    "duration": 30,
    "start_time": "2022-11-02T20:57:38.231Z"
   },
   {
    "duration": 749,
    "start_time": "2022-11-02T20:57:46.647Z"
   },
   {
    "duration": 28,
    "start_time": "2022-11-02T20:59:54.051Z"
   },
   {
    "duration": 29,
    "start_time": "2022-11-02T21:00:24.167Z"
   },
   {
    "duration": 25,
    "start_time": "2022-11-02T21:01:15.032Z"
   },
   {
    "duration": 25,
    "start_time": "2022-11-02T21:01:18.371Z"
   },
   {
    "duration": 30,
    "start_time": "2022-11-02T21:01:56.134Z"
   },
   {
    "duration": 35,
    "start_time": "2022-11-02T21:03:57.899Z"
   },
   {
    "duration": 28,
    "start_time": "2022-11-02T21:04:07.273Z"
   },
   {
    "duration": 142,
    "start_time": "2022-11-02T21:05:29.168Z"
   },
   {
    "duration": 144,
    "start_time": "2022-11-02T21:05:56.856Z"
   },
   {
    "duration": 161,
    "start_time": "2022-11-02T21:09:01.425Z"
   },
   {
    "duration": 153,
    "start_time": "2022-11-02T21:12:03.213Z"
   },
   {
    "duration": 26,
    "start_time": "2022-11-02T21:18:25.739Z"
   },
   {
    "duration": 39,
    "start_time": "2022-11-02T21:18:49.705Z"
   },
   {
    "duration": 37,
    "start_time": "2022-11-02T21:19:40.908Z"
   },
   {
    "duration": 29,
    "start_time": "2022-11-02T21:21:15.049Z"
   },
   {
    "duration": 30,
    "start_time": "2022-11-02T21:22:19.692Z"
   },
   {
    "duration": 60,
    "start_time": "2022-11-02T21:22:24.472Z"
   },
   {
    "duration": 60,
    "start_time": "2022-11-02T21:22:39.904Z"
   },
   {
    "duration": 59,
    "start_time": "2022-11-02T21:22:51.582Z"
   },
   {
    "duration": 452,
    "start_time": "2022-11-02T21:23:07.299Z"
   },
   {
    "duration": 511,
    "start_time": "2022-11-02T21:23:49.466Z"
   },
   {
    "duration": 419,
    "start_time": "2022-11-02T21:24:24.552Z"
   },
   {
    "duration": 512,
    "start_time": "2022-11-02T21:25:18.465Z"
   },
   {
    "duration": 35,
    "start_time": "2022-11-02T21:27:20.141Z"
   },
   {
    "duration": 452,
    "start_time": "2022-11-02T21:27:35.638Z"
   },
   {
    "duration": 243,
    "start_time": "2022-11-02T21:28:02.933Z"
   },
   {
    "duration": 142,
    "start_time": "2022-11-02T21:28:23.131Z"
   },
   {
    "duration": 684,
    "start_time": "2022-11-02T21:28:34.895Z"
   },
   {
    "duration": 705,
    "start_time": "2022-11-02T21:28:49.733Z"
   },
   {
    "duration": 745,
    "start_time": "2022-11-02T21:29:00.392Z"
   },
   {
    "duration": 762,
    "start_time": "2022-11-02T21:30:16.989Z"
   },
   {
    "duration": 1554,
    "start_time": "2022-11-02T21:34:03.250Z"
   },
   {
    "duration": 1418,
    "start_time": "2022-11-02T21:34:24.073Z"
   },
   {
    "duration": 1421,
    "start_time": "2022-11-02T21:34:36.052Z"
   },
   {
    "duration": 1533,
    "start_time": "2022-11-02T21:34:59.950Z"
   },
   {
    "duration": 1619,
    "start_time": "2022-11-02T21:48:26.146Z"
   },
   {
    "duration": 1532,
    "start_time": "2022-11-02T21:48:34.061Z"
   },
   {
    "duration": 1779,
    "start_time": "2022-11-02T21:49:38.137Z"
   },
   {
    "duration": 1649,
    "start_time": "2022-11-02T21:50:09.808Z"
   },
   {
    "duration": 1834,
    "start_time": "2022-11-02T22:02:07.502Z"
   },
   {
    "duration": 1712,
    "start_time": "2022-11-02T22:02:19.909Z"
   },
   {
    "duration": 46,
    "start_time": "2022-11-03T12:03:27.408Z"
   },
   {
    "duration": 1483,
    "start_time": "2022-11-03T12:03:42.350Z"
   },
   {
    "duration": 21,
    "start_time": "2022-11-03T12:03:43.835Z"
   },
   {
    "duration": 6,
    "start_time": "2022-11-03T12:03:43.857Z"
   },
   {
    "duration": 13,
    "start_time": "2022-11-03T12:03:43.865Z"
   },
   {
    "duration": 53,
    "start_time": "2022-11-03T12:03:43.880Z"
   },
   {
    "duration": 15,
    "start_time": "2022-11-03T12:03:43.935Z"
   },
   {
    "duration": 26,
    "start_time": "2022-11-03T12:03:43.951Z"
   },
   {
    "duration": 49,
    "start_time": "2022-11-03T12:03:43.978Z"
   },
   {
    "duration": 6,
    "start_time": "2022-11-03T12:03:44.028Z"
   },
   {
    "duration": 7,
    "start_time": "2022-11-03T12:03:44.035Z"
   },
   {
    "duration": 8,
    "start_time": "2022-11-03T12:03:44.043Z"
   },
   {
    "duration": 38,
    "start_time": "2022-11-03T12:03:44.052Z"
   },
   {
    "duration": 4,
    "start_time": "2022-11-03T12:03:44.091Z"
   },
   {
    "duration": 14,
    "start_time": "2022-11-03T12:03:44.096Z"
   },
   {
    "duration": 13,
    "start_time": "2022-11-03T12:03:44.111Z"
   },
   {
    "duration": 183,
    "start_time": "2022-11-03T12:03:44.126Z"
   },
   {
    "duration": 1424,
    "start_time": "2022-11-03T12:03:44.311Z"
   },
   {
    "duration": 3,
    "start_time": "2022-11-03T12:03:45.737Z"
   },
   {
    "duration": 92,
    "start_time": "2022-11-03T12:04:18.443Z"
   },
   {
    "duration": 1874,
    "start_time": "2022-11-03T12:04:22.832Z"
   },
   {
    "duration": 1806,
    "start_time": "2022-11-03T12:04:30.772Z"
   },
   {
    "duration": 70,
    "start_time": "2022-11-03T12:48:24.026Z"
   },
   {
    "duration": 22,
    "start_time": "2022-11-03T12:48:33.090Z"
   },
   {
    "duration": 15,
    "start_time": "2022-11-03T12:48:58.136Z"
   },
   {
    "duration": 23,
    "start_time": "2022-11-03T12:49:07.420Z"
   },
   {
    "duration": 12,
    "start_time": "2022-11-03T12:50:08.988Z"
   },
   {
    "duration": 15,
    "start_time": "2022-11-03T12:50:18.180Z"
   },
   {
    "duration": 1237,
    "start_time": "2022-11-03T12:53:26.983Z"
   },
   {
    "duration": 14,
    "start_time": "2022-11-03T12:53:28.221Z"
   },
   {
    "duration": 10,
    "start_time": "2022-11-03T12:53:28.236Z"
   },
   {
    "duration": 4,
    "start_time": "2022-11-03T12:53:28.248Z"
   },
   {
    "duration": 75,
    "start_time": "2022-11-03T12:53:28.253Z"
   },
   {
    "duration": 14,
    "start_time": "2022-11-03T12:53:28.329Z"
   },
   {
    "duration": 14,
    "start_time": "2022-11-03T12:53:28.345Z"
   },
   {
    "duration": 68,
    "start_time": "2022-11-03T12:53:28.360Z"
   },
   {
    "duration": 5,
    "start_time": "2022-11-03T12:53:28.430Z"
   },
   {
    "duration": 28,
    "start_time": "2022-11-03T12:53:28.437Z"
   },
   {
    "duration": 8,
    "start_time": "2022-11-03T12:53:28.466Z"
   },
   {
    "duration": 24,
    "start_time": "2022-11-03T12:53:28.475Z"
   },
   {
    "duration": 9,
    "start_time": "2022-11-03T12:53:28.501Z"
   },
   {
    "duration": 15,
    "start_time": "2022-11-03T12:53:28.511Z"
   },
   {
    "duration": 35,
    "start_time": "2022-11-03T12:53:28.528Z"
   },
   {
    "duration": 177,
    "start_time": "2022-11-03T12:53:28.565Z"
   },
   {
    "duration": 1824,
    "start_time": "2022-11-03T12:53:28.744Z"
   },
   {
    "duration": 16,
    "start_time": "2022-11-03T12:53:30.570Z"
   },
   {
    "duration": 28,
    "start_time": "2022-11-03T12:53:30.587Z"
   },
   {
    "duration": 23,
    "start_time": "2022-11-03T12:54:02.829Z"
   },
   {
    "duration": 7,
    "start_time": "2022-11-03T12:54:38.475Z"
   },
   {
    "duration": 1227,
    "start_time": "2022-11-03T13:20:30.887Z"
   },
   {
    "duration": 15,
    "start_time": "2022-11-03T13:20:32.116Z"
   },
   {
    "duration": 4,
    "start_time": "2022-11-03T13:20:32.133Z"
   },
   {
    "duration": 15,
    "start_time": "2022-11-03T13:20:32.139Z"
   },
   {
    "duration": 73,
    "start_time": "2022-11-03T13:20:32.155Z"
   },
   {
    "duration": 16,
    "start_time": "2022-11-03T13:20:32.229Z"
   },
   {
    "duration": 15,
    "start_time": "2022-11-03T13:20:32.247Z"
   },
   {
    "duration": 67,
    "start_time": "2022-11-03T13:20:32.264Z"
   },
   {
    "duration": 6,
    "start_time": "2022-11-03T13:20:32.333Z"
   },
   {
    "duration": 9,
    "start_time": "2022-11-03T13:20:32.341Z"
   },
   {
    "duration": 10,
    "start_time": "2022-11-03T13:20:32.351Z"
   },
   {
    "duration": 34,
    "start_time": "2022-11-03T13:20:32.362Z"
   },
   {
    "duration": 7,
    "start_time": "2022-11-03T13:20:32.398Z"
   },
   {
    "duration": 15,
    "start_time": "2022-11-03T13:20:32.406Z"
   },
   {
    "duration": 14,
    "start_time": "2022-11-03T13:20:32.423Z"
   },
   {
    "duration": 197,
    "start_time": "2022-11-03T13:20:32.438Z"
   },
   {
    "duration": 68,
    "start_time": "2022-11-03T13:20:32.638Z"
   },
   {
    "duration": 0,
    "start_time": "2022-11-03T13:20:32.708Z"
   },
   {
    "duration": 0,
    "start_time": "2022-11-03T13:20:32.710Z"
   },
   {
    "duration": 0,
    "start_time": "2022-11-03T13:20:32.711Z"
   },
   {
    "duration": 15,
    "start_time": "2022-11-03T13:20:55.556Z"
   },
   {
    "duration": 69,
    "start_time": "2022-11-03T13:39:32.978Z"
   },
   {
    "duration": 193,
    "start_time": "2022-11-03T13:39:40.742Z"
   },
   {
    "duration": 1132,
    "start_time": "2022-11-03T13:39:49.408Z"
   },
   {
    "duration": 14,
    "start_time": "2022-11-03T13:39:50.541Z"
   },
   {
    "duration": 15,
    "start_time": "2022-11-03T13:39:50.557Z"
   },
   {
    "duration": 24,
    "start_time": "2022-11-03T13:39:50.574Z"
   },
   {
    "duration": 63,
    "start_time": "2022-11-03T13:39:50.600Z"
   },
   {
    "duration": 13,
    "start_time": "2022-11-03T13:39:50.665Z"
   },
   {
    "duration": 24,
    "start_time": "2022-11-03T13:39:50.679Z"
   },
   {
    "duration": 53,
    "start_time": "2022-11-03T13:39:50.704Z"
   },
   {
    "duration": 9,
    "start_time": "2022-11-03T13:39:50.759Z"
   },
   {
    "duration": 39,
    "start_time": "2022-11-03T13:39:50.770Z"
   },
   {
    "duration": 30,
    "start_time": "2022-11-03T13:39:50.810Z"
   },
   {
    "duration": 48,
    "start_time": "2022-11-03T13:39:50.842Z"
   },
   {
    "duration": 15,
    "start_time": "2022-11-03T13:39:50.891Z"
   },
   {
    "duration": 19,
    "start_time": "2022-11-03T13:39:50.907Z"
   },
   {
    "duration": 14,
    "start_time": "2022-11-03T13:39:50.928Z"
   },
   {
    "duration": 154,
    "start_time": "2022-11-03T13:39:50.943Z"
   },
   {
    "duration": 14,
    "start_time": "2022-11-03T13:39:51.099Z"
   },
   {
    "duration": 109,
    "start_time": "2022-11-03T13:39:51.114Z"
   },
   {
    "duration": 1790,
    "start_time": "2022-11-03T13:39:51.225Z"
   },
   {
    "duration": 7,
    "start_time": "2022-11-03T13:39:53.017Z"
   },
   {
    "duration": 8,
    "start_time": "2022-11-03T13:39:53.026Z"
   },
   {
    "duration": 108,
    "start_time": "2022-11-03T13:40:14.463Z"
   },
   {
    "duration": 115,
    "start_time": "2022-11-03T13:40:50.826Z"
   },
   {
    "duration": 71,
    "start_time": "2022-11-03T18:51:32.593Z"
   },
   {
    "duration": 68,
    "start_time": "2022-11-03T18:51:44.032Z"
   },
   {
    "duration": 70,
    "start_time": "2022-11-03T18:51:48.771Z"
   },
   {
    "duration": 64,
    "start_time": "2022-11-03T18:51:55.732Z"
   },
   {
    "duration": 70,
    "start_time": "2022-11-03T18:52:06.711Z"
   },
   {
    "duration": 106,
    "start_time": "2022-11-03T18:52:17.371Z"
   },
   {
    "duration": 243,
    "start_time": "2022-11-03T18:52:39.416Z"
   },
   {
    "duration": 13,
    "start_time": "2022-11-03T18:54:42.827Z"
   },
   {
    "duration": 187,
    "start_time": "2022-11-03T18:54:58.964Z"
   },
   {
    "duration": 176,
    "start_time": "2022-11-03T18:55:09.619Z"
   },
   {
    "duration": 170,
    "start_time": "2022-11-03T18:55:15.409Z"
   },
   {
    "duration": 122,
    "start_time": "2022-11-03T19:00:39.996Z"
   },
   {
    "duration": 194,
    "start_time": "2022-11-03T19:01:04.064Z"
   },
   {
    "duration": 193,
    "start_time": "2022-11-03T19:07:32.564Z"
   },
   {
    "duration": 68,
    "start_time": "2022-11-03T19:13:49.257Z"
   },
   {
    "duration": 250,
    "start_time": "2022-11-03T19:14:00.076Z"
   },
   {
    "duration": 89,
    "start_time": "2022-11-03T19:18:05.184Z"
   },
   {
    "duration": 24,
    "start_time": "2022-11-03T19:18:12.040Z"
   },
   {
    "duration": 248,
    "start_time": "2022-11-03T19:19:18.234Z"
   },
   {
    "duration": 7,
    "start_time": "2022-11-03T19:38:50.194Z"
   },
   {
    "duration": 26,
    "start_time": "2022-11-03T19:38:58.539Z"
   },
   {
    "duration": 14,
    "start_time": "2022-11-03T19:39:53.980Z"
   },
   {
    "duration": 15,
    "start_time": "2022-11-03T19:41:54.757Z"
   },
   {
    "duration": 24,
    "start_time": "2022-11-03T19:42:02.821Z"
   },
   {
    "duration": 200,
    "start_time": "2022-11-03T19:42:21.230Z"
   },
   {
    "duration": 25,
    "start_time": "2022-11-03T20:15:23.854Z"
   },
   {
    "duration": 16,
    "start_time": "2022-11-03T20:16:54.917Z"
   },
   {
    "duration": 6,
    "start_time": "2022-11-03T20:17:01.876Z"
   },
   {
    "duration": 18,
    "start_time": "2022-11-03T20:32:48.434Z"
   },
   {
    "duration": 21,
    "start_time": "2022-11-03T20:35:54.082Z"
   },
   {
    "duration": 131,
    "start_time": "2022-11-03T20:39:18.574Z"
   },
   {
    "duration": 238,
    "start_time": "2022-11-03T20:39:51.686Z"
   },
   {
    "duration": 134,
    "start_time": "2022-11-03T20:40:53.428Z"
   },
   {
    "duration": 98,
    "start_time": "2022-11-03T20:50:32.150Z"
   },
   {
    "duration": 207,
    "start_time": "2022-11-03T20:50:47.656Z"
   },
   {
    "duration": 250,
    "start_time": "2022-11-03T20:52:09.634Z"
   },
   {
    "duration": 143,
    "start_time": "2022-11-03T20:52:21.512Z"
   },
   {
    "duration": 68,
    "start_time": "2022-11-03T20:59:20.035Z"
   },
   {
    "duration": 24,
    "start_time": "2022-11-04T12:13:52.543Z"
   },
   {
    "duration": 1164,
    "start_time": "2022-11-04T12:14:03.374Z"
   },
   {
    "duration": 14,
    "start_time": "2022-11-04T12:14:04.539Z"
   },
   {
    "duration": 5,
    "start_time": "2022-11-04T12:14:04.554Z"
   },
   {
    "duration": 5,
    "start_time": "2022-11-04T12:14:04.560Z"
   },
   {
    "duration": 55,
    "start_time": "2022-11-04T12:14:04.567Z"
   },
   {
    "duration": 14,
    "start_time": "2022-11-04T12:14:04.624Z"
   },
   {
    "duration": 11,
    "start_time": "2022-11-04T12:14:04.640Z"
   },
   {
    "duration": 62,
    "start_time": "2022-11-04T12:14:04.652Z"
   },
   {
    "duration": 6,
    "start_time": "2022-11-04T12:14:04.715Z"
   },
   {
    "duration": 7,
    "start_time": "2022-11-04T12:14:04.723Z"
   },
   {
    "duration": 8,
    "start_time": "2022-11-04T12:14:04.732Z"
   },
   {
    "duration": 35,
    "start_time": "2022-11-04T12:14:04.742Z"
   },
   {
    "duration": 6,
    "start_time": "2022-11-04T12:14:04.779Z"
   },
   {
    "duration": 16,
    "start_time": "2022-11-04T12:14:04.786Z"
   },
   {
    "duration": 12,
    "start_time": "2022-11-04T12:14:04.803Z"
   },
   {
    "duration": 163,
    "start_time": "2022-11-04T12:14:04.817Z"
   },
   {
    "duration": 16,
    "start_time": "2022-11-04T12:14:04.981Z"
   },
   {
    "duration": 206,
    "start_time": "2022-11-04T12:14:04.999Z"
   },
   {
    "duration": 275,
    "start_time": "2022-11-04T12:14:05.207Z"
   },
   {
    "duration": 217,
    "start_time": "2022-11-04T12:14:05.483Z"
   },
   {
    "duration": 5,
    "start_time": "2022-11-04T12:14:05.701Z"
   },
   {
    "duration": 169,
    "start_time": "2022-11-04T12:14:05.708Z"
   },
   {
    "duration": 38,
    "start_time": "2022-11-04T12:14:39.636Z"
   },
   {
    "duration": 156,
    "start_time": "2022-11-04T12:15:29.980Z"
   },
   {
    "duration": 157,
    "start_time": "2022-11-04T12:15:54.844Z"
   },
   {
    "duration": 143,
    "start_time": "2022-11-04T12:16:13.944Z"
   },
   {
    "duration": 222,
    "start_time": "2022-11-04T12:16:18.712Z"
   },
   {
    "duration": 256,
    "start_time": "2022-11-04T12:16:53.774Z"
   },
   {
    "duration": 188,
    "start_time": "2022-11-04T12:17:56.309Z"
   },
   {
    "duration": 237,
    "start_time": "2022-11-04T12:18:44.324Z"
   },
   {
    "duration": 149,
    "start_time": "2022-11-04T12:18:54.077Z"
   },
   {
    "duration": 146,
    "start_time": "2022-11-04T12:19:03.989Z"
   },
   {
    "duration": 166,
    "start_time": "2022-11-04T12:20:13.671Z"
   },
   {
    "duration": 168,
    "start_time": "2022-11-04T12:20:56.168Z"
   },
   {
    "duration": 149,
    "start_time": "2022-11-04T12:21:28.266Z"
   },
   {
    "duration": 239,
    "start_time": "2022-11-04T12:21:54.186Z"
   },
   {
    "duration": 174,
    "start_time": "2022-11-04T12:22:40.832Z"
   },
   {
    "duration": 152,
    "start_time": "2022-11-04T12:22:58.902Z"
   },
   {
    "duration": 151,
    "start_time": "2022-11-04T12:23:07.424Z"
   },
   {
    "duration": 151,
    "start_time": "2022-11-04T12:23:36.660Z"
   },
   {
    "duration": 10,
    "start_time": "2022-11-04T12:41:24.646Z"
   },
   {
    "duration": 9,
    "start_time": "2022-11-04T12:42:00.802Z"
   },
   {
    "duration": 136,
    "start_time": "2022-11-04T12:43:06.399Z"
   },
   {
    "duration": 148,
    "start_time": "2022-11-04T12:43:26.197Z"
   },
   {
    "duration": 498,
    "start_time": "2022-11-04T12:43:34.690Z"
   },
   {
    "duration": 482,
    "start_time": "2022-11-04T12:44:30.826Z"
   },
   {
    "duration": 220,
    "start_time": "2022-11-04T12:44:44.479Z"
   },
   {
    "duration": 138,
    "start_time": "2022-11-04T12:45:03.261Z"
   },
   {
    "duration": 16,
    "start_time": "2022-11-04T12:47:58.151Z"
   },
   {
    "duration": 139,
    "start_time": "2022-11-04T12:48:06.541Z"
   },
   {
    "duration": 6,
    "start_time": "2022-11-04T12:48:40.041Z"
   },
   {
    "duration": 14,
    "start_time": "2022-11-04T12:48:46.060Z"
   },
   {
    "duration": 1114,
    "start_time": "2022-11-04T12:48:55.403Z"
   },
   {
    "duration": 13,
    "start_time": "2022-11-04T12:48:56.519Z"
   },
   {
    "duration": 4,
    "start_time": "2022-11-04T12:48:56.534Z"
   },
   {
    "duration": 5,
    "start_time": "2022-11-04T12:48:56.540Z"
   },
   {
    "duration": 68,
    "start_time": "2022-11-04T12:48:56.547Z"
   },
   {
    "duration": 13,
    "start_time": "2022-11-04T12:48:56.617Z"
   },
   {
    "duration": 12,
    "start_time": "2022-11-04T12:48:56.632Z"
   },
   {
    "duration": 44,
    "start_time": "2022-11-04T12:48:56.646Z"
   },
   {
    "duration": 5,
    "start_time": "2022-11-04T12:48:56.692Z"
   },
   {
    "duration": 7,
    "start_time": "2022-11-04T12:48:56.699Z"
   },
   {
    "duration": 7,
    "start_time": "2022-11-04T12:48:56.707Z"
   },
   {
    "duration": 25,
    "start_time": "2022-11-04T12:48:56.715Z"
   },
   {
    "duration": 10,
    "start_time": "2022-11-04T12:48:56.741Z"
   },
   {
    "duration": 31,
    "start_time": "2022-11-04T12:48:56.752Z"
   },
   {
    "duration": 21,
    "start_time": "2022-11-04T12:48:56.784Z"
   },
   {
    "duration": 162,
    "start_time": "2022-11-04T12:48:56.807Z"
   },
   {
    "duration": 19,
    "start_time": "2022-11-04T12:48:56.970Z"
   },
   {
    "duration": 200,
    "start_time": "2022-11-04T12:48:56.990Z"
   },
   {
    "duration": 254,
    "start_time": "2022-11-04T12:48:57.193Z"
   },
   {
    "duration": 217,
    "start_time": "2022-11-04T12:48:57.449Z"
   },
   {
    "duration": 10,
    "start_time": "2022-11-04T12:48:57.668Z"
   },
   {
    "duration": 184,
    "start_time": "2022-11-04T12:48:57.680Z"
   },
   {
    "duration": 193,
    "start_time": "2022-11-04T12:48:57.866Z"
   },
   {
    "duration": 275,
    "start_time": "2022-11-04T12:49:15.077Z"
   },
   {
    "duration": 70,
    "start_time": "2022-11-04T12:50:34.471Z"
   },
   {
    "duration": 344,
    "start_time": "2022-11-04T12:50:39.896Z"
   },
   {
    "duration": 279,
    "start_time": "2022-11-04T12:51:35.727Z"
   },
   {
    "duration": 70,
    "start_time": "2022-11-04T12:51:50.439Z"
   },
   {
    "duration": 22,
    "start_time": "2022-11-04T12:51:59.370Z"
   },
   {
    "duration": 21,
    "start_time": "2022-11-04T12:52:15.762Z"
   },
   {
    "duration": 21,
    "start_time": "2022-11-04T12:53:53.186Z"
   },
   {
    "duration": 23,
    "start_time": "2022-11-04T12:54:49.030Z"
   },
   {
    "duration": 27,
    "start_time": "2022-11-04T12:55:11.588Z"
   },
   {
    "duration": 285,
    "start_time": "2022-11-04T12:55:55.953Z"
   },
   {
    "duration": 216,
    "start_time": "2022-11-04T12:57:25.035Z"
   },
   {
    "duration": 286,
    "start_time": "2022-11-04T12:57:55.742Z"
   },
   {
    "duration": 281,
    "start_time": "2022-11-04T12:58:11.781Z"
   },
   {
    "duration": 75,
    "start_time": "2022-11-04T12:58:31.169Z"
   },
   {
    "duration": 392,
    "start_time": "2022-11-04T12:58:39.793Z"
   },
   {
    "duration": 270,
    "start_time": "2022-11-04T13:20:27.049Z"
   },
   {
    "duration": 260,
    "start_time": "2022-11-04T13:21:22.373Z"
   },
   {
    "duration": 267,
    "start_time": "2022-11-04T13:22:08.569Z"
   },
   {
    "duration": 266,
    "start_time": "2022-11-04T13:22:33.184Z"
   },
   {
    "duration": 76,
    "start_time": "2022-11-04T13:23:15.435Z"
   },
   {
    "duration": 130,
    "start_time": "2022-11-04T13:23:27.989Z"
   },
   {
    "duration": 1054,
    "start_time": "2022-11-04T13:23:47.985Z"
   },
   {
    "duration": 909,
    "start_time": "2022-11-04T13:24:19.371Z"
   },
   {
    "duration": 383,
    "start_time": "2022-11-04T13:26:09.250Z"
   },
   {
    "duration": 250,
    "start_time": "2022-11-04T13:26:31.809Z"
   },
   {
    "duration": 263,
    "start_time": "2022-11-04T13:31:12.993Z"
   },
   {
    "duration": 268,
    "start_time": "2022-11-04T13:31:46.084Z"
   },
   {
    "duration": 71,
    "start_time": "2022-11-04T13:37:26.404Z"
   },
   {
    "duration": 1010,
    "start_time": "2022-11-04T13:37:53.092Z"
   },
   {
    "duration": 17,
    "start_time": "2022-11-04T13:38:09.866Z"
   },
   {
    "duration": 12,
    "start_time": "2022-11-04T13:38:31.696Z"
   },
   {
    "duration": 12,
    "start_time": "2022-11-04T13:38:45.561Z"
   },
   {
    "duration": 28,
    "start_time": "2022-11-04T13:39:15.898Z"
   },
   {
    "duration": 1121,
    "start_time": "2022-11-04T13:39:45.823Z"
   },
   {
    "duration": 15,
    "start_time": "2022-11-04T13:39:46.946Z"
   },
   {
    "duration": 5,
    "start_time": "2022-11-04T13:39:46.963Z"
   },
   {
    "duration": 6,
    "start_time": "2022-11-04T13:39:46.969Z"
   },
   {
    "duration": 55,
    "start_time": "2022-11-04T13:39:46.977Z"
   },
   {
    "duration": 17,
    "start_time": "2022-11-04T13:39:47.034Z"
   },
   {
    "duration": 28,
    "start_time": "2022-11-04T13:39:47.052Z"
   },
   {
    "duration": 32,
    "start_time": "2022-11-04T13:39:47.082Z"
   },
   {
    "duration": 8,
    "start_time": "2022-11-04T13:39:47.116Z"
   },
   {
    "duration": 4,
    "start_time": "2022-11-04T13:39:47.126Z"
   },
   {
    "duration": 7,
    "start_time": "2022-11-04T13:39:47.132Z"
   },
   {
    "duration": 48,
    "start_time": "2022-11-04T13:39:47.141Z"
   },
   {
    "duration": 6,
    "start_time": "2022-11-04T13:39:47.191Z"
   },
   {
    "duration": 16,
    "start_time": "2022-11-04T13:39:47.199Z"
   },
   {
    "duration": 15,
    "start_time": "2022-11-04T13:39:47.217Z"
   },
   {
    "duration": 192,
    "start_time": "2022-11-04T13:39:47.233Z"
   },
   {
    "duration": 17,
    "start_time": "2022-11-04T13:39:47.427Z"
   },
   {
    "duration": 197,
    "start_time": "2022-11-04T13:39:47.446Z"
   },
   {
    "duration": 341,
    "start_time": "2022-11-04T13:39:47.645Z"
   },
   {
    "duration": 209,
    "start_time": "2022-11-04T13:39:47.988Z"
   },
   {
    "duration": 5,
    "start_time": "2022-11-04T13:39:48.199Z"
   },
   {
    "duration": 156,
    "start_time": "2022-11-04T13:39:48.205Z"
   },
   {
    "duration": 290,
    "start_time": "2022-11-04T13:39:48.363Z"
   },
   {
    "duration": 40,
    "start_time": "2022-11-04T13:39:48.654Z"
   },
   {
    "duration": 341,
    "start_time": "2022-11-04T13:47:09.644Z"
   },
   {
    "duration": 14,
    "start_time": "2022-11-04T13:48:04.213Z"
   },
   {
    "duration": 12,
    "start_time": "2022-11-04T13:48:15.100Z"
   },
   {
    "duration": 116,
    "start_time": "2022-11-04T13:48:25.108Z"
   },
   {
    "duration": 38,
    "start_time": "2022-11-04T13:48:30.349Z"
   },
   {
    "duration": 40,
    "start_time": "2022-11-04T13:48:58.328Z"
   },
   {
    "duration": 142,
    "start_time": "2022-11-04T13:50:02.701Z"
   },
   {
    "duration": 33,
    "start_time": "2022-11-04T13:50:24.958Z"
   },
   {
    "duration": 99,
    "start_time": "2022-11-04T13:50:30.923Z"
   },
   {
    "duration": 78,
    "start_time": "2022-11-04T13:51:26.761Z"
   },
   {
    "duration": 70,
    "start_time": "2022-11-04T13:52:40.568Z"
   },
   {
    "duration": 1026,
    "start_time": "2022-11-04T13:52:59.954Z"
   },
   {
    "duration": 4,
    "start_time": "2022-11-04T13:53:29.851Z"
   },
   {
    "duration": 1120,
    "start_time": "2022-11-04T13:53:41.663Z"
   },
   {
    "duration": 1159,
    "start_time": "2022-11-04T13:54:14.627Z"
   },
   {
    "duration": 1020,
    "start_time": "2022-11-04T13:55:06.360Z"
   },
   {
    "duration": 1079,
    "start_time": "2022-11-04T13:58:41.201Z"
   },
   {
    "duration": 13,
    "start_time": "2022-11-04T14:27:16.427Z"
   },
   {
    "duration": 73,
    "start_time": "2022-11-04T14:27:41.371Z"
   },
   {
    "duration": 127,
    "start_time": "2022-11-04T14:27:49.591Z"
   },
   {
    "duration": 220,
    "start_time": "2022-11-04T14:28:20.084Z"
   },
   {
    "duration": 145,
    "start_time": "2022-11-04T14:28:42.256Z"
   },
   {
    "duration": 15,
    "start_time": "2022-11-04T14:31:59.948Z"
   },
   {
    "duration": 128,
    "start_time": "2022-11-04T14:32:53.399Z"
   },
   {
    "duration": 143,
    "start_time": "2022-11-04T14:32:58.054Z"
   },
   {
    "duration": 8,
    "start_time": "2022-11-04T14:34:46.454Z"
   },
   {
    "duration": 15,
    "start_time": "2022-11-04T14:34:54.352Z"
   },
   {
    "duration": 9,
    "start_time": "2022-11-04T14:37:22.253Z"
   },
   {
    "duration": 59,
    "start_time": "2022-11-04T14:37:29.250Z"
   },
   {
    "duration": 15,
    "start_time": "2022-11-04T14:37:40.681Z"
   },
   {
    "duration": 338,
    "start_time": "2022-11-04T14:40:21.457Z"
   },
   {
    "duration": 12,
    "start_time": "2022-11-04T14:45:09.857Z"
   },
   {
    "duration": 19,
    "start_time": "2022-11-04T14:45:39.946Z"
   },
   {
    "duration": 17,
    "start_time": "2022-11-04T14:46:53.494Z"
   },
   {
    "duration": 1085,
    "start_time": "2022-11-04T14:47:20.326Z"
   },
   {
    "duration": 20,
    "start_time": "2022-11-04T14:47:59.963Z"
   },
   {
    "duration": 25,
    "start_time": "2022-11-04T14:48:07.370Z"
   },
   {
    "duration": 20,
    "start_time": "2022-11-04T15:01:30.271Z"
   },
   {
    "duration": 20,
    "start_time": "2022-11-04T15:01:39.078Z"
   },
   {
    "duration": 25,
    "start_time": "2022-11-04T15:01:44.225Z"
   },
   {
    "duration": 526,
    "start_time": "2022-11-04T15:06:34.028Z"
   },
   {
    "duration": 467,
    "start_time": "2022-11-04T15:08:36.990Z"
   },
   {
    "duration": 515,
    "start_time": "2022-11-04T15:10:03.547Z"
   },
   {
    "duration": 507,
    "start_time": "2022-11-04T15:10:13.078Z"
   },
   {
    "duration": 305,
    "start_time": "2022-11-04T15:10:52.726Z"
   },
   {
    "duration": 1127,
    "start_time": "2022-11-04T15:11:09.909Z"
   },
   {
    "duration": 14,
    "start_time": "2022-11-04T15:11:11.038Z"
   },
   {
    "duration": 5,
    "start_time": "2022-11-04T15:11:11.053Z"
   },
   {
    "duration": 6,
    "start_time": "2022-11-04T15:11:11.059Z"
   },
   {
    "duration": 56,
    "start_time": "2022-11-04T15:11:11.067Z"
   },
   {
    "duration": 14,
    "start_time": "2022-11-04T15:11:11.124Z"
   },
   {
    "duration": 13,
    "start_time": "2022-11-04T15:11:11.140Z"
   },
   {
    "duration": 50,
    "start_time": "2022-11-04T15:11:11.155Z"
   },
   {
    "duration": 7,
    "start_time": "2022-11-04T15:11:11.206Z"
   },
   {
    "duration": 8,
    "start_time": "2022-11-04T15:11:11.214Z"
   },
   {
    "duration": 13,
    "start_time": "2022-11-04T15:11:11.224Z"
   },
   {
    "duration": 27,
    "start_time": "2022-11-04T15:11:11.238Z"
   },
   {
    "duration": 5,
    "start_time": "2022-11-04T15:11:11.278Z"
   },
   {
    "duration": 20,
    "start_time": "2022-11-04T15:11:11.285Z"
   },
   {
    "duration": 15,
    "start_time": "2022-11-04T15:11:11.306Z"
   },
   {
    "duration": 177,
    "start_time": "2022-11-04T15:11:11.322Z"
   },
   {
    "duration": 17,
    "start_time": "2022-11-04T15:11:11.500Z"
   },
   {
    "duration": 217,
    "start_time": "2022-11-04T15:11:11.519Z"
   },
   {
    "duration": 261,
    "start_time": "2022-11-04T15:11:11.737Z"
   },
   {
    "duration": 221,
    "start_time": "2022-11-04T15:11:12.000Z"
   },
   {
    "duration": 5,
    "start_time": "2022-11-04T15:11:12.223Z"
   },
   {
    "duration": 156,
    "start_time": "2022-11-04T15:11:12.230Z"
   },
   {
    "duration": 283,
    "start_time": "2022-11-04T15:11:12.387Z"
   },
   {
    "duration": 1197,
    "start_time": "2022-11-04T15:11:12.672Z"
   },
   {
    "duration": 378,
    "start_time": "2022-11-04T15:11:13.877Z"
   },
   {
    "duration": 0,
    "start_time": "2022-11-04T15:11:14.256Z"
   },
   {
    "duration": 29,
    "start_time": "2022-11-04T15:11:23.360Z"
   },
   {
    "duration": 25,
    "start_time": "2022-11-04T15:11:42.190Z"
   },
   {
    "duration": 1151,
    "start_time": "2022-11-04T15:12:07.979Z"
   },
   {
    "duration": 445,
    "start_time": "2022-11-04T15:13:17.132Z"
   },
   {
    "duration": 418,
    "start_time": "2022-11-04T15:13:28.166Z"
   },
   {
    "duration": 444,
    "start_time": "2022-11-04T15:13:36.144Z"
   },
   {
    "duration": 69,
    "start_time": "2022-11-04T15:14:48.505Z"
   },
   {
    "duration": 479,
    "start_time": "2022-11-04T15:14:56.539Z"
   },
   {
    "duration": 554,
    "start_time": "2022-11-04T15:15:32.997Z"
   },
   {
    "duration": 521,
    "start_time": "2022-11-04T15:16:12.698Z"
   },
   {
    "duration": 486,
    "start_time": "2022-11-04T15:17:47.076Z"
   },
   {
    "duration": 22,
    "start_time": "2022-11-04T19:19:51.809Z"
   },
   {
    "duration": 25,
    "start_time": "2022-11-04T19:20:05.307Z"
   },
   {
    "duration": 37,
    "start_time": "2022-11-04T19:20:10.108Z"
   },
   {
    "duration": 5,
    "start_time": "2022-11-04T19:31:19.735Z"
   },
   {
    "duration": 5,
    "start_time": "2022-11-04T19:31:41.020Z"
   },
   {
    "duration": 7,
    "start_time": "2022-11-04T19:32:10.286Z"
   },
   {
    "duration": 24,
    "start_time": "2022-11-04T19:32:42.033Z"
   },
   {
    "duration": 26,
    "start_time": "2022-11-04T19:33:53.342Z"
   },
   {
    "duration": 24,
    "start_time": "2022-11-04T19:34:01.933Z"
   },
   {
    "duration": 6,
    "start_time": "2022-11-04T19:35:12.910Z"
   },
   {
    "duration": 34,
    "start_time": "2022-11-04T19:35:21.322Z"
   },
   {
    "duration": 5,
    "start_time": "2022-11-04T19:35:27.470Z"
   },
   {
    "duration": 1178,
    "start_time": "2022-11-04T19:36:50.201Z"
   },
   {
    "duration": 19,
    "start_time": "2022-11-04T19:36:51.381Z"
   },
   {
    "duration": 5,
    "start_time": "2022-11-04T19:36:51.402Z"
   },
   {
    "duration": 8,
    "start_time": "2022-11-04T19:36:51.409Z"
   },
   {
    "duration": 75,
    "start_time": "2022-11-04T19:36:51.418Z"
   },
   {
    "duration": 17,
    "start_time": "2022-11-04T19:36:51.494Z"
   },
   {
    "duration": 11,
    "start_time": "2022-11-04T19:36:51.512Z"
   },
   {
    "duration": 57,
    "start_time": "2022-11-04T19:36:51.525Z"
   },
   {
    "duration": 6,
    "start_time": "2022-11-04T19:36:51.584Z"
   },
   {
    "duration": 17,
    "start_time": "2022-11-04T19:36:51.592Z"
   },
   {
    "duration": 6,
    "start_time": "2022-11-04T19:36:51.611Z"
   },
   {
    "duration": 9,
    "start_time": "2022-11-04T19:36:51.618Z"
   },
   {
    "duration": 33,
    "start_time": "2022-11-04T19:36:51.629Z"
   },
   {
    "duration": 6,
    "start_time": "2022-11-04T19:36:51.677Z"
   },
   {
    "duration": 24,
    "start_time": "2022-11-04T19:36:51.684Z"
   },
   {
    "duration": 17,
    "start_time": "2022-11-04T19:36:51.710Z"
   },
   {
    "duration": 202,
    "start_time": "2022-11-04T19:36:51.729Z"
   },
   {
    "duration": 19,
    "start_time": "2022-11-04T19:36:51.933Z"
   },
   {
    "duration": 212,
    "start_time": "2022-11-04T19:36:51.953Z"
   },
   {
    "duration": 275,
    "start_time": "2022-11-04T19:36:52.167Z"
   },
   {
    "duration": 234,
    "start_time": "2022-11-04T19:36:52.444Z"
   },
   {
    "duration": 6,
    "start_time": "2022-11-04T19:36:52.680Z"
   },
   {
    "duration": 189,
    "start_time": "2022-11-04T19:36:52.688Z"
   },
   {
    "duration": 339,
    "start_time": "2022-11-04T19:36:52.879Z"
   },
   {
    "duration": 1137,
    "start_time": "2022-11-04T19:36:53.220Z"
   },
   {
    "duration": 36,
    "start_time": "2022-11-04T19:36:54.359Z"
   },
   {
    "duration": 515,
    "start_time": "2022-11-04T19:36:54.396Z"
   },
   {
    "duration": 27,
    "start_time": "2022-11-04T19:53:47.539Z"
   },
   {
    "duration": 27,
    "start_time": "2022-11-04T19:54:12.069Z"
   },
   {
    "duration": 851,
    "start_time": "2022-11-04T19:54:54.154Z"
   },
   {
    "duration": 15,
    "start_time": "2022-11-04T20:02:21.424Z"
   },
   {
    "duration": 24,
    "start_time": "2022-11-04T20:02:37.224Z"
   },
   {
    "duration": 29,
    "start_time": "2022-11-04T20:04:02.748Z"
   },
   {
    "duration": 23,
    "start_time": "2022-11-04T20:04:10.796Z"
   },
   {
    "duration": 318,
    "start_time": "2022-11-04T20:08:40.960Z"
   },
   {
    "duration": 576,
    "start_time": "2022-11-04T20:08:46.601Z"
   },
   {
    "duration": 26,
    "start_time": "2022-11-04T20:09:48.875Z"
   },
   {
    "duration": 80,
    "start_time": "2022-11-04T20:10:04.450Z"
   },
   {
    "duration": 27,
    "start_time": "2022-11-04T20:10:15.694Z"
   },
   {
    "duration": 104,
    "start_time": "2022-11-04T20:10:33.660Z"
   },
   {
    "duration": 29,
    "start_time": "2022-11-04T20:10:50.156Z"
   },
   {
    "duration": 28,
    "start_time": "2022-11-04T20:11:08.862Z"
   },
   {
    "duration": 644,
    "start_time": "2022-11-04T20:11:47.592Z"
   },
   {
    "duration": 586,
    "start_time": "2022-11-04T20:12:08.007Z"
   },
   {
    "duration": 809,
    "start_time": "2022-11-04T20:13:02.393Z"
   },
   {
    "duration": 1053,
    "start_time": "2022-11-04T20:13:16.580Z"
   },
   {
    "duration": 733,
    "start_time": "2022-11-04T20:16:22.872Z"
   },
   {
    "duration": 770,
    "start_time": "2022-11-04T20:19:23.375Z"
   },
   {
    "duration": 690,
    "start_time": "2022-11-04T20:19:48.341Z"
   },
   {
    "duration": 28,
    "start_time": "2022-11-04T20:27:24.641Z"
   },
   {
    "duration": 83,
    "start_time": "2022-11-04T20:27:36.927Z"
   },
   {
    "duration": 27,
    "start_time": "2022-11-04T20:27:47.547Z"
   },
   {
    "duration": 889,
    "start_time": "2022-11-04T20:29:33.226Z"
   },
   {
    "duration": 750,
    "start_time": "2022-11-04T20:42:09.596Z"
   },
   {
    "duration": 889,
    "start_time": "2022-11-04T20:42:43.369Z"
   },
   {
    "duration": 692,
    "start_time": "2022-11-04T20:43:04.874Z"
   },
   {
    "duration": 803,
    "start_time": "2022-11-04T20:44:09.491Z"
   },
   {
    "duration": 870,
    "start_time": "2022-11-04T20:44:18.922Z"
   },
   {
    "duration": 943,
    "start_time": "2022-11-04T20:44:53.351Z"
   },
   {
    "duration": 970,
    "start_time": "2022-11-04T20:45:00.997Z"
   },
   {
    "duration": 700,
    "start_time": "2022-11-04T20:45:15.994Z"
   },
   {
    "duration": 728,
    "start_time": "2022-11-04T20:46:03.722Z"
   },
   {
    "duration": 804,
    "start_time": "2022-11-04T20:46:15.534Z"
   },
   {
    "duration": 709,
    "start_time": "2022-11-04T20:46:25.722Z"
   },
   {
    "duration": 655,
    "start_time": "2022-11-04T21:00:36.193Z"
   },
   {
    "duration": 71,
    "start_time": "2022-11-04T21:12:43.707Z"
   },
   {
    "duration": 24,
    "start_time": "2022-11-04T21:12:52.152Z"
   },
   {
    "duration": 28,
    "start_time": "2022-11-04T21:12:59.476Z"
   },
   {
    "duration": 13,
    "start_time": "2022-11-05T18:00:22.908Z"
   },
   {
    "duration": 63,
    "start_time": "2022-11-05T18:00:40.437Z"
   },
   {
    "duration": 23,
    "start_time": "2022-11-05T18:03:55.046Z"
   },
   {
    "duration": 84,
    "start_time": "2022-11-05T18:05:24.422Z"
   },
   {
    "duration": 73,
    "start_time": "2022-11-05T18:05:28.686Z"
   },
   {
    "duration": 524,
    "start_time": "2022-11-05T18:05:32.572Z"
   },
   {
    "duration": 73,
    "start_time": "2022-11-05T18:07:47.681Z"
   },
   {
    "duration": 32,
    "start_time": "2022-11-05T18:08:21.356Z"
   },
   {
    "duration": 67,
    "start_time": "2022-11-05T18:08:28.332Z"
   },
   {
    "duration": 58,
    "start_time": "2022-11-05T18:10:58.577Z"
   },
   {
    "duration": 59,
    "start_time": "2022-11-05T18:11:53.343Z"
   },
   {
    "duration": 20,
    "start_time": "2022-11-05T18:21:49.229Z"
   },
   {
    "duration": 24,
    "start_time": "2022-11-05T18:24:15.092Z"
   },
   {
    "duration": 31,
    "start_time": "2022-11-05T18:26:33.163Z"
   },
   {
    "duration": 1221,
    "start_time": "2022-11-05T18:32:35.972Z"
   },
   {
    "duration": 28,
    "start_time": "2022-11-05T18:32:47.288Z"
   },
   {
    "duration": 21,
    "start_time": "2022-11-05T18:33:10.315Z"
   },
   {
    "duration": 26,
    "start_time": "2022-11-05T18:33:16.771Z"
   },
   {
    "duration": 175,
    "start_time": "2022-11-05T18:33:35.556Z"
   },
   {
    "duration": 149,
    "start_time": "2022-11-05T18:34:40.710Z"
   },
   {
    "duration": 164,
    "start_time": "2022-11-05T18:34:50.688Z"
   },
   {
    "duration": 23,
    "start_time": "2022-11-05T18:48:58.356Z"
   },
   {
    "duration": 69,
    "start_time": "2022-11-05T18:49:55.848Z"
   },
   {
    "duration": 22,
    "start_time": "2022-11-05T18:50:03.872Z"
   },
   {
    "duration": 23,
    "start_time": "2022-11-05T18:50:38.786Z"
   },
   {
    "duration": 28,
    "start_time": "2022-11-05T18:53:07.511Z"
   },
   {
    "duration": 149,
    "start_time": "2022-11-05T18:53:27.204Z"
   },
   {
    "duration": 1079,
    "start_time": "2022-11-05T18:57:53.662Z"
   },
   {
    "duration": 127,
    "start_time": "2022-11-05T18:58:18.999Z"
   },
   {
    "duration": 120,
    "start_time": "2022-11-05T19:00:21.396Z"
   },
   {
    "duration": 74,
    "start_time": "2022-11-05T19:00:34.337Z"
   },
   {
    "duration": 124,
    "start_time": "2022-11-05T19:00:38.081Z"
   },
   {
    "duration": 131,
    "start_time": "2022-11-05T19:00:44.773Z"
   },
   {
    "duration": 657,
    "start_time": "2022-11-05T19:03:29.015Z"
   },
   {
    "duration": 673,
    "start_time": "2022-11-05T19:03:53.019Z"
   },
   {
    "duration": 4,
    "start_time": "2022-11-05T19:04:03.579Z"
   },
   {
    "duration": 748,
    "start_time": "2022-11-05T19:04:18.004Z"
   },
   {
    "duration": 650,
    "start_time": "2022-11-05T19:04:42.877Z"
   },
   {
    "duration": 619,
    "start_time": "2022-11-05T19:05:04.252Z"
   },
   {
    "duration": 124,
    "start_time": "2022-11-05T19:05:22.720Z"
   },
   {
    "duration": 120,
    "start_time": "2022-11-05T19:05:33.530Z"
   },
   {
    "duration": 494,
    "start_time": "2022-11-05T19:08:55.165Z"
   },
   {
    "duration": 344,
    "start_time": "2022-11-05T19:33:38.491Z"
   },
   {
    "duration": 112,
    "start_time": "2022-11-05T19:34:12.860Z"
   },
   {
    "duration": 318,
    "start_time": "2022-11-05T19:36:17.290Z"
   },
   {
    "duration": 374,
    "start_time": "2022-11-05T19:37:53.141Z"
   },
   {
    "duration": 9,
    "start_time": "2022-11-05T19:40:27.181Z"
   },
   {
    "duration": 338,
    "start_time": "2022-11-05T19:40:33.902Z"
   },
   {
    "duration": 320,
    "start_time": "2022-11-05T19:40:46.350Z"
   },
   {
    "duration": 70,
    "start_time": "2022-11-05T19:42:27.189Z"
   },
   {
    "duration": 155,
    "start_time": "2022-11-05T19:42:39.291Z"
   },
   {
    "duration": 73,
    "start_time": "2022-11-05T19:42:42.067Z"
   },
   {
    "duration": 165,
    "start_time": "2022-11-05T19:42:49.827Z"
   },
   {
    "duration": 149,
    "start_time": "2022-11-05T19:43:13.947Z"
   },
   {
    "duration": 171,
    "start_time": "2022-11-05T19:43:21.307Z"
   },
   {
    "duration": 18,
    "start_time": "2022-11-05T19:43:46.681Z"
   },
   {
    "duration": 165,
    "start_time": "2022-11-05T19:44:13.237Z"
   },
   {
    "duration": 287,
    "start_time": "2022-11-05T19:44:22.398Z"
   },
   {
    "duration": 195,
    "start_time": "2022-11-05T19:46:04.729Z"
   },
   {
    "duration": 163,
    "start_time": "2022-11-05T19:46:21.458Z"
   },
   {
    "duration": 16,
    "start_time": "2022-11-05T19:50:20.757Z"
   },
   {
    "duration": 110,
    "start_time": "2022-11-05T19:50:48.506Z"
   },
   {
    "duration": 1097,
    "start_time": "2022-11-05T19:52:08.676Z"
   },
   {
    "duration": 65,
    "start_time": "2022-11-05T19:52:33.116Z"
   },
   {
    "duration": 150,
    "start_time": "2022-11-05T19:52:37.985Z"
   },
   {
    "duration": 168,
    "start_time": "2022-11-05T19:52:55.096Z"
   },
   {
    "duration": 151,
    "start_time": "2022-11-05T20:00:14.037Z"
   },
   {
    "duration": 18,
    "start_time": "2022-11-05T20:45:40.666Z"
   },
   {
    "duration": 15,
    "start_time": "2022-11-05T20:45:58.176Z"
   },
   {
    "duration": 15,
    "start_time": "2022-11-05T20:47:54.968Z"
   },
   {
    "duration": 451,
    "start_time": "2022-11-05T20:48:08.919Z"
   },
   {
    "duration": 17,
    "start_time": "2022-11-05T20:48:35.253Z"
   },
   {
    "duration": 1157,
    "start_time": "2022-11-05T20:49:08.686Z"
   },
   {
    "duration": 14,
    "start_time": "2022-11-05T20:49:09.845Z"
   },
   {
    "duration": 5,
    "start_time": "2022-11-05T20:49:09.860Z"
   },
   {
    "duration": 7,
    "start_time": "2022-11-05T20:49:09.866Z"
   },
   {
    "duration": 52,
    "start_time": "2022-11-05T20:49:09.874Z"
   },
   {
    "duration": 15,
    "start_time": "2022-11-05T20:49:09.928Z"
   },
   {
    "duration": 10,
    "start_time": "2022-11-05T20:49:09.944Z"
   },
   {
    "duration": 46,
    "start_time": "2022-11-05T20:49:09.955Z"
   },
   {
    "duration": 6,
    "start_time": "2022-11-05T20:49:10.002Z"
   },
   {
    "duration": 5,
    "start_time": "2022-11-05T20:49:10.010Z"
   },
   {
    "duration": 6,
    "start_time": "2022-11-05T20:49:10.016Z"
   },
   {
    "duration": 9,
    "start_time": "2022-11-05T20:49:10.023Z"
   },
   {
    "duration": 50,
    "start_time": "2022-11-05T20:49:10.033Z"
   },
   {
    "duration": 8,
    "start_time": "2022-11-05T20:49:10.084Z"
   },
   {
    "duration": 21,
    "start_time": "2022-11-05T20:49:10.094Z"
   },
   {
    "duration": 16,
    "start_time": "2022-11-05T20:49:10.117Z"
   },
   {
    "duration": 178,
    "start_time": "2022-11-05T20:49:10.134Z"
   },
   {
    "duration": 15,
    "start_time": "2022-11-05T20:49:10.314Z"
   },
   {
    "duration": 199,
    "start_time": "2022-11-05T20:49:10.330Z"
   },
   {
    "duration": 252,
    "start_time": "2022-11-05T20:49:10.531Z"
   },
   {
    "duration": 204,
    "start_time": "2022-11-05T20:49:10.785Z"
   },
   {
    "duration": 5,
    "start_time": "2022-11-05T20:49:10.990Z"
   },
   {
    "duration": 156,
    "start_time": "2022-11-05T20:49:10.996Z"
   },
   {
    "duration": 266,
    "start_time": "2022-11-05T20:49:11.154Z"
   },
   {
    "duration": 1077,
    "start_time": "2022-11-05T20:49:11.422Z"
   },
   {
    "duration": 640,
    "start_time": "2022-11-05T20:49:12.501Z"
   },
   {
    "duration": 177,
    "start_time": "2022-11-05T20:49:13.143Z"
   },
   {
    "duration": 401,
    "start_time": "2022-11-05T20:49:13.323Z"
   },
   {
    "duration": 179,
    "start_time": "2022-11-05T20:49:13.726Z"
   },
   {
    "duration": 116,
    "start_time": "2022-11-05T20:49:13.906Z"
   },
   {
    "duration": 33,
    "start_time": "2022-11-05T20:49:27.779Z"
   },
   {
    "duration": 8,
    "start_time": "2022-11-05T20:49:39.531Z"
   },
   {
    "duration": 7,
    "start_time": "2022-11-05T20:50:02.129Z"
   },
   {
    "duration": 125,
    "start_time": "2022-11-05T20:50:09.334Z"
   },
   {
    "duration": 234,
    "start_time": "2022-11-05T20:50:36.135Z"
   },
   {
    "duration": 146,
    "start_time": "2022-11-05T20:51:33.623Z"
   },
   {
    "duration": 148,
    "start_time": "2022-11-05T20:51:43.201Z"
   },
   {
    "duration": 146,
    "start_time": "2022-11-05T20:51:55.359Z"
   },
   {
    "duration": 139,
    "start_time": "2022-11-05T20:52:12.398Z"
   },
   {
    "duration": 159,
    "start_time": "2022-11-05T20:52:40.592Z"
   },
   {
    "duration": 137,
    "start_time": "2022-11-05T20:52:55.489Z"
   },
   {
    "duration": 149,
    "start_time": "2022-11-05T20:53:05.148Z"
   },
   {
    "duration": 20,
    "start_time": "2022-11-05T20:56:53.061Z"
   },
   {
    "duration": 18,
    "start_time": "2022-11-05T20:57:25.738Z"
   },
   {
    "duration": 11,
    "start_time": "2022-11-05T20:59:10.255Z"
   },
   {
    "duration": 16,
    "start_time": "2022-11-05T21:00:08.281Z"
   },
   {
    "duration": 10,
    "start_time": "2022-11-05T21:00:21.208Z"
   },
   {
    "duration": 10,
    "start_time": "2022-11-05T21:00:27.015Z"
   },
   {
    "duration": 10,
    "start_time": "2022-11-05T21:10:10.194Z"
   },
   {
    "duration": 64,
    "start_time": "2022-11-05T21:10:33.102Z"
   },
   {
    "duration": 10,
    "start_time": "2022-11-05T21:10:38.113Z"
   },
   {
    "duration": 75,
    "start_time": "2022-11-05T21:11:09.618Z"
   },
   {
    "duration": 10,
    "start_time": "2022-11-05T21:11:24.668Z"
   },
   {
    "duration": 10,
    "start_time": "2022-11-05T21:11:31.828Z"
   },
   {
    "duration": 11,
    "start_time": "2022-11-05T21:17:03.893Z"
   },
   {
    "duration": 1242,
    "start_time": "2022-11-06T11:47:47.721Z"
   },
   {
    "duration": 15,
    "start_time": "2022-11-06T11:47:48.965Z"
   },
   {
    "duration": 14,
    "start_time": "2022-11-06T11:47:48.982Z"
   },
   {
    "duration": 25,
    "start_time": "2022-11-06T11:47:48.998Z"
   },
   {
    "duration": 72,
    "start_time": "2022-11-06T11:47:49.025Z"
   },
   {
    "duration": 16,
    "start_time": "2022-11-06T11:47:49.098Z"
   },
   {
    "duration": 33,
    "start_time": "2022-11-06T11:47:49.116Z"
   },
   {
    "duration": 45,
    "start_time": "2022-11-06T11:47:49.151Z"
   },
   {
    "duration": 8,
    "start_time": "2022-11-06T11:47:49.198Z"
   },
   {
    "duration": 6,
    "start_time": "2022-11-06T11:47:49.210Z"
   },
   {
    "duration": 6,
    "start_time": "2022-11-06T11:47:49.217Z"
   },
   {
    "duration": 8,
    "start_time": "2022-11-06T11:47:49.225Z"
   },
   {
    "duration": 22,
    "start_time": "2022-11-06T11:47:49.235Z"
   },
   {
    "duration": 5,
    "start_time": "2022-11-06T11:47:49.258Z"
   },
   {
    "duration": 49,
    "start_time": "2022-11-06T11:47:49.264Z"
   },
   {
    "duration": 15,
    "start_time": "2022-11-06T11:47:49.315Z"
   },
   {
    "duration": 194,
    "start_time": "2022-11-06T11:47:49.332Z"
   },
   {
    "duration": 15,
    "start_time": "2022-11-06T11:47:49.527Z"
   },
   {
    "duration": 197,
    "start_time": "2022-11-06T11:47:49.544Z"
   },
   {
    "duration": 270,
    "start_time": "2022-11-06T11:47:49.743Z"
   },
   {
    "duration": 224,
    "start_time": "2022-11-06T11:47:50.015Z"
   },
   {
    "duration": 6,
    "start_time": "2022-11-06T11:47:50.240Z"
   },
   {
    "duration": 174,
    "start_time": "2022-11-06T11:47:50.248Z"
   },
   {
    "duration": 285,
    "start_time": "2022-11-06T11:47:50.424Z"
   },
   {
    "duration": 1134,
    "start_time": "2022-11-06T11:47:50.710Z"
   },
   {
    "duration": 687,
    "start_time": "2022-11-06T11:47:51.846Z"
   },
   {
    "duration": 209,
    "start_time": "2022-11-06T11:47:52.536Z"
   },
   {
    "duration": 484,
    "start_time": "2022-11-06T11:47:52.749Z"
   },
   {
    "duration": 166,
    "start_time": "2022-11-06T11:47:53.235Z"
   },
   {
    "duration": 16,
    "start_time": "2022-11-06T11:47:53.402Z"
   },
   {
    "duration": 16,
    "start_time": "2022-11-06T11:47:53.419Z"
   },
   {
    "duration": 4,
    "start_time": "2022-11-06T11:51:05.586Z"
   },
   {
    "duration": 5,
    "start_time": "2022-11-06T12:09:20.047Z"
   },
   {
    "duration": 17,
    "start_time": "2022-11-06T12:18:33.880Z"
   },
   {
    "duration": 431,
    "start_time": "2022-11-06T12:18:35.222Z"
   },
   {
    "duration": 1225,
    "start_time": "2022-11-06T12:19:38.875Z"
   },
   {
    "duration": 15,
    "start_time": "2022-11-06T12:19:40.103Z"
   },
   {
    "duration": 19,
    "start_time": "2022-11-06T12:19:40.120Z"
   },
   {
    "duration": 25,
    "start_time": "2022-11-06T12:19:40.141Z"
   },
   {
    "duration": 102,
    "start_time": "2022-11-06T12:19:40.167Z"
   },
   {
    "duration": 15,
    "start_time": "2022-11-06T12:19:40.271Z"
   },
   {
    "duration": 44,
    "start_time": "2022-11-06T12:19:40.288Z"
   },
   {
    "duration": 51,
    "start_time": "2022-11-06T12:19:40.333Z"
   },
   {
    "duration": 9,
    "start_time": "2022-11-06T12:19:40.386Z"
   },
   {
    "duration": 52,
    "start_time": "2022-11-06T12:19:40.399Z"
   },
   {
    "duration": 58,
    "start_time": "2022-11-06T12:19:40.452Z"
   },
   {
    "duration": 61,
    "start_time": "2022-11-06T12:19:40.512Z"
   },
   {
    "duration": 58,
    "start_time": "2022-11-06T12:19:40.575Z"
   },
   {
    "duration": 66,
    "start_time": "2022-11-06T12:19:40.634Z"
   },
   {
    "duration": 40,
    "start_time": "2022-11-06T12:19:40.701Z"
   },
   {
    "duration": 48,
    "start_time": "2022-11-06T12:19:40.742Z"
   },
   {
    "duration": 181,
    "start_time": "2022-11-06T12:19:40.792Z"
   },
   {
    "duration": 17,
    "start_time": "2022-11-06T12:19:40.975Z"
   },
   {
    "duration": 250,
    "start_time": "2022-11-06T12:19:40.994Z"
   },
   {
    "duration": 262,
    "start_time": "2022-11-06T12:19:41.246Z"
   },
   {
    "duration": 240,
    "start_time": "2022-11-06T12:19:41.510Z"
   },
   {
    "duration": 5,
    "start_time": "2022-11-06T12:19:41.752Z"
   },
   {
    "duration": 189,
    "start_time": "2022-11-06T12:19:41.758Z"
   },
   {
    "duration": 505,
    "start_time": "2022-11-06T12:19:41.949Z"
   },
   {
    "duration": 1962,
    "start_time": "2022-11-06T12:19:42.455Z"
   },
   {
    "duration": 685,
    "start_time": "2022-11-06T12:19:44.419Z"
   },
   {
    "duration": 172,
    "start_time": "2022-11-06T12:19:45.105Z"
   },
   {
    "duration": 393,
    "start_time": "2022-11-06T12:19:45.280Z"
   },
   {
    "duration": 160,
    "start_time": "2022-11-06T12:19:45.675Z"
   },
   {
    "duration": 11,
    "start_time": "2022-11-06T12:19:45.836Z"
   },
   {
    "duration": 85,
    "start_time": "2022-11-06T12:19:45.849Z"
   },
   {
    "duration": 1258,
    "start_time": "2022-11-06T14:36:16.398Z"
   },
   {
    "duration": 15,
    "start_time": "2022-11-06T14:36:17.658Z"
   },
   {
    "duration": 7,
    "start_time": "2022-11-06T14:36:17.675Z"
   },
   {
    "duration": 7,
    "start_time": "2022-11-06T14:36:17.684Z"
   },
   {
    "duration": 73,
    "start_time": "2022-11-06T14:36:17.692Z"
   },
   {
    "duration": 16,
    "start_time": "2022-11-06T14:36:17.766Z"
   },
   {
    "duration": 30,
    "start_time": "2022-11-06T14:36:17.784Z"
   },
   {
    "duration": 38,
    "start_time": "2022-11-06T14:36:17.816Z"
   },
   {
    "duration": 6,
    "start_time": "2022-11-06T14:36:17.856Z"
   },
   {
    "duration": 11,
    "start_time": "2022-11-06T14:36:17.865Z"
   },
   {
    "duration": 20,
    "start_time": "2022-11-06T14:36:17.877Z"
   },
   {
    "duration": 16,
    "start_time": "2022-11-06T14:36:17.899Z"
   },
   {
    "duration": 41,
    "start_time": "2022-11-06T14:36:17.916Z"
   },
   {
    "duration": 11,
    "start_time": "2022-11-06T14:36:17.958Z"
   },
   {
    "duration": 27,
    "start_time": "2022-11-06T14:36:17.970Z"
   },
   {
    "duration": 14,
    "start_time": "2022-11-06T14:36:17.999Z"
   },
   {
    "duration": 197,
    "start_time": "2022-11-06T14:36:18.014Z"
   },
   {
    "duration": 20,
    "start_time": "2022-11-06T14:36:18.213Z"
   },
   {
    "duration": 204,
    "start_time": "2022-11-06T14:36:18.234Z"
   },
   {
    "duration": 278,
    "start_time": "2022-11-06T14:36:18.439Z"
   },
   {
    "duration": 228,
    "start_time": "2022-11-06T14:36:18.719Z"
   },
   {
    "duration": 6,
    "start_time": "2022-11-06T14:36:18.949Z"
   },
   {
    "duration": 170,
    "start_time": "2022-11-06T14:36:18.956Z"
   },
   {
    "duration": 289,
    "start_time": "2022-11-06T14:36:19.127Z"
   },
   {
    "duration": 1147,
    "start_time": "2022-11-06T14:36:19.418Z"
   },
   {
    "duration": 673,
    "start_time": "2022-11-06T14:36:20.567Z"
   },
   {
    "duration": 168,
    "start_time": "2022-11-06T14:36:21.241Z"
   },
   {
    "duration": 397,
    "start_time": "2022-11-06T14:36:21.412Z"
   },
   {
    "duration": 168,
    "start_time": "2022-11-06T14:36:21.810Z"
   },
   {
    "duration": 10,
    "start_time": "2022-11-06T14:36:21.980Z"
   },
   {
    "duration": 22,
    "start_time": "2022-11-06T14:36:21.991Z"
   },
   {
    "duration": 96,
    "start_time": "2022-11-06T19:48:33.793Z"
   },
   {
    "duration": 1151,
    "start_time": "2022-11-06T19:53:49.123Z"
   },
   {
    "duration": 1043,
    "start_time": "2022-11-06T19:54:04.138Z"
   },
   {
    "duration": 78,
    "start_time": "2022-11-06T19:54:05.183Z"
   },
   {
    "duration": 24,
    "start_time": "2022-11-06T19:54:05.263Z"
   },
   {
    "duration": 11,
    "start_time": "2022-11-06T19:54:05.289Z"
   },
   {
    "duration": 9,
    "start_time": "2022-11-06T19:54:05.304Z"
   },
   {
    "duration": 57,
    "start_time": "2022-11-06T19:54:05.315Z"
   },
   {
    "duration": 18,
    "start_time": "2022-11-06T19:54:05.373Z"
   },
   {
    "duration": 12,
    "start_time": "2022-11-06T19:54:05.393Z"
   },
   {
    "duration": 78,
    "start_time": "2022-11-06T19:54:05.408Z"
   },
   {
    "duration": 9,
    "start_time": "2022-11-06T19:54:05.489Z"
   },
   {
    "duration": 8,
    "start_time": "2022-11-06T19:54:05.500Z"
   },
   {
    "duration": 6,
    "start_time": "2022-11-06T19:54:05.509Z"
   },
   {
    "duration": 8,
    "start_time": "2022-11-06T19:54:05.517Z"
   },
   {
    "duration": 58,
    "start_time": "2022-11-06T19:54:05.527Z"
   },
   {
    "duration": 6,
    "start_time": "2022-11-06T19:54:05.587Z"
   },
   {
    "duration": 25,
    "start_time": "2022-11-06T19:54:05.595Z"
   },
   {
    "duration": 23,
    "start_time": "2022-11-06T19:54:05.622Z"
   },
   {
    "duration": 231,
    "start_time": "2022-11-06T19:54:05.647Z"
   },
   {
    "duration": 18,
    "start_time": "2022-11-06T19:54:05.880Z"
   },
   {
    "duration": 203,
    "start_time": "2022-11-06T19:54:05.899Z"
   },
   {
    "duration": 293,
    "start_time": "2022-11-06T19:54:06.104Z"
   },
   {
    "duration": 241,
    "start_time": "2022-11-06T19:54:06.399Z"
   },
   {
    "duration": 5,
    "start_time": "2022-11-06T19:54:06.642Z"
   },
   {
    "duration": 188,
    "start_time": "2022-11-06T19:54:06.649Z"
   },
   {
    "duration": 300,
    "start_time": "2022-11-06T19:54:06.839Z"
   },
   {
    "duration": 1249,
    "start_time": "2022-11-06T19:54:07.142Z"
   },
   {
    "duration": 675,
    "start_time": "2022-11-06T19:54:08.393Z"
   },
   {
    "duration": 178,
    "start_time": "2022-11-06T19:54:09.071Z"
   },
   {
    "duration": 415,
    "start_time": "2022-11-06T19:54:09.250Z"
   },
   {
    "duration": 169,
    "start_time": "2022-11-06T19:54:09.666Z"
   },
   {
    "duration": 10,
    "start_time": "2022-11-06T19:54:09.837Z"
   },
   {
    "duration": 24,
    "start_time": "2022-11-06T19:54:09.849Z"
   },
   {
    "duration": 1582,
    "start_time": "2022-11-06T20:04:26.028Z"
   },
   {
    "duration": 167,
    "start_time": "2022-11-06T20:04:52.128Z"
   },
   {
    "duration": 249,
    "start_time": "2022-11-06T20:07:23.130Z"
   },
   {
    "duration": 176,
    "start_time": "2022-11-06T20:07:38.636Z"
   },
   {
    "duration": 194,
    "start_time": "2022-11-06T20:19:19.992Z"
   },
   {
    "duration": 97,
    "start_time": "2022-11-06T20:21:07.690Z"
   },
   {
    "duration": 295,
    "start_time": "2022-11-06T20:21:14.204Z"
   },
   {
    "duration": 227,
    "start_time": "2022-11-06T20:21:54.024Z"
   },
   {
    "duration": 101,
    "start_time": "2022-11-06T20:23:25.388Z"
   },
   {
    "duration": 159,
    "start_time": "2022-11-06T20:23:34.809Z"
   },
   {
    "duration": 159,
    "start_time": "2022-11-06T20:23:46.183Z"
   },
   {
    "duration": 165,
    "start_time": "2022-11-06T20:24:56.471Z"
   },
   {
    "duration": 170,
    "start_time": "2022-11-06T20:28:40.214Z"
   },
   {
    "duration": 172,
    "start_time": "2022-11-06T20:28:59.900Z"
   },
   {
    "duration": 261,
    "start_time": "2022-11-06T20:29:15.669Z"
   },
   {
    "duration": 157,
    "start_time": "2022-11-06T20:30:33.486Z"
   },
   {
    "duration": 104,
    "start_time": "2022-11-06T20:31:05.128Z"
   },
   {
    "duration": 161,
    "start_time": "2022-11-06T20:31:09.793Z"
   },
   {
    "duration": 179,
    "start_time": "2022-11-06T20:31:25.962Z"
   },
   {
    "duration": 166,
    "start_time": "2022-11-06T20:32:39.590Z"
   },
   {
    "duration": 101,
    "start_time": "2022-11-06T20:32:53.589Z"
   },
   {
    "duration": 177,
    "start_time": "2022-11-06T20:33:25.898Z"
   },
   {
    "duration": 189,
    "start_time": "2022-11-06T20:33:30.073Z"
   },
   {
    "duration": 229,
    "start_time": "2022-11-06T20:33:37.898Z"
   },
   {
    "duration": 160,
    "start_time": "2022-11-06T20:34:40.575Z"
   },
   {
    "duration": 191,
    "start_time": "2022-11-06T20:34:47.250Z"
   },
   {
    "duration": 282,
    "start_time": "2022-11-06T20:34:54.230Z"
   },
   {
    "duration": 325,
    "start_time": "2022-11-06T20:49:27.820Z"
   },
   {
    "duration": 295,
    "start_time": "2022-11-06T20:49:42.635Z"
   },
   {
    "duration": 254,
    "start_time": "2022-11-06T20:49:59.393Z"
   },
   {
    "duration": 71,
    "start_time": "2022-11-06T20:55:37.428Z"
   },
   {
    "duration": 766,
    "start_time": "2022-11-06T20:55:42.334Z"
   },
   {
    "duration": 165,
    "start_time": "2022-11-06T20:56:23.919Z"
   },
   {
    "duration": 867,
    "start_time": "2022-11-06T20:57:41.499Z"
   },
   {
    "duration": 207,
    "start_time": "2022-11-06T20:58:57.502Z"
   },
   {
    "duration": 188,
    "start_time": "2022-11-06T20:59:53.216Z"
   },
   {
    "duration": 216,
    "start_time": "2022-11-06T21:00:05.820Z"
   },
   {
    "duration": 508,
    "start_time": "2022-11-06T21:00:47.682Z"
   },
   {
    "duration": 166,
    "start_time": "2022-11-06T21:03:08.337Z"
   },
   {
    "duration": 11,
    "start_time": "2022-11-06T21:03:35.260Z"
   },
   {
    "duration": 11,
    "start_time": "2022-11-06T21:05:10.663Z"
   },
   {
    "duration": 154,
    "start_time": "2022-11-06T21:34:03.285Z"
   },
   {
    "duration": 167,
    "start_time": "2022-11-06T21:34:22.507Z"
   },
   {
    "duration": 274,
    "start_time": "2022-11-06T21:35:51.165Z"
   },
   {
    "duration": 159,
    "start_time": "2022-11-06T21:36:04.792Z"
   },
   {
    "duration": 8,
    "start_time": "2022-11-07T09:34:45.970Z"
   },
   {
    "duration": 1119,
    "start_time": "2022-11-07T09:34:55.872Z"
   },
   {
    "duration": 77,
    "start_time": "2022-11-07T09:34:56.993Z"
   },
   {
    "duration": 14,
    "start_time": "2022-11-07T09:34:57.072Z"
   },
   {
    "duration": 5,
    "start_time": "2022-11-07T09:34:57.088Z"
   },
   {
    "duration": 7,
    "start_time": "2022-11-07T09:34:57.094Z"
   },
   {
    "duration": 57,
    "start_time": "2022-11-07T09:34:57.102Z"
   },
   {
    "duration": 17,
    "start_time": "2022-11-07T09:34:57.176Z"
   },
   {
    "duration": 27,
    "start_time": "2022-11-07T09:34:57.195Z"
   },
   {
    "duration": 42,
    "start_time": "2022-11-07T09:34:57.224Z"
   },
   {
    "duration": 8,
    "start_time": "2022-11-07T09:34:57.269Z"
   },
   {
    "duration": 11,
    "start_time": "2022-11-07T09:34:57.279Z"
   },
   {
    "duration": 4,
    "start_time": "2022-11-07T09:34:57.292Z"
   },
   {
    "duration": 9,
    "start_time": "2022-11-07T09:34:57.298Z"
   },
   {
    "duration": 22,
    "start_time": "2022-11-07T09:34:57.309Z"
   },
   {
    "duration": 16,
    "start_time": "2022-11-07T09:34:57.334Z"
   },
   {
    "duration": 37,
    "start_time": "2022-11-07T09:34:57.352Z"
   },
   {
    "duration": 14,
    "start_time": "2022-11-07T09:34:57.391Z"
   },
   {
    "duration": 188,
    "start_time": "2022-11-07T09:34:57.408Z"
   },
   {
    "duration": 17,
    "start_time": "2022-11-07T09:34:57.598Z"
   },
   {
    "duration": 280,
    "start_time": "2022-11-07T09:34:57.616Z"
   },
   {
    "duration": 314,
    "start_time": "2022-11-07T09:34:57.898Z"
   },
   {
    "duration": 228,
    "start_time": "2022-11-07T09:34:58.214Z"
   },
   {
    "duration": 6,
    "start_time": "2022-11-07T09:34:58.444Z"
   },
   {
    "duration": 181,
    "start_time": "2022-11-07T09:34:58.452Z"
   },
   {
    "duration": 171,
    "start_time": "2022-11-07T09:34:58.635Z"
   },
   {
    "duration": 275,
    "start_time": "2022-11-07T09:34:58.808Z"
   },
   {
    "duration": 1084,
    "start_time": "2022-11-07T09:34:59.084Z"
   },
   {
    "duration": 689,
    "start_time": "2022-11-07T09:35:00.176Z"
   },
   {
    "duration": 177,
    "start_time": "2022-11-07T09:35:00.866Z"
   },
   {
    "duration": 416,
    "start_time": "2022-11-07T09:35:01.045Z"
   },
   {
    "duration": 176,
    "start_time": "2022-11-07T09:35:01.463Z"
   },
   {
    "duration": 10,
    "start_time": "2022-11-07T09:35:01.640Z"
   },
   {
    "duration": 26,
    "start_time": "2022-11-07T09:35:01.652Z"
   },
   {
    "duration": 16,
    "start_time": "2022-11-07T09:47:43.800Z"
   },
   {
    "duration": 93,
    "start_time": "2022-11-07T09:47:59.303Z"
   },
   {
    "duration": 8,
    "start_time": "2022-11-07T09:48:02.818Z"
   },
   {
    "duration": 5,
    "start_time": "2022-11-07T09:48:15.795Z"
   },
   {
    "duration": 14,
    "start_time": "2022-11-07T09:48:22.822Z"
   },
   {
    "duration": 1095,
    "start_time": "2022-11-08T15:16:40.273Z"
   },
   {
    "duration": 74,
    "start_time": "2022-11-08T15:16:41.370Z"
   },
   {
    "duration": 14,
    "start_time": "2022-11-08T15:16:41.446Z"
   },
   {
    "duration": 5,
    "start_time": "2022-11-08T15:16:41.462Z"
   },
   {
    "duration": 10,
    "start_time": "2022-11-08T15:16:41.469Z"
   },
   {
    "duration": 68,
    "start_time": "2022-11-08T15:16:41.481Z"
   },
   {
    "duration": 18,
    "start_time": "2022-11-08T15:16:41.551Z"
   },
   {
    "duration": 16,
    "start_time": "2022-11-08T15:16:41.571Z"
   },
   {
    "duration": 34,
    "start_time": "2022-11-08T15:16:41.589Z"
   },
   {
    "duration": 27,
    "start_time": "2022-11-08T15:16:41.625Z"
   },
   {
    "duration": 9,
    "start_time": "2022-11-08T15:16:41.653Z"
   },
   {
    "duration": 5,
    "start_time": "2022-11-08T15:16:41.663Z"
   },
   {
    "duration": 9,
    "start_time": "2022-11-08T15:16:41.669Z"
   },
   {
    "duration": 23,
    "start_time": "2022-11-08T15:16:41.680Z"
   },
   {
    "duration": 3,
    "start_time": "2022-11-08T15:16:41.705Z"
   },
   {
    "duration": 23,
    "start_time": "2022-11-08T15:16:41.710Z"
   },
   {
    "duration": 24,
    "start_time": "2022-11-08T15:16:41.735Z"
   },
   {
    "duration": 177,
    "start_time": "2022-11-08T15:16:41.760Z"
   },
   {
    "duration": 22,
    "start_time": "2022-11-08T15:16:41.938Z"
   },
   {
    "duration": 214,
    "start_time": "2022-11-08T15:16:41.961Z"
   },
   {
    "duration": 287,
    "start_time": "2022-11-08T15:16:42.177Z"
   },
   {
    "duration": 237,
    "start_time": "2022-11-08T15:16:42.466Z"
   },
   {
    "duration": 6,
    "start_time": "2022-11-08T15:16:42.704Z"
   },
   {
    "duration": 184,
    "start_time": "2022-11-08T15:16:42.711Z"
   },
   {
    "duration": 174,
    "start_time": "2022-11-08T15:16:42.897Z"
   },
   {
    "duration": 520,
    "start_time": "2022-11-08T15:16:43.073Z"
   },
   {
    "duration": 0,
    "start_time": "2022-11-08T15:16:43.595Z"
   },
   {
    "duration": 0,
    "start_time": "2022-11-08T15:16:43.596Z"
   },
   {
    "duration": 0,
    "start_time": "2022-11-08T15:16:43.598Z"
   },
   {
    "duration": 0,
    "start_time": "2022-11-08T15:16:43.599Z"
   },
   {
    "duration": 0,
    "start_time": "2022-11-08T15:16:43.600Z"
   },
   {
    "duration": 0,
    "start_time": "2022-11-08T15:16:43.601Z"
   },
   {
    "duration": 0,
    "start_time": "2022-11-08T15:16:43.602Z"
   },
   {
    "duration": 1095,
    "start_time": "2022-11-08T15:38:12.674Z"
   },
   {
    "duration": 91,
    "start_time": "2022-11-08T15:38:13.771Z"
   },
   {
    "duration": 22,
    "start_time": "2022-11-08T15:38:13.864Z"
   },
   {
    "duration": 7,
    "start_time": "2022-11-08T15:38:13.889Z"
   },
   {
    "duration": 10,
    "start_time": "2022-11-08T15:38:13.898Z"
   },
   {
    "duration": 74,
    "start_time": "2022-11-08T15:38:13.910Z"
   },
   {
    "duration": 15,
    "start_time": "2022-11-08T15:38:13.986Z"
   },
   {
    "duration": 11,
    "start_time": "2022-11-08T15:38:14.002Z"
   },
   {
    "duration": 56,
    "start_time": "2022-11-08T15:38:14.014Z"
   },
   {
    "duration": 6,
    "start_time": "2022-11-08T15:38:14.074Z"
   },
   {
    "duration": 11,
    "start_time": "2022-11-08T15:38:14.081Z"
   },
   {
    "duration": 8,
    "start_time": "2022-11-08T15:38:14.094Z"
   },
   {
    "duration": 8,
    "start_time": "2022-11-08T15:38:14.103Z"
   },
   {
    "duration": 44,
    "start_time": "2022-11-08T15:38:14.113Z"
   },
   {
    "duration": 6,
    "start_time": "2022-11-08T15:38:14.159Z"
   },
   {
    "duration": 26,
    "start_time": "2022-11-08T15:38:14.166Z"
   },
   {
    "duration": 15,
    "start_time": "2022-11-08T15:38:14.194Z"
   },
   {
    "duration": 188,
    "start_time": "2022-11-08T15:38:14.210Z"
   },
   {
    "duration": 14,
    "start_time": "2022-11-08T15:38:14.400Z"
   },
   {
    "duration": 212,
    "start_time": "2022-11-08T15:38:14.416Z"
   },
   {
    "duration": 287,
    "start_time": "2022-11-08T15:38:14.629Z"
   },
   {
    "duration": 245,
    "start_time": "2022-11-08T15:38:14.918Z"
   },
   {
    "duration": 6,
    "start_time": "2022-11-08T15:38:15.164Z"
   },
   {
    "duration": 174,
    "start_time": "2022-11-08T15:38:15.171Z"
   },
   {
    "duration": 170,
    "start_time": "2022-11-08T15:38:15.348Z"
   },
   {
    "duration": 580,
    "start_time": "2022-11-08T15:38:15.520Z"
   },
   {
    "duration": 1,
    "start_time": "2022-11-08T15:38:16.101Z"
   },
   {
    "duration": 0,
    "start_time": "2022-11-08T15:38:16.103Z"
   },
   {
    "duration": 0,
    "start_time": "2022-11-08T15:38:16.104Z"
   },
   {
    "duration": 0,
    "start_time": "2022-11-08T15:38:16.105Z"
   },
   {
    "duration": 0,
    "start_time": "2022-11-08T15:38:16.107Z"
   },
   {
    "duration": 0,
    "start_time": "2022-11-08T15:38:16.108Z"
   },
   {
    "duration": 0,
    "start_time": "2022-11-08T15:38:16.110Z"
   },
   {
    "duration": 1338,
    "start_time": "2022-11-08T19:28:58.532Z"
   },
   {
    "duration": 213,
    "start_time": "2022-11-08T19:28:59.872Z"
   },
   {
    "duration": 15,
    "start_time": "2022-11-08T19:29:00.087Z"
   },
   {
    "duration": 55,
    "start_time": "2022-11-08T19:29:00.104Z"
   },
   {
    "duration": 22,
    "start_time": "2022-11-08T19:29:00.161Z"
   },
   {
    "duration": 95,
    "start_time": "2022-11-08T19:29:00.186Z"
   },
   {
    "duration": 20,
    "start_time": "2022-11-08T19:29:00.283Z"
   },
   {
    "duration": 42,
    "start_time": "2022-11-08T19:29:00.305Z"
   },
   {
    "duration": 78,
    "start_time": "2022-11-08T19:29:00.349Z"
   },
   {
    "duration": 7,
    "start_time": "2022-11-08T19:29:00.430Z"
   },
   {
    "duration": 29,
    "start_time": "2022-11-08T19:29:00.438Z"
   },
   {
    "duration": 23,
    "start_time": "2022-11-08T19:29:00.469Z"
   },
   {
    "duration": 31,
    "start_time": "2022-11-08T19:29:00.494Z"
   },
   {
    "duration": 25,
    "start_time": "2022-11-08T19:29:00.526Z"
   },
   {
    "duration": 4,
    "start_time": "2022-11-08T19:29:00.552Z"
   },
   {
    "duration": 29,
    "start_time": "2022-11-08T19:29:00.558Z"
   },
   {
    "duration": 26,
    "start_time": "2022-11-08T19:29:00.588Z"
   },
   {
    "duration": 189,
    "start_time": "2022-11-08T19:29:00.615Z"
   },
   {
    "duration": 14,
    "start_time": "2022-11-08T19:29:00.805Z"
   },
   {
    "duration": 246,
    "start_time": "2022-11-08T19:29:00.821Z"
   },
   {
    "duration": 307,
    "start_time": "2022-11-08T19:29:01.069Z"
   },
   {
    "duration": 232,
    "start_time": "2022-11-08T19:29:01.377Z"
   },
   {
    "duration": 6,
    "start_time": "2022-11-08T19:29:01.610Z"
   },
   {
    "duration": 187,
    "start_time": "2022-11-08T19:29:01.618Z"
   },
   {
    "duration": 181,
    "start_time": "2022-11-08T19:29:01.807Z"
   },
   {
    "duration": 528,
    "start_time": "2022-11-08T19:29:01.989Z"
   },
   {
    "duration": 0,
    "start_time": "2022-11-08T19:29:02.520Z"
   },
   {
    "duration": 0,
    "start_time": "2022-11-08T19:29:02.521Z"
   },
   {
    "duration": 0,
    "start_time": "2022-11-08T19:29:02.523Z"
   },
   {
    "duration": 0,
    "start_time": "2022-11-08T19:29:02.524Z"
   },
   {
    "duration": 0,
    "start_time": "2022-11-08T19:29:02.525Z"
   },
   {
    "duration": 0,
    "start_time": "2022-11-08T19:29:02.527Z"
   },
   {
    "duration": 0,
    "start_time": "2022-11-08T19:29:02.528Z"
   },
   {
    "duration": 1168,
    "start_time": "2022-11-08T19:30:21.805Z"
   },
   {
    "duration": 271,
    "start_time": "2022-11-08T19:30:37.499Z"
   },
   {
    "duration": 964,
    "start_time": "2022-11-08T19:32:01.200Z"
   },
   {
    "duration": 235,
    "start_time": "2022-11-08T19:48:25.171Z"
   },
   {
    "duration": 413,
    "start_time": "2022-11-08T19:50:16.546Z"
   },
   {
    "duration": 11,
    "start_time": "2022-11-08T19:51:11.994Z"
   },
   {
    "duration": 513,
    "start_time": "2022-11-08T19:51:23.293Z"
   },
   {
    "duration": 1155,
    "start_time": "2022-11-08T19:51:40.313Z"
   },
   {
    "duration": 999,
    "start_time": "2022-11-08T19:52:03.786Z"
   },
   {
    "duration": 430,
    "start_time": "2022-11-08T19:54:27.803Z"
   },
   {
    "duration": 435,
    "start_time": "2022-11-08T19:55:13.571Z"
   },
   {
    "duration": 455,
    "start_time": "2022-11-08T19:55:23.751Z"
   },
   {
    "duration": 5,
    "start_time": "2022-11-08T19:57:59.114Z"
   },
   {
    "duration": 4,
    "start_time": "2022-11-08T19:58:50.650Z"
   },
   {
    "duration": 6,
    "start_time": "2022-11-08T19:59:34.809Z"
   },
   {
    "duration": 5,
    "start_time": "2022-11-08T19:59:57.733Z"
   },
   {
    "duration": 1071,
    "start_time": "2022-11-08T20:00:07.409Z"
   },
   {
    "duration": 76,
    "start_time": "2022-11-08T20:00:08.482Z"
   },
   {
    "duration": 14,
    "start_time": "2022-11-08T20:00:08.560Z"
   },
   {
    "duration": 6,
    "start_time": "2022-11-08T20:00:08.576Z"
   },
   {
    "duration": 9,
    "start_time": "2022-11-08T20:00:08.584Z"
   },
   {
    "duration": 76,
    "start_time": "2022-11-08T20:00:08.594Z"
   },
   {
    "duration": 15,
    "start_time": "2022-11-08T20:00:08.672Z"
   },
   {
    "duration": 14,
    "start_time": "2022-11-08T20:00:08.689Z"
   },
   {
    "duration": 65,
    "start_time": "2022-11-08T20:00:08.705Z"
   },
   {
    "duration": 6,
    "start_time": "2022-11-08T20:00:08.773Z"
   },
   {
    "duration": 9,
    "start_time": "2022-11-08T20:00:08.780Z"
   },
   {
    "duration": 15,
    "start_time": "2022-11-08T20:00:08.790Z"
   },
   {
    "duration": 11,
    "start_time": "2022-11-08T20:00:08.807Z"
   },
   {
    "duration": 40,
    "start_time": "2022-11-08T20:00:08.820Z"
   },
   {
    "duration": 5,
    "start_time": "2022-11-08T20:00:08.862Z"
   },
   {
    "duration": 29,
    "start_time": "2022-11-08T20:00:08.869Z"
   },
   {
    "duration": 6,
    "start_time": "2022-11-08T20:00:08.899Z"
   },
   {
    "duration": 25,
    "start_time": "2022-11-08T20:00:08.907Z"
   },
   {
    "duration": 207,
    "start_time": "2022-11-08T20:00:08.934Z"
   },
   {
    "duration": 19,
    "start_time": "2022-11-08T20:00:09.145Z"
   },
   {
    "duration": 218,
    "start_time": "2022-11-08T20:00:09.166Z"
   },
   {
    "duration": 311,
    "start_time": "2022-11-08T20:00:09.385Z"
   },
   {
    "duration": 229,
    "start_time": "2022-11-08T20:00:09.697Z"
   },
   {
    "duration": 6,
    "start_time": "2022-11-08T20:00:09.928Z"
   },
   {
    "duration": 187,
    "start_time": "2022-11-08T20:00:09.936Z"
   },
   {
    "duration": 181,
    "start_time": "2022-11-08T20:00:10.125Z"
   },
   {
    "duration": 554,
    "start_time": "2022-11-08T20:00:10.308Z"
   },
   {
    "duration": 0,
    "start_time": "2022-11-08T20:00:10.864Z"
   },
   {
    "duration": 0,
    "start_time": "2022-11-08T20:00:10.866Z"
   },
   {
    "duration": 0,
    "start_time": "2022-11-08T20:00:10.867Z"
   },
   {
    "duration": 0,
    "start_time": "2022-11-08T20:00:10.868Z"
   },
   {
    "duration": 0,
    "start_time": "2022-11-08T20:00:10.869Z"
   },
   {
    "duration": 0,
    "start_time": "2022-11-08T20:00:10.871Z"
   },
   {
    "duration": 0,
    "start_time": "2022-11-08T20:00:10.872Z"
   },
   {
    "duration": 5,
    "start_time": "2022-11-08T20:00:51.179Z"
   },
   {
    "duration": 6,
    "start_time": "2022-11-08T20:01:54.399Z"
   },
   {
    "duration": 19,
    "start_time": "2022-11-08T20:03:02.313Z"
   },
   {
    "duration": 1182,
    "start_time": "2022-11-08T20:03:51.817Z"
   },
   {
    "duration": 93,
    "start_time": "2022-11-08T20:03:53.001Z"
   },
   {
    "duration": 16,
    "start_time": "2022-11-08T20:03:53.096Z"
   },
   {
    "duration": 6,
    "start_time": "2022-11-08T20:03:53.116Z"
   },
   {
    "duration": 18,
    "start_time": "2022-11-08T20:03:53.124Z"
   },
   {
    "duration": 97,
    "start_time": "2022-11-08T20:03:53.144Z"
   },
   {
    "duration": 17,
    "start_time": "2022-11-08T20:03:53.260Z"
   },
   {
    "duration": 19,
    "start_time": "2022-11-08T20:03:53.279Z"
   },
   {
    "duration": 50,
    "start_time": "2022-11-08T20:03:53.300Z"
   },
   {
    "duration": 7,
    "start_time": "2022-11-08T20:03:53.361Z"
   },
   {
    "duration": 9,
    "start_time": "2022-11-08T20:03:53.371Z"
   },
   {
    "duration": 16,
    "start_time": "2022-11-08T20:03:53.383Z"
   },
   {
    "duration": 15,
    "start_time": "2022-11-08T20:03:53.401Z"
   },
   {
    "duration": 24,
    "start_time": "2022-11-08T20:03:53.417Z"
   },
   {
    "duration": 20,
    "start_time": "2022-11-08T20:03:53.443Z"
   },
   {
    "duration": 18,
    "start_time": "2022-11-08T20:03:53.465Z"
   },
   {
    "duration": 15,
    "start_time": "2022-11-08T20:03:53.484Z"
   },
   {
    "duration": 194,
    "start_time": "2022-11-08T20:03:53.501Z"
   },
   {
    "duration": 16,
    "start_time": "2022-11-08T20:03:53.697Z"
   },
   {
    "duration": 220,
    "start_time": "2022-11-08T20:03:53.715Z"
   },
   {
    "duration": 311,
    "start_time": "2022-11-08T20:03:53.937Z"
   },
   {
    "duration": 247,
    "start_time": "2022-11-08T20:03:54.250Z"
   },
   {
    "duration": 6,
    "start_time": "2022-11-08T20:03:54.499Z"
   },
   {
    "duration": 176,
    "start_time": "2022-11-08T20:03:54.506Z"
   },
   {
    "duration": 244,
    "start_time": "2022-11-08T20:03:54.684Z"
   },
   {
    "duration": 282,
    "start_time": "2022-11-08T20:03:54.930Z"
   },
   {
    "duration": 1146,
    "start_time": "2022-11-08T20:03:55.213Z"
   },
   {
    "duration": 698,
    "start_time": "2022-11-08T20:03:56.363Z"
   },
   {
    "duration": 204,
    "start_time": "2022-11-08T20:03:57.063Z"
   },
   {
    "duration": 429,
    "start_time": "2022-11-08T20:03:57.268Z"
   },
   {
    "duration": 186,
    "start_time": "2022-11-08T20:03:57.699Z"
   },
   {
    "duration": 11,
    "start_time": "2022-11-08T20:03:57.887Z"
   },
   {
    "duration": 11,
    "start_time": "2022-11-08T20:03:57.899Z"
   },
   {
    "duration": 384,
    "start_time": "2022-11-08T20:05:11.598Z"
   },
   {
    "duration": 360,
    "start_time": "2022-11-08T20:05:29.525Z"
   },
   {
    "duration": 1305,
    "start_time": "2022-11-08T20:06:03.899Z"
   },
   {
    "duration": 230,
    "start_time": "2022-11-08T20:25:24.180Z"
   },
   {
    "duration": 153,
    "start_time": "2022-11-08T21:07:59.933Z"
   },
   {
    "duration": 52,
    "start_time": "2022-11-08T22:23:45.048Z"
   },
   {
    "duration": 1265,
    "start_time": "2022-11-08T22:24:00.265Z"
   },
   {
    "duration": 230,
    "start_time": "2022-11-08T22:24:01.532Z"
   },
   {
    "duration": 14,
    "start_time": "2022-11-08T22:24:01.763Z"
   },
   {
    "duration": 5,
    "start_time": "2022-11-08T22:24:01.780Z"
   },
   {
    "duration": 5,
    "start_time": "2022-11-08T22:24:01.787Z"
   },
   {
    "duration": 70,
    "start_time": "2022-11-08T22:24:01.794Z"
   },
   {
    "duration": 17,
    "start_time": "2022-11-08T22:24:01.866Z"
   },
   {
    "duration": 11,
    "start_time": "2022-11-08T22:24:01.884Z"
   },
   {
    "duration": 59,
    "start_time": "2022-11-08T22:24:01.897Z"
   },
   {
    "duration": 8,
    "start_time": "2022-11-08T22:24:01.959Z"
   },
   {
    "duration": 8,
    "start_time": "2022-11-08T22:24:01.969Z"
   },
   {
    "duration": 9,
    "start_time": "2022-11-08T22:24:01.979Z"
   },
   {
    "duration": 10,
    "start_time": "2022-11-08T22:24:01.990Z"
   },
   {
    "duration": 47,
    "start_time": "2022-11-08T22:24:02.002Z"
   },
   {
    "duration": 5,
    "start_time": "2022-11-08T22:24:02.051Z"
   },
   {
    "duration": 17,
    "start_time": "2022-11-08T22:24:02.058Z"
   },
   {
    "duration": 13,
    "start_time": "2022-11-08T22:24:02.076Z"
   },
   {
    "duration": 193,
    "start_time": "2022-11-08T22:24:02.091Z"
   },
   {
    "duration": 14,
    "start_time": "2022-11-08T22:24:02.286Z"
   },
   {
    "duration": 214,
    "start_time": "2022-11-08T22:24:02.302Z"
   },
   {
    "duration": 309,
    "start_time": "2022-11-08T22:24:02.518Z"
   },
   {
    "duration": 213,
    "start_time": "2022-11-08T22:24:02.828Z"
   },
   {
    "duration": 6,
    "start_time": "2022-11-08T22:24:03.047Z"
   },
   {
    "duration": 164,
    "start_time": "2022-11-08T22:24:03.054Z"
   },
   {
    "duration": 177,
    "start_time": "2022-11-08T22:24:03.219Z"
   },
   {
    "duration": 287,
    "start_time": "2022-11-08T22:24:03.398Z"
   },
   {
    "duration": 1129,
    "start_time": "2022-11-08T22:24:03.686Z"
   },
   {
    "duration": 728,
    "start_time": "2022-11-08T22:24:04.818Z"
   },
   {
    "duration": 171,
    "start_time": "2022-11-08T22:24:05.548Z"
   },
   {
    "duration": 387,
    "start_time": "2022-11-08T22:24:05.721Z"
   },
   {
    "duration": 179,
    "start_time": "2022-11-08T22:24:06.109Z"
   },
   {
    "duration": 10,
    "start_time": "2022-11-08T22:24:06.289Z"
   },
   {
    "duration": 10,
    "start_time": "2022-11-08T22:24:06.301Z"
   },
   {
    "duration": 1484,
    "start_time": "2023-09-25T11:33:12.407Z"
   },
   {
    "duration": 180,
    "start_time": "2023-09-25T11:33:13.894Z"
   },
   {
    "duration": 17,
    "start_time": "2023-09-25T11:33:14.076Z"
   },
   {
    "duration": 7,
    "start_time": "2023-09-25T11:33:14.095Z"
   },
   {
    "duration": 29,
    "start_time": "2023-09-25T11:33:14.104Z"
   },
   {
    "duration": 65,
    "start_time": "2023-09-25T11:33:14.137Z"
   },
   {
    "duration": 28,
    "start_time": "2023-09-25T11:33:14.203Z"
   },
   {
    "duration": 25,
    "start_time": "2023-09-25T11:33:14.234Z"
   },
   {
    "duration": 82,
    "start_time": "2023-09-25T11:33:14.261Z"
   },
   {
    "duration": 8,
    "start_time": "2023-09-25T11:33:14.344Z"
   },
   {
    "duration": 6,
    "start_time": "2023-09-25T11:33:14.353Z"
   },
   {
    "duration": 14,
    "start_time": "2023-09-25T11:33:14.361Z"
   },
   {
    "duration": 10,
    "start_time": "2023-09-25T11:33:14.377Z"
   },
   {
    "duration": 39,
    "start_time": "2023-09-25T11:33:14.390Z"
   },
   {
    "duration": 13,
    "start_time": "2023-09-25T11:33:14.431Z"
   },
   {
    "duration": 34,
    "start_time": "2023-09-25T11:33:14.445Z"
   },
   {
    "duration": 17,
    "start_time": "2023-09-25T11:33:14.481Z"
   },
   {
    "duration": 241,
    "start_time": "2023-09-25T11:33:14.499Z"
   },
   {
    "duration": 28,
    "start_time": "2023-09-25T11:33:14.742Z"
   },
   {
    "duration": 305,
    "start_time": "2023-09-25T11:33:14.773Z"
   },
   {
    "duration": 394,
    "start_time": "2023-09-25T11:33:15.080Z"
   },
   {
    "duration": 300,
    "start_time": "2023-09-25T11:33:15.475Z"
   },
   {
    "duration": 6,
    "start_time": "2023-09-25T11:33:15.777Z"
   },
   {
    "duration": 214,
    "start_time": "2023-09-25T11:33:15.785Z"
   },
   {
    "duration": 217,
    "start_time": "2023-09-25T11:33:16.001Z"
   },
   {
    "duration": 399,
    "start_time": "2023-09-25T11:33:16.221Z"
   },
   {
    "duration": 1431,
    "start_time": "2023-09-25T11:33:16.626Z"
   },
   {
    "duration": 859,
    "start_time": "2023-09-25T11:33:18.059Z"
   },
   {
    "duration": 241,
    "start_time": "2023-09-25T11:33:18.920Z"
   },
   {
    "duration": 546,
    "start_time": "2023-09-25T11:33:19.162Z"
   },
   {
    "duration": 226,
    "start_time": "2023-09-25T11:33:19.710Z"
   },
   {
    "duration": 19,
    "start_time": "2023-09-25T11:33:19.938Z"
   },
   {
    "duration": 32,
    "start_time": "2023-09-25T11:33:19.959Z"
   }
  ],
  "kernelspec": {
   "display_name": "Python 3 (ipykernel)",
   "language": "python",
   "name": "python3"
  },
  "language_info": {
   "codemirror_mode": {
    "name": "ipython",
    "version": 3
   },
   "file_extension": ".py",
   "mimetype": "text/x-python",
   "name": "python",
   "nbconvert_exporter": "python",
   "pygments_lexer": "ipython3",
   "version": "3.9.12"
  },
  "toc": {
   "base_numbering": 1,
   "nav_menu": {},
   "number_sections": true,
   "sideBar": true,
   "skip_h1_title": true,
   "title_cell": "Table of Contents",
   "title_sidebar": "Contents",
   "toc_cell": false,
   "toc_position": {
    "height": "calc(100% - 180px)",
    "left": "10px",
    "top": "150px",
    "width": "264.188px"
   },
   "toc_section_display": true,
   "toc_window_display": true
  }
 },
 "nbformat": 4,
 "nbformat_minor": 4
}
